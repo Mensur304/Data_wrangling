{
  "cells": [
    {
      "cell_type": "markdown",
      "metadata": {
        "extensions": {
          "jupyter_dashboards": {
            "version": 1,
            "views": {
              "grid_default": {
                "col": 0,
                "height": 4,
                "hidden": false,
                "row": 0,
                "width": 4
              },
              "report_default": {
                "hidden": false
              }
            }
          }
        },
        "id": "VFoCUdawIBYJ"
      },
      "source": [
        "# Project: Wrangling and Analyze Data"
      ]
    },
    {
      "cell_type": "markdown",
      "source": [
        "### Importing Libraries"
      ],
      "metadata": {
        "id": "uCuTSqkYNDF9"
      }
    },
    {
      "cell_type": "code",
      "source": [
        "# Import required libraries for data manipulation, API requests, and visualization\n",
        "\n",
        "# Pandas for data manipulation and analysis\n",
        "import pandas as pd\n",
        "\n",
        "# NumPy for numerical operations\n",
        "\n",
        "# Requests for making HTTP requests\n",
        "import requests\n",
        "\n",
        "# OS for interacting with the operating system\n",
        "import os\n",
        "\n",
        "# Tweepy for accessing the Twitter API\n",
        "import tweepy\n",
        "\n",
        "# JSON for working with JSON data\n",
        "import json\n",
        "\n",
        "# Seaborn for visualization\n",
        "import seaborn as sns\n",
        "\n",
        "# Time for working with dates and times\n",
        "import time\n",
        "import datetime\n",
        "from matplotlib import cm\n",
        "\n",
        "# Random for generating random numbers or choices\n",
        "import random\n",
        "\n",
        "# warning module to ignore warnings\n",
        "import warnings\n",
        "warnings.filterwarnings(\"ignore\")\n",
        "\n",
        "# Matplotlib for data visualization\n",
        "import matplotlib.pyplot as plt\n",
        "# Ensure the plots are displayed inline in the Jupyter Notebook\n",
        "%matplotlib inline\n",
        "\n"
      ],
      "metadata": {
        "id": "mDZfz6RBM_sq"
      },
      "execution_count": null,
      "outputs": []
    },
    {
      "cell_type": "markdown",
      "metadata": {
        "id": "URNOM_1UIBYN"
      },
      "source": [
        "## Data Gathering\n",
        "\n",
        "1.0 Loading the twitter_archive_enhanced data"
      ]
    },
    {
      "cell_type": "code",
      "execution_count": null,
      "metadata": {
        "extensions": {
          "jupyter_dashboards": {
            "version": 1,
            "views": {
              "grid_default": {
                "hidden": true
              },
              "report_default": {
                "hidden": true
              }
            }
          }
        },
        "colab": {
          "base_uri": "https://localhost:8080/",
          "height": 450
        },
        "id": "oAJhCGITIBYO",
        "outputId": "3676dba9-cb39-4995-ec96-a122f2f7c7d5"
      },
      "outputs": [
        {
          "output_type": "execute_result",
          "data": {
            "text/plain": [
              "             tweet_id  in_reply_to_status_id  in_reply_to_user_id  \\\n",
              "0  892420643555336193                    NaN                  NaN   \n",
              "1  892177421306343426                    NaN                  NaN   \n",
              "2  891815181378084864                    NaN                  NaN   \n",
              "\n",
              "                   timestamp  \\\n",
              "0  2017-08-01 16:23:56 +0000   \n",
              "1  2017-08-01 00:17:27 +0000   \n",
              "2  2017-07-31 00:18:03 +0000   \n",
              "\n",
              "                                              source  \\\n",
              "0  <a href=\"http://twitter.com/download/iphone\" r...   \n",
              "1  <a href=\"http://twitter.com/download/iphone\" r...   \n",
              "2  <a href=\"http://twitter.com/download/iphone\" r...   \n",
              "\n",
              "                                                text  retweeted_status_id  \\\n",
              "0  This is Phineas. He's a mystical boy. Only eve...                  NaN   \n",
              "1  This is Tilly. She's just checking pup on you....                  NaN   \n",
              "2  This is Archie. He is a rare Norwegian Pouncin...                  NaN   \n",
              "\n",
              "   retweeted_status_user_id retweeted_status_timestamp  \\\n",
              "0                       NaN                        NaN   \n",
              "1                       NaN                        NaN   \n",
              "2                       NaN                        NaN   \n",
              "\n",
              "                                       expanded_urls  rating_numerator  \\\n",
              "0  https://twitter.com/dog_rates/status/892420643...                13   \n",
              "1  https://twitter.com/dog_rates/status/892177421...                13   \n",
              "2  https://twitter.com/dog_rates/status/891815181...                12   \n",
              "\n",
              "   rating_denominator     name doggo floofer pupper puppo  \n",
              "0                  10  Phineas  None    None   None  None  \n",
              "1                  10    Tilly  None    None   None  None  \n",
              "2                  10   Archie  None    None   None  None  "
            ],
            "text/html": [
              "\n",
              "  <div id=\"df-01207722-cf6a-49fb-b86c-e101be079c21\">\n",
              "    <div class=\"colab-df-container\">\n",
              "      <div>\n",
              "<style scoped>\n",
              "    .dataframe tbody tr th:only-of-type {\n",
              "        vertical-align: middle;\n",
              "    }\n",
              "\n",
              "    .dataframe tbody tr th {\n",
              "        vertical-align: top;\n",
              "    }\n",
              "\n",
              "    .dataframe thead th {\n",
              "        text-align: right;\n",
              "    }\n",
              "</style>\n",
              "<table border=\"1\" class=\"dataframe\">\n",
              "  <thead>\n",
              "    <tr style=\"text-align: right;\">\n",
              "      <th></th>\n",
              "      <th>tweet_id</th>\n",
              "      <th>in_reply_to_status_id</th>\n",
              "      <th>in_reply_to_user_id</th>\n",
              "      <th>timestamp</th>\n",
              "      <th>source</th>\n",
              "      <th>text</th>\n",
              "      <th>retweeted_status_id</th>\n",
              "      <th>retweeted_status_user_id</th>\n",
              "      <th>retweeted_status_timestamp</th>\n",
              "      <th>expanded_urls</th>\n",
              "      <th>rating_numerator</th>\n",
              "      <th>rating_denominator</th>\n",
              "      <th>name</th>\n",
              "      <th>doggo</th>\n",
              "      <th>floofer</th>\n",
              "      <th>pupper</th>\n",
              "      <th>puppo</th>\n",
              "    </tr>\n",
              "  </thead>\n",
              "  <tbody>\n",
              "    <tr>\n",
              "      <th>0</th>\n",
              "      <td>892420643555336193</td>\n",
              "      <td>NaN</td>\n",
              "      <td>NaN</td>\n",
              "      <td>2017-08-01 16:23:56 +0000</td>\n",
              "      <td>&lt;a href=\"http://twitter.com/download/iphone\" r...</td>\n",
              "      <td>This is Phineas. He's a mystical boy. Only eve...</td>\n",
              "      <td>NaN</td>\n",
              "      <td>NaN</td>\n",
              "      <td>NaN</td>\n",
              "      <td>https://twitter.com/dog_rates/status/892420643...</td>\n",
              "      <td>13</td>\n",
              "      <td>10</td>\n",
              "      <td>Phineas</td>\n",
              "      <td>None</td>\n",
              "      <td>None</td>\n",
              "      <td>None</td>\n",
              "      <td>None</td>\n",
              "    </tr>\n",
              "    <tr>\n",
              "      <th>1</th>\n",
              "      <td>892177421306343426</td>\n",
              "      <td>NaN</td>\n",
              "      <td>NaN</td>\n",
              "      <td>2017-08-01 00:17:27 +0000</td>\n",
              "      <td>&lt;a href=\"http://twitter.com/download/iphone\" r...</td>\n",
              "      <td>This is Tilly. She's just checking pup on you....</td>\n",
              "      <td>NaN</td>\n",
              "      <td>NaN</td>\n",
              "      <td>NaN</td>\n",
              "      <td>https://twitter.com/dog_rates/status/892177421...</td>\n",
              "      <td>13</td>\n",
              "      <td>10</td>\n",
              "      <td>Tilly</td>\n",
              "      <td>None</td>\n",
              "      <td>None</td>\n",
              "      <td>None</td>\n",
              "      <td>None</td>\n",
              "    </tr>\n",
              "    <tr>\n",
              "      <th>2</th>\n",
              "      <td>891815181378084864</td>\n",
              "      <td>NaN</td>\n",
              "      <td>NaN</td>\n",
              "      <td>2017-07-31 00:18:03 +0000</td>\n",
              "      <td>&lt;a href=\"http://twitter.com/download/iphone\" r...</td>\n",
              "      <td>This is Archie. He is a rare Norwegian Pouncin...</td>\n",
              "      <td>NaN</td>\n",
              "      <td>NaN</td>\n",
              "      <td>NaN</td>\n",
              "      <td>https://twitter.com/dog_rates/status/891815181...</td>\n",
              "      <td>12</td>\n",
              "      <td>10</td>\n",
              "      <td>Archie</td>\n",
              "      <td>None</td>\n",
              "      <td>None</td>\n",
              "      <td>None</td>\n",
              "      <td>None</td>\n",
              "    </tr>\n",
              "  </tbody>\n",
              "</table>\n",
              "</div>\n",
              "      <button class=\"colab-df-convert\" onclick=\"convertToInteractive('df-01207722-cf6a-49fb-b86c-e101be079c21')\"\n",
              "              title=\"Convert this dataframe to an interactive table.\"\n",
              "              style=\"display:none;\">\n",
              "        \n",
              "  <svg xmlns=\"http://www.w3.org/2000/svg\" height=\"24px\"viewBox=\"0 0 24 24\"\n",
              "       width=\"24px\">\n",
              "    <path d=\"M0 0h24v24H0V0z\" fill=\"none\"/>\n",
              "    <path d=\"M18.56 5.44l.94 2.06.94-2.06 2.06-.94-2.06-.94-.94-2.06-.94 2.06-2.06.94zm-11 1L8.5 8.5l.94-2.06 2.06-.94-2.06-.94L8.5 2.5l-.94 2.06-2.06.94zm10 10l.94 2.06.94-2.06 2.06-.94-2.06-.94-.94-2.06-.94 2.06-2.06.94z\"/><path d=\"M17.41 7.96l-1.37-1.37c-.4-.4-.92-.59-1.43-.59-.52 0-1.04.2-1.43.59L10.3 9.45l-7.72 7.72c-.78.78-.78 2.05 0 2.83L4 21.41c.39.39.9.59 1.41.59.51 0 1.02-.2 1.41-.59l7.78-7.78 2.81-2.81c.8-.78.8-2.07 0-2.86zM5.41 20L4 18.59l7.72-7.72 1.47 1.35L5.41 20z\"/>\n",
              "  </svg>\n",
              "      </button>\n",
              "      \n",
              "  <style>\n",
              "    .colab-df-container {\n",
              "      display:flex;\n",
              "      flex-wrap:wrap;\n",
              "      gap: 12px;\n",
              "    }\n",
              "\n",
              "    .colab-df-convert {\n",
              "      background-color: #E8F0FE;\n",
              "      border: none;\n",
              "      border-radius: 50%;\n",
              "      cursor: pointer;\n",
              "      display: none;\n",
              "      fill: #1967D2;\n",
              "      height: 32px;\n",
              "      padding: 0 0 0 0;\n",
              "      width: 32px;\n",
              "    }\n",
              "\n",
              "    .colab-df-convert:hover {\n",
              "      background-color: #E2EBFA;\n",
              "      box-shadow: 0px 1px 2px rgba(60, 64, 67, 0.3), 0px 1px 3px 1px rgba(60, 64, 67, 0.15);\n",
              "      fill: #174EA6;\n",
              "    }\n",
              "\n",
              "    [theme=dark] .colab-df-convert {\n",
              "      background-color: #3B4455;\n",
              "      fill: #D2E3FC;\n",
              "    }\n",
              "\n",
              "    [theme=dark] .colab-df-convert:hover {\n",
              "      background-color: #434B5C;\n",
              "      box-shadow: 0px 1px 3px 1px rgba(0, 0, 0, 0.15);\n",
              "      filter: drop-shadow(0px 1px 2px rgba(0, 0, 0, 0.3));\n",
              "      fill: #FFFFFF;\n",
              "    }\n",
              "  </style>\n",
              "\n",
              "      <script>\n",
              "        const buttonEl =\n",
              "          document.querySelector('#df-01207722-cf6a-49fb-b86c-e101be079c21 button.colab-df-convert');\n",
              "        buttonEl.style.display =\n",
              "          google.colab.kernel.accessAllowed ? 'block' : 'none';\n",
              "\n",
              "        async function convertToInteractive(key) {\n",
              "          const element = document.querySelector('#df-01207722-cf6a-49fb-b86c-e101be079c21');\n",
              "          const dataTable =\n",
              "            await google.colab.kernel.invokeFunction('convertToInteractive',\n",
              "                                                     [key], {});\n",
              "          if (!dataTable) return;\n",
              "\n",
              "          const docLinkHtml = 'Like what you see? Visit the ' +\n",
              "            '<a target=\"_blank\" href=https://colab.research.google.com/notebooks/data_table.ipynb>data table notebook</a>'\n",
              "            + ' to learn more about interactive tables.';\n",
              "          element.innerHTML = '';\n",
              "          dataTable['output_type'] = 'display_data';\n",
              "          await google.colab.output.renderOutput(dataTable, element);\n",
              "          const docLink = document.createElement('div');\n",
              "          docLink.innerHTML = docLinkHtml;\n",
              "          element.appendChild(docLink);\n",
              "        }\n",
              "      </script>\n",
              "    </div>\n",
              "  </div>\n",
              "  "
            ]
          },
          "metadata": {},
          "execution_count": 5
        }
      ],
      "source": [
        "twitter_archive_enhanced = pd.read_csv(\"twitter-archive-enhanced.csv\")\n",
        "twitter_archive_enhanced.head(3)"
      ]
    },
    {
      "cell_type": "markdown",
      "source": [
        "1.1. checking the shape of data"
      ],
      "metadata": {
        "id": "qdfqxFmHUlMT"
      }
    },
    {
      "cell_type": "code",
      "source": [
        "twitter_archive_enhanced.shape"
      ],
      "metadata": {
        "colab": {
          "base_uri": "https://localhost:8080/"
        },
        "id": "WiAAUFkFT5pj",
        "outputId": "5ff27907-6725-4873-f857-bacbb894c72b"
      },
      "execution_count": null,
      "outputs": [
        {
          "output_type": "execute_result",
          "data": {
            "text/plain": [
              "(2356, 17)"
            ]
          },
          "metadata": {},
          "execution_count": 6
        }
      ]
    },
    {
      "cell_type": "markdown",
      "source": [
        "1.2. Performing descriptive statistics"
      ],
      "metadata": {
        "id": "Z8zKvZLrUo1i"
      }
    },
    {
      "cell_type": "code",
      "source": [
        "twitter_archive_enhanced.describe().T"
      ],
      "metadata": {
        "colab": {
          "base_uri": "https://localhost:8080/",
          "height": 269
        },
        "id": "l3K584spB0NE",
        "outputId": "e859ff10-9e3b-4405-d7c8-87a03904ea1b"
      },
      "execution_count": null,
      "outputs": [
        {
          "output_type": "execute_result",
          "data": {
            "text/plain": [
              "                           count          mean           std           min  \\\n",
              "tweet_id                  2356.0  7.427716e+17  6.856705e+16  6.660209e+17   \n",
              "in_reply_to_status_id       78.0  7.455079e+17  7.582492e+16  6.658147e+17   \n",
              "in_reply_to_user_id         78.0  2.014171e+16  1.252797e+17  1.185634e+07   \n",
              "retweeted_status_id        181.0  7.720400e+17  6.236928e+16  6.661041e+17   \n",
              "retweeted_status_user_id   181.0  1.241698e+16  9.599254e+16  7.832140e+05   \n",
              "rating_numerator          2356.0  1.312649e+01  4.587665e+01  0.000000e+00   \n",
              "rating_denominator        2356.0  1.045543e+01  6.745237e+00  0.000000e+00   \n",
              "\n",
              "                                   25%           50%           75%  \\\n",
              "tweet_id                  6.783989e+17  7.196279e+17  7.993373e+17   \n",
              "in_reply_to_status_id     6.757419e+17  7.038708e+17  8.257804e+17   \n",
              "in_reply_to_user_id       3.086374e+08  4.196984e+09  4.196984e+09   \n",
              "retweeted_status_id       7.186315e+17  7.804657e+17  8.203146e+17   \n",
              "retweeted_status_user_id  4.196984e+09  4.196984e+09  4.196984e+09   \n",
              "rating_numerator          1.000000e+01  1.100000e+01  1.200000e+01   \n",
              "rating_denominator        1.000000e+01  1.000000e+01  1.000000e+01   \n",
              "\n",
              "                                   max  \n",
              "tweet_id                  8.924206e+17  \n",
              "in_reply_to_status_id     8.862664e+17  \n",
              "in_reply_to_user_id       8.405479e+17  \n",
              "retweeted_status_id       8.874740e+17  \n",
              "retweeted_status_user_id  7.874618e+17  \n",
              "rating_numerator          1.776000e+03  \n",
              "rating_denominator        1.700000e+02  "
            ],
            "text/html": [
              "\n",
              "  <div id=\"df-9523706a-4100-43e3-8d5b-2bd5b42210bf\">\n",
              "    <div class=\"colab-df-container\">\n",
              "      <div>\n",
              "<style scoped>\n",
              "    .dataframe tbody tr th:only-of-type {\n",
              "        vertical-align: middle;\n",
              "    }\n",
              "\n",
              "    .dataframe tbody tr th {\n",
              "        vertical-align: top;\n",
              "    }\n",
              "\n",
              "    .dataframe thead th {\n",
              "        text-align: right;\n",
              "    }\n",
              "</style>\n",
              "<table border=\"1\" class=\"dataframe\">\n",
              "  <thead>\n",
              "    <tr style=\"text-align: right;\">\n",
              "      <th></th>\n",
              "      <th>count</th>\n",
              "      <th>mean</th>\n",
              "      <th>std</th>\n",
              "      <th>min</th>\n",
              "      <th>25%</th>\n",
              "      <th>50%</th>\n",
              "      <th>75%</th>\n",
              "      <th>max</th>\n",
              "    </tr>\n",
              "  </thead>\n",
              "  <tbody>\n",
              "    <tr>\n",
              "      <th>tweet_id</th>\n",
              "      <td>2356.0</td>\n",
              "      <td>7.427716e+17</td>\n",
              "      <td>6.856705e+16</td>\n",
              "      <td>6.660209e+17</td>\n",
              "      <td>6.783989e+17</td>\n",
              "      <td>7.196279e+17</td>\n",
              "      <td>7.993373e+17</td>\n",
              "      <td>8.924206e+17</td>\n",
              "    </tr>\n",
              "    <tr>\n",
              "      <th>in_reply_to_status_id</th>\n",
              "      <td>78.0</td>\n",
              "      <td>7.455079e+17</td>\n",
              "      <td>7.582492e+16</td>\n",
              "      <td>6.658147e+17</td>\n",
              "      <td>6.757419e+17</td>\n",
              "      <td>7.038708e+17</td>\n",
              "      <td>8.257804e+17</td>\n",
              "      <td>8.862664e+17</td>\n",
              "    </tr>\n",
              "    <tr>\n",
              "      <th>in_reply_to_user_id</th>\n",
              "      <td>78.0</td>\n",
              "      <td>2.014171e+16</td>\n",
              "      <td>1.252797e+17</td>\n",
              "      <td>1.185634e+07</td>\n",
              "      <td>3.086374e+08</td>\n",
              "      <td>4.196984e+09</td>\n",
              "      <td>4.196984e+09</td>\n",
              "      <td>8.405479e+17</td>\n",
              "    </tr>\n",
              "    <tr>\n",
              "      <th>retweeted_status_id</th>\n",
              "      <td>181.0</td>\n",
              "      <td>7.720400e+17</td>\n",
              "      <td>6.236928e+16</td>\n",
              "      <td>6.661041e+17</td>\n",
              "      <td>7.186315e+17</td>\n",
              "      <td>7.804657e+17</td>\n",
              "      <td>8.203146e+17</td>\n",
              "      <td>8.874740e+17</td>\n",
              "    </tr>\n",
              "    <tr>\n",
              "      <th>retweeted_status_user_id</th>\n",
              "      <td>181.0</td>\n",
              "      <td>1.241698e+16</td>\n",
              "      <td>9.599254e+16</td>\n",
              "      <td>7.832140e+05</td>\n",
              "      <td>4.196984e+09</td>\n",
              "      <td>4.196984e+09</td>\n",
              "      <td>4.196984e+09</td>\n",
              "      <td>7.874618e+17</td>\n",
              "    </tr>\n",
              "    <tr>\n",
              "      <th>rating_numerator</th>\n",
              "      <td>2356.0</td>\n",
              "      <td>1.312649e+01</td>\n",
              "      <td>4.587665e+01</td>\n",
              "      <td>0.000000e+00</td>\n",
              "      <td>1.000000e+01</td>\n",
              "      <td>1.100000e+01</td>\n",
              "      <td>1.200000e+01</td>\n",
              "      <td>1.776000e+03</td>\n",
              "    </tr>\n",
              "    <tr>\n",
              "      <th>rating_denominator</th>\n",
              "      <td>2356.0</td>\n",
              "      <td>1.045543e+01</td>\n",
              "      <td>6.745237e+00</td>\n",
              "      <td>0.000000e+00</td>\n",
              "      <td>1.000000e+01</td>\n",
              "      <td>1.000000e+01</td>\n",
              "      <td>1.000000e+01</td>\n",
              "      <td>1.700000e+02</td>\n",
              "    </tr>\n",
              "  </tbody>\n",
              "</table>\n",
              "</div>\n",
              "      <button class=\"colab-df-convert\" onclick=\"convertToInteractive('df-9523706a-4100-43e3-8d5b-2bd5b42210bf')\"\n",
              "              title=\"Convert this dataframe to an interactive table.\"\n",
              "              style=\"display:none;\">\n",
              "        \n",
              "  <svg xmlns=\"http://www.w3.org/2000/svg\" height=\"24px\"viewBox=\"0 0 24 24\"\n",
              "       width=\"24px\">\n",
              "    <path d=\"M0 0h24v24H0V0z\" fill=\"none\"/>\n",
              "    <path d=\"M18.56 5.44l.94 2.06.94-2.06 2.06-.94-2.06-.94-.94-2.06-.94 2.06-2.06.94zm-11 1L8.5 8.5l.94-2.06 2.06-.94-2.06-.94L8.5 2.5l-.94 2.06-2.06.94zm10 10l.94 2.06.94-2.06 2.06-.94-2.06-.94-.94-2.06-.94 2.06-2.06.94z\"/><path d=\"M17.41 7.96l-1.37-1.37c-.4-.4-.92-.59-1.43-.59-.52 0-1.04.2-1.43.59L10.3 9.45l-7.72 7.72c-.78.78-.78 2.05 0 2.83L4 21.41c.39.39.9.59 1.41.59.51 0 1.02-.2 1.41-.59l7.78-7.78 2.81-2.81c.8-.78.8-2.07 0-2.86zM5.41 20L4 18.59l7.72-7.72 1.47 1.35L5.41 20z\"/>\n",
              "  </svg>\n",
              "      </button>\n",
              "      \n",
              "  <style>\n",
              "    .colab-df-container {\n",
              "      display:flex;\n",
              "      flex-wrap:wrap;\n",
              "      gap: 12px;\n",
              "    }\n",
              "\n",
              "    .colab-df-convert {\n",
              "      background-color: #E8F0FE;\n",
              "      border: none;\n",
              "      border-radius: 50%;\n",
              "      cursor: pointer;\n",
              "      display: none;\n",
              "      fill: #1967D2;\n",
              "      height: 32px;\n",
              "      padding: 0 0 0 0;\n",
              "      width: 32px;\n",
              "    }\n",
              "\n",
              "    .colab-df-convert:hover {\n",
              "      background-color: #E2EBFA;\n",
              "      box-shadow: 0px 1px 2px rgba(60, 64, 67, 0.3), 0px 1px 3px 1px rgba(60, 64, 67, 0.15);\n",
              "      fill: #174EA6;\n",
              "    }\n",
              "\n",
              "    [theme=dark] .colab-df-convert {\n",
              "      background-color: #3B4455;\n",
              "      fill: #D2E3FC;\n",
              "    }\n",
              "\n",
              "    [theme=dark] .colab-df-convert:hover {\n",
              "      background-color: #434B5C;\n",
              "      box-shadow: 0px 1px 3px 1px rgba(0, 0, 0, 0.15);\n",
              "      filter: drop-shadow(0px 1px 2px rgba(0, 0, 0, 0.3));\n",
              "      fill: #FFFFFF;\n",
              "    }\n",
              "  </style>\n",
              "\n",
              "      <script>\n",
              "        const buttonEl =\n",
              "          document.querySelector('#df-9523706a-4100-43e3-8d5b-2bd5b42210bf button.colab-df-convert');\n",
              "        buttonEl.style.display =\n",
              "          google.colab.kernel.accessAllowed ? 'block' : 'none';\n",
              "\n",
              "        async function convertToInteractive(key) {\n",
              "          const element = document.querySelector('#df-9523706a-4100-43e3-8d5b-2bd5b42210bf');\n",
              "          const dataTable =\n",
              "            await google.colab.kernel.invokeFunction('convertToInteractive',\n",
              "                                                     [key], {});\n",
              "          if (!dataTable) return;\n",
              "\n",
              "          const docLinkHtml = 'Like what you see? Visit the ' +\n",
              "            '<a target=\"_blank\" href=https://colab.research.google.com/notebooks/data_table.ipynb>data table notebook</a>'\n",
              "            + ' to learn more about interactive tables.';\n",
              "          element.innerHTML = '';\n",
              "          dataTable['output_type'] = 'display_data';\n",
              "          await google.colab.output.renderOutput(dataTable, element);\n",
              "          const docLink = document.createElement('div');\n",
              "          docLink.innerHTML = docLinkHtml;\n",
              "          element.appendChild(docLink);\n",
              "        }\n",
              "      </script>\n",
              "    </div>\n",
              "  </div>\n",
              "  "
            ]
          },
          "metadata": {},
          "execution_count": 7
        }
      ]
    },
    {
      "cell_type": "markdown",
      "source": [
        "1.3. checking the basic info about data"
      ],
      "metadata": {
        "id": "oDPoPeWOUuf3"
      }
    },
    {
      "cell_type": "code",
      "source": [
        "twitter_archive_enhanced.info()"
      ],
      "metadata": {
        "colab": {
          "base_uri": "https://localhost:8080/"
        },
        "id": "dewya23jB2f9",
        "outputId": "aa5c8132-95bb-4a75-8c5e-aafd974301df"
      },
      "execution_count": null,
      "outputs": [
        {
          "output_type": "stream",
          "name": "stdout",
          "text": [
            "<class 'pandas.core.frame.DataFrame'>\n",
            "RangeIndex: 2356 entries, 0 to 2355\n",
            "Data columns (total 17 columns):\n",
            " #   Column                      Non-Null Count  Dtype  \n",
            "---  ------                      --------------  -----  \n",
            " 0   tweet_id                    2356 non-null   int64  \n",
            " 1   in_reply_to_status_id       78 non-null     float64\n",
            " 2   in_reply_to_user_id         78 non-null     float64\n",
            " 3   timestamp                   2356 non-null   object \n",
            " 4   source                      2356 non-null   object \n",
            " 5   text                        2356 non-null   object \n",
            " 6   retweeted_status_id         181 non-null    float64\n",
            " 7   retweeted_status_user_id    181 non-null    float64\n",
            " 8   retweeted_status_timestamp  181 non-null    object \n",
            " 9   expanded_urls               2297 non-null   object \n",
            " 10  rating_numerator            2356 non-null   int64  \n",
            " 11  rating_denominator          2356 non-null   int64  \n",
            " 12  name                        2356 non-null   object \n",
            " 13  doggo                       2356 non-null   object \n",
            " 14  floofer                     2356 non-null   object \n",
            " 15  pupper                      2356 non-null   object \n",
            " 16  puppo                       2356 non-null   object \n",
            "dtypes: float64(4), int64(3), object(10)\n",
            "memory usage: 313.0+ KB\n"
          ]
        }
      ]
    },
    {
      "cell_type": "markdown",
      "source": [
        "observation:\n",
        "\n",
        "\n",
        "1. The dataset contains a total of 2356 rows and 17 columns.\n",
        "2. Some features have missing values in the data\n",
        "3. The \"tweet_id\" column is of integer type and has no missing values.\n",
        "4. The \"timestamp\" column represents the timestamp of the tweet and is stored as an object (string) data type.\n",
        "5. The \"source\" column contains the source from which the tweet was posted (e.g., Twitter for iPhone) and is stored as an object (string) data type.\n",
        "6. The \"text\" column contains the actual text of the tweet and is stored as an object (string) data type.\n",
        "7. The are 2  columns that represent the  denominator  and numerator of the dog ratings, respectively.\n",
        "8. The \"name\" column contains the names of the dogs and is stored as an object (string) data type. It has no missing values.\n",
        "9. The columns \"doggo\", \"floofer\", \"pupper\", and \"puppo\" represent different stages of a dog's life and are stored as object (string) data types. They have no missing values.\n",
        "10. The \"expanded_urls\" column contains the URLs associated with the tweets and has some missing values (59 missing values).\n",
        "\n"
      ],
      "metadata": {
        "id": "KaZtWCi6ULyh"
      }
    },
    {
      "cell_type": "markdown",
      "source": [
        "1.4. checking for null values"
      ],
      "metadata": {
        "id": "IAOtwKfHUypI"
      }
    },
    {
      "cell_type": "code",
      "source": [
        "twitter_archive_enhanced.isnull().sum()"
      ],
      "metadata": {
        "colab": {
          "base_uri": "https://localhost:8080/"
        },
        "id": "cdPwTQZvB5JJ",
        "outputId": "8428e6a7-1e43-4b62-8190-1d6c567145b8"
      },
      "execution_count": null,
      "outputs": [
        {
          "output_type": "execute_result",
          "data": {
            "text/plain": [
              "tweet_id                         0\n",
              "in_reply_to_status_id         2278\n",
              "in_reply_to_user_id           2278\n",
              "timestamp                        0\n",
              "source                           0\n",
              "text                             0\n",
              "retweeted_status_id           2175\n",
              "retweeted_status_user_id      2175\n",
              "retweeted_status_timestamp    2175\n",
              "expanded_urls                   59\n",
              "rating_numerator                 0\n",
              "rating_denominator               0\n",
              "name                             0\n",
              "doggo                            0\n",
              "floofer                          0\n",
              "pupper                           0\n",
              "puppo                            0\n",
              "dtype: int64"
            ]
          },
          "metadata": {},
          "execution_count": 9
        }
      ]
    },
    {
      "cell_type": "markdown",
      "source": [
        "Observations based on the Null Values in the Twitter Archive:\n",
        "\n",
        "The provided information displays the count of null values in each column of the Twitter archive dataset. From the analysis, it is evident that some columns have a significant number of null values. This suggests that a considerable portion of the tweets in the dataset does not involve replies or retweets.\n",
        "\n",
        "Additionally, the \"expanded_urls\" column has 59 null values, indicating missing or incomplete URLs for certain tweets.\n",
        "\n",
        "\n",
        "Overall, these observations highlight the need for careful handling of missing values and further investigation into the specific columns with a significant number of null values to ensure accurate analysis and interpretation of the Twitter archive data."
      ],
      "metadata": {
        "id": "o2U5AtFrmYS5"
      }
    },
    {
      "cell_type": "markdown",
      "source": [
        "1.5. Checking for duplicates"
      ],
      "metadata": {
        "id": "T7-PPZR3U654"
      }
    },
    {
      "cell_type": "code",
      "source": [
        "twitter_archive_enhanced.duplicated().sum()"
      ],
      "metadata": {
        "colab": {
          "base_uri": "https://localhost:8080/"
        },
        "id": "VKhaMXfrLDdi",
        "outputId": "ce66f49a-31f0-4bbf-fbbb-5102f472ad53"
      },
      "execution_count": null,
      "outputs": [
        {
          "output_type": "execute_result",
          "data": {
            "text/plain": [
              "0"
            ]
          },
          "metadata": {},
          "execution_count": 10
        }
      ]
    },
    {
      "cell_type": "markdown",
      "source": [
        "- We can observe that there are no duplicates in the data"
      ],
      "metadata": {
        "id": "Q6bEBOWDUZhK"
      }
    },
    {
      "cell_type": "markdown",
      "metadata": {
        "id": "GMpkk1c5IBYO"
      },
      "source": [
        "2.0. Using the Requests module to download the tweet image prediction -  (image_predictions.tsv)"
      ]
    },
    {
      "cell_type": "code",
      "execution_count": null,
      "metadata": {
        "id": "dJbOw05oIBYP"
      },
      "outputs": [],
      "source": [
        "# URL Link for image predictions\n",
        "url_link = \"https://d17h27t6h515a5.cloudfront.net/topher/2017/August/599fd2ad_image-predictions/image-predictions.tsv\"\n",
        "\n",
        "import requests\n",
        "\n",
        "# Send a GET request to the specified URL\n",
        "request = requests.get(url_link)\n",
        "\n",
        "# Open a file in binary write mode with the name extracted from the URL\n",
        "with open(url_link.split('/')[-1], mode='wb') as file:\n",
        "    # Write the content of the response to the file\n",
        "    file.write(request.content)\n"
      ]
    },
    {
      "cell_type": "markdown",
      "source": [
        "2.1. Loading the image-predictions.tsc file with the corrrect delimiter"
      ],
      "metadata": {
        "id": "jcpDZmKAVB_-"
      }
    },
    {
      "cell_type": "code",
      "source": [
        "image_predictions = pd.read_csv('image-predictions.tsv', sep='\\t')\n",
        "image_predictions.head(2)"
      ],
      "metadata": {
        "colab": {
          "base_uri": "https://localhost:8080/",
          "height": 176
        },
        "id": "_K-cEvV2SUQc",
        "outputId": "56d34a47-a1c3-422d-a224-612113879dc7"
      },
      "execution_count": null,
      "outputs": [
        {
          "output_type": "execute_result",
          "data": {
            "text/plain": [
              "             tweet_id                                          jpg_url  \\\n",
              "0  666020888022790149  https://pbs.twimg.com/media/CT4udn0WwAA0aMy.jpg   \n",
              "1  666029285002620928  https://pbs.twimg.com/media/CT42GRgUYAA5iDo.jpg   \n",
              "\n",
              "   img_num                      p1   p1_conf  p1_dog                  p2  \\\n",
              "0        1  Welsh_springer_spaniel  0.465074    True              collie   \n",
              "1        1                 redbone  0.506826    True  miniature_pinscher   \n",
              "\n",
              "    p2_conf  p2_dog                   p3   p3_conf  p3_dog  \n",
              "0  0.156665    True    Shetland_sheepdog  0.061428    True  \n",
              "1  0.074192    True  Rhodesian_ridgeback  0.072010    True  "
            ],
            "text/html": [
              "\n",
              "  <div id=\"df-8df74003-0657-425c-beec-cb7b245c3996\">\n",
              "    <div class=\"colab-df-container\">\n",
              "      <div>\n",
              "<style scoped>\n",
              "    .dataframe tbody tr th:only-of-type {\n",
              "        vertical-align: middle;\n",
              "    }\n",
              "\n",
              "    .dataframe tbody tr th {\n",
              "        vertical-align: top;\n",
              "    }\n",
              "\n",
              "    .dataframe thead th {\n",
              "        text-align: right;\n",
              "    }\n",
              "</style>\n",
              "<table border=\"1\" class=\"dataframe\">\n",
              "  <thead>\n",
              "    <tr style=\"text-align: right;\">\n",
              "      <th></th>\n",
              "      <th>tweet_id</th>\n",
              "      <th>jpg_url</th>\n",
              "      <th>img_num</th>\n",
              "      <th>p1</th>\n",
              "      <th>p1_conf</th>\n",
              "      <th>p1_dog</th>\n",
              "      <th>p2</th>\n",
              "      <th>p2_conf</th>\n",
              "      <th>p2_dog</th>\n",
              "      <th>p3</th>\n",
              "      <th>p3_conf</th>\n",
              "      <th>p3_dog</th>\n",
              "    </tr>\n",
              "  </thead>\n",
              "  <tbody>\n",
              "    <tr>\n",
              "      <th>0</th>\n",
              "      <td>666020888022790149</td>\n",
              "      <td>https://pbs.twimg.com/media/CT4udn0WwAA0aMy.jpg</td>\n",
              "      <td>1</td>\n",
              "      <td>Welsh_springer_spaniel</td>\n",
              "      <td>0.465074</td>\n",
              "      <td>True</td>\n",
              "      <td>collie</td>\n",
              "      <td>0.156665</td>\n",
              "      <td>True</td>\n",
              "      <td>Shetland_sheepdog</td>\n",
              "      <td>0.061428</td>\n",
              "      <td>True</td>\n",
              "    </tr>\n",
              "    <tr>\n",
              "      <th>1</th>\n",
              "      <td>666029285002620928</td>\n",
              "      <td>https://pbs.twimg.com/media/CT42GRgUYAA5iDo.jpg</td>\n",
              "      <td>1</td>\n",
              "      <td>redbone</td>\n",
              "      <td>0.506826</td>\n",
              "      <td>True</td>\n",
              "      <td>miniature_pinscher</td>\n",
              "      <td>0.074192</td>\n",
              "      <td>True</td>\n",
              "      <td>Rhodesian_ridgeback</td>\n",
              "      <td>0.072010</td>\n",
              "      <td>True</td>\n",
              "    </tr>\n",
              "  </tbody>\n",
              "</table>\n",
              "</div>\n",
              "      <button class=\"colab-df-convert\" onclick=\"convertToInteractive('df-8df74003-0657-425c-beec-cb7b245c3996')\"\n",
              "              title=\"Convert this dataframe to an interactive table.\"\n",
              "              style=\"display:none;\">\n",
              "        \n",
              "  <svg xmlns=\"http://www.w3.org/2000/svg\" height=\"24px\"viewBox=\"0 0 24 24\"\n",
              "       width=\"24px\">\n",
              "    <path d=\"M0 0h24v24H0V0z\" fill=\"none\"/>\n",
              "    <path d=\"M18.56 5.44l.94 2.06.94-2.06 2.06-.94-2.06-.94-.94-2.06-.94 2.06-2.06.94zm-11 1L8.5 8.5l.94-2.06 2.06-.94-2.06-.94L8.5 2.5l-.94 2.06-2.06.94zm10 10l.94 2.06.94-2.06 2.06-.94-2.06-.94-.94-2.06-.94 2.06-2.06.94z\"/><path d=\"M17.41 7.96l-1.37-1.37c-.4-.4-.92-.59-1.43-.59-.52 0-1.04.2-1.43.59L10.3 9.45l-7.72 7.72c-.78.78-.78 2.05 0 2.83L4 21.41c.39.39.9.59 1.41.59.51 0 1.02-.2 1.41-.59l7.78-7.78 2.81-2.81c.8-.78.8-2.07 0-2.86zM5.41 20L4 18.59l7.72-7.72 1.47 1.35L5.41 20z\"/>\n",
              "  </svg>\n",
              "      </button>\n",
              "      \n",
              "  <style>\n",
              "    .colab-df-container {\n",
              "      display:flex;\n",
              "      flex-wrap:wrap;\n",
              "      gap: 12px;\n",
              "    }\n",
              "\n",
              "    .colab-df-convert {\n",
              "      background-color: #E8F0FE;\n",
              "      border: none;\n",
              "      border-radius: 50%;\n",
              "      cursor: pointer;\n",
              "      display: none;\n",
              "      fill: #1967D2;\n",
              "      height: 32px;\n",
              "      padding: 0 0 0 0;\n",
              "      width: 32px;\n",
              "    }\n",
              "\n",
              "    .colab-df-convert:hover {\n",
              "      background-color: #E2EBFA;\n",
              "      box-shadow: 0px 1px 2px rgba(60, 64, 67, 0.3), 0px 1px 3px 1px rgba(60, 64, 67, 0.15);\n",
              "      fill: #174EA6;\n",
              "    }\n",
              "\n",
              "    [theme=dark] .colab-df-convert {\n",
              "      background-color: #3B4455;\n",
              "      fill: #D2E3FC;\n",
              "    }\n",
              "\n",
              "    [theme=dark] .colab-df-convert:hover {\n",
              "      background-color: #434B5C;\n",
              "      box-shadow: 0px 1px 3px 1px rgba(0, 0, 0, 0.15);\n",
              "      filter: drop-shadow(0px 1px 2px rgba(0, 0, 0, 0.3));\n",
              "      fill: #FFFFFF;\n",
              "    }\n",
              "  </style>\n",
              "\n",
              "      <script>\n",
              "        const buttonEl =\n",
              "          document.querySelector('#df-8df74003-0657-425c-beec-cb7b245c3996 button.colab-df-convert');\n",
              "        buttonEl.style.display =\n",
              "          google.colab.kernel.accessAllowed ? 'block' : 'none';\n",
              "\n",
              "        async function convertToInteractive(key) {\n",
              "          const element = document.querySelector('#df-8df74003-0657-425c-beec-cb7b245c3996');\n",
              "          const dataTable =\n",
              "            await google.colab.kernel.invokeFunction('convertToInteractive',\n",
              "                                                     [key], {});\n",
              "          if (!dataTable) return;\n",
              "\n",
              "          const docLinkHtml = 'Like what you see? Visit the ' +\n",
              "            '<a target=\"_blank\" href=https://colab.research.google.com/notebooks/data_table.ipynb>data table notebook</a>'\n",
              "            + ' to learn more about interactive tables.';\n",
              "          element.innerHTML = '';\n",
              "          dataTable['output_type'] = 'display_data';\n",
              "          await google.colab.output.renderOutput(dataTable, element);\n",
              "          const docLink = document.createElement('div');\n",
              "          docLink.innerHTML = docLinkHtml;\n",
              "          element.appendChild(docLink);\n",
              "        }\n",
              "      </script>\n",
              "    </div>\n",
              "  </div>\n",
              "  "
            ]
          },
          "metadata": {},
          "execution_count": 12
        }
      ]
    },
    {
      "cell_type": "markdown",
      "source": [
        "2.2. Performing descriptive statistics"
      ],
      "metadata": {
        "id": "g1BJuZ8fVJt9"
      }
    },
    {
      "cell_type": "code",
      "source": [
        "image_predictions.describe().T"
      ],
      "metadata": {
        "colab": {
          "base_uri": "https://localhost:8080/",
          "height": 206
        },
        "id": "puNnD6otB8rs",
        "outputId": "847f82d2-fe8a-4cc3-dfb6-1997ed210641"
      },
      "execution_count": null,
      "outputs": [
        {
          "output_type": "execute_result",
          "data": {
            "text/plain": [
              "           count          mean           std           min           25%  \\\n",
              "tweet_id  2075.0  7.384514e+17  6.785203e+16  6.660209e+17  6.764835e+17   \n",
              "img_num   2075.0  1.203855e+00  5.618750e-01  1.000000e+00  1.000000e+00   \n",
              "p1_conf   2075.0  5.945483e-01  2.711735e-01  4.433340e-02  3.644120e-01   \n",
              "p2_conf   2075.0  1.345886e-01  1.006657e-01  1.011300e-08  5.388625e-02   \n",
              "p3_conf   2075.0  6.032417e-02  5.090593e-02  1.740170e-10  1.622240e-02   \n",
              "\n",
              "                   50%           75%           max  \n",
              "tweet_id  7.119988e+17  7.932034e+17  8.924206e+17  \n",
              "img_num   1.000000e+00  1.000000e+00  4.000000e+00  \n",
              "p1_conf   5.882300e-01  8.438550e-01  1.000000e+00  \n",
              "p2_conf   1.181810e-01  1.955655e-01  4.880140e-01  \n",
              "p3_conf   4.944380e-02  9.180755e-02  2.734190e-01  "
            ],
            "text/html": [
              "\n",
              "  <div id=\"df-594c496a-f546-47cb-a48e-6b625dac61b2\">\n",
              "    <div class=\"colab-df-container\">\n",
              "      <div>\n",
              "<style scoped>\n",
              "    .dataframe tbody tr th:only-of-type {\n",
              "        vertical-align: middle;\n",
              "    }\n",
              "\n",
              "    .dataframe tbody tr th {\n",
              "        vertical-align: top;\n",
              "    }\n",
              "\n",
              "    .dataframe thead th {\n",
              "        text-align: right;\n",
              "    }\n",
              "</style>\n",
              "<table border=\"1\" class=\"dataframe\">\n",
              "  <thead>\n",
              "    <tr style=\"text-align: right;\">\n",
              "      <th></th>\n",
              "      <th>count</th>\n",
              "      <th>mean</th>\n",
              "      <th>std</th>\n",
              "      <th>min</th>\n",
              "      <th>25%</th>\n",
              "      <th>50%</th>\n",
              "      <th>75%</th>\n",
              "      <th>max</th>\n",
              "    </tr>\n",
              "  </thead>\n",
              "  <tbody>\n",
              "    <tr>\n",
              "      <th>tweet_id</th>\n",
              "      <td>2075.0</td>\n",
              "      <td>7.384514e+17</td>\n",
              "      <td>6.785203e+16</td>\n",
              "      <td>6.660209e+17</td>\n",
              "      <td>6.764835e+17</td>\n",
              "      <td>7.119988e+17</td>\n",
              "      <td>7.932034e+17</td>\n",
              "      <td>8.924206e+17</td>\n",
              "    </tr>\n",
              "    <tr>\n",
              "      <th>img_num</th>\n",
              "      <td>2075.0</td>\n",
              "      <td>1.203855e+00</td>\n",
              "      <td>5.618750e-01</td>\n",
              "      <td>1.000000e+00</td>\n",
              "      <td>1.000000e+00</td>\n",
              "      <td>1.000000e+00</td>\n",
              "      <td>1.000000e+00</td>\n",
              "      <td>4.000000e+00</td>\n",
              "    </tr>\n",
              "    <tr>\n",
              "      <th>p1_conf</th>\n",
              "      <td>2075.0</td>\n",
              "      <td>5.945483e-01</td>\n",
              "      <td>2.711735e-01</td>\n",
              "      <td>4.433340e-02</td>\n",
              "      <td>3.644120e-01</td>\n",
              "      <td>5.882300e-01</td>\n",
              "      <td>8.438550e-01</td>\n",
              "      <td>1.000000e+00</td>\n",
              "    </tr>\n",
              "    <tr>\n",
              "      <th>p2_conf</th>\n",
              "      <td>2075.0</td>\n",
              "      <td>1.345886e-01</td>\n",
              "      <td>1.006657e-01</td>\n",
              "      <td>1.011300e-08</td>\n",
              "      <td>5.388625e-02</td>\n",
              "      <td>1.181810e-01</td>\n",
              "      <td>1.955655e-01</td>\n",
              "      <td>4.880140e-01</td>\n",
              "    </tr>\n",
              "    <tr>\n",
              "      <th>p3_conf</th>\n",
              "      <td>2075.0</td>\n",
              "      <td>6.032417e-02</td>\n",
              "      <td>5.090593e-02</td>\n",
              "      <td>1.740170e-10</td>\n",
              "      <td>1.622240e-02</td>\n",
              "      <td>4.944380e-02</td>\n",
              "      <td>9.180755e-02</td>\n",
              "      <td>2.734190e-01</td>\n",
              "    </tr>\n",
              "  </tbody>\n",
              "</table>\n",
              "</div>\n",
              "      <button class=\"colab-df-convert\" onclick=\"convertToInteractive('df-594c496a-f546-47cb-a48e-6b625dac61b2')\"\n",
              "              title=\"Convert this dataframe to an interactive table.\"\n",
              "              style=\"display:none;\">\n",
              "        \n",
              "  <svg xmlns=\"http://www.w3.org/2000/svg\" height=\"24px\"viewBox=\"0 0 24 24\"\n",
              "       width=\"24px\">\n",
              "    <path d=\"M0 0h24v24H0V0z\" fill=\"none\"/>\n",
              "    <path d=\"M18.56 5.44l.94 2.06.94-2.06 2.06-.94-2.06-.94-.94-2.06-.94 2.06-2.06.94zm-11 1L8.5 8.5l.94-2.06 2.06-.94-2.06-.94L8.5 2.5l-.94 2.06-2.06.94zm10 10l.94 2.06.94-2.06 2.06-.94-2.06-.94-.94-2.06-.94 2.06-2.06.94z\"/><path d=\"M17.41 7.96l-1.37-1.37c-.4-.4-.92-.59-1.43-.59-.52 0-1.04.2-1.43.59L10.3 9.45l-7.72 7.72c-.78.78-.78 2.05 0 2.83L4 21.41c.39.39.9.59 1.41.59.51 0 1.02-.2 1.41-.59l7.78-7.78 2.81-2.81c.8-.78.8-2.07 0-2.86zM5.41 20L4 18.59l7.72-7.72 1.47 1.35L5.41 20z\"/>\n",
              "  </svg>\n",
              "      </button>\n",
              "      \n",
              "  <style>\n",
              "    .colab-df-container {\n",
              "      display:flex;\n",
              "      flex-wrap:wrap;\n",
              "      gap: 12px;\n",
              "    }\n",
              "\n",
              "    .colab-df-convert {\n",
              "      background-color: #E8F0FE;\n",
              "      border: none;\n",
              "      border-radius: 50%;\n",
              "      cursor: pointer;\n",
              "      display: none;\n",
              "      fill: #1967D2;\n",
              "      height: 32px;\n",
              "      padding: 0 0 0 0;\n",
              "      width: 32px;\n",
              "    }\n",
              "\n",
              "    .colab-df-convert:hover {\n",
              "      background-color: #E2EBFA;\n",
              "      box-shadow: 0px 1px 2px rgba(60, 64, 67, 0.3), 0px 1px 3px 1px rgba(60, 64, 67, 0.15);\n",
              "      fill: #174EA6;\n",
              "    }\n",
              "\n",
              "    [theme=dark] .colab-df-convert {\n",
              "      background-color: #3B4455;\n",
              "      fill: #D2E3FC;\n",
              "    }\n",
              "\n",
              "    [theme=dark] .colab-df-convert:hover {\n",
              "      background-color: #434B5C;\n",
              "      box-shadow: 0px 1px 3px 1px rgba(0, 0, 0, 0.15);\n",
              "      filter: drop-shadow(0px 1px 2px rgba(0, 0, 0, 0.3));\n",
              "      fill: #FFFFFF;\n",
              "    }\n",
              "  </style>\n",
              "\n",
              "      <script>\n",
              "        const buttonEl =\n",
              "          document.querySelector('#df-594c496a-f546-47cb-a48e-6b625dac61b2 button.colab-df-convert');\n",
              "        buttonEl.style.display =\n",
              "          google.colab.kernel.accessAllowed ? 'block' : 'none';\n",
              "\n",
              "        async function convertToInteractive(key) {\n",
              "          const element = document.querySelector('#df-594c496a-f546-47cb-a48e-6b625dac61b2');\n",
              "          const dataTable =\n",
              "            await google.colab.kernel.invokeFunction('convertToInteractive',\n",
              "                                                     [key], {});\n",
              "          if (!dataTable) return;\n",
              "\n",
              "          const docLinkHtml = 'Like what you see? Visit the ' +\n",
              "            '<a target=\"_blank\" href=https://colab.research.google.com/notebooks/data_table.ipynb>data table notebook</a>'\n",
              "            + ' to learn more about interactive tables.';\n",
              "          element.innerHTML = '';\n",
              "          dataTable['output_type'] = 'display_data';\n",
              "          await google.colab.output.renderOutput(dataTable, element);\n",
              "          const docLink = document.createElement('div');\n",
              "          docLink.innerHTML = docLinkHtml;\n",
              "          element.appendChild(docLink);\n",
              "        }\n",
              "      </script>\n",
              "    </div>\n",
              "  </div>\n",
              "  "
            ]
          },
          "metadata": {},
          "execution_count": 13
        }
      ]
    },
    {
      "cell_type": "markdown",
      "source": [
        "Upon analyzing the statistical summary of the dataset using the `describe()` function, the following observations can be made:\n",
        "\n",
        "1. The `tweet_id` column represents the unique identifier for each tweet, and the statistical summary indicates that there are 2,075 tweets in the dataset.\n",
        "\n",
        "2. The `img_num` column represents the number of images associated with each tweet. The average value is approximately 1.20, indicating that most tweets contain one image.\n",
        "\n",
        "3. The `p1_conf`, `p2_conf`, and `p3_conf` columns represent the confidence levels of the algorithm's predictions for the top three image classifications. The mean confidence level for the first prediction (`p1_conf`) is approximately 0.59, indicating a moderate level of confidence on average. Similarly, the mean confidence levels for the second (`p2_conf`) and third (`p3_conf`) predictions are approximately 0.13 and 0.06, respectively.\n",
        "\n",
        "4. The standard deviation provides a measure of the variability or spread of the data. For `p1_conf`, `p2_conf`, and `p3_conf`, the standard deviations are 0.27, 0.10, and 0.05, respectively. This suggests that the confidence levels vary significantly among the different predictions.\n",
        "\n",
        "5. The minimum and maximum values in each column indicate the range of values observed. For example, the minimum value of `p1_conf` is approximately 0.04, while the maximum value is 1.00. Similarly, the minimum and maximum values for `img_num` indicate that there is a minimum of 1 image and a maximum of 4 images associated with the tweets in the dataset.\n",
        "\n",
        "6. The quartiles (25th, 50th, and 75th percentiles) provide insights into the distribution of the data. For example, the 25th percentile for `p1_conf` is approximately 0.36, indicating that 25% of the predictions have a confidence level below this threshold. Similarly, the 75th percentile for `p3_conf` is approximately 0.09, indicating that 75% of the predictions have a confidence level below this threshold.\n"
      ],
      "metadata": {
        "id": "MSLiYTgEmqMZ"
      }
    },
    {
      "cell_type": "markdown",
      "source": [
        "2.3. Checking the shape of data"
      ],
      "metadata": {
        "id": "-j9OaK8aVVnr"
      }
    },
    {
      "cell_type": "code",
      "source": [
        "image_predictions.shape"
      ],
      "metadata": {
        "colab": {
          "base_uri": "https://localhost:8080/"
        },
        "id": "1mJeOyJ0B-hd",
        "outputId": "e38e5384-2ce8-4038-f7db-60940d917d91"
      },
      "execution_count": null,
      "outputs": [
        {
          "output_type": "execute_result",
          "data": {
            "text/plain": [
              "(2075, 12)"
            ]
          },
          "metadata": {},
          "execution_count": 14
        }
      ]
    },
    {
      "cell_type": "markdown",
      "source": [
        "- It can be observed that there are 2075 rows and 12 features in the data"
      ],
      "metadata": {
        "id": "fJSVirj4VYz1"
      }
    },
    {
      "cell_type": "markdown",
      "source": [
        "2.4. Checking for null values"
      ],
      "metadata": {
        "id": "kxXapCEwVfyj"
      }
    },
    {
      "cell_type": "code",
      "source": [
        "image_predictions.isnull().sum()"
      ],
      "metadata": {
        "colab": {
          "base_uri": "https://localhost:8080/"
        },
        "id": "HKY2KreLB-kz",
        "outputId": "712152bc-ad7e-4460-da79-409807dbb917"
      },
      "execution_count": null,
      "outputs": [
        {
          "output_type": "execute_result",
          "data": {
            "text/plain": [
              "tweet_id    0\n",
              "jpg_url     0\n",
              "img_num     0\n",
              "p1          0\n",
              "p1_conf     0\n",
              "p1_dog      0\n",
              "p2          0\n",
              "p2_conf     0\n",
              "p2_dog      0\n",
              "p3          0\n",
              "p3_conf     0\n",
              "p3_dog      0\n",
              "dtype: int64"
            ]
          },
          "metadata": {},
          "execution_count": 15
        }
      ]
    },
    {
      "cell_type": "markdown",
      "source": [
        "-  It can be observed that there are no null values in the data"
      ],
      "metadata": {
        "id": "mzc71dy2Vim3"
      }
    },
    {
      "cell_type": "markdown",
      "source": [
        "2.5. Checking for duplicates"
      ],
      "metadata": {
        "id": "dMU9TUPgVorV"
      }
    },
    {
      "cell_type": "code",
      "source": [
        "image_predictions.tweet_id.duplicated().sum()"
      ],
      "metadata": {
        "colab": {
          "base_uri": "https://localhost:8080/"
        },
        "id": "4P2bYQjt1NHW",
        "outputId": "2891e82b-b865-4b65-8398-f1fca923c344"
      },
      "execution_count": null,
      "outputs": [
        {
          "output_type": "execute_result",
          "data": {
            "text/plain": [
              "0"
            ]
          },
          "metadata": {},
          "execution_count": 16
        }
      ]
    },
    {
      "cell_type": "code",
      "source": [
        "image_predictions.duplicated().sum()"
      ],
      "metadata": {
        "colab": {
          "base_uri": "https://localhost:8080/"
        },
        "id": "xLjIwvO_K_Yl",
        "outputId": "ad820a0a-fd64-40c8-a2c9-261ed42b121e"
      },
      "execution_count": null,
      "outputs": [
        {
          "output_type": "execute_result",
          "data": {
            "text/plain": [
              "0"
            ]
          },
          "metadata": {},
          "execution_count": 17
        }
      ]
    },
    {
      "cell_type": "markdown",
      "source": [
        "-  It can be observed that there are no duplicates in the data"
      ],
      "metadata": {
        "id": "i5-CKCilVsEm"
      }
    },
    {
      "cell_type": "markdown",
      "metadata": {
        "id": "JiONptlwIBYP"
      },
      "source": [
        "3.0 Using the Tweepy library to query additional data via the Twitter API or loading the file(tweet_json.txt)"
      ]
    },
    {
      "cell_type": "code",
      "execution_count": null,
      "metadata": {
        "colab": {
          "base_uri": "https://localhost:8080/",
          "height": 112
        },
        "id": "Lrgjp1oRIBYP",
        "outputId": "bbf72f96-7933-444d-a7ce-a46ed13a650b"
      },
      "outputs": [
        {
          "output_type": "execute_result",
          "data": {
            "text/plain": [
              "             tweet_id  retweet_count  favorite_count\n",
              "0  892420643555336193           8853           39467\n",
              "1  892177421306343426           6514           33819"
            ],
            "text/html": [
              "\n",
              "  <div id=\"df-aeb274f2-1235-4bb0-813d-cc31bf8622d0\">\n",
              "    <div class=\"colab-df-container\">\n",
              "      <div>\n",
              "<style scoped>\n",
              "    .dataframe tbody tr th:only-of-type {\n",
              "        vertical-align: middle;\n",
              "    }\n",
              "\n",
              "    .dataframe tbody tr th {\n",
              "        vertical-align: top;\n",
              "    }\n",
              "\n",
              "    .dataframe thead th {\n",
              "        text-align: right;\n",
              "    }\n",
              "</style>\n",
              "<table border=\"1\" class=\"dataframe\">\n",
              "  <thead>\n",
              "    <tr style=\"text-align: right;\">\n",
              "      <th></th>\n",
              "      <th>tweet_id</th>\n",
              "      <th>retweet_count</th>\n",
              "      <th>favorite_count</th>\n",
              "    </tr>\n",
              "  </thead>\n",
              "  <tbody>\n",
              "    <tr>\n",
              "      <th>0</th>\n",
              "      <td>892420643555336193</td>\n",
              "      <td>8853</td>\n",
              "      <td>39467</td>\n",
              "    </tr>\n",
              "    <tr>\n",
              "      <th>1</th>\n",
              "      <td>892177421306343426</td>\n",
              "      <td>6514</td>\n",
              "      <td>33819</td>\n",
              "    </tr>\n",
              "  </tbody>\n",
              "</table>\n",
              "</div>\n",
              "      <button class=\"colab-df-convert\" onclick=\"convertToInteractive('df-aeb274f2-1235-4bb0-813d-cc31bf8622d0')\"\n",
              "              title=\"Convert this dataframe to an interactive table.\"\n",
              "              style=\"display:none;\">\n",
              "        \n",
              "  <svg xmlns=\"http://www.w3.org/2000/svg\" height=\"24px\"viewBox=\"0 0 24 24\"\n",
              "       width=\"24px\">\n",
              "    <path d=\"M0 0h24v24H0V0z\" fill=\"none\"/>\n",
              "    <path d=\"M18.56 5.44l.94 2.06.94-2.06 2.06-.94-2.06-.94-.94-2.06-.94 2.06-2.06.94zm-11 1L8.5 8.5l.94-2.06 2.06-.94-2.06-.94L8.5 2.5l-.94 2.06-2.06.94zm10 10l.94 2.06.94-2.06 2.06-.94-2.06-.94-.94-2.06-.94 2.06-2.06.94z\"/><path d=\"M17.41 7.96l-1.37-1.37c-.4-.4-.92-.59-1.43-.59-.52 0-1.04.2-1.43.59L10.3 9.45l-7.72 7.72c-.78.78-.78 2.05 0 2.83L4 21.41c.39.39.9.59 1.41.59.51 0 1.02-.2 1.41-.59l7.78-7.78 2.81-2.81c.8-.78.8-2.07 0-2.86zM5.41 20L4 18.59l7.72-7.72 1.47 1.35L5.41 20z\"/>\n",
              "  </svg>\n",
              "      </button>\n",
              "      \n",
              "  <style>\n",
              "    .colab-df-container {\n",
              "      display:flex;\n",
              "      flex-wrap:wrap;\n",
              "      gap: 12px;\n",
              "    }\n",
              "\n",
              "    .colab-df-convert {\n",
              "      background-color: #E8F0FE;\n",
              "      border: none;\n",
              "      border-radius: 50%;\n",
              "      cursor: pointer;\n",
              "      display: none;\n",
              "      fill: #1967D2;\n",
              "      height: 32px;\n",
              "      padding: 0 0 0 0;\n",
              "      width: 32px;\n",
              "    }\n",
              "\n",
              "    .colab-df-convert:hover {\n",
              "      background-color: #E2EBFA;\n",
              "      box-shadow: 0px 1px 2px rgba(60, 64, 67, 0.3), 0px 1px 3px 1px rgba(60, 64, 67, 0.15);\n",
              "      fill: #174EA6;\n",
              "    }\n",
              "\n",
              "    [theme=dark] .colab-df-convert {\n",
              "      background-color: #3B4455;\n",
              "      fill: #D2E3FC;\n",
              "    }\n",
              "\n",
              "    [theme=dark] .colab-df-convert:hover {\n",
              "      background-color: #434B5C;\n",
              "      box-shadow: 0px 1px 3px 1px rgba(0, 0, 0, 0.15);\n",
              "      filter: drop-shadow(0px 1px 2px rgba(0, 0, 0, 0.3));\n",
              "      fill: #FFFFFF;\n",
              "    }\n",
              "  </style>\n",
              "\n",
              "      <script>\n",
              "        const buttonEl =\n",
              "          document.querySelector('#df-aeb274f2-1235-4bb0-813d-cc31bf8622d0 button.colab-df-convert');\n",
              "        buttonEl.style.display =\n",
              "          google.colab.kernel.accessAllowed ? 'block' : 'none';\n",
              "\n",
              "        async function convertToInteractive(key) {\n",
              "          const element = document.querySelector('#df-aeb274f2-1235-4bb0-813d-cc31bf8622d0');\n",
              "          const dataTable =\n",
              "            await google.colab.kernel.invokeFunction('convertToInteractive',\n",
              "                                                     [key], {});\n",
              "          if (!dataTable) return;\n",
              "\n",
              "          const docLinkHtml = 'Like what you see? Visit the ' +\n",
              "            '<a target=\"_blank\" href=https://colab.research.google.com/notebooks/data_table.ipynb>data table notebook</a>'\n",
              "            + ' to learn more about interactive tables.';\n",
              "          element.innerHTML = '';\n",
              "          dataTable['output_type'] = 'display_data';\n",
              "          await google.colab.output.renderOutput(dataTable, element);\n",
              "          const docLink = document.createElement('div');\n",
              "          docLink.innerHTML = docLinkHtml;\n",
              "          element.appendChild(docLink);\n",
              "        }\n",
              "      </script>\n",
              "    </div>\n",
              "  </div>\n",
              "  "
            ]
          },
          "metadata": {},
          "execution_count": 18
        }
      ],
      "source": [
        "# Creating an empty list to store tweet data\n",
        "tweets = []\n",
        "\n",
        "# Opening the JSON file containing tweet- data\n",
        "with open('tweet-json.txt', mode='r', encoding='utf-8') as file:\n",
        "    # Reading the lines of the file\n",
        "    lines = file.readlines()\n",
        "\n",
        "    # Reading tweet JSON data line by line\n",
        "    for line in lines:\n",
        "        # Parsing each line as JSON data\n",
        "        data_line = json.loads(line)\n",
        "\n",
        "        # Extracting the required fields from the JSON data\n",
        "        id = data_line['id']\n",
        "        count_retweets = data_line['retweet_count']\n",
        "        count_fav = data_line['favorite_count']\n",
        "\n",
        "        # Creating a dictionary with the extracted data\n",
        "        tweet = {'tweet_id': id, 'retweet_count': count_retweets, 'favorite_count': count_fav}\n",
        "\n",
        "        # Appending the tweet dictionary to the list\n",
        "        tweets.append(tweet)\n",
        "\n",
        "# Creating a DataFrame from the list of tweet dictionaries\n",
        "tweet_data = pd.DataFrame(tweets, columns=['tweet_id', 'retweet_count', 'favorite_count'])\n",
        "tweet_data.head(2)"
      ]
    },
    {
      "cell_type": "markdown",
      "source": [
        "3.1. Checking for shape of data"
      ],
      "metadata": {
        "id": "4m8D2KjbWMcM"
      }
    },
    {
      "cell_type": "code",
      "source": [
        "tweet_data.shape"
      ],
      "metadata": {
        "colab": {
          "base_uri": "https://localhost:8080/"
        },
        "id": "F84gV53yCDz-",
        "outputId": "45b4a4a4-c443-46d2-a214-9ba9456595c4"
      },
      "execution_count": null,
      "outputs": [
        {
          "output_type": "execute_result",
          "data": {
            "text/plain": [
              "(2354, 3)"
            ]
          },
          "metadata": {},
          "execution_count": 19
        }
      ]
    },
    {
      "cell_type": "markdown",
      "source": [
        "3.2. Checking for descriptive statistics"
      ],
      "metadata": {
        "id": "56yT9d_sWPig"
      }
    },
    {
      "cell_type": "code",
      "source": [
        "tweet_data.describe()"
      ],
      "metadata": {
        "colab": {
          "base_uri": "https://localhost:8080/",
          "height": 300
        },
        "id": "26AUBAnnCD3Z",
        "outputId": "fbacbac0-4f39-49c3-9fac-7475ffcf50ce"
      },
      "execution_count": null,
      "outputs": [
        {
          "output_type": "execute_result",
          "data": {
            "text/plain": [
              "           tweet_id  retweet_count  favorite_count\n",
              "count  2.354000e+03    2354.000000     2354.000000\n",
              "mean   7.426978e+17    3164.797366     8080.968564\n",
              "std    6.852812e+16    5284.770364    11814.771334\n",
              "min    6.660209e+17       0.000000        0.000000\n",
              "25%    6.783975e+17     624.500000     1415.000000\n",
              "50%    7.194596e+17    1473.500000     3603.500000\n",
              "75%    7.993058e+17    3652.000000    10122.250000\n",
              "max    8.924206e+17   79515.000000   132810.000000"
            ],
            "text/html": [
              "\n",
              "  <div id=\"df-35861485-b859-4dea-8712-5ffdedb583ae\">\n",
              "    <div class=\"colab-df-container\">\n",
              "      <div>\n",
              "<style scoped>\n",
              "    .dataframe tbody tr th:only-of-type {\n",
              "        vertical-align: middle;\n",
              "    }\n",
              "\n",
              "    .dataframe tbody tr th {\n",
              "        vertical-align: top;\n",
              "    }\n",
              "\n",
              "    .dataframe thead th {\n",
              "        text-align: right;\n",
              "    }\n",
              "</style>\n",
              "<table border=\"1\" class=\"dataframe\">\n",
              "  <thead>\n",
              "    <tr style=\"text-align: right;\">\n",
              "      <th></th>\n",
              "      <th>tweet_id</th>\n",
              "      <th>retweet_count</th>\n",
              "      <th>favorite_count</th>\n",
              "    </tr>\n",
              "  </thead>\n",
              "  <tbody>\n",
              "    <tr>\n",
              "      <th>count</th>\n",
              "      <td>2.354000e+03</td>\n",
              "      <td>2354.000000</td>\n",
              "      <td>2354.000000</td>\n",
              "    </tr>\n",
              "    <tr>\n",
              "      <th>mean</th>\n",
              "      <td>7.426978e+17</td>\n",
              "      <td>3164.797366</td>\n",
              "      <td>8080.968564</td>\n",
              "    </tr>\n",
              "    <tr>\n",
              "      <th>std</th>\n",
              "      <td>6.852812e+16</td>\n",
              "      <td>5284.770364</td>\n",
              "      <td>11814.771334</td>\n",
              "    </tr>\n",
              "    <tr>\n",
              "      <th>min</th>\n",
              "      <td>6.660209e+17</td>\n",
              "      <td>0.000000</td>\n",
              "      <td>0.000000</td>\n",
              "    </tr>\n",
              "    <tr>\n",
              "      <th>25%</th>\n",
              "      <td>6.783975e+17</td>\n",
              "      <td>624.500000</td>\n",
              "      <td>1415.000000</td>\n",
              "    </tr>\n",
              "    <tr>\n",
              "      <th>50%</th>\n",
              "      <td>7.194596e+17</td>\n",
              "      <td>1473.500000</td>\n",
              "      <td>3603.500000</td>\n",
              "    </tr>\n",
              "    <tr>\n",
              "      <th>75%</th>\n",
              "      <td>7.993058e+17</td>\n",
              "      <td>3652.000000</td>\n",
              "      <td>10122.250000</td>\n",
              "    </tr>\n",
              "    <tr>\n",
              "      <th>max</th>\n",
              "      <td>8.924206e+17</td>\n",
              "      <td>79515.000000</td>\n",
              "      <td>132810.000000</td>\n",
              "    </tr>\n",
              "  </tbody>\n",
              "</table>\n",
              "</div>\n",
              "      <button class=\"colab-df-convert\" onclick=\"convertToInteractive('df-35861485-b859-4dea-8712-5ffdedb583ae')\"\n",
              "              title=\"Convert this dataframe to an interactive table.\"\n",
              "              style=\"display:none;\">\n",
              "        \n",
              "  <svg xmlns=\"http://www.w3.org/2000/svg\" height=\"24px\"viewBox=\"0 0 24 24\"\n",
              "       width=\"24px\">\n",
              "    <path d=\"M0 0h24v24H0V0z\" fill=\"none\"/>\n",
              "    <path d=\"M18.56 5.44l.94 2.06.94-2.06 2.06-.94-2.06-.94-.94-2.06-.94 2.06-2.06.94zm-11 1L8.5 8.5l.94-2.06 2.06-.94-2.06-.94L8.5 2.5l-.94 2.06-2.06.94zm10 10l.94 2.06.94-2.06 2.06-.94-2.06-.94-.94-2.06-.94 2.06-2.06.94z\"/><path d=\"M17.41 7.96l-1.37-1.37c-.4-.4-.92-.59-1.43-.59-.52 0-1.04.2-1.43.59L10.3 9.45l-7.72 7.72c-.78.78-.78 2.05 0 2.83L4 21.41c.39.39.9.59 1.41.59.51 0 1.02-.2 1.41-.59l7.78-7.78 2.81-2.81c.8-.78.8-2.07 0-2.86zM5.41 20L4 18.59l7.72-7.72 1.47 1.35L5.41 20z\"/>\n",
              "  </svg>\n",
              "      </button>\n",
              "      \n",
              "  <style>\n",
              "    .colab-df-container {\n",
              "      display:flex;\n",
              "      flex-wrap:wrap;\n",
              "      gap: 12px;\n",
              "    }\n",
              "\n",
              "    .colab-df-convert {\n",
              "      background-color: #E8F0FE;\n",
              "      border: none;\n",
              "      border-radius: 50%;\n",
              "      cursor: pointer;\n",
              "      display: none;\n",
              "      fill: #1967D2;\n",
              "      height: 32px;\n",
              "      padding: 0 0 0 0;\n",
              "      width: 32px;\n",
              "    }\n",
              "\n",
              "    .colab-df-convert:hover {\n",
              "      background-color: #E2EBFA;\n",
              "      box-shadow: 0px 1px 2px rgba(60, 64, 67, 0.3), 0px 1px 3px 1px rgba(60, 64, 67, 0.15);\n",
              "      fill: #174EA6;\n",
              "    }\n",
              "\n",
              "    [theme=dark] .colab-df-convert {\n",
              "      background-color: #3B4455;\n",
              "      fill: #D2E3FC;\n",
              "    }\n",
              "\n",
              "    [theme=dark] .colab-df-convert:hover {\n",
              "      background-color: #434B5C;\n",
              "      box-shadow: 0px 1px 3px 1px rgba(0, 0, 0, 0.15);\n",
              "      filter: drop-shadow(0px 1px 2px rgba(0, 0, 0, 0.3));\n",
              "      fill: #FFFFFF;\n",
              "    }\n",
              "  </style>\n",
              "\n",
              "      <script>\n",
              "        const buttonEl =\n",
              "          document.querySelector('#df-35861485-b859-4dea-8712-5ffdedb583ae button.colab-df-convert');\n",
              "        buttonEl.style.display =\n",
              "          google.colab.kernel.accessAllowed ? 'block' : 'none';\n",
              "\n",
              "        async function convertToInteractive(key) {\n",
              "          const element = document.querySelector('#df-35861485-b859-4dea-8712-5ffdedb583ae');\n",
              "          const dataTable =\n",
              "            await google.colab.kernel.invokeFunction('convertToInteractive',\n",
              "                                                     [key], {});\n",
              "          if (!dataTable) return;\n",
              "\n",
              "          const docLinkHtml = 'Like what you see? Visit the ' +\n",
              "            '<a target=\"_blank\" href=https://colab.research.google.com/notebooks/data_table.ipynb>data table notebook</a>'\n",
              "            + ' to learn more about interactive tables.';\n",
              "          element.innerHTML = '';\n",
              "          dataTable['output_type'] = 'display_data';\n",
              "          await google.colab.output.renderOutput(dataTable, element);\n",
              "          const docLink = document.createElement('div');\n",
              "          docLink.innerHTML = docLinkHtml;\n",
              "          element.appendChild(docLink);\n",
              "        }\n",
              "      </script>\n",
              "    </div>\n",
              "  </div>\n",
              "  "
            ]
          },
          "metadata": {},
          "execution_count": 20
        }
      ]
    },
    {
      "cell_type": "markdown",
      "source": [
        "Observations from the provided summary statistics (data.describe()) for the 'tweet_id', 'retweet_count', and 'favorite_count' columns are as follows:\n",
        "\n",
        "1. 'tweet_id': The dataset contains 2,354 records of tweet IDs. The minimum tweet ID is 6.660209e+17, and the maximum tweet ID is 8.924206e+17. The mean tweet ID is approximately 7.426978e+17.\n",
        "\n",
        "2. 'retweet_count': The average number of retweets is approximately 3,164.797366. The standard deviation is 5,284.770364, indicating a significant variation in retweet counts across the dataset. The minimum retweet count is 0, while the maximum retweet count is 79,515. The distribution of retweet counts is positively skewed, as indicated by the higher mean compared to the median (50th percentile) value of 1,473.5.\n",
        "\n",
        "3. 'favorite_count': The average number of favorites (likes) is approximately 8,080.968564. The standard deviation is 11,814.771334, indicating a wide range of favorite counts. The minimum favorite count is 0, while the maximum favorite count is 132,810. Similar to retweet counts, the distribution of favorite counts is positively skewed, as the mean exceeds the median value of 3,603.5.\n",
        "\n"
      ],
      "metadata": {
        "id": "DTRJeMj-nmX1"
      }
    },
    {
      "cell_type": "markdown",
      "source": [
        "3.3. Checking for duplicates"
      ],
      "metadata": {
        "id": "PRVs1ualWUWt"
      }
    },
    {
      "cell_type": "code",
      "source": [
        "tweet_data.duplicated().sum()"
      ],
      "metadata": {
        "colab": {
          "base_uri": "https://localhost:8080/"
        },
        "id": "nDeVlHTjCD_q",
        "outputId": "08d11344-88a9-4614-af9a-dbdaed6d21f0"
      },
      "execution_count": null,
      "outputs": [
        {
          "output_type": "execute_result",
          "data": {
            "text/plain": [
              "0"
            ]
          },
          "metadata": {},
          "execution_count": 21
        }
      ]
    },
    {
      "cell_type": "markdown",
      "source": [
        "- It can be observed that there are no duplicates in the data"
      ],
      "metadata": {
        "id": "SEFG2BouWX6P"
      }
    },
    {
      "cell_type": "markdown",
      "metadata": {
        "extensions": {
          "jupyter_dashboards": {
            "version": 1,
            "views": {
              "grid_default": {
                "col": 4,
                "height": 4,
                "hidden": false,
                "row": 28,
                "width": 4
              },
              "report_default": {
                "hidden": false
              }
            }
          }
        },
        "id": "Xt6SyxmrIBYP"
      },
      "source": [
        "## Assessing Data\n",
        "\n"
      ]
    },
    {
      "cell_type": "markdown",
      "source": [
        "### Analysing twitter_archive_enhanced"
      ],
      "metadata": {
        "id": "N_TTwhPaLUDk"
      }
    },
    {
      "cell_type": "markdown",
      "source": [
        "1.0. Checking for first and last few rows"
      ],
      "metadata": {
        "id": "uKU4QFI-WyJc"
      }
    },
    {
      "cell_type": "code",
      "execution_count": null,
      "metadata": {
        "colab": {
          "base_uri": "https://localhost:8080/",
          "height": 450
        },
        "id": "BeHacmhTIBYQ",
        "outputId": "846d4f64-10e5-4154-c62b-d0a31e8c9ab1"
      },
      "outputs": [
        {
          "output_type": "execute_result",
          "data": {
            "text/plain": [
              "             tweet_id  in_reply_to_status_id  in_reply_to_user_id  \\\n",
              "0  892420643555336193                    NaN                  NaN   \n",
              "1  892177421306343426                    NaN                  NaN   \n",
              "2  891815181378084864                    NaN                  NaN   \n",
              "\n",
              "                   timestamp  \\\n",
              "0  2017-08-01 16:23:56 +0000   \n",
              "1  2017-08-01 00:17:27 +0000   \n",
              "2  2017-07-31 00:18:03 +0000   \n",
              "\n",
              "                                              source  \\\n",
              "0  <a href=\"http://twitter.com/download/iphone\" r...   \n",
              "1  <a href=\"http://twitter.com/download/iphone\" r...   \n",
              "2  <a href=\"http://twitter.com/download/iphone\" r...   \n",
              "\n",
              "                                                text  retweeted_status_id  \\\n",
              "0  This is Phineas. He's a mystical boy. Only eve...                  NaN   \n",
              "1  This is Tilly. She's just checking pup on you....                  NaN   \n",
              "2  This is Archie. He is a rare Norwegian Pouncin...                  NaN   \n",
              "\n",
              "   retweeted_status_user_id retweeted_status_timestamp  \\\n",
              "0                       NaN                        NaN   \n",
              "1                       NaN                        NaN   \n",
              "2                       NaN                        NaN   \n",
              "\n",
              "                                       expanded_urls  rating_numerator  \\\n",
              "0  https://twitter.com/dog_rates/status/892420643...                13   \n",
              "1  https://twitter.com/dog_rates/status/892177421...                13   \n",
              "2  https://twitter.com/dog_rates/status/891815181...                12   \n",
              "\n",
              "   rating_denominator     name doggo floofer pupper puppo  \n",
              "0                  10  Phineas  None    None   None  None  \n",
              "1                  10    Tilly  None    None   None  None  \n",
              "2                  10   Archie  None    None   None  None  "
            ],
            "text/html": [
              "\n",
              "  <div id=\"df-9a893501-3a28-4a70-ba88-17579e0b81aa\">\n",
              "    <div class=\"colab-df-container\">\n",
              "      <div>\n",
              "<style scoped>\n",
              "    .dataframe tbody tr th:only-of-type {\n",
              "        vertical-align: middle;\n",
              "    }\n",
              "\n",
              "    .dataframe tbody tr th {\n",
              "        vertical-align: top;\n",
              "    }\n",
              "\n",
              "    .dataframe thead th {\n",
              "        text-align: right;\n",
              "    }\n",
              "</style>\n",
              "<table border=\"1\" class=\"dataframe\">\n",
              "  <thead>\n",
              "    <tr style=\"text-align: right;\">\n",
              "      <th></th>\n",
              "      <th>tweet_id</th>\n",
              "      <th>in_reply_to_status_id</th>\n",
              "      <th>in_reply_to_user_id</th>\n",
              "      <th>timestamp</th>\n",
              "      <th>source</th>\n",
              "      <th>text</th>\n",
              "      <th>retweeted_status_id</th>\n",
              "      <th>retweeted_status_user_id</th>\n",
              "      <th>retweeted_status_timestamp</th>\n",
              "      <th>expanded_urls</th>\n",
              "      <th>rating_numerator</th>\n",
              "      <th>rating_denominator</th>\n",
              "      <th>name</th>\n",
              "      <th>doggo</th>\n",
              "      <th>floofer</th>\n",
              "      <th>pupper</th>\n",
              "      <th>puppo</th>\n",
              "    </tr>\n",
              "  </thead>\n",
              "  <tbody>\n",
              "    <tr>\n",
              "      <th>0</th>\n",
              "      <td>892420643555336193</td>\n",
              "      <td>NaN</td>\n",
              "      <td>NaN</td>\n",
              "      <td>2017-08-01 16:23:56 +0000</td>\n",
              "      <td>&lt;a href=\"http://twitter.com/download/iphone\" r...</td>\n",
              "      <td>This is Phineas. He's a mystical boy. Only eve...</td>\n",
              "      <td>NaN</td>\n",
              "      <td>NaN</td>\n",
              "      <td>NaN</td>\n",
              "      <td>https://twitter.com/dog_rates/status/892420643...</td>\n",
              "      <td>13</td>\n",
              "      <td>10</td>\n",
              "      <td>Phineas</td>\n",
              "      <td>None</td>\n",
              "      <td>None</td>\n",
              "      <td>None</td>\n",
              "      <td>None</td>\n",
              "    </tr>\n",
              "    <tr>\n",
              "      <th>1</th>\n",
              "      <td>892177421306343426</td>\n",
              "      <td>NaN</td>\n",
              "      <td>NaN</td>\n",
              "      <td>2017-08-01 00:17:27 +0000</td>\n",
              "      <td>&lt;a href=\"http://twitter.com/download/iphone\" r...</td>\n",
              "      <td>This is Tilly. She's just checking pup on you....</td>\n",
              "      <td>NaN</td>\n",
              "      <td>NaN</td>\n",
              "      <td>NaN</td>\n",
              "      <td>https://twitter.com/dog_rates/status/892177421...</td>\n",
              "      <td>13</td>\n",
              "      <td>10</td>\n",
              "      <td>Tilly</td>\n",
              "      <td>None</td>\n",
              "      <td>None</td>\n",
              "      <td>None</td>\n",
              "      <td>None</td>\n",
              "    </tr>\n",
              "    <tr>\n",
              "      <th>2</th>\n",
              "      <td>891815181378084864</td>\n",
              "      <td>NaN</td>\n",
              "      <td>NaN</td>\n",
              "      <td>2017-07-31 00:18:03 +0000</td>\n",
              "      <td>&lt;a href=\"http://twitter.com/download/iphone\" r...</td>\n",
              "      <td>This is Archie. He is a rare Norwegian Pouncin...</td>\n",
              "      <td>NaN</td>\n",
              "      <td>NaN</td>\n",
              "      <td>NaN</td>\n",
              "      <td>https://twitter.com/dog_rates/status/891815181...</td>\n",
              "      <td>12</td>\n",
              "      <td>10</td>\n",
              "      <td>Archie</td>\n",
              "      <td>None</td>\n",
              "      <td>None</td>\n",
              "      <td>None</td>\n",
              "      <td>None</td>\n",
              "    </tr>\n",
              "  </tbody>\n",
              "</table>\n",
              "</div>\n",
              "      <button class=\"colab-df-convert\" onclick=\"convertToInteractive('df-9a893501-3a28-4a70-ba88-17579e0b81aa')\"\n",
              "              title=\"Convert this dataframe to an interactive table.\"\n",
              "              style=\"display:none;\">\n",
              "        \n",
              "  <svg xmlns=\"http://www.w3.org/2000/svg\" height=\"24px\"viewBox=\"0 0 24 24\"\n",
              "       width=\"24px\">\n",
              "    <path d=\"M0 0h24v24H0V0z\" fill=\"none\"/>\n",
              "    <path d=\"M18.56 5.44l.94 2.06.94-2.06 2.06-.94-2.06-.94-.94-2.06-.94 2.06-2.06.94zm-11 1L8.5 8.5l.94-2.06 2.06-.94-2.06-.94L8.5 2.5l-.94 2.06-2.06.94zm10 10l.94 2.06.94-2.06 2.06-.94-2.06-.94-.94-2.06-.94 2.06-2.06.94z\"/><path d=\"M17.41 7.96l-1.37-1.37c-.4-.4-.92-.59-1.43-.59-.52 0-1.04.2-1.43.59L10.3 9.45l-7.72 7.72c-.78.78-.78 2.05 0 2.83L4 21.41c.39.39.9.59 1.41.59.51 0 1.02-.2 1.41-.59l7.78-7.78 2.81-2.81c.8-.78.8-2.07 0-2.86zM5.41 20L4 18.59l7.72-7.72 1.47 1.35L5.41 20z\"/>\n",
              "  </svg>\n",
              "      </button>\n",
              "      \n",
              "  <style>\n",
              "    .colab-df-container {\n",
              "      display:flex;\n",
              "      flex-wrap:wrap;\n",
              "      gap: 12px;\n",
              "    }\n",
              "\n",
              "    .colab-df-convert {\n",
              "      background-color: #E8F0FE;\n",
              "      border: none;\n",
              "      border-radius: 50%;\n",
              "      cursor: pointer;\n",
              "      display: none;\n",
              "      fill: #1967D2;\n",
              "      height: 32px;\n",
              "      padding: 0 0 0 0;\n",
              "      width: 32px;\n",
              "    }\n",
              "\n",
              "    .colab-df-convert:hover {\n",
              "      background-color: #E2EBFA;\n",
              "      box-shadow: 0px 1px 2px rgba(60, 64, 67, 0.3), 0px 1px 3px 1px rgba(60, 64, 67, 0.15);\n",
              "      fill: #174EA6;\n",
              "    }\n",
              "\n",
              "    [theme=dark] .colab-df-convert {\n",
              "      background-color: #3B4455;\n",
              "      fill: #D2E3FC;\n",
              "    }\n",
              "\n",
              "    [theme=dark] .colab-df-convert:hover {\n",
              "      background-color: #434B5C;\n",
              "      box-shadow: 0px 1px 3px 1px rgba(0, 0, 0, 0.15);\n",
              "      filter: drop-shadow(0px 1px 2px rgba(0, 0, 0, 0.3));\n",
              "      fill: #FFFFFF;\n",
              "    }\n",
              "  </style>\n",
              "\n",
              "      <script>\n",
              "        const buttonEl =\n",
              "          document.querySelector('#df-9a893501-3a28-4a70-ba88-17579e0b81aa button.colab-df-convert');\n",
              "        buttonEl.style.display =\n",
              "          google.colab.kernel.accessAllowed ? 'block' : 'none';\n",
              "\n",
              "        async function convertToInteractive(key) {\n",
              "          const element = document.querySelector('#df-9a893501-3a28-4a70-ba88-17579e0b81aa');\n",
              "          const dataTable =\n",
              "            await google.colab.kernel.invokeFunction('convertToInteractive',\n",
              "                                                     [key], {});\n",
              "          if (!dataTable) return;\n",
              "\n",
              "          const docLinkHtml = 'Like what you see? Visit the ' +\n",
              "            '<a target=\"_blank\" href=https://colab.research.google.com/notebooks/data_table.ipynb>data table notebook</a>'\n",
              "            + ' to learn more about interactive tables.';\n",
              "          element.innerHTML = '';\n",
              "          dataTable['output_type'] = 'display_data';\n",
              "          await google.colab.output.renderOutput(dataTable, element);\n",
              "          const docLink = document.createElement('div');\n",
              "          docLink.innerHTML = docLinkHtml;\n",
              "          element.appendChild(docLink);\n",
              "        }\n",
              "      </script>\n",
              "    </div>\n",
              "  </div>\n",
              "  "
            ]
          },
          "metadata": {},
          "execution_count": 22
        }
      ],
      "source": [
        "twitter_archive_enhanced.head(3)"
      ]
    },
    {
      "cell_type": "code",
      "source": [
        "twitter_archive_enhanced.tail(3)"
      ],
      "metadata": {
        "colab": {
          "base_uri": "https://localhost:8080/",
          "height": 502
        },
        "id": "BojolSJ1MPQP",
        "outputId": "39dfaaa6-81ea-4cd7-e0bc-12697ce946ac"
      },
      "execution_count": null,
      "outputs": [
        {
          "output_type": "execute_result",
          "data": {
            "text/plain": [
              "                tweet_id  in_reply_to_status_id  in_reply_to_user_id  \\\n",
              "2353  666033412701032449                    NaN                  NaN   \n",
              "2354  666029285002620928                    NaN                  NaN   \n",
              "2355  666020888022790149                    NaN                  NaN   \n",
              "\n",
              "                      timestamp  \\\n",
              "2353  2015-11-15 23:21:54 +0000   \n",
              "2354  2015-11-15 23:05:30 +0000   \n",
              "2355  2015-11-15 22:32:08 +0000   \n",
              "\n",
              "                                                 source  \\\n",
              "2353  <a href=\"http://twitter.com/download/iphone\" r...   \n",
              "2354  <a href=\"http://twitter.com/download/iphone\" r...   \n",
              "2355  <a href=\"http://twitter.com/download/iphone\" r...   \n",
              "\n",
              "                                                   text  retweeted_status_id  \\\n",
              "2353  Here is a very happy pup. Big fan of well-main...                  NaN   \n",
              "2354  This is a western brown Mitsubishi terrier. Up...                  NaN   \n",
              "2355  Here we have a Japanese Irish Setter. Lost eye...                  NaN   \n",
              "\n",
              "      retweeted_status_user_id retweeted_status_timestamp  \\\n",
              "2353                       NaN                        NaN   \n",
              "2354                       NaN                        NaN   \n",
              "2355                       NaN                        NaN   \n",
              "\n",
              "                                          expanded_urls  rating_numerator  \\\n",
              "2353  https://twitter.com/dog_rates/status/666033412...                 9   \n",
              "2354  https://twitter.com/dog_rates/status/666029285...                 7   \n",
              "2355  https://twitter.com/dog_rates/status/666020888...                 8   \n",
              "\n",
              "      rating_denominator  name doggo floofer pupper puppo  \n",
              "2353                  10     a  None    None   None  None  \n",
              "2354                  10     a  None    None   None  None  \n",
              "2355                  10  None  None    None   None  None  "
            ],
            "text/html": [
              "\n",
              "  <div id=\"df-f8ade751-545d-4e88-89bf-bad680cf37ee\">\n",
              "    <div class=\"colab-df-container\">\n",
              "      <div>\n",
              "<style scoped>\n",
              "    .dataframe tbody tr th:only-of-type {\n",
              "        vertical-align: middle;\n",
              "    }\n",
              "\n",
              "    .dataframe tbody tr th {\n",
              "        vertical-align: top;\n",
              "    }\n",
              "\n",
              "    .dataframe thead th {\n",
              "        text-align: right;\n",
              "    }\n",
              "</style>\n",
              "<table border=\"1\" class=\"dataframe\">\n",
              "  <thead>\n",
              "    <tr style=\"text-align: right;\">\n",
              "      <th></th>\n",
              "      <th>tweet_id</th>\n",
              "      <th>in_reply_to_status_id</th>\n",
              "      <th>in_reply_to_user_id</th>\n",
              "      <th>timestamp</th>\n",
              "      <th>source</th>\n",
              "      <th>text</th>\n",
              "      <th>retweeted_status_id</th>\n",
              "      <th>retweeted_status_user_id</th>\n",
              "      <th>retweeted_status_timestamp</th>\n",
              "      <th>expanded_urls</th>\n",
              "      <th>rating_numerator</th>\n",
              "      <th>rating_denominator</th>\n",
              "      <th>name</th>\n",
              "      <th>doggo</th>\n",
              "      <th>floofer</th>\n",
              "      <th>pupper</th>\n",
              "      <th>puppo</th>\n",
              "    </tr>\n",
              "  </thead>\n",
              "  <tbody>\n",
              "    <tr>\n",
              "      <th>2353</th>\n",
              "      <td>666033412701032449</td>\n",
              "      <td>NaN</td>\n",
              "      <td>NaN</td>\n",
              "      <td>2015-11-15 23:21:54 +0000</td>\n",
              "      <td>&lt;a href=\"http://twitter.com/download/iphone\" r...</td>\n",
              "      <td>Here is a very happy pup. Big fan of well-main...</td>\n",
              "      <td>NaN</td>\n",
              "      <td>NaN</td>\n",
              "      <td>NaN</td>\n",
              "      <td>https://twitter.com/dog_rates/status/666033412...</td>\n",
              "      <td>9</td>\n",
              "      <td>10</td>\n",
              "      <td>a</td>\n",
              "      <td>None</td>\n",
              "      <td>None</td>\n",
              "      <td>None</td>\n",
              "      <td>None</td>\n",
              "    </tr>\n",
              "    <tr>\n",
              "      <th>2354</th>\n",
              "      <td>666029285002620928</td>\n",
              "      <td>NaN</td>\n",
              "      <td>NaN</td>\n",
              "      <td>2015-11-15 23:05:30 +0000</td>\n",
              "      <td>&lt;a href=\"http://twitter.com/download/iphone\" r...</td>\n",
              "      <td>This is a western brown Mitsubishi terrier. Up...</td>\n",
              "      <td>NaN</td>\n",
              "      <td>NaN</td>\n",
              "      <td>NaN</td>\n",
              "      <td>https://twitter.com/dog_rates/status/666029285...</td>\n",
              "      <td>7</td>\n",
              "      <td>10</td>\n",
              "      <td>a</td>\n",
              "      <td>None</td>\n",
              "      <td>None</td>\n",
              "      <td>None</td>\n",
              "      <td>None</td>\n",
              "    </tr>\n",
              "    <tr>\n",
              "      <th>2355</th>\n",
              "      <td>666020888022790149</td>\n",
              "      <td>NaN</td>\n",
              "      <td>NaN</td>\n",
              "      <td>2015-11-15 22:32:08 +0000</td>\n",
              "      <td>&lt;a href=\"http://twitter.com/download/iphone\" r...</td>\n",
              "      <td>Here we have a Japanese Irish Setter. Lost eye...</td>\n",
              "      <td>NaN</td>\n",
              "      <td>NaN</td>\n",
              "      <td>NaN</td>\n",
              "      <td>https://twitter.com/dog_rates/status/666020888...</td>\n",
              "      <td>8</td>\n",
              "      <td>10</td>\n",
              "      <td>None</td>\n",
              "      <td>None</td>\n",
              "      <td>None</td>\n",
              "      <td>None</td>\n",
              "      <td>None</td>\n",
              "    </tr>\n",
              "  </tbody>\n",
              "</table>\n",
              "</div>\n",
              "      <button class=\"colab-df-convert\" onclick=\"convertToInteractive('df-f8ade751-545d-4e88-89bf-bad680cf37ee')\"\n",
              "              title=\"Convert this dataframe to an interactive table.\"\n",
              "              style=\"display:none;\">\n",
              "        \n",
              "  <svg xmlns=\"http://www.w3.org/2000/svg\" height=\"24px\"viewBox=\"0 0 24 24\"\n",
              "       width=\"24px\">\n",
              "    <path d=\"M0 0h24v24H0V0z\" fill=\"none\"/>\n",
              "    <path d=\"M18.56 5.44l.94 2.06.94-2.06 2.06-.94-2.06-.94-.94-2.06-.94 2.06-2.06.94zm-11 1L8.5 8.5l.94-2.06 2.06-.94-2.06-.94L8.5 2.5l-.94 2.06-2.06.94zm10 10l.94 2.06.94-2.06 2.06-.94-2.06-.94-.94-2.06-.94 2.06-2.06.94z\"/><path d=\"M17.41 7.96l-1.37-1.37c-.4-.4-.92-.59-1.43-.59-.52 0-1.04.2-1.43.59L10.3 9.45l-7.72 7.72c-.78.78-.78 2.05 0 2.83L4 21.41c.39.39.9.59 1.41.59.51 0 1.02-.2 1.41-.59l7.78-7.78 2.81-2.81c.8-.78.8-2.07 0-2.86zM5.41 20L4 18.59l7.72-7.72 1.47 1.35L5.41 20z\"/>\n",
              "  </svg>\n",
              "      </button>\n",
              "      \n",
              "  <style>\n",
              "    .colab-df-container {\n",
              "      display:flex;\n",
              "      flex-wrap:wrap;\n",
              "      gap: 12px;\n",
              "    }\n",
              "\n",
              "    .colab-df-convert {\n",
              "      background-color: #E8F0FE;\n",
              "      border: none;\n",
              "      border-radius: 50%;\n",
              "      cursor: pointer;\n",
              "      display: none;\n",
              "      fill: #1967D2;\n",
              "      height: 32px;\n",
              "      padding: 0 0 0 0;\n",
              "      width: 32px;\n",
              "    }\n",
              "\n",
              "    .colab-df-convert:hover {\n",
              "      background-color: #E2EBFA;\n",
              "      box-shadow: 0px 1px 2px rgba(60, 64, 67, 0.3), 0px 1px 3px 1px rgba(60, 64, 67, 0.15);\n",
              "      fill: #174EA6;\n",
              "    }\n",
              "\n",
              "    [theme=dark] .colab-df-convert {\n",
              "      background-color: #3B4455;\n",
              "      fill: #D2E3FC;\n",
              "    }\n",
              "\n",
              "    [theme=dark] .colab-df-convert:hover {\n",
              "      background-color: #434B5C;\n",
              "      box-shadow: 0px 1px 3px 1px rgba(0, 0, 0, 0.15);\n",
              "      filter: drop-shadow(0px 1px 2px rgba(0, 0, 0, 0.3));\n",
              "      fill: #FFFFFF;\n",
              "    }\n",
              "  </style>\n",
              "\n",
              "      <script>\n",
              "        const buttonEl =\n",
              "          document.querySelector('#df-f8ade751-545d-4e88-89bf-bad680cf37ee button.colab-df-convert');\n",
              "        buttonEl.style.display =\n",
              "          google.colab.kernel.accessAllowed ? 'block' : 'none';\n",
              "\n",
              "        async function convertToInteractive(key) {\n",
              "          const element = document.querySelector('#df-f8ade751-545d-4e88-89bf-bad680cf37ee');\n",
              "          const dataTable =\n",
              "            await google.colab.kernel.invokeFunction('convertToInteractive',\n",
              "                                                     [key], {});\n",
              "          if (!dataTable) return;\n",
              "\n",
              "          const docLinkHtml = 'Like what you see? Visit the ' +\n",
              "            '<a target=\"_blank\" href=https://colab.research.google.com/notebooks/data_table.ipynb>data table notebook</a>'\n",
              "            + ' to learn more about interactive tables.';\n",
              "          element.innerHTML = '';\n",
              "          dataTable['output_type'] = 'display_data';\n",
              "          await google.colab.output.renderOutput(dataTable, element);\n",
              "          const docLink = document.createElement('div');\n",
              "          docLink.innerHTML = docLinkHtml;\n",
              "          element.appendChild(docLink);\n",
              "        }\n",
              "      </script>\n",
              "    </div>\n",
              "  </div>\n",
              "  "
            ]
          },
          "metadata": {},
          "execution_count": 23
        }
      ]
    },
    {
      "cell_type": "markdown",
      "source": [
        "1.1. Checking for different names of the dogs and Handling it"
      ],
      "metadata": {
        "id": "lkw28voYWqRD"
      }
    },
    {
      "cell_type": "code",
      "source": [
        "twitter_archive_enhanced.name.value_counts().head(50)"
      ],
      "metadata": {
        "colab": {
          "base_uri": "https://localhost:8080/"
        },
        "id": "yssiklNiMPTj",
        "outputId": "d38c3ab5-bd70-46d9-c07d-5a4bdc67210e"
      },
      "execution_count": null,
      "outputs": [
        {
          "output_type": "execute_result",
          "data": {
            "text/plain": [
              "None        745\n",
              "a            55\n",
              "Charlie      12\n",
              "Cooper       11\n",
              "Lucy         11\n",
              "Oliver       11\n",
              "Tucker       10\n",
              "Penny        10\n",
              "Lola         10\n",
              "Winston       9\n",
              "Bo            9\n",
              "Sadie         8\n",
              "the           8\n",
              "Daisy         7\n",
              "Buddy         7\n",
              "Toby          7\n",
              "an            7\n",
              "Bailey        7\n",
              "Leo           6\n",
              "Oscar         6\n",
              "Stanley       6\n",
              "Rusty         6\n",
              "Bella         6\n",
              "Dave          6\n",
              "Jack          6\n",
              "Koda          6\n",
              "Scout         6\n",
              "Jax           6\n",
              "Milo          6\n",
              "Louis         5\n",
              "Phil          5\n",
              "Sammy         5\n",
              "Gus           5\n",
              "Chester       5\n",
              "Alfie         5\n",
              "Sunny         5\n",
              "Bentley       5\n",
              "very          5\n",
              "Oakley        5\n",
              "Finn          5\n",
              "George        5\n",
              "Larry         5\n",
              "Clarence      4\n",
              "Loki          4\n",
              "Walter        4\n",
              "Reggie        4\n",
              "Hank          4\n",
              "Scooter       4\n",
              "Duke          4\n",
              "quite         4\n",
              "Name: name, dtype: int64"
            ]
          },
          "metadata": {},
          "execution_count": 24
        }
      ]
    },
    {
      "cell_type": "markdown",
      "source": [
        "It can be observed that there are some names which are just common letters like a, quite etc and these are not names, so we can fiter the rows with names and the names are usually starting with capital letters as observed from the above so we will try to use regex and apply a filter."
      ],
      "metadata": {
        "id": "nKhn_WDQMtwP"
      }
    },
    {
      "cell_type": "code",
      "source": [
        "# Masking to check the names which are not capitalized\n",
        "masking_err_names = twitter_archive_enhanced['name'].str.contains('^[a-z]', regex = True)"
      ],
      "metadata": {
        "id": "3DtkgO1lMPVh"
      },
      "execution_count": null,
      "outputs": []
    },
    {
      "cell_type": "code",
      "source": [
        "# masking the names which seem to be erroneous and sorting it with respect to presence of each erroneous name\n",
        "twitter_archive_enhanced[masking_err_names]['name'].value_counts().sort_index()"
      ],
      "metadata": {
        "colab": {
          "base_uri": "https://localhost:8080/"
        },
        "id": "OhjbXeSaMPYM",
        "outputId": "1f58b83f-26de-43a8-f6e0-4eda0bd04566"
      },
      "execution_count": null,
      "outputs": [
        {
          "output_type": "execute_result",
          "data": {
            "text/plain": [
              "a               55\n",
              "actually         2\n",
              "all              1\n",
              "an               7\n",
              "by               1\n",
              "getting          2\n",
              "his              1\n",
              "incredibly       1\n",
              "infuriating      1\n",
              "just             4\n",
              "life             1\n",
              "light            1\n",
              "mad              2\n",
              "my               1\n",
              "not              2\n",
              "officially       1\n",
              "old              1\n",
              "one              4\n",
              "quite            4\n",
              "space            1\n",
              "such             1\n",
              "the              8\n",
              "this             1\n",
              "unacceptable     1\n",
              "very             5\n",
              "Name: name, dtype: int64"
            ]
          },
          "metadata": {},
          "execution_count": 26
        }
      ]
    },
    {
      "cell_type": "markdown",
      "source": [
        "1.2. number of tweets with missing urls"
      ],
      "metadata": {
        "id": "xKoRo2-oX-Cz"
      }
    },
    {
      "cell_type": "code",
      "source": [
        "# number of tweets with missing urls\n",
        "sum(twitter_archive_enhanced['expanded_urls'].isna())"
      ],
      "metadata": {
        "colab": {
          "base_uri": "https://localhost:8080/"
        },
        "id": "V8bAnVsSMPb-",
        "outputId": "c383a30b-b18e-45d0-db13-ae785d0b3667"
      },
      "execution_count": null,
      "outputs": [
        {
          "output_type": "execute_result",
          "data": {
            "text/plain": [
              "59"
            ]
          },
          "metadata": {},
          "execution_count": 27
        }
      ]
    },
    {
      "cell_type": "markdown",
      "source": [
        "1.3.  Displaying the tweets which have missing urls with no replies/ retweets"
      ],
      "metadata": {
        "id": "D_hx2mYdYBfS"
      }
    },
    {
      "cell_type": "code",
      "source": [
        "# Displaying the tweets which have missing urls with no replies/ retweets\n",
        "mask = twitter_archive_enhanced['expanded_urls'].isna() & \\\n",
        "       twitter_archive_enhanced['in_reply_to_status_id'].isna() & \\\n",
        "       twitter_archive_enhanced['retweeted_status_id'].isna()\n",
        "twitter_archive_enhanced[mask][['tweet_id', 'text', 'expanded_urls']]"
      ],
      "metadata": {
        "colab": {
          "base_uri": "https://localhost:8080/",
          "height": 143
        },
        "id": "tXDweGx_a22C",
        "outputId": "fc90f2c8-9893-4cc0-ef91-51c5f4747d94"
      },
      "execution_count": null,
      "outputs": [
        {
          "output_type": "execute_result",
          "data": {
            "text/plain": [
              "                tweet_id                                               text  \\\n",
              "375   828361771580813312  Beebop and Doobert should start a band 12/10 w...   \n",
              "707   785515384317313025     Today, 10/10, should be National Dog Rates Day   \n",
              "1445  696518437233913856    Oh my god 10/10 for every little hot dog pupper   \n",
              "\n",
              "     expanded_urls  \n",
              "375            NaN  \n",
              "707            NaN  \n",
              "1445           NaN  "
            ],
            "text/html": [
              "\n",
              "  <div id=\"df-469f04f9-27e3-4a7d-84f6-914224bc2984\">\n",
              "    <div class=\"colab-df-container\">\n",
              "      <div>\n",
              "<style scoped>\n",
              "    .dataframe tbody tr th:only-of-type {\n",
              "        vertical-align: middle;\n",
              "    }\n",
              "\n",
              "    .dataframe tbody tr th {\n",
              "        vertical-align: top;\n",
              "    }\n",
              "\n",
              "    .dataframe thead th {\n",
              "        text-align: right;\n",
              "    }\n",
              "</style>\n",
              "<table border=\"1\" class=\"dataframe\">\n",
              "  <thead>\n",
              "    <tr style=\"text-align: right;\">\n",
              "      <th></th>\n",
              "      <th>tweet_id</th>\n",
              "      <th>text</th>\n",
              "      <th>expanded_urls</th>\n",
              "    </tr>\n",
              "  </thead>\n",
              "  <tbody>\n",
              "    <tr>\n",
              "      <th>375</th>\n",
              "      <td>828361771580813312</td>\n",
              "      <td>Beebop and Doobert should start a band 12/10 w...</td>\n",
              "      <td>NaN</td>\n",
              "    </tr>\n",
              "    <tr>\n",
              "      <th>707</th>\n",
              "      <td>785515384317313025</td>\n",
              "      <td>Today, 10/10, should be National Dog Rates Day</td>\n",
              "      <td>NaN</td>\n",
              "    </tr>\n",
              "    <tr>\n",
              "      <th>1445</th>\n",
              "      <td>696518437233913856</td>\n",
              "      <td>Oh my god 10/10 for every little hot dog pupper</td>\n",
              "      <td>NaN</td>\n",
              "    </tr>\n",
              "  </tbody>\n",
              "</table>\n",
              "</div>\n",
              "      <button class=\"colab-df-convert\" onclick=\"convertToInteractive('df-469f04f9-27e3-4a7d-84f6-914224bc2984')\"\n",
              "              title=\"Convert this dataframe to an interactive table.\"\n",
              "              style=\"display:none;\">\n",
              "        \n",
              "  <svg xmlns=\"http://www.w3.org/2000/svg\" height=\"24px\"viewBox=\"0 0 24 24\"\n",
              "       width=\"24px\">\n",
              "    <path d=\"M0 0h24v24H0V0z\" fill=\"none\"/>\n",
              "    <path d=\"M18.56 5.44l.94 2.06.94-2.06 2.06-.94-2.06-.94-.94-2.06-.94 2.06-2.06.94zm-11 1L8.5 8.5l.94-2.06 2.06-.94-2.06-.94L8.5 2.5l-.94 2.06-2.06.94zm10 10l.94 2.06.94-2.06 2.06-.94-2.06-.94-.94-2.06-.94 2.06-2.06.94z\"/><path d=\"M17.41 7.96l-1.37-1.37c-.4-.4-.92-.59-1.43-.59-.52 0-1.04.2-1.43.59L10.3 9.45l-7.72 7.72c-.78.78-.78 2.05 0 2.83L4 21.41c.39.39.9.59 1.41.59.51 0 1.02-.2 1.41-.59l7.78-7.78 2.81-2.81c.8-.78.8-2.07 0-2.86zM5.41 20L4 18.59l7.72-7.72 1.47 1.35L5.41 20z\"/>\n",
              "  </svg>\n",
              "      </button>\n",
              "      \n",
              "  <style>\n",
              "    .colab-df-container {\n",
              "      display:flex;\n",
              "      flex-wrap:wrap;\n",
              "      gap: 12px;\n",
              "    }\n",
              "\n",
              "    .colab-df-convert {\n",
              "      background-color: #E8F0FE;\n",
              "      border: none;\n",
              "      border-radius: 50%;\n",
              "      cursor: pointer;\n",
              "      display: none;\n",
              "      fill: #1967D2;\n",
              "      height: 32px;\n",
              "      padding: 0 0 0 0;\n",
              "      width: 32px;\n",
              "    }\n",
              "\n",
              "    .colab-df-convert:hover {\n",
              "      background-color: #E2EBFA;\n",
              "      box-shadow: 0px 1px 2px rgba(60, 64, 67, 0.3), 0px 1px 3px 1px rgba(60, 64, 67, 0.15);\n",
              "      fill: #174EA6;\n",
              "    }\n",
              "\n",
              "    [theme=dark] .colab-df-convert {\n",
              "      background-color: #3B4455;\n",
              "      fill: #D2E3FC;\n",
              "    }\n",
              "\n",
              "    [theme=dark] .colab-df-convert:hover {\n",
              "      background-color: #434B5C;\n",
              "      box-shadow: 0px 1px 3px 1px rgba(0, 0, 0, 0.15);\n",
              "      filter: drop-shadow(0px 1px 2px rgba(0, 0, 0, 0.3));\n",
              "      fill: #FFFFFF;\n",
              "    }\n",
              "  </style>\n",
              "\n",
              "      <script>\n",
              "        const buttonEl =\n",
              "          document.querySelector('#df-469f04f9-27e3-4a7d-84f6-914224bc2984 button.colab-df-convert');\n",
              "        buttonEl.style.display =\n",
              "          google.colab.kernel.accessAllowed ? 'block' : 'none';\n",
              "\n",
              "        async function convertToInteractive(key) {\n",
              "          const element = document.querySelector('#df-469f04f9-27e3-4a7d-84f6-914224bc2984');\n",
              "          const dataTable =\n",
              "            await google.colab.kernel.invokeFunction('convertToInteractive',\n",
              "                                                     [key], {});\n",
              "          if (!dataTable) return;\n",
              "\n",
              "          const docLinkHtml = 'Like what you see? Visit the ' +\n",
              "            '<a target=\"_blank\" href=https://colab.research.google.com/notebooks/data_table.ipynb>data table notebook</a>'\n",
              "            + ' to learn more about interactive tables.';\n",
              "          element.innerHTML = '';\n",
              "          dataTable['output_type'] = 'display_data';\n",
              "          await google.colab.output.renderOutput(dataTable, element);\n",
              "          const docLink = document.createElement('div');\n",
              "          docLink.innerHTML = docLinkHtml;\n",
              "          element.appendChild(docLink);\n",
              "        }\n",
              "      </script>\n",
              "    </div>\n",
              "  </div>\n",
              "  "
            ]
          },
          "metadata": {},
          "execution_count": 28
        }
      ]
    },
    {
      "cell_type": "markdown",
      "source": [
        "1.4. Does prediction table have any of these above tweets tweets?"
      ],
      "metadata": {
        "id": "OOmLkYNqYEuD"
      }
    },
    {
      "cell_type": "code",
      "source": [
        "# Does prediction table have any of those tweets?\n",
        "tweet_pres = [828361771580813312, 696518437233913856, 785515384317313025]\n",
        "find_id = image_predictions['tweet_id'].isin(tweet_pres)\n",
        "sum(find_id)\n"
      ],
      "metadata": {
        "colab": {
          "base_uri": "https://localhost:8080/"
        },
        "id": "K5XqNmIBa24p",
        "outputId": "93694ec4-8f91-4f7c-8844-f96e89d0241f"
      },
      "execution_count": null,
      "outputs": [
        {
          "output_type": "execute_result",
          "data": {
            "text/plain": [
              "0"
            ]
          },
          "metadata": {},
          "execution_count": 29
        }
      ]
    },
    {
      "cell_type": "markdown",
      "source": [
        "1.5. Does the json table have any of these above tweets?"
      ],
      "metadata": {
        "id": "TMvf2zB5YOAk"
      }
    },
    {
      "cell_type": "code",
      "source": [
        "# does the json table have any of these tweets?\n",
        "tweet_pres = [828361771580813312, 696518437233913856, 785515384317313025]\n",
        "# finding the tweet id\n",
        "find_id = tweet_data['tweet_id'].isin(tweet_pres)\n",
        "tweet_data[find_id]"
      ],
      "metadata": {
        "colab": {
          "base_uri": "https://localhost:8080/",
          "height": 143
        },
        "id": "FigL_jq_bM_f",
        "outputId": "f4dd28f6-b1b1-4653-c052-9f9300119288"
      },
      "execution_count": null,
      "outputs": [
        {
          "output_type": "execute_result",
          "data": {
            "text/plain": [
              "                tweet_id  retweet_count  favorite_count\n",
              "374   828361771580813312            195            2408\n",
              "706   785515384317313025           1477            6800\n",
              "1443  696518437233913856           1887            4274"
            ],
            "text/html": [
              "\n",
              "  <div id=\"df-48075b76-7f47-4f63-bfbd-5a703e901169\">\n",
              "    <div class=\"colab-df-container\">\n",
              "      <div>\n",
              "<style scoped>\n",
              "    .dataframe tbody tr th:only-of-type {\n",
              "        vertical-align: middle;\n",
              "    }\n",
              "\n",
              "    .dataframe tbody tr th {\n",
              "        vertical-align: top;\n",
              "    }\n",
              "\n",
              "    .dataframe thead th {\n",
              "        text-align: right;\n",
              "    }\n",
              "</style>\n",
              "<table border=\"1\" class=\"dataframe\">\n",
              "  <thead>\n",
              "    <tr style=\"text-align: right;\">\n",
              "      <th></th>\n",
              "      <th>tweet_id</th>\n",
              "      <th>retweet_count</th>\n",
              "      <th>favorite_count</th>\n",
              "    </tr>\n",
              "  </thead>\n",
              "  <tbody>\n",
              "    <tr>\n",
              "      <th>374</th>\n",
              "      <td>828361771580813312</td>\n",
              "      <td>195</td>\n",
              "      <td>2408</td>\n",
              "    </tr>\n",
              "    <tr>\n",
              "      <th>706</th>\n",
              "      <td>785515384317313025</td>\n",
              "      <td>1477</td>\n",
              "      <td>6800</td>\n",
              "    </tr>\n",
              "    <tr>\n",
              "      <th>1443</th>\n",
              "      <td>696518437233913856</td>\n",
              "      <td>1887</td>\n",
              "      <td>4274</td>\n",
              "    </tr>\n",
              "  </tbody>\n",
              "</table>\n",
              "</div>\n",
              "      <button class=\"colab-df-convert\" onclick=\"convertToInteractive('df-48075b76-7f47-4f63-bfbd-5a703e901169')\"\n",
              "              title=\"Convert this dataframe to an interactive table.\"\n",
              "              style=\"display:none;\">\n",
              "        \n",
              "  <svg xmlns=\"http://www.w3.org/2000/svg\" height=\"24px\"viewBox=\"0 0 24 24\"\n",
              "       width=\"24px\">\n",
              "    <path d=\"M0 0h24v24H0V0z\" fill=\"none\"/>\n",
              "    <path d=\"M18.56 5.44l.94 2.06.94-2.06 2.06-.94-2.06-.94-.94-2.06-.94 2.06-2.06.94zm-11 1L8.5 8.5l.94-2.06 2.06-.94-2.06-.94L8.5 2.5l-.94 2.06-2.06.94zm10 10l.94 2.06.94-2.06 2.06-.94-2.06-.94-.94-2.06-.94 2.06-2.06.94z\"/><path d=\"M17.41 7.96l-1.37-1.37c-.4-.4-.92-.59-1.43-.59-.52 0-1.04.2-1.43.59L10.3 9.45l-7.72 7.72c-.78.78-.78 2.05 0 2.83L4 21.41c.39.39.9.59 1.41.59.51 0 1.02-.2 1.41-.59l7.78-7.78 2.81-2.81c.8-.78.8-2.07 0-2.86zM5.41 20L4 18.59l7.72-7.72 1.47 1.35L5.41 20z\"/>\n",
              "  </svg>\n",
              "      </button>\n",
              "      \n",
              "  <style>\n",
              "    .colab-df-container {\n",
              "      display:flex;\n",
              "      flex-wrap:wrap;\n",
              "      gap: 12px;\n",
              "    }\n",
              "\n",
              "    .colab-df-convert {\n",
              "      background-color: #E8F0FE;\n",
              "      border: none;\n",
              "      border-radius: 50%;\n",
              "      cursor: pointer;\n",
              "      display: none;\n",
              "      fill: #1967D2;\n",
              "      height: 32px;\n",
              "      padding: 0 0 0 0;\n",
              "      width: 32px;\n",
              "    }\n",
              "\n",
              "    .colab-df-convert:hover {\n",
              "      background-color: #E2EBFA;\n",
              "      box-shadow: 0px 1px 2px rgba(60, 64, 67, 0.3), 0px 1px 3px 1px rgba(60, 64, 67, 0.15);\n",
              "      fill: #174EA6;\n",
              "    }\n",
              "\n",
              "    [theme=dark] .colab-df-convert {\n",
              "      background-color: #3B4455;\n",
              "      fill: #D2E3FC;\n",
              "    }\n",
              "\n",
              "    [theme=dark] .colab-df-convert:hover {\n",
              "      background-color: #434B5C;\n",
              "      box-shadow: 0px 1px 3px 1px rgba(0, 0, 0, 0.15);\n",
              "      filter: drop-shadow(0px 1px 2px rgba(0, 0, 0, 0.3));\n",
              "      fill: #FFFFFF;\n",
              "    }\n",
              "  </style>\n",
              "\n",
              "      <script>\n",
              "        const buttonEl =\n",
              "          document.querySelector('#df-48075b76-7f47-4f63-bfbd-5a703e901169 button.colab-df-convert');\n",
              "        buttonEl.style.display =\n",
              "          google.colab.kernel.accessAllowed ? 'block' : 'none';\n",
              "\n",
              "        async function convertToInteractive(key) {\n",
              "          const element = document.querySelector('#df-48075b76-7f47-4f63-bfbd-5a703e901169');\n",
              "          const dataTable =\n",
              "            await google.colab.kernel.invokeFunction('convertToInteractive',\n",
              "                                                     [key], {});\n",
              "          if (!dataTable) return;\n",
              "\n",
              "          const docLinkHtml = 'Like what you see? Visit the ' +\n",
              "            '<a target=\"_blank\" href=https://colab.research.google.com/notebooks/data_table.ipynb>data table notebook</a>'\n",
              "            + ' to learn more about interactive tables.';\n",
              "          element.innerHTML = '';\n",
              "          dataTable['output_type'] = 'display_data';\n",
              "          await google.colab.output.renderOutput(dataTable, element);\n",
              "          const docLink = document.createElement('div');\n",
              "          docLink.innerHTML = docLinkHtml;\n",
              "          element.appendChild(docLink);\n",
              "        }\n",
              "      </script>\n",
              "    </div>\n",
              "  </div>\n",
              "  "
            ]
          },
          "metadata": {},
          "execution_count": 30
        }
      ]
    },
    {
      "cell_type": "markdown",
      "source": [
        "1.6. Checking the descriptive statistics"
      ],
      "metadata": {
        "id": "ctCut9cbYlTh"
      }
    },
    {
      "cell_type": "code",
      "source": [
        "twitter_archive_enhanced[['rating_numerator', 'rating_denominator']].describe()"
      ],
      "metadata": {
        "colab": {
          "base_uri": "https://localhost:8080/",
          "height": 300
        },
        "id": "07StMcNabTA9",
        "outputId": "9f90dc9b-b65a-4c38-e28b-20751ad3b906"
      },
      "execution_count": null,
      "outputs": [
        {
          "output_type": "execute_result",
          "data": {
            "text/plain": [
              "       rating_numerator  rating_denominator\n",
              "count       2356.000000         2356.000000\n",
              "mean          13.126486           10.455433\n",
              "std           45.876648            6.745237\n",
              "min            0.000000            0.000000\n",
              "25%           10.000000           10.000000\n",
              "50%           11.000000           10.000000\n",
              "75%           12.000000           10.000000\n",
              "max         1776.000000          170.000000"
            ],
            "text/html": [
              "\n",
              "  <div id=\"df-c14adb15-1e7e-461c-ae88-f1434bec3cc4\">\n",
              "    <div class=\"colab-df-container\">\n",
              "      <div>\n",
              "<style scoped>\n",
              "    .dataframe tbody tr th:only-of-type {\n",
              "        vertical-align: middle;\n",
              "    }\n",
              "\n",
              "    .dataframe tbody tr th {\n",
              "        vertical-align: top;\n",
              "    }\n",
              "\n",
              "    .dataframe thead th {\n",
              "        text-align: right;\n",
              "    }\n",
              "</style>\n",
              "<table border=\"1\" class=\"dataframe\">\n",
              "  <thead>\n",
              "    <tr style=\"text-align: right;\">\n",
              "      <th></th>\n",
              "      <th>rating_numerator</th>\n",
              "      <th>rating_denominator</th>\n",
              "    </tr>\n",
              "  </thead>\n",
              "  <tbody>\n",
              "    <tr>\n",
              "      <th>count</th>\n",
              "      <td>2356.000000</td>\n",
              "      <td>2356.000000</td>\n",
              "    </tr>\n",
              "    <tr>\n",
              "      <th>mean</th>\n",
              "      <td>13.126486</td>\n",
              "      <td>10.455433</td>\n",
              "    </tr>\n",
              "    <tr>\n",
              "      <th>std</th>\n",
              "      <td>45.876648</td>\n",
              "      <td>6.745237</td>\n",
              "    </tr>\n",
              "    <tr>\n",
              "      <th>min</th>\n",
              "      <td>0.000000</td>\n",
              "      <td>0.000000</td>\n",
              "    </tr>\n",
              "    <tr>\n",
              "      <th>25%</th>\n",
              "      <td>10.000000</td>\n",
              "      <td>10.000000</td>\n",
              "    </tr>\n",
              "    <tr>\n",
              "      <th>50%</th>\n",
              "      <td>11.000000</td>\n",
              "      <td>10.000000</td>\n",
              "    </tr>\n",
              "    <tr>\n",
              "      <th>75%</th>\n",
              "      <td>12.000000</td>\n",
              "      <td>10.000000</td>\n",
              "    </tr>\n",
              "    <tr>\n",
              "      <th>max</th>\n",
              "      <td>1776.000000</td>\n",
              "      <td>170.000000</td>\n",
              "    </tr>\n",
              "  </tbody>\n",
              "</table>\n",
              "</div>\n",
              "      <button class=\"colab-df-convert\" onclick=\"convertToInteractive('df-c14adb15-1e7e-461c-ae88-f1434bec3cc4')\"\n",
              "              title=\"Convert this dataframe to an interactive table.\"\n",
              "              style=\"display:none;\">\n",
              "        \n",
              "  <svg xmlns=\"http://www.w3.org/2000/svg\" height=\"24px\"viewBox=\"0 0 24 24\"\n",
              "       width=\"24px\">\n",
              "    <path d=\"M0 0h24v24H0V0z\" fill=\"none\"/>\n",
              "    <path d=\"M18.56 5.44l.94 2.06.94-2.06 2.06-.94-2.06-.94-.94-2.06-.94 2.06-2.06.94zm-11 1L8.5 8.5l.94-2.06 2.06-.94-2.06-.94L8.5 2.5l-.94 2.06-2.06.94zm10 10l.94 2.06.94-2.06 2.06-.94-2.06-.94-.94-2.06-.94 2.06-2.06.94z\"/><path d=\"M17.41 7.96l-1.37-1.37c-.4-.4-.92-.59-1.43-.59-.52 0-1.04.2-1.43.59L10.3 9.45l-7.72 7.72c-.78.78-.78 2.05 0 2.83L4 21.41c.39.39.9.59 1.41.59.51 0 1.02-.2 1.41-.59l7.78-7.78 2.81-2.81c.8-.78.8-2.07 0-2.86zM5.41 20L4 18.59l7.72-7.72 1.47 1.35L5.41 20z\"/>\n",
              "  </svg>\n",
              "      </button>\n",
              "      \n",
              "  <style>\n",
              "    .colab-df-container {\n",
              "      display:flex;\n",
              "      flex-wrap:wrap;\n",
              "      gap: 12px;\n",
              "    }\n",
              "\n",
              "    .colab-df-convert {\n",
              "      background-color: #E8F0FE;\n",
              "      border: none;\n",
              "      border-radius: 50%;\n",
              "      cursor: pointer;\n",
              "      display: none;\n",
              "      fill: #1967D2;\n",
              "      height: 32px;\n",
              "      padding: 0 0 0 0;\n",
              "      width: 32px;\n",
              "    }\n",
              "\n",
              "    .colab-df-convert:hover {\n",
              "      background-color: #E2EBFA;\n",
              "      box-shadow: 0px 1px 2px rgba(60, 64, 67, 0.3), 0px 1px 3px 1px rgba(60, 64, 67, 0.15);\n",
              "      fill: #174EA6;\n",
              "    }\n",
              "\n",
              "    [theme=dark] .colab-df-convert {\n",
              "      background-color: #3B4455;\n",
              "      fill: #D2E3FC;\n",
              "    }\n",
              "\n",
              "    [theme=dark] .colab-df-convert:hover {\n",
              "      background-color: #434B5C;\n",
              "      box-shadow: 0px 1px 3px 1px rgba(0, 0, 0, 0.15);\n",
              "      filter: drop-shadow(0px 1px 2px rgba(0, 0, 0, 0.3));\n",
              "      fill: #FFFFFF;\n",
              "    }\n",
              "  </style>\n",
              "\n",
              "      <script>\n",
              "        const buttonEl =\n",
              "          document.querySelector('#df-c14adb15-1e7e-461c-ae88-f1434bec3cc4 button.colab-df-convert');\n",
              "        buttonEl.style.display =\n",
              "          google.colab.kernel.accessAllowed ? 'block' : 'none';\n",
              "\n",
              "        async function convertToInteractive(key) {\n",
              "          const element = document.querySelector('#df-c14adb15-1e7e-461c-ae88-f1434bec3cc4');\n",
              "          const dataTable =\n",
              "            await google.colab.kernel.invokeFunction('convertToInteractive',\n",
              "                                                     [key], {});\n",
              "          if (!dataTable) return;\n",
              "\n",
              "          const docLinkHtml = 'Like what you see? Visit the ' +\n",
              "            '<a target=\"_blank\" href=https://colab.research.google.com/notebooks/data_table.ipynb>data table notebook</a>'\n",
              "            + ' to learn more about interactive tables.';\n",
              "          element.innerHTML = '';\n",
              "          dataTable['output_type'] = 'display_data';\n",
              "          await google.colab.output.renderOutput(dataTable, element);\n",
              "          const docLink = document.createElement('div');\n",
              "          docLink.innerHTML = docLinkHtml;\n",
              "          element.appendChild(docLink);\n",
              "        }\n",
              "      </script>\n",
              "    </div>\n",
              "  </div>\n",
              "  "
            ]
          },
          "metadata": {},
          "execution_count": 31
        }
      ]
    },
    {
      "cell_type": "code",
      "source": [
        "twitter_archive_enhanced.describe().T"
      ],
      "metadata": {
        "colab": {
          "base_uri": "https://localhost:8080/",
          "height": 269
        },
        "id": "n6g1LCurbTEM",
        "outputId": "ad5a4268-7f6b-48c9-fcf7-ceb24d2d10bf"
      },
      "execution_count": null,
      "outputs": [
        {
          "output_type": "execute_result",
          "data": {
            "text/plain": [
              "                           count          mean           std           min  \\\n",
              "tweet_id                  2356.0  7.427716e+17  6.856705e+16  6.660209e+17   \n",
              "in_reply_to_status_id       78.0  7.455079e+17  7.582492e+16  6.658147e+17   \n",
              "in_reply_to_user_id         78.0  2.014171e+16  1.252797e+17  1.185634e+07   \n",
              "retweeted_status_id        181.0  7.720400e+17  6.236928e+16  6.661041e+17   \n",
              "retweeted_status_user_id   181.0  1.241698e+16  9.599254e+16  7.832140e+05   \n",
              "rating_numerator          2356.0  1.312649e+01  4.587665e+01  0.000000e+00   \n",
              "rating_denominator        2356.0  1.045543e+01  6.745237e+00  0.000000e+00   \n",
              "\n",
              "                                   25%           50%           75%  \\\n",
              "tweet_id                  6.783989e+17  7.196279e+17  7.993373e+17   \n",
              "in_reply_to_status_id     6.757419e+17  7.038708e+17  8.257804e+17   \n",
              "in_reply_to_user_id       3.086374e+08  4.196984e+09  4.196984e+09   \n",
              "retweeted_status_id       7.186315e+17  7.804657e+17  8.203146e+17   \n",
              "retweeted_status_user_id  4.196984e+09  4.196984e+09  4.196984e+09   \n",
              "rating_numerator          1.000000e+01  1.100000e+01  1.200000e+01   \n",
              "rating_denominator        1.000000e+01  1.000000e+01  1.000000e+01   \n",
              "\n",
              "                                   max  \n",
              "tweet_id                  8.924206e+17  \n",
              "in_reply_to_status_id     8.862664e+17  \n",
              "in_reply_to_user_id       8.405479e+17  \n",
              "retweeted_status_id       8.874740e+17  \n",
              "retweeted_status_user_id  7.874618e+17  \n",
              "rating_numerator          1.776000e+03  \n",
              "rating_denominator        1.700000e+02  "
            ],
            "text/html": [
              "\n",
              "  <div id=\"df-fb22af28-5116-42e8-81af-2d6700e98f2b\">\n",
              "    <div class=\"colab-df-container\">\n",
              "      <div>\n",
              "<style scoped>\n",
              "    .dataframe tbody tr th:only-of-type {\n",
              "        vertical-align: middle;\n",
              "    }\n",
              "\n",
              "    .dataframe tbody tr th {\n",
              "        vertical-align: top;\n",
              "    }\n",
              "\n",
              "    .dataframe thead th {\n",
              "        text-align: right;\n",
              "    }\n",
              "</style>\n",
              "<table border=\"1\" class=\"dataframe\">\n",
              "  <thead>\n",
              "    <tr style=\"text-align: right;\">\n",
              "      <th></th>\n",
              "      <th>count</th>\n",
              "      <th>mean</th>\n",
              "      <th>std</th>\n",
              "      <th>min</th>\n",
              "      <th>25%</th>\n",
              "      <th>50%</th>\n",
              "      <th>75%</th>\n",
              "      <th>max</th>\n",
              "    </tr>\n",
              "  </thead>\n",
              "  <tbody>\n",
              "    <tr>\n",
              "      <th>tweet_id</th>\n",
              "      <td>2356.0</td>\n",
              "      <td>7.427716e+17</td>\n",
              "      <td>6.856705e+16</td>\n",
              "      <td>6.660209e+17</td>\n",
              "      <td>6.783989e+17</td>\n",
              "      <td>7.196279e+17</td>\n",
              "      <td>7.993373e+17</td>\n",
              "      <td>8.924206e+17</td>\n",
              "    </tr>\n",
              "    <tr>\n",
              "      <th>in_reply_to_status_id</th>\n",
              "      <td>78.0</td>\n",
              "      <td>7.455079e+17</td>\n",
              "      <td>7.582492e+16</td>\n",
              "      <td>6.658147e+17</td>\n",
              "      <td>6.757419e+17</td>\n",
              "      <td>7.038708e+17</td>\n",
              "      <td>8.257804e+17</td>\n",
              "      <td>8.862664e+17</td>\n",
              "    </tr>\n",
              "    <tr>\n",
              "      <th>in_reply_to_user_id</th>\n",
              "      <td>78.0</td>\n",
              "      <td>2.014171e+16</td>\n",
              "      <td>1.252797e+17</td>\n",
              "      <td>1.185634e+07</td>\n",
              "      <td>3.086374e+08</td>\n",
              "      <td>4.196984e+09</td>\n",
              "      <td>4.196984e+09</td>\n",
              "      <td>8.405479e+17</td>\n",
              "    </tr>\n",
              "    <tr>\n",
              "      <th>retweeted_status_id</th>\n",
              "      <td>181.0</td>\n",
              "      <td>7.720400e+17</td>\n",
              "      <td>6.236928e+16</td>\n",
              "      <td>6.661041e+17</td>\n",
              "      <td>7.186315e+17</td>\n",
              "      <td>7.804657e+17</td>\n",
              "      <td>8.203146e+17</td>\n",
              "      <td>8.874740e+17</td>\n",
              "    </tr>\n",
              "    <tr>\n",
              "      <th>retweeted_status_user_id</th>\n",
              "      <td>181.0</td>\n",
              "      <td>1.241698e+16</td>\n",
              "      <td>9.599254e+16</td>\n",
              "      <td>7.832140e+05</td>\n",
              "      <td>4.196984e+09</td>\n",
              "      <td>4.196984e+09</td>\n",
              "      <td>4.196984e+09</td>\n",
              "      <td>7.874618e+17</td>\n",
              "    </tr>\n",
              "    <tr>\n",
              "      <th>rating_numerator</th>\n",
              "      <td>2356.0</td>\n",
              "      <td>1.312649e+01</td>\n",
              "      <td>4.587665e+01</td>\n",
              "      <td>0.000000e+00</td>\n",
              "      <td>1.000000e+01</td>\n",
              "      <td>1.100000e+01</td>\n",
              "      <td>1.200000e+01</td>\n",
              "      <td>1.776000e+03</td>\n",
              "    </tr>\n",
              "    <tr>\n",
              "      <th>rating_denominator</th>\n",
              "      <td>2356.0</td>\n",
              "      <td>1.045543e+01</td>\n",
              "      <td>6.745237e+00</td>\n",
              "      <td>0.000000e+00</td>\n",
              "      <td>1.000000e+01</td>\n",
              "      <td>1.000000e+01</td>\n",
              "      <td>1.000000e+01</td>\n",
              "      <td>1.700000e+02</td>\n",
              "    </tr>\n",
              "  </tbody>\n",
              "</table>\n",
              "</div>\n",
              "      <button class=\"colab-df-convert\" onclick=\"convertToInteractive('df-fb22af28-5116-42e8-81af-2d6700e98f2b')\"\n",
              "              title=\"Convert this dataframe to an interactive table.\"\n",
              "              style=\"display:none;\">\n",
              "        \n",
              "  <svg xmlns=\"http://www.w3.org/2000/svg\" height=\"24px\"viewBox=\"0 0 24 24\"\n",
              "       width=\"24px\">\n",
              "    <path d=\"M0 0h24v24H0V0z\" fill=\"none\"/>\n",
              "    <path d=\"M18.56 5.44l.94 2.06.94-2.06 2.06-.94-2.06-.94-.94-2.06-.94 2.06-2.06.94zm-11 1L8.5 8.5l.94-2.06 2.06-.94-2.06-.94L8.5 2.5l-.94 2.06-2.06.94zm10 10l.94 2.06.94-2.06 2.06-.94-2.06-.94-.94-2.06-.94 2.06-2.06.94z\"/><path d=\"M17.41 7.96l-1.37-1.37c-.4-.4-.92-.59-1.43-.59-.52 0-1.04.2-1.43.59L10.3 9.45l-7.72 7.72c-.78.78-.78 2.05 0 2.83L4 21.41c.39.39.9.59 1.41.59.51 0 1.02-.2 1.41-.59l7.78-7.78 2.81-2.81c.8-.78.8-2.07 0-2.86zM5.41 20L4 18.59l7.72-7.72 1.47 1.35L5.41 20z\"/>\n",
              "  </svg>\n",
              "      </button>\n",
              "      \n",
              "  <style>\n",
              "    .colab-df-container {\n",
              "      display:flex;\n",
              "      flex-wrap:wrap;\n",
              "      gap: 12px;\n",
              "    }\n",
              "\n",
              "    .colab-df-convert {\n",
              "      background-color: #E8F0FE;\n",
              "      border: none;\n",
              "      border-radius: 50%;\n",
              "      cursor: pointer;\n",
              "      display: none;\n",
              "      fill: #1967D2;\n",
              "      height: 32px;\n",
              "      padding: 0 0 0 0;\n",
              "      width: 32px;\n",
              "    }\n",
              "\n",
              "    .colab-df-convert:hover {\n",
              "      background-color: #E2EBFA;\n",
              "      box-shadow: 0px 1px 2px rgba(60, 64, 67, 0.3), 0px 1px 3px 1px rgba(60, 64, 67, 0.15);\n",
              "      fill: #174EA6;\n",
              "    }\n",
              "\n",
              "    [theme=dark] .colab-df-convert {\n",
              "      background-color: #3B4455;\n",
              "      fill: #D2E3FC;\n",
              "    }\n",
              "\n",
              "    [theme=dark] .colab-df-convert:hover {\n",
              "      background-color: #434B5C;\n",
              "      box-shadow: 0px 1px 3px 1px rgba(0, 0, 0, 0.15);\n",
              "      filter: drop-shadow(0px 1px 2px rgba(0, 0, 0, 0.3));\n",
              "      fill: #FFFFFF;\n",
              "    }\n",
              "  </style>\n",
              "\n",
              "      <script>\n",
              "        const buttonEl =\n",
              "          document.querySelector('#df-fb22af28-5116-42e8-81af-2d6700e98f2b button.colab-df-convert');\n",
              "        buttonEl.style.display =\n",
              "          google.colab.kernel.accessAllowed ? 'block' : 'none';\n",
              "\n",
              "        async function convertToInteractive(key) {\n",
              "          const element = document.querySelector('#df-fb22af28-5116-42e8-81af-2d6700e98f2b');\n",
              "          const dataTable =\n",
              "            await google.colab.kernel.invokeFunction('convertToInteractive',\n",
              "                                                     [key], {});\n",
              "          if (!dataTable) return;\n",
              "\n",
              "          const docLinkHtml = 'Like what you see? Visit the ' +\n",
              "            '<a target=\"_blank\" href=https://colab.research.google.com/notebooks/data_table.ipynb>data table notebook</a>'\n",
              "            + ' to learn more about interactive tables.';\n",
              "          element.innerHTML = '';\n",
              "          dataTable['output_type'] = 'display_data';\n",
              "          await google.colab.output.renderOutput(dataTable, element);\n",
              "          const docLink = document.createElement('div');\n",
              "          docLink.innerHTML = docLinkHtml;\n",
              "          element.appendChild(docLink);\n",
              "        }\n",
              "      </script>\n",
              "    </div>\n",
              "  </div>\n",
              "  "
            ]
          },
          "metadata": {},
          "execution_count": 32
        }
      ]
    },
    {
      "cell_type": "markdown",
      "source": [
        "The maximum and minimum values observed for the rating numerator and rating denominator appear to deviate from the expected range. So we would try to have a check on those values."
      ],
      "metadata": {
        "id": "4BHmGxEZ39ao"
      }
    },
    {
      "cell_type": "markdown",
      "source": [
        "1.6. Examining the observation in which the rating numerator has the highest value as compared to others."
      ],
      "metadata": {
        "id": "kIzJXOCFY6n3"
      }
    },
    {
      "cell_type": "code",
      "source": [
        "# Examine the observation in which the rating numerator has the highest value.\n",
        "twitter_archive_enhanced[twitter_archive_enhanced['rating_numerator'] == twitter_archive_enhanced['rating_numerator'].max()].T"
      ],
      "metadata": {
        "colab": {
          "base_uri": "https://localhost:8080/",
          "height": 582
        },
        "id": "_J43s3SEbZNr",
        "outputId": "579b94fe-c4e3-401e-aed5-785fb04e9d6c"
      },
      "execution_count": null,
      "outputs": [
        {
          "output_type": "execute_result",
          "data": {
            "text/plain": [
              "                                                                          979\n",
              "tweet_id                                                   749981277374128128\n",
              "in_reply_to_status_id                                                     NaN\n",
              "in_reply_to_user_id                                                       NaN\n",
              "timestamp                                           2016-07-04 15:00:45 +0000\n",
              "source                      <a href=\"https://about.twitter.com/products/tw...\n",
              "text                        This is Atticus. He's quite simply America af....\n",
              "retweeted_status_id                                                       NaN\n",
              "retweeted_status_user_id                                                  NaN\n",
              "retweeted_status_timestamp                                                NaN\n",
              "expanded_urls               https://twitter.com/dog_rates/status/749981277...\n",
              "rating_numerator                                                         1776\n",
              "rating_denominator                                                         10\n",
              "name                                                                  Atticus\n",
              "doggo                                                                    None\n",
              "floofer                                                                  None\n",
              "pupper                                                                   None\n",
              "puppo                                                                    None"
            ],
            "text/html": [
              "\n",
              "  <div id=\"df-b8b8e3d5-5186-4f72-8241-db1bf00e7f9a\">\n",
              "    <div class=\"colab-df-container\">\n",
              "      <div>\n",
              "<style scoped>\n",
              "    .dataframe tbody tr th:only-of-type {\n",
              "        vertical-align: middle;\n",
              "    }\n",
              "\n",
              "    .dataframe tbody tr th {\n",
              "        vertical-align: top;\n",
              "    }\n",
              "\n",
              "    .dataframe thead th {\n",
              "        text-align: right;\n",
              "    }\n",
              "</style>\n",
              "<table border=\"1\" class=\"dataframe\">\n",
              "  <thead>\n",
              "    <tr style=\"text-align: right;\">\n",
              "      <th></th>\n",
              "      <th>979</th>\n",
              "    </tr>\n",
              "  </thead>\n",
              "  <tbody>\n",
              "    <tr>\n",
              "      <th>tweet_id</th>\n",
              "      <td>749981277374128128</td>\n",
              "    </tr>\n",
              "    <tr>\n",
              "      <th>in_reply_to_status_id</th>\n",
              "      <td>NaN</td>\n",
              "    </tr>\n",
              "    <tr>\n",
              "      <th>in_reply_to_user_id</th>\n",
              "      <td>NaN</td>\n",
              "    </tr>\n",
              "    <tr>\n",
              "      <th>timestamp</th>\n",
              "      <td>2016-07-04 15:00:45 +0000</td>\n",
              "    </tr>\n",
              "    <tr>\n",
              "      <th>source</th>\n",
              "      <td>&lt;a href=\"https://about.twitter.com/products/tw...</td>\n",
              "    </tr>\n",
              "    <tr>\n",
              "      <th>text</th>\n",
              "      <td>This is Atticus. He's quite simply America af....</td>\n",
              "    </tr>\n",
              "    <tr>\n",
              "      <th>retweeted_status_id</th>\n",
              "      <td>NaN</td>\n",
              "    </tr>\n",
              "    <tr>\n",
              "      <th>retweeted_status_user_id</th>\n",
              "      <td>NaN</td>\n",
              "    </tr>\n",
              "    <tr>\n",
              "      <th>retweeted_status_timestamp</th>\n",
              "      <td>NaN</td>\n",
              "    </tr>\n",
              "    <tr>\n",
              "      <th>expanded_urls</th>\n",
              "      <td>https://twitter.com/dog_rates/status/749981277...</td>\n",
              "    </tr>\n",
              "    <tr>\n",
              "      <th>rating_numerator</th>\n",
              "      <td>1776</td>\n",
              "    </tr>\n",
              "    <tr>\n",
              "      <th>rating_denominator</th>\n",
              "      <td>10</td>\n",
              "    </tr>\n",
              "    <tr>\n",
              "      <th>name</th>\n",
              "      <td>Atticus</td>\n",
              "    </tr>\n",
              "    <tr>\n",
              "      <th>doggo</th>\n",
              "      <td>None</td>\n",
              "    </tr>\n",
              "    <tr>\n",
              "      <th>floofer</th>\n",
              "      <td>None</td>\n",
              "    </tr>\n",
              "    <tr>\n",
              "      <th>pupper</th>\n",
              "      <td>None</td>\n",
              "    </tr>\n",
              "    <tr>\n",
              "      <th>puppo</th>\n",
              "      <td>None</td>\n",
              "    </tr>\n",
              "  </tbody>\n",
              "</table>\n",
              "</div>\n",
              "      <button class=\"colab-df-convert\" onclick=\"convertToInteractive('df-b8b8e3d5-5186-4f72-8241-db1bf00e7f9a')\"\n",
              "              title=\"Convert this dataframe to an interactive table.\"\n",
              "              style=\"display:none;\">\n",
              "        \n",
              "  <svg xmlns=\"http://www.w3.org/2000/svg\" height=\"24px\"viewBox=\"0 0 24 24\"\n",
              "       width=\"24px\">\n",
              "    <path d=\"M0 0h24v24H0V0z\" fill=\"none\"/>\n",
              "    <path d=\"M18.56 5.44l.94 2.06.94-2.06 2.06-.94-2.06-.94-.94-2.06-.94 2.06-2.06.94zm-11 1L8.5 8.5l.94-2.06 2.06-.94-2.06-.94L8.5 2.5l-.94 2.06-2.06.94zm10 10l.94 2.06.94-2.06 2.06-.94-2.06-.94-.94-2.06-.94 2.06-2.06.94z\"/><path d=\"M17.41 7.96l-1.37-1.37c-.4-.4-.92-.59-1.43-.59-.52 0-1.04.2-1.43.59L10.3 9.45l-7.72 7.72c-.78.78-.78 2.05 0 2.83L4 21.41c.39.39.9.59 1.41.59.51 0 1.02-.2 1.41-.59l7.78-7.78 2.81-2.81c.8-.78.8-2.07 0-2.86zM5.41 20L4 18.59l7.72-7.72 1.47 1.35L5.41 20z\"/>\n",
              "  </svg>\n",
              "      </button>\n",
              "      \n",
              "  <style>\n",
              "    .colab-df-container {\n",
              "      display:flex;\n",
              "      flex-wrap:wrap;\n",
              "      gap: 12px;\n",
              "    }\n",
              "\n",
              "    .colab-df-convert {\n",
              "      background-color: #E8F0FE;\n",
              "      border: none;\n",
              "      border-radius: 50%;\n",
              "      cursor: pointer;\n",
              "      display: none;\n",
              "      fill: #1967D2;\n",
              "      height: 32px;\n",
              "      padding: 0 0 0 0;\n",
              "      width: 32px;\n",
              "    }\n",
              "\n",
              "    .colab-df-convert:hover {\n",
              "      background-color: #E2EBFA;\n",
              "      box-shadow: 0px 1px 2px rgba(60, 64, 67, 0.3), 0px 1px 3px 1px rgba(60, 64, 67, 0.15);\n",
              "      fill: #174EA6;\n",
              "    }\n",
              "\n",
              "    [theme=dark] .colab-df-convert {\n",
              "      background-color: #3B4455;\n",
              "      fill: #D2E3FC;\n",
              "    }\n",
              "\n",
              "    [theme=dark] .colab-df-convert:hover {\n",
              "      background-color: #434B5C;\n",
              "      box-shadow: 0px 1px 3px 1px rgba(0, 0, 0, 0.15);\n",
              "      filter: drop-shadow(0px 1px 2px rgba(0, 0, 0, 0.3));\n",
              "      fill: #FFFFFF;\n",
              "    }\n",
              "  </style>\n",
              "\n",
              "      <script>\n",
              "        const buttonEl =\n",
              "          document.querySelector('#df-b8b8e3d5-5186-4f72-8241-db1bf00e7f9a button.colab-df-convert');\n",
              "        buttonEl.style.display =\n",
              "          google.colab.kernel.accessAllowed ? 'block' : 'none';\n",
              "\n",
              "        async function convertToInteractive(key) {\n",
              "          const element = document.querySelector('#df-b8b8e3d5-5186-4f72-8241-db1bf00e7f9a');\n",
              "          const dataTable =\n",
              "            await google.colab.kernel.invokeFunction('convertToInteractive',\n",
              "                                                     [key], {});\n",
              "          if (!dataTable) return;\n",
              "\n",
              "          const docLinkHtml = 'Like what you see? Visit the ' +\n",
              "            '<a target=\"_blank\" href=https://colab.research.google.com/notebooks/data_table.ipynb>data table notebook</a>'\n",
              "            + ' to learn more about interactive tables.';\n",
              "          element.innerHTML = '';\n",
              "          dataTable['output_type'] = 'display_data';\n",
              "          await google.colab.output.renderOutput(dataTable, element);\n",
              "          const docLink = document.createElement('div');\n",
              "          docLink.innerHTML = docLinkHtml;\n",
              "          element.appendChild(docLink);\n",
              "        }\n",
              "      </script>\n",
              "    </div>\n",
              "  </div>\n",
              "  "
            ]
          },
          "metadata": {},
          "execution_count": 33
        }
      ]
    },
    {
      "cell_type": "markdown",
      "source": [
        "1.7. Examining the observation in which the rating denominator has the highest value."
      ],
      "metadata": {
        "id": "f7NHfWWAZQyg"
      }
    },
    {
      "cell_type": "code",
      "source": [
        "# Examine the observation in which the rating denominator has the highest value.\n",
        "twitter_archive_enhanced[twitter_archive_enhanced['rating_denominator'] == twitter_archive_enhanced['rating_denominator'].max()].T"
      ],
      "metadata": {
        "colab": {
          "base_uri": "https://localhost:8080/",
          "height": 582
        },
        "id": "q_loYvw6bZTW",
        "outputId": "a9e40397-2c43-42c4-b378-054955d3f8d0"
      },
      "execution_count": null,
      "outputs": [
        {
          "output_type": "execute_result",
          "data": {
            "text/plain": [
              "                                                                         1120\n",
              "tweet_id                                                   731156023742988288\n",
              "in_reply_to_status_id                                                     NaN\n",
              "in_reply_to_user_id                                                       NaN\n",
              "timestamp                                           2016-05-13 16:15:54 +0000\n",
              "source                      <a href=\"http://twitter.com/download/iphone\" r...\n",
              "text                        Say hello to this unbelievably well behaved sq...\n",
              "retweeted_status_id                                                       NaN\n",
              "retweeted_status_user_id                                                  NaN\n",
              "retweeted_status_timestamp                                                NaN\n",
              "expanded_urls               https://twitter.com/dog_rates/status/731156023...\n",
              "rating_numerator                                                          204\n",
              "rating_denominator                                                        170\n",
              "name                                                                     this\n",
              "doggo                                                                    None\n",
              "floofer                                                                  None\n",
              "pupper                                                                   None\n",
              "puppo                                                                    None"
            ],
            "text/html": [
              "\n",
              "  <div id=\"df-f7acfcff-1327-4c7e-b08d-9631cc7ab793\">\n",
              "    <div class=\"colab-df-container\">\n",
              "      <div>\n",
              "<style scoped>\n",
              "    .dataframe tbody tr th:only-of-type {\n",
              "        vertical-align: middle;\n",
              "    }\n",
              "\n",
              "    .dataframe tbody tr th {\n",
              "        vertical-align: top;\n",
              "    }\n",
              "\n",
              "    .dataframe thead th {\n",
              "        text-align: right;\n",
              "    }\n",
              "</style>\n",
              "<table border=\"1\" class=\"dataframe\">\n",
              "  <thead>\n",
              "    <tr style=\"text-align: right;\">\n",
              "      <th></th>\n",
              "      <th>1120</th>\n",
              "    </tr>\n",
              "  </thead>\n",
              "  <tbody>\n",
              "    <tr>\n",
              "      <th>tweet_id</th>\n",
              "      <td>731156023742988288</td>\n",
              "    </tr>\n",
              "    <tr>\n",
              "      <th>in_reply_to_status_id</th>\n",
              "      <td>NaN</td>\n",
              "    </tr>\n",
              "    <tr>\n",
              "      <th>in_reply_to_user_id</th>\n",
              "      <td>NaN</td>\n",
              "    </tr>\n",
              "    <tr>\n",
              "      <th>timestamp</th>\n",
              "      <td>2016-05-13 16:15:54 +0000</td>\n",
              "    </tr>\n",
              "    <tr>\n",
              "      <th>source</th>\n",
              "      <td>&lt;a href=\"http://twitter.com/download/iphone\" r...</td>\n",
              "    </tr>\n",
              "    <tr>\n",
              "      <th>text</th>\n",
              "      <td>Say hello to this unbelievably well behaved sq...</td>\n",
              "    </tr>\n",
              "    <tr>\n",
              "      <th>retweeted_status_id</th>\n",
              "      <td>NaN</td>\n",
              "    </tr>\n",
              "    <tr>\n",
              "      <th>retweeted_status_user_id</th>\n",
              "      <td>NaN</td>\n",
              "    </tr>\n",
              "    <tr>\n",
              "      <th>retweeted_status_timestamp</th>\n",
              "      <td>NaN</td>\n",
              "    </tr>\n",
              "    <tr>\n",
              "      <th>expanded_urls</th>\n",
              "      <td>https://twitter.com/dog_rates/status/731156023...</td>\n",
              "    </tr>\n",
              "    <tr>\n",
              "      <th>rating_numerator</th>\n",
              "      <td>204</td>\n",
              "    </tr>\n",
              "    <tr>\n",
              "      <th>rating_denominator</th>\n",
              "      <td>170</td>\n",
              "    </tr>\n",
              "    <tr>\n",
              "      <th>name</th>\n",
              "      <td>this</td>\n",
              "    </tr>\n",
              "    <tr>\n",
              "      <th>doggo</th>\n",
              "      <td>None</td>\n",
              "    </tr>\n",
              "    <tr>\n",
              "      <th>floofer</th>\n",
              "      <td>None</td>\n",
              "    </tr>\n",
              "    <tr>\n",
              "      <th>pupper</th>\n",
              "      <td>None</td>\n",
              "    </tr>\n",
              "    <tr>\n",
              "      <th>puppo</th>\n",
              "      <td>None</td>\n",
              "    </tr>\n",
              "  </tbody>\n",
              "</table>\n",
              "</div>\n",
              "      <button class=\"colab-df-convert\" onclick=\"convertToInteractive('df-f7acfcff-1327-4c7e-b08d-9631cc7ab793')\"\n",
              "              title=\"Convert this dataframe to an interactive table.\"\n",
              "              style=\"display:none;\">\n",
              "        \n",
              "  <svg xmlns=\"http://www.w3.org/2000/svg\" height=\"24px\"viewBox=\"0 0 24 24\"\n",
              "       width=\"24px\">\n",
              "    <path d=\"M0 0h24v24H0V0z\" fill=\"none\"/>\n",
              "    <path d=\"M18.56 5.44l.94 2.06.94-2.06 2.06-.94-2.06-.94-.94-2.06-.94 2.06-2.06.94zm-11 1L8.5 8.5l.94-2.06 2.06-.94-2.06-.94L8.5 2.5l-.94 2.06-2.06.94zm10 10l.94 2.06.94-2.06 2.06-.94-2.06-.94-.94-2.06-.94 2.06-2.06.94z\"/><path d=\"M17.41 7.96l-1.37-1.37c-.4-.4-.92-.59-1.43-.59-.52 0-1.04.2-1.43.59L10.3 9.45l-7.72 7.72c-.78.78-.78 2.05 0 2.83L4 21.41c.39.39.9.59 1.41.59.51 0 1.02-.2 1.41-.59l7.78-7.78 2.81-2.81c.8-.78.8-2.07 0-2.86zM5.41 20L4 18.59l7.72-7.72 1.47 1.35L5.41 20z\"/>\n",
              "  </svg>\n",
              "      </button>\n",
              "      \n",
              "  <style>\n",
              "    .colab-df-container {\n",
              "      display:flex;\n",
              "      flex-wrap:wrap;\n",
              "      gap: 12px;\n",
              "    }\n",
              "\n",
              "    .colab-df-convert {\n",
              "      background-color: #E8F0FE;\n",
              "      border: none;\n",
              "      border-radius: 50%;\n",
              "      cursor: pointer;\n",
              "      display: none;\n",
              "      fill: #1967D2;\n",
              "      height: 32px;\n",
              "      padding: 0 0 0 0;\n",
              "      width: 32px;\n",
              "    }\n",
              "\n",
              "    .colab-df-convert:hover {\n",
              "      background-color: #E2EBFA;\n",
              "      box-shadow: 0px 1px 2px rgba(60, 64, 67, 0.3), 0px 1px 3px 1px rgba(60, 64, 67, 0.15);\n",
              "      fill: #174EA6;\n",
              "    }\n",
              "\n",
              "    [theme=dark] .colab-df-convert {\n",
              "      background-color: #3B4455;\n",
              "      fill: #D2E3FC;\n",
              "    }\n",
              "\n",
              "    [theme=dark] .colab-df-convert:hover {\n",
              "      background-color: #434B5C;\n",
              "      box-shadow: 0px 1px 3px 1px rgba(0, 0, 0, 0.15);\n",
              "      filter: drop-shadow(0px 1px 2px rgba(0, 0, 0, 0.3));\n",
              "      fill: #FFFFFF;\n",
              "    }\n",
              "  </style>\n",
              "\n",
              "      <script>\n",
              "        const buttonEl =\n",
              "          document.querySelector('#df-f7acfcff-1327-4c7e-b08d-9631cc7ab793 button.colab-df-convert');\n",
              "        buttonEl.style.display =\n",
              "          google.colab.kernel.accessAllowed ? 'block' : 'none';\n",
              "\n",
              "        async function convertToInteractive(key) {\n",
              "          const element = document.querySelector('#df-f7acfcff-1327-4c7e-b08d-9631cc7ab793');\n",
              "          const dataTable =\n",
              "            await google.colab.kernel.invokeFunction('convertToInteractive',\n",
              "                                                     [key], {});\n",
              "          if (!dataTable) return;\n",
              "\n",
              "          const docLinkHtml = 'Like what you see? Visit the ' +\n",
              "            '<a target=\"_blank\" href=https://colab.research.google.com/notebooks/data_table.ipynb>data table notebook</a>'\n",
              "            + ' to learn more about interactive tables.';\n",
              "          element.innerHTML = '';\n",
              "          dataTable['output_type'] = 'display_data';\n",
              "          await google.colab.output.renderOutput(dataTable, element);\n",
              "          const docLink = document.createElement('div');\n",
              "          docLink.innerHTML = docLinkHtml;\n",
              "          element.appendChild(docLink);\n",
              "        }\n",
              "      </script>\n",
              "    </div>\n",
              "  </div>\n",
              "  "
            ]
          },
          "metadata": {},
          "execution_count": 34
        }
      ]
    },
    {
      "cell_type": "markdown",
      "source": [
        "1.8. Examine the instances where the numerator rating > 20"
      ],
      "metadata": {
        "id": "Zsn4VZn0ZYfz"
      }
    },
    {
      "cell_type": "code",
      "source": [
        "# Examine the instances where the numerator rating exceeds 20\n",
        "twitter_archive_enhanced[twitter_archive_enhanced.rating_numerator > 20].T"
      ],
      "metadata": {
        "colab": {
          "base_uri": "https://localhost:8080/",
          "height": 745
        },
        "id": "AzaRgOuIa28b",
        "outputId": "e83834e8-6128-4ac6-e727-5d5a1b189daa"
      },
      "execution_count": null,
      "outputs": [
        {
          "output_type": "execute_result",
          "data": {
            "text/plain": [
              "                                                                         188   \\\n",
              "tweet_id                                                   855862651834028034   \n",
              "in_reply_to_status_id                                    855861584463351808.0   \n",
              "in_reply_to_user_id                                               194351775.0   \n",
              "timestamp                                           2017-04-22 19:15:32 +0000   \n",
              "source                      <a href=\"http://twitter.com/download/iphone\" r...   \n",
              "text                        @dhmontgomery We also gave snoop dogg a 420/10...   \n",
              "retweeted_status_id                                                       NaN   \n",
              "retweeted_status_user_id                                                  NaN   \n",
              "retweeted_status_timestamp                                                NaN   \n",
              "expanded_urls                                                             NaN   \n",
              "rating_numerator                                                          420   \n",
              "rating_denominator                                                         10   \n",
              "name                                                                     None   \n",
              "doggo                                                                    None   \n",
              "floofer                                                                  None   \n",
              "pupper                                                                   None   \n",
              "puppo                                                                    None   \n",
              "\n",
              "                                                                         189   \\\n",
              "tweet_id                                                   855860136149123072   \n",
              "in_reply_to_status_id                                    855858535607001088.0   \n",
              "in_reply_to_user_id                                                13615722.0   \n",
              "timestamp                                           2017-04-22 19:05:32 +0000   \n",
              "source                      <a href=\"http://twitter.com/download/iphone\" r...   \n",
              "text                        @s8n You tried very hard to portray this good ...   \n",
              "retweeted_status_id                                                       NaN   \n",
              "retweeted_status_user_id                                                  NaN   \n",
              "retweeted_status_timestamp                                                NaN   \n",
              "expanded_urls                                                             NaN   \n",
              "rating_numerator                                                          666   \n",
              "rating_denominator                                                         10   \n",
              "name                                                                     None   \n",
              "doggo                                                                    None   \n",
              "floofer                                                                  None   \n",
              "pupper                                                                   None   \n",
              "puppo                                                                    None   \n",
              "\n",
              "                                                                         290   \\\n",
              "tweet_id                                                   838150277551247360   \n",
              "in_reply_to_status_id                                    838145498691194880.0   \n",
              "in_reply_to_user_id                                                21955058.0   \n",
              "timestamp                                           2017-03-04 22:12:52 +0000   \n",
              "source                      <a href=\"http://twitter.com/download/iphone\" r...   \n",
              "text                                                       @markhoppus 182/10   \n",
              "retweeted_status_id                                                       NaN   \n",
              "retweeted_status_user_id                                                  NaN   \n",
              "retweeted_status_timestamp                                                NaN   \n",
              "expanded_urls                                                             NaN   \n",
              "rating_numerator                                                          182   \n",
              "rating_denominator                                                         10   \n",
              "name                                                                     None   \n",
              "doggo                                                                    None   \n",
              "floofer                                                                  None   \n",
              "pupper                                                                   None   \n",
              "puppo                                                                    None   \n",
              "\n",
              "                                                                         313   \\\n",
              "tweet_id                                                   835246439529840640   \n",
              "in_reply_to_status_id                                    835245984028504064.0   \n",
              "in_reply_to_user_id                                                26259576.0   \n",
              "timestamp                                           2017-02-24 21:54:03 +0000   \n",
              "source                      <a href=\"http://twitter.com/download/iphone\" r...   \n",
              "text                        @jonnysun @Lin_Manuel ok jomny I know you're e...   \n",
              "retweeted_status_id                                                       NaN   \n",
              "retweeted_status_user_id                                                  NaN   \n",
              "retweeted_status_timestamp                                                NaN   \n",
              "expanded_urls                                                             NaN   \n",
              "rating_numerator                                                          960   \n",
              "rating_denominator                                                          0   \n",
              "name                                                                     None   \n",
              "doggo                                                                    None   \n",
              "floofer                                                                  None   \n",
              "pupper                                                                   None   \n",
              "puppo                                                                    None   \n",
              "\n",
              "                                                                         340   \\\n",
              "tweet_id                                                   832215909146226688   \n",
              "in_reply_to_status_id                                                     NaN   \n",
              "in_reply_to_user_id                                                       NaN   \n",
              "timestamp                                           2017-02-16 13:11:49 +0000   \n",
              "source                      <a href=\"http://twitter.com/download/iphone\" r...   \n",
              "text                        RT @dog_rates: This is Logan, the Chow who liv...   \n",
              "retweeted_status_id                                      786709082849828864.0   \n",
              "retweeted_status_user_id                                         4196983835.0   \n",
              "retweeted_status_timestamp                          2016-10-13 23:23:56 +0000   \n",
              "expanded_urls               https://twitter.com/dog_rates/status/786709082...   \n",
              "rating_numerator                                                           75   \n",
              "rating_denominator                                                         10   \n",
              "name                                                                    Logan   \n",
              "doggo                                                                    None   \n",
              "floofer                                                                  None   \n",
              "pupper                                                                   None   \n",
              "puppo                                                                    None   \n",
              "\n",
              "                                                                         433   \\\n",
              "tweet_id                                                   820690176645140481   \n",
              "in_reply_to_status_id                                                     NaN   \n",
              "in_reply_to_user_id                                                       NaN   \n",
              "timestamp                                           2017-01-15 17:52:40 +0000   \n",
              "source                      <a href=\"http://twitter.com/download/iphone\" r...   \n",
              "text                        The floofs have been released I repeat the flo...   \n",
              "retweeted_status_id                                                       NaN   \n",
              "retweeted_status_user_id                                                  NaN   \n",
              "retweeted_status_timestamp                                                NaN   \n",
              "expanded_urls               https://twitter.com/dog_rates/status/820690176...   \n",
              "rating_numerator                                                           84   \n",
              "rating_denominator                                                         70   \n",
              "name                                                                     None   \n",
              "doggo                                                                    None   \n",
              "floofer                                                                  None   \n",
              "pupper                                                                   None   \n",
              "puppo                                                                    None   \n",
              "\n",
              "                                                                         516   \\\n",
              "tweet_id                                                   810984652412424192   \n",
              "in_reply_to_status_id                                                     NaN   \n",
              "in_reply_to_user_id                                                       NaN   \n",
              "timestamp                                           2016-12-19 23:06:23 +0000   \n",
              "source                      <a href=\"http://twitter.com/download/iphone\" r...   \n",
              "text                        Meet Sam. She smiles 24/7 &amp; secretly aspir...   \n",
              "retweeted_status_id                                                       NaN   \n",
              "retweeted_status_user_id                                                  NaN   \n",
              "retweeted_status_timestamp                                                NaN   \n",
              "expanded_urls               https://www.gofundme.com/sams-smile,https://tw...   \n",
              "rating_numerator                                                           24   \n",
              "rating_denominator                                                          7   \n",
              "name                                                                      Sam   \n",
              "doggo                                                                    None   \n",
              "floofer                                                                  None   \n",
              "pupper                                                                   None   \n",
              "puppo                                                                    None   \n",
              "\n",
              "                                                                         695   \\\n",
              "tweet_id                                                   786709082849828864   \n",
              "in_reply_to_status_id                                                     NaN   \n",
              "in_reply_to_user_id                                                       NaN   \n",
              "timestamp                                           2016-10-13 23:23:56 +0000   \n",
              "source                      <a href=\"http://twitter.com/download/iphone\" r...   \n",
              "text                        This is Logan, the Chow who lived. He solemnly...   \n",
              "retweeted_status_id                                                       NaN   \n",
              "retweeted_status_user_id                                                  NaN   \n",
              "retweeted_status_timestamp                                                NaN   \n",
              "expanded_urls               https://twitter.com/dog_rates/status/786709082...   \n",
              "rating_numerator                                                           75   \n",
              "rating_denominator                                                         10   \n",
              "name                                                                    Logan   \n",
              "doggo                                                                    None   \n",
              "floofer                                                                  None   \n",
              "pupper                                                                   None   \n",
              "puppo                                                                    None   \n",
              "\n",
              "                                                                         763   \\\n",
              "tweet_id                                                   778027034220126208   \n",
              "in_reply_to_status_id                                                     NaN   \n",
              "in_reply_to_user_id                                                       NaN   \n",
              "timestamp                                           2016-09-20 00:24:34 +0000   \n",
              "source                      <a href=\"http://twitter.com/download/iphone\" r...   \n",
              "text                        This is Sophie. She's a Jubilant Bush Pupper. ...   \n",
              "retweeted_status_id                                                       NaN   \n",
              "retweeted_status_user_id                                                  NaN   \n",
              "retweeted_status_timestamp                                                NaN   \n",
              "expanded_urls               https://twitter.com/dog_rates/status/778027034...   \n",
              "rating_numerator                                                           27   \n",
              "rating_denominator                                                         10   \n",
              "name                                                                   Sophie   \n",
              "doggo                                                                    None   \n",
              "floofer                                                                  None   \n",
              "pupper                                                                 pupper   \n",
              "puppo                                                                    None   \n",
              "\n",
              "                                                                         902   \\\n",
              "tweet_id                                                   758467244762497024   \n",
              "in_reply_to_status_id                                                     NaN   \n",
              "in_reply_to_user_id                                                       NaN   \n",
              "timestamp                                           2016-07-28 01:00:57 +0000   \n",
              "source                      <a href=\"http://twitter.com/download/iphone\" r...   \n",
              "text                        Why does this never happen at my front door......   \n",
              "retweeted_status_id                                                       NaN   \n",
              "retweeted_status_user_id                                                  NaN   \n",
              "retweeted_status_timestamp                                                NaN   \n",
              "expanded_urls               https://twitter.com/dog_rates/status/758467244...   \n",
              "rating_numerator                                                          165   \n",
              "rating_denominator                                                        150   \n",
              "name                                                                     None   \n",
              "doggo                                                                    None   \n",
              "floofer                                                                  None   \n",
              "pupper                                                                   None   \n",
              "puppo                                                                    None   \n",
              "\n",
              "                            ...  \\\n",
              "tweet_id                    ...   \n",
              "in_reply_to_status_id       ...   \n",
              "in_reply_to_user_id         ...   \n",
              "timestamp                   ...   \n",
              "source                      ...   \n",
              "text                        ...   \n",
              "retweeted_status_id         ...   \n",
              "retweeted_status_user_id    ...   \n",
              "retweeted_status_timestamp  ...   \n",
              "expanded_urls               ...   \n",
              "rating_numerator            ...   \n",
              "rating_denominator          ...   \n",
              "name                        ...   \n",
              "doggo                       ...   \n",
              "floofer                     ...   \n",
              "pupper                      ...   \n",
              "puppo                       ...   \n",
              "\n",
              "                                                                         1254  \\\n",
              "tweet_id                                                   710658690886586372   \n",
              "in_reply_to_status_id                                                     NaN   \n",
              "in_reply_to_user_id                                                       NaN   \n",
              "timestamp                                           2016-03-18 02:46:49 +0000   \n",
              "source                      <a href=\"http://twitter.com/download/iphone\" r...   \n",
              "text                        Here's a brigade of puppers. All look very pre...   \n",
              "retweeted_status_id                                                       NaN   \n",
              "retweeted_status_user_id                                                  NaN   \n",
              "retweeted_status_timestamp                                                NaN   \n",
              "expanded_urls               https://twitter.com/dog_rates/status/710658690...   \n",
              "rating_numerator                                                           80   \n",
              "rating_denominator                                                         80   \n",
              "name                                                                     None   \n",
              "doggo                                                                    None   \n",
              "floofer                                                                  None   \n",
              "pupper                                                                   None   \n",
              "puppo                                                                    None   \n",
              "\n",
              "                                                                         1274  \\\n",
              "tweet_id                                                   709198395643068416   \n",
              "in_reply_to_status_id                                                     NaN   \n",
              "in_reply_to_user_id                                                       NaN   \n",
              "timestamp                                           2016-03-14 02:04:08 +0000   \n",
              "source                      <a href=\"http://twitter.com/download/iphone\" r...   \n",
              "text                        From left to right:\\nCletus, Jerome, Alejandro...   \n",
              "retweeted_status_id                                                       NaN   \n",
              "retweeted_status_user_id                                                  NaN   \n",
              "retweeted_status_timestamp                                                NaN   \n",
              "expanded_urls               https://twitter.com/dog_rates/status/709198395...   \n",
              "rating_numerator                                                           45   \n",
              "rating_denominator                                                         50   \n",
              "name                                                                     None   \n",
              "doggo                                                                    None   \n",
              "floofer                                                                  None   \n",
              "pupper                                                                   None   \n",
              "puppo                                                                    None   \n",
              "\n",
              "                                                                         1351  \\\n",
              "tweet_id                                                   704054845121142784   \n",
              "in_reply_to_status_id                                                     NaN   \n",
              "in_reply_to_user_id                                                       NaN   \n",
              "timestamp                                           2016-02-28 21:25:30 +0000   \n",
              "source                      <a href=\"http://twitter.com/download/iphone\" r...   \n",
              "text                        Here is a whole flock of puppers.  60/50 I'll ...   \n",
              "retweeted_status_id                                                       NaN   \n",
              "retweeted_status_user_id                                                  NaN   \n",
              "retweeted_status_timestamp                                                NaN   \n",
              "expanded_urls               https://twitter.com/dog_rates/status/704054845...   \n",
              "rating_numerator                                                           60   \n",
              "rating_denominator                                                         50   \n",
              "name                                                                        a   \n",
              "doggo                                                                    None   \n",
              "floofer                                                                  None   \n",
              "pupper                                                                   None   \n",
              "puppo                                                                    None   \n",
              "\n",
              "                                                                         1433  \\\n",
              "tweet_id                                                   697463031882764288   \n",
              "in_reply_to_status_id                                                     NaN   \n",
              "in_reply_to_user_id                                                       NaN   \n",
              "timestamp                                           2016-02-10 16:51:59 +0000   \n",
              "source                      <a href=\"http://twitter.com/download/iphone\" r...   \n",
              "text                        Happy Wednesday here's a bucket of pups. 44/40...   \n",
              "retweeted_status_id                                                       NaN   \n",
              "retweeted_status_user_id                                                  NaN   \n",
              "retweeted_status_timestamp                                                NaN   \n",
              "expanded_urls               https://twitter.com/dog_rates/status/697463031...   \n",
              "rating_numerator                                                           44   \n",
              "rating_denominator                                                         40   \n",
              "name                                                                     None   \n",
              "doggo                                                                    None   \n",
              "floofer                                                                  None   \n",
              "pupper                                                                   None   \n",
              "puppo                                                                    None   \n",
              "\n",
              "                                                                         1634  \\\n",
              "tweet_id                                                   684225744407494656   \n",
              "in_reply_to_status_id                                    684222868335505408.0   \n",
              "in_reply_to_user_id                                              4196983835.0   \n",
              "timestamp                                           2016-01-05 04:11:44 +0000   \n",
              "source                      <a href=\"http://twitter.com/download/iphone\" r...   \n",
              "text                        Two sneaky puppers were not initially seen, mo...   \n",
              "retweeted_status_id                                                       NaN   \n",
              "retweeted_status_user_id                                                  NaN   \n",
              "retweeted_status_timestamp                                                NaN   \n",
              "expanded_urls               https://twitter.com/dog_rates/status/684225744...   \n",
              "rating_numerator                                                          143   \n",
              "rating_denominator                                                        130   \n",
              "name                                                                     None   \n",
              "doggo                                                                    None   \n",
              "floofer                                                                  None   \n",
              "pupper                                                                   None   \n",
              "puppo                                                                    None   \n",
              "\n",
              "                                                                         1635  \\\n",
              "tweet_id                                                   684222868335505415   \n",
              "in_reply_to_status_id                                                     NaN   \n",
              "in_reply_to_user_id                                                       NaN   \n",
              "timestamp                                           2016-01-05 04:00:18 +0000   \n",
              "source                      <a href=\"http://twitter.com/download/iphone\" r...   \n",
              "text                        Someone help the girl is being mugged. Several...   \n",
              "retweeted_status_id                                                       NaN   \n",
              "retweeted_status_user_id                                                  NaN   \n",
              "retweeted_status_timestamp                                                NaN   \n",
              "expanded_urls               https://twitter.com/dog_rates/status/684222868...   \n",
              "rating_numerator                                                          121   \n",
              "rating_denominator                                                        110   \n",
              "name                                                                     None   \n",
              "doggo                                                                    None   \n",
              "floofer                                                                  None   \n",
              "pupper                                                                   None   \n",
              "puppo                                                                    None   \n",
              "\n",
              "                                                                         1712  \\\n",
              "tweet_id                                                   680494726643068929   \n",
              "in_reply_to_status_id                                                     NaN   \n",
              "in_reply_to_user_id                                                       NaN   \n",
              "timestamp                                           2015-12-25 21:06:00 +0000   \n",
              "source                      <a href=\"http://twitter.com/download/iphone\" r...   \n",
              "text                        Here we have uncovered an entire battalion of ...   \n",
              "retweeted_status_id                                                       NaN   \n",
              "retweeted_status_user_id                                                  NaN   \n",
              "retweeted_status_timestamp                                                NaN   \n",
              "expanded_urls               https://twitter.com/dog_rates/status/680494726...   \n",
              "rating_numerator                                                           26   \n",
              "rating_denominator                                                         10   \n",
              "name                                                                     None   \n",
              "doggo                                                                    None   \n",
              "floofer                                                                  None   \n",
              "pupper                                                                   None   \n",
              "puppo                                                                    None   \n",
              "\n",
              "                                                                         1779  \\\n",
              "tweet_id                                                   677716515794329600   \n",
              "in_reply_to_status_id                                                     NaN   \n",
              "in_reply_to_user_id                                                       NaN   \n",
              "timestamp                                           2015-12-18 05:06:23 +0000   \n",
              "source                      <a href=\"http://twitter.com/download/iphone\" r...   \n",
              "text                        IT'S PUPPERGEDDON. Total of 144/120 ...I think...   \n",
              "retweeted_status_id                                                       NaN   \n",
              "retweeted_status_user_id                                                  NaN   \n",
              "retweeted_status_timestamp                                                NaN   \n",
              "expanded_urls               https://twitter.com/dog_rates/status/677716515...   \n",
              "rating_numerator                                                          144   \n",
              "rating_denominator                                                        120   \n",
              "name                                                                     None   \n",
              "doggo                                                                    None   \n",
              "floofer                                                                  None   \n",
              "pupper                                                                   None   \n",
              "puppo                                                                    None   \n",
              "\n",
              "                                                                         1843  \\\n",
              "tweet_id                                                   675853064436391936   \n",
              "in_reply_to_status_id                                                     NaN   \n",
              "in_reply_to_user_id                                                       NaN   \n",
              "timestamp                                           2015-12-13 01:41:41 +0000   \n",
              "source                      <a href=\"http://twitter.com/download/iphone\" r...   \n",
              "text                        Here we have an entire platoon of puppers. Tot...   \n",
              "retweeted_status_id                                                       NaN   \n",
              "retweeted_status_user_id                                                  NaN   \n",
              "retweeted_status_timestamp                                                NaN   \n",
              "expanded_urls               https://twitter.com/dog_rates/status/675853064...   \n",
              "rating_numerator                                                           88   \n",
              "rating_denominator                                                         80   \n",
              "name                                                                     None   \n",
              "doggo                                                                    None   \n",
              "floofer                                                                  None   \n",
              "pupper                                                                   None   \n",
              "puppo                                                                    None   \n",
              "\n",
              "                                                                         2074  \n",
              "tweet_id                                                   670842764863651840  \n",
              "in_reply_to_status_id                                                     NaN  \n",
              "in_reply_to_user_id                                                       NaN  \n",
              "timestamp                                           2015-11-29 05:52:33 +0000  \n",
              "source                      <a href=\"http://twitter.com/download/iphone\" r...  \n",
              "text                        After so many requests... here you go.\\n\\nGood...  \n",
              "retweeted_status_id                                                       NaN  \n",
              "retweeted_status_user_id                                                  NaN  \n",
              "retweeted_status_timestamp                                                NaN  \n",
              "expanded_urls               https://twitter.com/dog_rates/status/670842764...  \n",
              "rating_numerator                                                          420  \n",
              "rating_denominator                                                         10  \n",
              "name                                                                     None  \n",
              "doggo                                                                    None  \n",
              "floofer                                                                  None  \n",
              "pupper                                                                   None  \n",
              "puppo                                                                    None  \n",
              "\n",
              "[17 rows x 24 columns]"
            ],
            "text/html": [
              "\n",
              "  <div id=\"df-028a863a-693d-438f-a416-f155c8e5d9a3\">\n",
              "    <div class=\"colab-df-container\">\n",
              "      <div>\n",
              "<style scoped>\n",
              "    .dataframe tbody tr th:only-of-type {\n",
              "        vertical-align: middle;\n",
              "    }\n",
              "\n",
              "    .dataframe tbody tr th {\n",
              "        vertical-align: top;\n",
              "    }\n",
              "\n",
              "    .dataframe thead th {\n",
              "        text-align: right;\n",
              "    }\n",
              "</style>\n",
              "<table border=\"1\" class=\"dataframe\">\n",
              "  <thead>\n",
              "    <tr style=\"text-align: right;\">\n",
              "      <th></th>\n",
              "      <th>188</th>\n",
              "      <th>189</th>\n",
              "      <th>290</th>\n",
              "      <th>313</th>\n",
              "      <th>340</th>\n",
              "      <th>433</th>\n",
              "      <th>516</th>\n",
              "      <th>695</th>\n",
              "      <th>763</th>\n",
              "      <th>902</th>\n",
              "      <th>...</th>\n",
              "      <th>1254</th>\n",
              "      <th>1274</th>\n",
              "      <th>1351</th>\n",
              "      <th>1433</th>\n",
              "      <th>1634</th>\n",
              "      <th>1635</th>\n",
              "      <th>1712</th>\n",
              "      <th>1779</th>\n",
              "      <th>1843</th>\n",
              "      <th>2074</th>\n",
              "    </tr>\n",
              "  </thead>\n",
              "  <tbody>\n",
              "    <tr>\n",
              "      <th>tweet_id</th>\n",
              "      <td>855862651834028034</td>\n",
              "      <td>855860136149123072</td>\n",
              "      <td>838150277551247360</td>\n",
              "      <td>835246439529840640</td>\n",
              "      <td>832215909146226688</td>\n",
              "      <td>820690176645140481</td>\n",
              "      <td>810984652412424192</td>\n",
              "      <td>786709082849828864</td>\n",
              "      <td>778027034220126208</td>\n",
              "      <td>758467244762497024</td>\n",
              "      <td>...</td>\n",
              "      <td>710658690886586372</td>\n",
              "      <td>709198395643068416</td>\n",
              "      <td>704054845121142784</td>\n",
              "      <td>697463031882764288</td>\n",
              "      <td>684225744407494656</td>\n",
              "      <td>684222868335505415</td>\n",
              "      <td>680494726643068929</td>\n",
              "      <td>677716515794329600</td>\n",
              "      <td>675853064436391936</td>\n",
              "      <td>670842764863651840</td>\n",
              "    </tr>\n",
              "    <tr>\n",
              "      <th>in_reply_to_status_id</th>\n",
              "      <td>855861584463351808.0</td>\n",
              "      <td>855858535607001088.0</td>\n",
              "      <td>838145498691194880.0</td>\n",
              "      <td>835245984028504064.0</td>\n",
              "      <td>NaN</td>\n",
              "      <td>NaN</td>\n",
              "      <td>NaN</td>\n",
              "      <td>NaN</td>\n",
              "      <td>NaN</td>\n",
              "      <td>NaN</td>\n",
              "      <td>...</td>\n",
              "      <td>NaN</td>\n",
              "      <td>NaN</td>\n",
              "      <td>NaN</td>\n",
              "      <td>NaN</td>\n",
              "      <td>684222868335505408.0</td>\n",
              "      <td>NaN</td>\n",
              "      <td>NaN</td>\n",
              "      <td>NaN</td>\n",
              "      <td>NaN</td>\n",
              "      <td>NaN</td>\n",
              "    </tr>\n",
              "    <tr>\n",
              "      <th>in_reply_to_user_id</th>\n",
              "      <td>194351775.0</td>\n",
              "      <td>13615722.0</td>\n",
              "      <td>21955058.0</td>\n",
              "      <td>26259576.0</td>\n",
              "      <td>NaN</td>\n",
              "      <td>NaN</td>\n",
              "      <td>NaN</td>\n",
              "      <td>NaN</td>\n",
              "      <td>NaN</td>\n",
              "      <td>NaN</td>\n",
              "      <td>...</td>\n",
              "      <td>NaN</td>\n",
              "      <td>NaN</td>\n",
              "      <td>NaN</td>\n",
              "      <td>NaN</td>\n",
              "      <td>4196983835.0</td>\n",
              "      <td>NaN</td>\n",
              "      <td>NaN</td>\n",
              "      <td>NaN</td>\n",
              "      <td>NaN</td>\n",
              "      <td>NaN</td>\n",
              "    </tr>\n",
              "    <tr>\n",
              "      <th>timestamp</th>\n",
              "      <td>2017-04-22 19:15:32 +0000</td>\n",
              "      <td>2017-04-22 19:05:32 +0000</td>\n",
              "      <td>2017-03-04 22:12:52 +0000</td>\n",
              "      <td>2017-02-24 21:54:03 +0000</td>\n",
              "      <td>2017-02-16 13:11:49 +0000</td>\n",
              "      <td>2017-01-15 17:52:40 +0000</td>\n",
              "      <td>2016-12-19 23:06:23 +0000</td>\n",
              "      <td>2016-10-13 23:23:56 +0000</td>\n",
              "      <td>2016-09-20 00:24:34 +0000</td>\n",
              "      <td>2016-07-28 01:00:57 +0000</td>\n",
              "      <td>...</td>\n",
              "      <td>2016-03-18 02:46:49 +0000</td>\n",
              "      <td>2016-03-14 02:04:08 +0000</td>\n",
              "      <td>2016-02-28 21:25:30 +0000</td>\n",
              "      <td>2016-02-10 16:51:59 +0000</td>\n",
              "      <td>2016-01-05 04:11:44 +0000</td>\n",
              "      <td>2016-01-05 04:00:18 +0000</td>\n",
              "      <td>2015-12-25 21:06:00 +0000</td>\n",
              "      <td>2015-12-18 05:06:23 +0000</td>\n",
              "      <td>2015-12-13 01:41:41 +0000</td>\n",
              "      <td>2015-11-29 05:52:33 +0000</td>\n",
              "    </tr>\n",
              "    <tr>\n",
              "      <th>source</th>\n",
              "      <td>&lt;a href=\"http://twitter.com/download/iphone\" r...</td>\n",
              "      <td>&lt;a href=\"http://twitter.com/download/iphone\" r...</td>\n",
              "      <td>&lt;a href=\"http://twitter.com/download/iphone\" r...</td>\n",
              "      <td>&lt;a href=\"http://twitter.com/download/iphone\" r...</td>\n",
              "      <td>&lt;a href=\"http://twitter.com/download/iphone\" r...</td>\n",
              "      <td>&lt;a href=\"http://twitter.com/download/iphone\" r...</td>\n",
              "      <td>&lt;a href=\"http://twitter.com/download/iphone\" r...</td>\n",
              "      <td>&lt;a href=\"http://twitter.com/download/iphone\" r...</td>\n",
              "      <td>&lt;a href=\"http://twitter.com/download/iphone\" r...</td>\n",
              "      <td>&lt;a href=\"http://twitter.com/download/iphone\" r...</td>\n",
              "      <td>...</td>\n",
              "      <td>&lt;a href=\"http://twitter.com/download/iphone\" r...</td>\n",
              "      <td>&lt;a href=\"http://twitter.com/download/iphone\" r...</td>\n",
              "      <td>&lt;a href=\"http://twitter.com/download/iphone\" r...</td>\n",
              "      <td>&lt;a href=\"http://twitter.com/download/iphone\" r...</td>\n",
              "      <td>&lt;a href=\"http://twitter.com/download/iphone\" r...</td>\n",
              "      <td>&lt;a href=\"http://twitter.com/download/iphone\" r...</td>\n",
              "      <td>&lt;a href=\"http://twitter.com/download/iphone\" r...</td>\n",
              "      <td>&lt;a href=\"http://twitter.com/download/iphone\" r...</td>\n",
              "      <td>&lt;a href=\"http://twitter.com/download/iphone\" r...</td>\n",
              "      <td>&lt;a href=\"http://twitter.com/download/iphone\" r...</td>\n",
              "    </tr>\n",
              "    <tr>\n",
              "      <th>text</th>\n",
              "      <td>@dhmontgomery We also gave snoop dogg a 420/10...</td>\n",
              "      <td>@s8n You tried very hard to portray this good ...</td>\n",
              "      <td>@markhoppus 182/10</td>\n",
              "      <td>@jonnysun @Lin_Manuel ok jomny I know you're e...</td>\n",
              "      <td>RT @dog_rates: This is Logan, the Chow who liv...</td>\n",
              "      <td>The floofs have been released I repeat the flo...</td>\n",
              "      <td>Meet Sam. She smiles 24/7 &amp;amp; secretly aspir...</td>\n",
              "      <td>This is Logan, the Chow who lived. He solemnly...</td>\n",
              "      <td>This is Sophie. She's a Jubilant Bush Pupper. ...</td>\n",
              "      <td>Why does this never happen at my front door......</td>\n",
              "      <td>...</td>\n",
              "      <td>Here's a brigade of puppers. All look very pre...</td>\n",
              "      <td>From left to right:\\nCletus, Jerome, Alejandro...</td>\n",
              "      <td>Here is a whole flock of puppers.  60/50 I'll ...</td>\n",
              "      <td>Happy Wednesday here's a bucket of pups. 44/40...</td>\n",
              "      <td>Two sneaky puppers were not initially seen, mo...</td>\n",
              "      <td>Someone help the girl is being mugged. Several...</td>\n",
              "      <td>Here we have uncovered an entire battalion of ...</td>\n",
              "      <td>IT'S PUPPERGEDDON. Total of 144/120 ...I think...</td>\n",
              "      <td>Here we have an entire platoon of puppers. Tot...</td>\n",
              "      <td>After so many requests... here you go.\\n\\nGood...</td>\n",
              "    </tr>\n",
              "    <tr>\n",
              "      <th>retweeted_status_id</th>\n",
              "      <td>NaN</td>\n",
              "      <td>NaN</td>\n",
              "      <td>NaN</td>\n",
              "      <td>NaN</td>\n",
              "      <td>786709082849828864.0</td>\n",
              "      <td>NaN</td>\n",
              "      <td>NaN</td>\n",
              "      <td>NaN</td>\n",
              "      <td>NaN</td>\n",
              "      <td>NaN</td>\n",
              "      <td>...</td>\n",
              "      <td>NaN</td>\n",
              "      <td>NaN</td>\n",
              "      <td>NaN</td>\n",
              "      <td>NaN</td>\n",
              "      <td>NaN</td>\n",
              "      <td>NaN</td>\n",
              "      <td>NaN</td>\n",
              "      <td>NaN</td>\n",
              "      <td>NaN</td>\n",
              "      <td>NaN</td>\n",
              "    </tr>\n",
              "    <tr>\n",
              "      <th>retweeted_status_user_id</th>\n",
              "      <td>NaN</td>\n",
              "      <td>NaN</td>\n",
              "      <td>NaN</td>\n",
              "      <td>NaN</td>\n",
              "      <td>4196983835.0</td>\n",
              "      <td>NaN</td>\n",
              "      <td>NaN</td>\n",
              "      <td>NaN</td>\n",
              "      <td>NaN</td>\n",
              "      <td>NaN</td>\n",
              "      <td>...</td>\n",
              "      <td>NaN</td>\n",
              "      <td>NaN</td>\n",
              "      <td>NaN</td>\n",
              "      <td>NaN</td>\n",
              "      <td>NaN</td>\n",
              "      <td>NaN</td>\n",
              "      <td>NaN</td>\n",
              "      <td>NaN</td>\n",
              "      <td>NaN</td>\n",
              "      <td>NaN</td>\n",
              "    </tr>\n",
              "    <tr>\n",
              "      <th>retweeted_status_timestamp</th>\n",
              "      <td>NaN</td>\n",
              "      <td>NaN</td>\n",
              "      <td>NaN</td>\n",
              "      <td>NaN</td>\n",
              "      <td>2016-10-13 23:23:56 +0000</td>\n",
              "      <td>NaN</td>\n",
              "      <td>NaN</td>\n",
              "      <td>NaN</td>\n",
              "      <td>NaN</td>\n",
              "      <td>NaN</td>\n",
              "      <td>...</td>\n",
              "      <td>NaN</td>\n",
              "      <td>NaN</td>\n",
              "      <td>NaN</td>\n",
              "      <td>NaN</td>\n",
              "      <td>NaN</td>\n",
              "      <td>NaN</td>\n",
              "      <td>NaN</td>\n",
              "      <td>NaN</td>\n",
              "      <td>NaN</td>\n",
              "      <td>NaN</td>\n",
              "    </tr>\n",
              "    <tr>\n",
              "      <th>expanded_urls</th>\n",
              "      <td>NaN</td>\n",
              "      <td>NaN</td>\n",
              "      <td>NaN</td>\n",
              "      <td>NaN</td>\n",
              "      <td>https://twitter.com/dog_rates/status/786709082...</td>\n",
              "      <td>https://twitter.com/dog_rates/status/820690176...</td>\n",
              "      <td>https://www.gofundme.com/sams-smile,https://tw...</td>\n",
              "      <td>https://twitter.com/dog_rates/status/786709082...</td>\n",
              "      <td>https://twitter.com/dog_rates/status/778027034...</td>\n",
              "      <td>https://twitter.com/dog_rates/status/758467244...</td>\n",
              "      <td>...</td>\n",
              "      <td>https://twitter.com/dog_rates/status/710658690...</td>\n",
              "      <td>https://twitter.com/dog_rates/status/709198395...</td>\n",
              "      <td>https://twitter.com/dog_rates/status/704054845...</td>\n",
              "      <td>https://twitter.com/dog_rates/status/697463031...</td>\n",
              "      <td>https://twitter.com/dog_rates/status/684225744...</td>\n",
              "      <td>https://twitter.com/dog_rates/status/684222868...</td>\n",
              "      <td>https://twitter.com/dog_rates/status/680494726...</td>\n",
              "      <td>https://twitter.com/dog_rates/status/677716515...</td>\n",
              "      <td>https://twitter.com/dog_rates/status/675853064...</td>\n",
              "      <td>https://twitter.com/dog_rates/status/670842764...</td>\n",
              "    </tr>\n",
              "    <tr>\n",
              "      <th>rating_numerator</th>\n",
              "      <td>420</td>\n",
              "      <td>666</td>\n",
              "      <td>182</td>\n",
              "      <td>960</td>\n",
              "      <td>75</td>\n",
              "      <td>84</td>\n",
              "      <td>24</td>\n",
              "      <td>75</td>\n",
              "      <td>27</td>\n",
              "      <td>165</td>\n",
              "      <td>...</td>\n",
              "      <td>80</td>\n",
              "      <td>45</td>\n",
              "      <td>60</td>\n",
              "      <td>44</td>\n",
              "      <td>143</td>\n",
              "      <td>121</td>\n",
              "      <td>26</td>\n",
              "      <td>144</td>\n",
              "      <td>88</td>\n",
              "      <td>420</td>\n",
              "    </tr>\n",
              "    <tr>\n",
              "      <th>rating_denominator</th>\n",
              "      <td>10</td>\n",
              "      <td>10</td>\n",
              "      <td>10</td>\n",
              "      <td>0</td>\n",
              "      <td>10</td>\n",
              "      <td>70</td>\n",
              "      <td>7</td>\n",
              "      <td>10</td>\n",
              "      <td>10</td>\n",
              "      <td>150</td>\n",
              "      <td>...</td>\n",
              "      <td>80</td>\n",
              "      <td>50</td>\n",
              "      <td>50</td>\n",
              "      <td>40</td>\n",
              "      <td>130</td>\n",
              "      <td>110</td>\n",
              "      <td>10</td>\n",
              "      <td>120</td>\n",
              "      <td>80</td>\n",
              "      <td>10</td>\n",
              "    </tr>\n",
              "    <tr>\n",
              "      <th>name</th>\n",
              "      <td>None</td>\n",
              "      <td>None</td>\n",
              "      <td>None</td>\n",
              "      <td>None</td>\n",
              "      <td>Logan</td>\n",
              "      <td>None</td>\n",
              "      <td>Sam</td>\n",
              "      <td>Logan</td>\n",
              "      <td>Sophie</td>\n",
              "      <td>None</td>\n",
              "      <td>...</td>\n",
              "      <td>None</td>\n",
              "      <td>None</td>\n",
              "      <td>a</td>\n",
              "      <td>None</td>\n",
              "      <td>None</td>\n",
              "      <td>None</td>\n",
              "      <td>None</td>\n",
              "      <td>None</td>\n",
              "      <td>None</td>\n",
              "      <td>None</td>\n",
              "    </tr>\n",
              "    <tr>\n",
              "      <th>doggo</th>\n",
              "      <td>None</td>\n",
              "      <td>None</td>\n",
              "      <td>None</td>\n",
              "      <td>None</td>\n",
              "      <td>None</td>\n",
              "      <td>None</td>\n",
              "      <td>None</td>\n",
              "      <td>None</td>\n",
              "      <td>None</td>\n",
              "      <td>None</td>\n",
              "      <td>...</td>\n",
              "      <td>None</td>\n",
              "      <td>None</td>\n",
              "      <td>None</td>\n",
              "      <td>None</td>\n",
              "      <td>None</td>\n",
              "      <td>None</td>\n",
              "      <td>None</td>\n",
              "      <td>None</td>\n",
              "      <td>None</td>\n",
              "      <td>None</td>\n",
              "    </tr>\n",
              "    <tr>\n",
              "      <th>floofer</th>\n",
              "      <td>None</td>\n",
              "      <td>None</td>\n",
              "      <td>None</td>\n",
              "      <td>None</td>\n",
              "      <td>None</td>\n",
              "      <td>None</td>\n",
              "      <td>None</td>\n",
              "      <td>None</td>\n",
              "      <td>None</td>\n",
              "      <td>None</td>\n",
              "      <td>...</td>\n",
              "      <td>None</td>\n",
              "      <td>None</td>\n",
              "      <td>None</td>\n",
              "      <td>None</td>\n",
              "      <td>None</td>\n",
              "      <td>None</td>\n",
              "      <td>None</td>\n",
              "      <td>None</td>\n",
              "      <td>None</td>\n",
              "      <td>None</td>\n",
              "    </tr>\n",
              "    <tr>\n",
              "      <th>pupper</th>\n",
              "      <td>None</td>\n",
              "      <td>None</td>\n",
              "      <td>None</td>\n",
              "      <td>None</td>\n",
              "      <td>None</td>\n",
              "      <td>None</td>\n",
              "      <td>None</td>\n",
              "      <td>None</td>\n",
              "      <td>pupper</td>\n",
              "      <td>None</td>\n",
              "      <td>...</td>\n",
              "      <td>None</td>\n",
              "      <td>None</td>\n",
              "      <td>None</td>\n",
              "      <td>None</td>\n",
              "      <td>None</td>\n",
              "      <td>None</td>\n",
              "      <td>None</td>\n",
              "      <td>None</td>\n",
              "      <td>None</td>\n",
              "      <td>None</td>\n",
              "    </tr>\n",
              "    <tr>\n",
              "      <th>puppo</th>\n",
              "      <td>None</td>\n",
              "      <td>None</td>\n",
              "      <td>None</td>\n",
              "      <td>None</td>\n",
              "      <td>None</td>\n",
              "      <td>None</td>\n",
              "      <td>None</td>\n",
              "      <td>None</td>\n",
              "      <td>None</td>\n",
              "      <td>None</td>\n",
              "      <td>...</td>\n",
              "      <td>None</td>\n",
              "      <td>None</td>\n",
              "      <td>None</td>\n",
              "      <td>None</td>\n",
              "      <td>None</td>\n",
              "      <td>None</td>\n",
              "      <td>None</td>\n",
              "      <td>None</td>\n",
              "      <td>None</td>\n",
              "      <td>None</td>\n",
              "    </tr>\n",
              "  </tbody>\n",
              "</table>\n",
              "<p>17 rows × 24 columns</p>\n",
              "</div>\n",
              "      <button class=\"colab-df-convert\" onclick=\"convertToInteractive('df-028a863a-693d-438f-a416-f155c8e5d9a3')\"\n",
              "              title=\"Convert this dataframe to an interactive table.\"\n",
              "              style=\"display:none;\">\n",
              "        \n",
              "  <svg xmlns=\"http://www.w3.org/2000/svg\" height=\"24px\"viewBox=\"0 0 24 24\"\n",
              "       width=\"24px\">\n",
              "    <path d=\"M0 0h24v24H0V0z\" fill=\"none\"/>\n",
              "    <path d=\"M18.56 5.44l.94 2.06.94-2.06 2.06-.94-2.06-.94-.94-2.06-.94 2.06-2.06.94zm-11 1L8.5 8.5l.94-2.06 2.06-.94-2.06-.94L8.5 2.5l-.94 2.06-2.06.94zm10 10l.94 2.06.94-2.06 2.06-.94-2.06-.94-.94-2.06-.94 2.06-2.06.94z\"/><path d=\"M17.41 7.96l-1.37-1.37c-.4-.4-.92-.59-1.43-.59-.52 0-1.04.2-1.43.59L10.3 9.45l-7.72 7.72c-.78.78-.78 2.05 0 2.83L4 21.41c.39.39.9.59 1.41.59.51 0 1.02-.2 1.41-.59l7.78-7.78 2.81-2.81c.8-.78.8-2.07 0-2.86zM5.41 20L4 18.59l7.72-7.72 1.47 1.35L5.41 20z\"/>\n",
              "  </svg>\n",
              "      </button>\n",
              "      \n",
              "  <style>\n",
              "    .colab-df-container {\n",
              "      display:flex;\n",
              "      flex-wrap:wrap;\n",
              "      gap: 12px;\n",
              "    }\n",
              "\n",
              "    .colab-df-convert {\n",
              "      background-color: #E8F0FE;\n",
              "      border: none;\n",
              "      border-radius: 50%;\n",
              "      cursor: pointer;\n",
              "      display: none;\n",
              "      fill: #1967D2;\n",
              "      height: 32px;\n",
              "      padding: 0 0 0 0;\n",
              "      width: 32px;\n",
              "    }\n",
              "\n",
              "    .colab-df-convert:hover {\n",
              "      background-color: #E2EBFA;\n",
              "      box-shadow: 0px 1px 2px rgba(60, 64, 67, 0.3), 0px 1px 3px 1px rgba(60, 64, 67, 0.15);\n",
              "      fill: #174EA6;\n",
              "    }\n",
              "\n",
              "    [theme=dark] .colab-df-convert {\n",
              "      background-color: #3B4455;\n",
              "      fill: #D2E3FC;\n",
              "    }\n",
              "\n",
              "    [theme=dark] .colab-df-convert:hover {\n",
              "      background-color: #434B5C;\n",
              "      box-shadow: 0px 1px 3px 1px rgba(0, 0, 0, 0.15);\n",
              "      filter: drop-shadow(0px 1px 2px rgba(0, 0, 0, 0.3));\n",
              "      fill: #FFFFFF;\n",
              "    }\n",
              "  </style>\n",
              "\n",
              "      <script>\n",
              "        const buttonEl =\n",
              "          document.querySelector('#df-028a863a-693d-438f-a416-f155c8e5d9a3 button.colab-df-convert');\n",
              "        buttonEl.style.display =\n",
              "          google.colab.kernel.accessAllowed ? 'block' : 'none';\n",
              "\n",
              "        async function convertToInteractive(key) {\n",
              "          const element = document.querySelector('#df-028a863a-693d-438f-a416-f155c8e5d9a3');\n",
              "          const dataTable =\n",
              "            await google.colab.kernel.invokeFunction('convertToInteractive',\n",
              "                                                     [key], {});\n",
              "          if (!dataTable) return;\n",
              "\n",
              "          const docLinkHtml = 'Like what you see? Visit the ' +\n",
              "            '<a target=\"_blank\" href=https://colab.research.google.com/notebooks/data_table.ipynb>data table notebook</a>'\n",
              "            + ' to learn more about interactive tables.';\n",
              "          element.innerHTML = '';\n",
              "          dataTable['output_type'] = 'display_data';\n",
              "          await google.colab.output.renderOutput(dataTable, element);\n",
              "          const docLink = document.createElement('div');\n",
              "          docLink.innerHTML = docLinkHtml;\n",
              "          element.appendChild(docLink);\n",
              "        }\n",
              "      </script>\n",
              "    </div>\n",
              "  </div>\n",
              "  "
            ]
          },
          "metadata": {},
          "execution_count": 35
        }
      ]
    },
    {
      "cell_type": "markdown",
      "source": [
        "1.9. Checking for duplicated tweet ids"
      ],
      "metadata": {
        "id": "fgBwtYYhZmt6"
      }
    },
    {
      "cell_type": "code",
      "source": [
        "twitter_archive_enhanced[twitter_archive_enhanced['tweet_id'].duplicated()]"
      ],
      "metadata": {
        "colab": {
          "base_uri": "https://localhost:8080/",
          "height": 113
        },
        "id": "lcsPM3zAGfYC",
        "outputId": "63ce0869-f391-46e0-b1d7-0917ec780476"
      },
      "execution_count": null,
      "outputs": [
        {
          "output_type": "execute_result",
          "data": {
            "text/plain": [
              "Empty DataFrame\n",
              "Columns: [tweet_id, in_reply_to_status_id, in_reply_to_user_id, timestamp, source, text, retweeted_status_id, retweeted_status_user_id, retweeted_status_timestamp, expanded_urls, rating_numerator, rating_denominator, name, doggo, floofer, pupper, puppo]\n",
              "Index: []"
            ],
            "text/html": [
              "\n",
              "  <div id=\"df-79d5ef66-371a-4d6f-ae1f-0da137229650\">\n",
              "    <div class=\"colab-df-container\">\n",
              "      <div>\n",
              "<style scoped>\n",
              "    .dataframe tbody tr th:only-of-type {\n",
              "        vertical-align: middle;\n",
              "    }\n",
              "\n",
              "    .dataframe tbody tr th {\n",
              "        vertical-align: top;\n",
              "    }\n",
              "\n",
              "    .dataframe thead th {\n",
              "        text-align: right;\n",
              "    }\n",
              "</style>\n",
              "<table border=\"1\" class=\"dataframe\">\n",
              "  <thead>\n",
              "    <tr style=\"text-align: right;\">\n",
              "      <th></th>\n",
              "      <th>tweet_id</th>\n",
              "      <th>in_reply_to_status_id</th>\n",
              "      <th>in_reply_to_user_id</th>\n",
              "      <th>timestamp</th>\n",
              "      <th>source</th>\n",
              "      <th>text</th>\n",
              "      <th>retweeted_status_id</th>\n",
              "      <th>retweeted_status_user_id</th>\n",
              "      <th>retweeted_status_timestamp</th>\n",
              "      <th>expanded_urls</th>\n",
              "      <th>rating_numerator</th>\n",
              "      <th>rating_denominator</th>\n",
              "      <th>name</th>\n",
              "      <th>doggo</th>\n",
              "      <th>floofer</th>\n",
              "      <th>pupper</th>\n",
              "      <th>puppo</th>\n",
              "    </tr>\n",
              "  </thead>\n",
              "  <tbody>\n",
              "  </tbody>\n",
              "</table>\n",
              "</div>\n",
              "      <button class=\"colab-df-convert\" onclick=\"convertToInteractive('df-79d5ef66-371a-4d6f-ae1f-0da137229650')\"\n",
              "              title=\"Convert this dataframe to an interactive table.\"\n",
              "              style=\"display:none;\">\n",
              "        \n",
              "  <svg xmlns=\"http://www.w3.org/2000/svg\" height=\"24px\"viewBox=\"0 0 24 24\"\n",
              "       width=\"24px\">\n",
              "    <path d=\"M0 0h24v24H0V0z\" fill=\"none\"/>\n",
              "    <path d=\"M18.56 5.44l.94 2.06.94-2.06 2.06-.94-2.06-.94-.94-2.06-.94 2.06-2.06.94zm-11 1L8.5 8.5l.94-2.06 2.06-.94-2.06-.94L8.5 2.5l-.94 2.06-2.06.94zm10 10l.94 2.06.94-2.06 2.06-.94-2.06-.94-.94-2.06-.94 2.06-2.06.94z\"/><path d=\"M17.41 7.96l-1.37-1.37c-.4-.4-.92-.59-1.43-.59-.52 0-1.04.2-1.43.59L10.3 9.45l-7.72 7.72c-.78.78-.78 2.05 0 2.83L4 21.41c.39.39.9.59 1.41.59.51 0 1.02-.2 1.41-.59l7.78-7.78 2.81-2.81c.8-.78.8-2.07 0-2.86zM5.41 20L4 18.59l7.72-7.72 1.47 1.35L5.41 20z\"/>\n",
              "  </svg>\n",
              "      </button>\n",
              "      \n",
              "  <style>\n",
              "    .colab-df-container {\n",
              "      display:flex;\n",
              "      flex-wrap:wrap;\n",
              "      gap: 12px;\n",
              "    }\n",
              "\n",
              "    .colab-df-convert {\n",
              "      background-color: #E8F0FE;\n",
              "      border: none;\n",
              "      border-radius: 50%;\n",
              "      cursor: pointer;\n",
              "      display: none;\n",
              "      fill: #1967D2;\n",
              "      height: 32px;\n",
              "      padding: 0 0 0 0;\n",
              "      width: 32px;\n",
              "    }\n",
              "\n",
              "    .colab-df-convert:hover {\n",
              "      background-color: #E2EBFA;\n",
              "      box-shadow: 0px 1px 2px rgba(60, 64, 67, 0.3), 0px 1px 3px 1px rgba(60, 64, 67, 0.15);\n",
              "      fill: #174EA6;\n",
              "    }\n",
              "\n",
              "    [theme=dark] .colab-df-convert {\n",
              "      background-color: #3B4455;\n",
              "      fill: #D2E3FC;\n",
              "    }\n",
              "\n",
              "    [theme=dark] .colab-df-convert:hover {\n",
              "      background-color: #434B5C;\n",
              "      box-shadow: 0px 1px 3px 1px rgba(0, 0, 0, 0.15);\n",
              "      filter: drop-shadow(0px 1px 2px rgba(0, 0, 0, 0.3));\n",
              "      fill: #FFFFFF;\n",
              "    }\n",
              "  </style>\n",
              "\n",
              "      <script>\n",
              "        const buttonEl =\n",
              "          document.querySelector('#df-79d5ef66-371a-4d6f-ae1f-0da137229650 button.colab-df-convert');\n",
              "        buttonEl.style.display =\n",
              "          google.colab.kernel.accessAllowed ? 'block' : 'none';\n",
              "\n",
              "        async function convertToInteractive(key) {\n",
              "          const element = document.querySelector('#df-79d5ef66-371a-4d6f-ae1f-0da137229650');\n",
              "          const dataTable =\n",
              "            await google.colab.kernel.invokeFunction('convertToInteractive',\n",
              "                                                     [key], {});\n",
              "          if (!dataTable) return;\n",
              "\n",
              "          const docLinkHtml = 'Like what you see? Visit the ' +\n",
              "            '<a target=\"_blank\" href=https://colab.research.google.com/notebooks/data_table.ipynb>data table notebook</a>'\n",
              "            + ' to learn more about interactive tables.';\n",
              "          element.innerHTML = '';\n",
              "          dataTable['output_type'] = 'display_data';\n",
              "          await google.colab.output.renderOutput(dataTable, element);\n",
              "          const docLink = document.createElement('div');\n",
              "          docLink.innerHTML = docLinkHtml;\n",
              "          element.appendChild(docLink);\n",
              "        }\n",
              "      </script>\n",
              "    </div>\n",
              "  </div>\n",
              "  "
            ]
          },
          "metadata": {},
          "execution_count": 36
        }
      ]
    },
    {
      "cell_type": "markdown",
      "source": [
        "- There are no duplicate tweetids"
      ],
      "metadata": {
        "id": "R8ytRgJQZ31N"
      }
    },
    {
      "cell_type": "markdown",
      "source": [
        "### 2. image predictions"
      ],
      "metadata": {
        "id": "s7-J0_aYHBsx"
      }
    },
    {
      "cell_type": "code",
      "source": [
        "image_predictions.head(3)"
      ],
      "metadata": {
        "colab": {
          "base_uri": "https://localhost:8080/",
          "height": 207
        },
        "id": "x5Svys9sGfhI",
        "outputId": "3e9dced1-f0e7-4973-d8fd-df021954a749"
      },
      "execution_count": null,
      "outputs": [
        {
          "output_type": "execute_result",
          "data": {
            "text/plain": [
              "             tweet_id                                          jpg_url  \\\n",
              "0  666020888022790149  https://pbs.twimg.com/media/CT4udn0WwAA0aMy.jpg   \n",
              "1  666029285002620928  https://pbs.twimg.com/media/CT42GRgUYAA5iDo.jpg   \n",
              "2  666033412701032449  https://pbs.twimg.com/media/CT4521TWwAEvMyu.jpg   \n",
              "\n",
              "   img_num                      p1   p1_conf  p1_dog                  p2  \\\n",
              "0        1  Welsh_springer_spaniel  0.465074    True              collie   \n",
              "1        1                 redbone  0.506826    True  miniature_pinscher   \n",
              "2        1         German_shepherd  0.596461    True            malinois   \n",
              "\n",
              "    p2_conf  p2_dog                   p3   p3_conf  p3_dog  \n",
              "0  0.156665    True    Shetland_sheepdog  0.061428    True  \n",
              "1  0.074192    True  Rhodesian_ridgeback  0.072010    True  \n",
              "2  0.138584    True           bloodhound  0.116197    True  "
            ],
            "text/html": [
              "\n",
              "  <div id=\"df-710690e8-70d3-4ce8-ae62-a686b950b7c7\">\n",
              "    <div class=\"colab-df-container\">\n",
              "      <div>\n",
              "<style scoped>\n",
              "    .dataframe tbody tr th:only-of-type {\n",
              "        vertical-align: middle;\n",
              "    }\n",
              "\n",
              "    .dataframe tbody tr th {\n",
              "        vertical-align: top;\n",
              "    }\n",
              "\n",
              "    .dataframe thead th {\n",
              "        text-align: right;\n",
              "    }\n",
              "</style>\n",
              "<table border=\"1\" class=\"dataframe\">\n",
              "  <thead>\n",
              "    <tr style=\"text-align: right;\">\n",
              "      <th></th>\n",
              "      <th>tweet_id</th>\n",
              "      <th>jpg_url</th>\n",
              "      <th>img_num</th>\n",
              "      <th>p1</th>\n",
              "      <th>p1_conf</th>\n",
              "      <th>p1_dog</th>\n",
              "      <th>p2</th>\n",
              "      <th>p2_conf</th>\n",
              "      <th>p2_dog</th>\n",
              "      <th>p3</th>\n",
              "      <th>p3_conf</th>\n",
              "      <th>p3_dog</th>\n",
              "    </tr>\n",
              "  </thead>\n",
              "  <tbody>\n",
              "    <tr>\n",
              "      <th>0</th>\n",
              "      <td>666020888022790149</td>\n",
              "      <td>https://pbs.twimg.com/media/CT4udn0WwAA0aMy.jpg</td>\n",
              "      <td>1</td>\n",
              "      <td>Welsh_springer_spaniel</td>\n",
              "      <td>0.465074</td>\n",
              "      <td>True</td>\n",
              "      <td>collie</td>\n",
              "      <td>0.156665</td>\n",
              "      <td>True</td>\n",
              "      <td>Shetland_sheepdog</td>\n",
              "      <td>0.061428</td>\n",
              "      <td>True</td>\n",
              "    </tr>\n",
              "    <tr>\n",
              "      <th>1</th>\n",
              "      <td>666029285002620928</td>\n",
              "      <td>https://pbs.twimg.com/media/CT42GRgUYAA5iDo.jpg</td>\n",
              "      <td>1</td>\n",
              "      <td>redbone</td>\n",
              "      <td>0.506826</td>\n",
              "      <td>True</td>\n",
              "      <td>miniature_pinscher</td>\n",
              "      <td>0.074192</td>\n",
              "      <td>True</td>\n",
              "      <td>Rhodesian_ridgeback</td>\n",
              "      <td>0.072010</td>\n",
              "      <td>True</td>\n",
              "    </tr>\n",
              "    <tr>\n",
              "      <th>2</th>\n",
              "      <td>666033412701032449</td>\n",
              "      <td>https://pbs.twimg.com/media/CT4521TWwAEvMyu.jpg</td>\n",
              "      <td>1</td>\n",
              "      <td>German_shepherd</td>\n",
              "      <td>0.596461</td>\n",
              "      <td>True</td>\n",
              "      <td>malinois</td>\n",
              "      <td>0.138584</td>\n",
              "      <td>True</td>\n",
              "      <td>bloodhound</td>\n",
              "      <td>0.116197</td>\n",
              "      <td>True</td>\n",
              "    </tr>\n",
              "  </tbody>\n",
              "</table>\n",
              "</div>\n",
              "      <button class=\"colab-df-convert\" onclick=\"convertToInteractive('df-710690e8-70d3-4ce8-ae62-a686b950b7c7')\"\n",
              "              title=\"Convert this dataframe to an interactive table.\"\n",
              "              style=\"display:none;\">\n",
              "        \n",
              "  <svg xmlns=\"http://www.w3.org/2000/svg\" height=\"24px\"viewBox=\"0 0 24 24\"\n",
              "       width=\"24px\">\n",
              "    <path d=\"M0 0h24v24H0V0z\" fill=\"none\"/>\n",
              "    <path d=\"M18.56 5.44l.94 2.06.94-2.06 2.06-.94-2.06-.94-.94-2.06-.94 2.06-2.06.94zm-11 1L8.5 8.5l.94-2.06 2.06-.94-2.06-.94L8.5 2.5l-.94 2.06-2.06.94zm10 10l.94 2.06.94-2.06 2.06-.94-2.06-.94-.94-2.06-.94 2.06-2.06.94z\"/><path d=\"M17.41 7.96l-1.37-1.37c-.4-.4-.92-.59-1.43-.59-.52 0-1.04.2-1.43.59L10.3 9.45l-7.72 7.72c-.78.78-.78 2.05 0 2.83L4 21.41c.39.39.9.59 1.41.59.51 0 1.02-.2 1.41-.59l7.78-7.78 2.81-2.81c.8-.78.8-2.07 0-2.86zM5.41 20L4 18.59l7.72-7.72 1.47 1.35L5.41 20z\"/>\n",
              "  </svg>\n",
              "      </button>\n",
              "      \n",
              "  <style>\n",
              "    .colab-df-container {\n",
              "      display:flex;\n",
              "      flex-wrap:wrap;\n",
              "      gap: 12px;\n",
              "    }\n",
              "\n",
              "    .colab-df-convert {\n",
              "      background-color: #E8F0FE;\n",
              "      border: none;\n",
              "      border-radius: 50%;\n",
              "      cursor: pointer;\n",
              "      display: none;\n",
              "      fill: #1967D2;\n",
              "      height: 32px;\n",
              "      padding: 0 0 0 0;\n",
              "      width: 32px;\n",
              "    }\n",
              "\n",
              "    .colab-df-convert:hover {\n",
              "      background-color: #E2EBFA;\n",
              "      box-shadow: 0px 1px 2px rgba(60, 64, 67, 0.3), 0px 1px 3px 1px rgba(60, 64, 67, 0.15);\n",
              "      fill: #174EA6;\n",
              "    }\n",
              "\n",
              "    [theme=dark] .colab-df-convert {\n",
              "      background-color: #3B4455;\n",
              "      fill: #D2E3FC;\n",
              "    }\n",
              "\n",
              "    [theme=dark] .colab-df-convert:hover {\n",
              "      background-color: #434B5C;\n",
              "      box-shadow: 0px 1px 3px 1px rgba(0, 0, 0, 0.15);\n",
              "      filter: drop-shadow(0px 1px 2px rgba(0, 0, 0, 0.3));\n",
              "      fill: #FFFFFF;\n",
              "    }\n",
              "  </style>\n",
              "\n",
              "      <script>\n",
              "        const buttonEl =\n",
              "          document.querySelector('#df-710690e8-70d3-4ce8-ae62-a686b950b7c7 button.colab-df-convert');\n",
              "        buttonEl.style.display =\n",
              "          google.colab.kernel.accessAllowed ? 'block' : 'none';\n",
              "\n",
              "        async function convertToInteractive(key) {\n",
              "          const element = document.querySelector('#df-710690e8-70d3-4ce8-ae62-a686b950b7c7');\n",
              "          const dataTable =\n",
              "            await google.colab.kernel.invokeFunction('convertToInteractive',\n",
              "                                                     [key], {});\n",
              "          if (!dataTable) return;\n",
              "\n",
              "          const docLinkHtml = 'Like what you see? Visit the ' +\n",
              "            '<a target=\"_blank\" href=https://colab.research.google.com/notebooks/data_table.ipynb>data table notebook</a>'\n",
              "            + ' to learn more about interactive tables.';\n",
              "          element.innerHTML = '';\n",
              "          dataTable['output_type'] = 'display_data';\n",
              "          await google.colab.output.renderOutput(dataTable, element);\n",
              "          const docLink = document.createElement('div');\n",
              "          docLink.innerHTML = docLinkHtml;\n",
              "          element.appendChild(docLink);\n",
              "        }\n",
              "      </script>\n",
              "    </div>\n",
              "  </div>\n",
              "  "
            ]
          },
          "metadata": {},
          "execution_count": 37
        }
      ]
    },
    {
      "cell_type": "markdown",
      "source": [
        "2.1. checking for count of values in img_num"
      ],
      "metadata": {
        "id": "kRV8Kh9baFBY"
      }
    },
    {
      "cell_type": "code",
      "source": [
        "image_predictions['img_num'].value_counts()"
      ],
      "metadata": {
        "colab": {
          "base_uri": "https://localhost:8080/"
        },
        "id": "5XVpm2T4Gfju",
        "outputId": "5101c0e1-a830-431a-ee5c-641d47542c1a"
      },
      "execution_count": null,
      "outputs": [
        {
          "output_type": "execute_result",
          "data": {
            "text/plain": [
              "1    1780\n",
              "2     198\n",
              "3      66\n",
              "4      31\n",
              "Name: img_num, dtype: int64"
            ]
          },
          "metadata": {},
          "execution_count": 38
        }
      ]
    },
    {
      "cell_type": "markdown",
      "source": [
        "2.2. Checking for p1_conf value where it is equal to 1.0"
      ],
      "metadata": {
        "id": "44jsq1ZbaN3m"
      }
    },
    {
      "cell_type": "code",
      "source": [
        "image_predictions[(image_predictions['p1_conf'] == 1.0)]"
      ],
      "metadata": {
        "colab": {
          "base_uri": "https://localhost:8080/",
          "height": 162
        },
        "id": "FhIpom_VGfmg",
        "outputId": "c4112a06-6fcd-4379-fac2-8e27f246fa4b"
      },
      "execution_count": null,
      "outputs": [
        {
          "output_type": "execute_result",
          "data": {
            "text/plain": [
              "               tweet_id                                          jpg_url  \\\n",
              "106  667866724293877760  https://pbs.twimg.com/media/CUS9PlUWwAANeAD.jpg   \n",
              "\n",
              "     img_num             p1  p1_conf  p1_dog          p2       p2_conf  \\\n",
              "106        1  jigsaw_puzzle      1.0   False  prayer_rug  1.011300e-08   \n",
              "\n",
              "     p2_dog       p3       p3_conf  p3_dog  \n",
              "106   False  doormat  1.740170e-10   False  "
            ],
            "text/html": [
              "\n",
              "  <div id=\"df-808afde6-272a-4dcd-9d8c-621886cb68ee\">\n",
              "    <div class=\"colab-df-container\">\n",
              "      <div>\n",
              "<style scoped>\n",
              "    .dataframe tbody tr th:only-of-type {\n",
              "        vertical-align: middle;\n",
              "    }\n",
              "\n",
              "    .dataframe tbody tr th {\n",
              "        vertical-align: top;\n",
              "    }\n",
              "\n",
              "    .dataframe thead th {\n",
              "        text-align: right;\n",
              "    }\n",
              "</style>\n",
              "<table border=\"1\" class=\"dataframe\">\n",
              "  <thead>\n",
              "    <tr style=\"text-align: right;\">\n",
              "      <th></th>\n",
              "      <th>tweet_id</th>\n",
              "      <th>jpg_url</th>\n",
              "      <th>img_num</th>\n",
              "      <th>p1</th>\n",
              "      <th>p1_conf</th>\n",
              "      <th>p1_dog</th>\n",
              "      <th>p2</th>\n",
              "      <th>p2_conf</th>\n",
              "      <th>p2_dog</th>\n",
              "      <th>p3</th>\n",
              "      <th>p3_conf</th>\n",
              "      <th>p3_dog</th>\n",
              "    </tr>\n",
              "  </thead>\n",
              "  <tbody>\n",
              "    <tr>\n",
              "      <th>106</th>\n",
              "      <td>667866724293877760</td>\n",
              "      <td>https://pbs.twimg.com/media/CUS9PlUWwAANeAD.jpg</td>\n",
              "      <td>1</td>\n",
              "      <td>jigsaw_puzzle</td>\n",
              "      <td>1.0</td>\n",
              "      <td>False</td>\n",
              "      <td>prayer_rug</td>\n",
              "      <td>1.011300e-08</td>\n",
              "      <td>False</td>\n",
              "      <td>doormat</td>\n",
              "      <td>1.740170e-10</td>\n",
              "      <td>False</td>\n",
              "    </tr>\n",
              "  </tbody>\n",
              "</table>\n",
              "</div>\n",
              "      <button class=\"colab-df-convert\" onclick=\"convertToInteractive('df-808afde6-272a-4dcd-9d8c-621886cb68ee')\"\n",
              "              title=\"Convert this dataframe to an interactive table.\"\n",
              "              style=\"display:none;\">\n",
              "        \n",
              "  <svg xmlns=\"http://www.w3.org/2000/svg\" height=\"24px\"viewBox=\"0 0 24 24\"\n",
              "       width=\"24px\">\n",
              "    <path d=\"M0 0h24v24H0V0z\" fill=\"none\"/>\n",
              "    <path d=\"M18.56 5.44l.94 2.06.94-2.06 2.06-.94-2.06-.94-.94-2.06-.94 2.06-2.06.94zm-11 1L8.5 8.5l.94-2.06 2.06-.94-2.06-.94L8.5 2.5l-.94 2.06-2.06.94zm10 10l.94 2.06.94-2.06 2.06-.94-2.06-.94-.94-2.06-.94 2.06-2.06.94z\"/><path d=\"M17.41 7.96l-1.37-1.37c-.4-.4-.92-.59-1.43-.59-.52 0-1.04.2-1.43.59L10.3 9.45l-7.72 7.72c-.78.78-.78 2.05 0 2.83L4 21.41c.39.39.9.59 1.41.59.51 0 1.02-.2 1.41-.59l7.78-7.78 2.81-2.81c.8-.78.8-2.07 0-2.86zM5.41 20L4 18.59l7.72-7.72 1.47 1.35L5.41 20z\"/>\n",
              "  </svg>\n",
              "      </button>\n",
              "      \n",
              "  <style>\n",
              "    .colab-df-container {\n",
              "      display:flex;\n",
              "      flex-wrap:wrap;\n",
              "      gap: 12px;\n",
              "    }\n",
              "\n",
              "    .colab-df-convert {\n",
              "      background-color: #E8F0FE;\n",
              "      border: none;\n",
              "      border-radius: 50%;\n",
              "      cursor: pointer;\n",
              "      display: none;\n",
              "      fill: #1967D2;\n",
              "      height: 32px;\n",
              "      padding: 0 0 0 0;\n",
              "      width: 32px;\n",
              "    }\n",
              "\n",
              "    .colab-df-convert:hover {\n",
              "      background-color: #E2EBFA;\n",
              "      box-shadow: 0px 1px 2px rgba(60, 64, 67, 0.3), 0px 1px 3px 1px rgba(60, 64, 67, 0.15);\n",
              "      fill: #174EA6;\n",
              "    }\n",
              "\n",
              "    [theme=dark] .colab-df-convert {\n",
              "      background-color: #3B4455;\n",
              "      fill: #D2E3FC;\n",
              "    }\n",
              "\n",
              "    [theme=dark] .colab-df-convert:hover {\n",
              "      background-color: #434B5C;\n",
              "      box-shadow: 0px 1px 3px 1px rgba(0, 0, 0, 0.15);\n",
              "      filter: drop-shadow(0px 1px 2px rgba(0, 0, 0, 0.3));\n",
              "      fill: #FFFFFF;\n",
              "    }\n",
              "  </style>\n",
              "\n",
              "      <script>\n",
              "        const buttonEl =\n",
              "          document.querySelector('#df-808afde6-272a-4dcd-9d8c-621886cb68ee button.colab-df-convert');\n",
              "        buttonEl.style.display =\n",
              "          google.colab.kernel.accessAllowed ? 'block' : 'none';\n",
              "\n",
              "        async function convertToInteractive(key) {\n",
              "          const element = document.querySelector('#df-808afde6-272a-4dcd-9d8c-621886cb68ee');\n",
              "          const dataTable =\n",
              "            await google.colab.kernel.invokeFunction('convertToInteractive',\n",
              "                                                     [key], {});\n",
              "          if (!dataTable) return;\n",
              "\n",
              "          const docLinkHtml = 'Like what you see? Visit the ' +\n",
              "            '<a target=\"_blank\" href=https://colab.research.google.com/notebooks/data_table.ipynb>data table notebook</a>'\n",
              "            + ' to learn more about interactive tables.';\n",
              "          element.innerHTML = '';\n",
              "          dataTable['output_type'] = 'display_data';\n",
              "          await google.colab.output.renderOutput(dataTable, element);\n",
              "          const docLink = document.createElement('div');\n",
              "          docLink.innerHTML = docLinkHtml;\n",
              "          element.appendChild(docLink);\n",
              "        }\n",
              "      </script>\n",
              "    </div>\n",
              "  </div>\n",
              "  "
            ]
          },
          "metadata": {},
          "execution_count": 39
        }
      ]
    },
    {
      "cell_type": "code",
      "source": [
        "image_predictions.sample(5)"
      ],
      "metadata": {
        "colab": {
          "base_uri": "https://localhost:8080/",
          "height": 287
        },
        "id": "T4VnRGqMGfpz",
        "outputId": "18469049-f62f-4034-aab3-26b7779bb6ba"
      },
      "execution_count": null,
      "outputs": [
        {
          "output_type": "execute_result",
          "data": {
            "text/plain": [
              "                tweet_id                                          jpg_url  \\\n",
              "1813  833479644947025920  https://pbs.twimg.com/media/C5EdT4jWEAARv2C.jpg   \n",
              "127   668268907921326080  https://pbs.twimg.com/media/CUYrBNQUkAA-zx4.jpg   \n",
              "1266  749395845976588288  https://pbs.twimg.com/media/CmZjizYW8AA3FCN.jpg   \n",
              "535   676942428000112642  https://pbs.twimg.com/media/CWT7imQXIAMwpQ2.jpg   \n",
              "1028  710997087345876993  https://pbs.twimg.com/media/Cd34FClUMAAnvGP.jpg   \n",
              "\n",
              "      img_num                   p1   p1_conf  p1_dog              p2  \\\n",
              "1813        3     golden_retriever  0.727039    True  cocker_spaniel   \n",
              "127         1             Pembroke  0.484830    True        Cardigan   \n",
              "1266        1           Pomeranian  0.973715    True            chow   \n",
              "535         1  black-footed_ferret  0.707199   False         polecat   \n",
              "1028        1             malamute  0.281260    True      Eskimo_dog   \n",
              "\n",
              "       p2_conf  p2_dog               p3   p3_conf  p3_dog  \n",
              "1813  0.071140    True  Tibetan_mastiff  0.048694    True  \n",
              "127   0.425303    True          basenji  0.014753    True  \n",
              "1266  0.020758    True         keeshond  0.003784    True  \n",
              "535   0.154630   False           weasel  0.097626   False  \n",
              "1028  0.232641    True         Pembroke  0.091602    True  "
            ],
            "text/html": [
              "\n",
              "  <div id=\"df-f087ec0d-f100-4731-a9b4-9c0d97083026\">\n",
              "    <div class=\"colab-df-container\">\n",
              "      <div>\n",
              "<style scoped>\n",
              "    .dataframe tbody tr th:only-of-type {\n",
              "        vertical-align: middle;\n",
              "    }\n",
              "\n",
              "    .dataframe tbody tr th {\n",
              "        vertical-align: top;\n",
              "    }\n",
              "\n",
              "    .dataframe thead th {\n",
              "        text-align: right;\n",
              "    }\n",
              "</style>\n",
              "<table border=\"1\" class=\"dataframe\">\n",
              "  <thead>\n",
              "    <tr style=\"text-align: right;\">\n",
              "      <th></th>\n",
              "      <th>tweet_id</th>\n",
              "      <th>jpg_url</th>\n",
              "      <th>img_num</th>\n",
              "      <th>p1</th>\n",
              "      <th>p1_conf</th>\n",
              "      <th>p1_dog</th>\n",
              "      <th>p2</th>\n",
              "      <th>p2_conf</th>\n",
              "      <th>p2_dog</th>\n",
              "      <th>p3</th>\n",
              "      <th>p3_conf</th>\n",
              "      <th>p3_dog</th>\n",
              "    </tr>\n",
              "  </thead>\n",
              "  <tbody>\n",
              "    <tr>\n",
              "      <th>1813</th>\n",
              "      <td>833479644947025920</td>\n",
              "      <td>https://pbs.twimg.com/media/C5EdT4jWEAARv2C.jpg</td>\n",
              "      <td>3</td>\n",
              "      <td>golden_retriever</td>\n",
              "      <td>0.727039</td>\n",
              "      <td>True</td>\n",
              "      <td>cocker_spaniel</td>\n",
              "      <td>0.071140</td>\n",
              "      <td>True</td>\n",
              "      <td>Tibetan_mastiff</td>\n",
              "      <td>0.048694</td>\n",
              "      <td>True</td>\n",
              "    </tr>\n",
              "    <tr>\n",
              "      <th>127</th>\n",
              "      <td>668268907921326080</td>\n",
              "      <td>https://pbs.twimg.com/media/CUYrBNQUkAA-zx4.jpg</td>\n",
              "      <td>1</td>\n",
              "      <td>Pembroke</td>\n",
              "      <td>0.484830</td>\n",
              "      <td>True</td>\n",
              "      <td>Cardigan</td>\n",
              "      <td>0.425303</td>\n",
              "      <td>True</td>\n",
              "      <td>basenji</td>\n",
              "      <td>0.014753</td>\n",
              "      <td>True</td>\n",
              "    </tr>\n",
              "    <tr>\n",
              "      <th>1266</th>\n",
              "      <td>749395845976588288</td>\n",
              "      <td>https://pbs.twimg.com/media/CmZjizYW8AA3FCN.jpg</td>\n",
              "      <td>1</td>\n",
              "      <td>Pomeranian</td>\n",
              "      <td>0.973715</td>\n",
              "      <td>True</td>\n",
              "      <td>chow</td>\n",
              "      <td>0.020758</td>\n",
              "      <td>True</td>\n",
              "      <td>keeshond</td>\n",
              "      <td>0.003784</td>\n",
              "      <td>True</td>\n",
              "    </tr>\n",
              "    <tr>\n",
              "      <th>535</th>\n",
              "      <td>676942428000112642</td>\n",
              "      <td>https://pbs.twimg.com/media/CWT7imQXIAMwpQ2.jpg</td>\n",
              "      <td>1</td>\n",
              "      <td>black-footed_ferret</td>\n",
              "      <td>0.707199</td>\n",
              "      <td>False</td>\n",
              "      <td>polecat</td>\n",
              "      <td>0.154630</td>\n",
              "      <td>False</td>\n",
              "      <td>weasel</td>\n",
              "      <td>0.097626</td>\n",
              "      <td>False</td>\n",
              "    </tr>\n",
              "    <tr>\n",
              "      <th>1028</th>\n",
              "      <td>710997087345876993</td>\n",
              "      <td>https://pbs.twimg.com/media/Cd34FClUMAAnvGP.jpg</td>\n",
              "      <td>1</td>\n",
              "      <td>malamute</td>\n",
              "      <td>0.281260</td>\n",
              "      <td>True</td>\n",
              "      <td>Eskimo_dog</td>\n",
              "      <td>0.232641</td>\n",
              "      <td>True</td>\n",
              "      <td>Pembroke</td>\n",
              "      <td>0.091602</td>\n",
              "      <td>True</td>\n",
              "    </tr>\n",
              "  </tbody>\n",
              "</table>\n",
              "</div>\n",
              "      <button class=\"colab-df-convert\" onclick=\"convertToInteractive('df-f087ec0d-f100-4731-a9b4-9c0d97083026')\"\n",
              "              title=\"Convert this dataframe to an interactive table.\"\n",
              "              style=\"display:none;\">\n",
              "        \n",
              "  <svg xmlns=\"http://www.w3.org/2000/svg\" height=\"24px\"viewBox=\"0 0 24 24\"\n",
              "       width=\"24px\">\n",
              "    <path d=\"M0 0h24v24H0V0z\" fill=\"none\"/>\n",
              "    <path d=\"M18.56 5.44l.94 2.06.94-2.06 2.06-.94-2.06-.94-.94-2.06-.94 2.06-2.06.94zm-11 1L8.5 8.5l.94-2.06 2.06-.94-2.06-.94L8.5 2.5l-.94 2.06-2.06.94zm10 10l.94 2.06.94-2.06 2.06-.94-2.06-.94-.94-2.06-.94 2.06-2.06.94z\"/><path d=\"M17.41 7.96l-1.37-1.37c-.4-.4-.92-.59-1.43-.59-.52 0-1.04.2-1.43.59L10.3 9.45l-7.72 7.72c-.78.78-.78 2.05 0 2.83L4 21.41c.39.39.9.59 1.41.59.51 0 1.02-.2 1.41-.59l7.78-7.78 2.81-2.81c.8-.78.8-2.07 0-2.86zM5.41 20L4 18.59l7.72-7.72 1.47 1.35L5.41 20z\"/>\n",
              "  </svg>\n",
              "      </button>\n",
              "      \n",
              "  <style>\n",
              "    .colab-df-container {\n",
              "      display:flex;\n",
              "      flex-wrap:wrap;\n",
              "      gap: 12px;\n",
              "    }\n",
              "\n",
              "    .colab-df-convert {\n",
              "      background-color: #E8F0FE;\n",
              "      border: none;\n",
              "      border-radius: 50%;\n",
              "      cursor: pointer;\n",
              "      display: none;\n",
              "      fill: #1967D2;\n",
              "      height: 32px;\n",
              "      padding: 0 0 0 0;\n",
              "      width: 32px;\n",
              "    }\n",
              "\n",
              "    .colab-df-convert:hover {\n",
              "      background-color: #E2EBFA;\n",
              "      box-shadow: 0px 1px 2px rgba(60, 64, 67, 0.3), 0px 1px 3px 1px rgba(60, 64, 67, 0.15);\n",
              "      fill: #174EA6;\n",
              "    }\n",
              "\n",
              "    [theme=dark] .colab-df-convert {\n",
              "      background-color: #3B4455;\n",
              "      fill: #D2E3FC;\n",
              "    }\n",
              "\n",
              "    [theme=dark] .colab-df-convert:hover {\n",
              "      background-color: #434B5C;\n",
              "      box-shadow: 0px 1px 3px 1px rgba(0, 0, 0, 0.15);\n",
              "      filter: drop-shadow(0px 1px 2px rgba(0, 0, 0, 0.3));\n",
              "      fill: #FFFFFF;\n",
              "    }\n",
              "  </style>\n",
              "\n",
              "      <script>\n",
              "        const buttonEl =\n",
              "          document.querySelector('#df-f087ec0d-f100-4731-a9b4-9c0d97083026 button.colab-df-convert');\n",
              "        buttonEl.style.display =\n",
              "          google.colab.kernel.accessAllowed ? 'block' : 'none';\n",
              "\n",
              "        async function convertToInteractive(key) {\n",
              "          const element = document.querySelector('#df-f087ec0d-f100-4731-a9b4-9c0d97083026');\n",
              "          const dataTable =\n",
              "            await google.colab.kernel.invokeFunction('convertToInteractive',\n",
              "                                                     [key], {});\n",
              "          if (!dataTable) return;\n",
              "\n",
              "          const docLinkHtml = 'Like what you see? Visit the ' +\n",
              "            '<a target=\"_blank\" href=https://colab.research.google.com/notebooks/data_table.ipynb>data table notebook</a>'\n",
              "            + ' to learn more about interactive tables.';\n",
              "          element.innerHTML = '';\n",
              "          dataTable['output_type'] = 'display_data';\n",
              "          await google.colab.output.renderOutput(dataTable, element);\n",
              "          const docLink = document.createElement('div');\n",
              "          docLink.innerHTML = docLinkHtml;\n",
              "          element.appendChild(docLink);\n",
              "        }\n",
              "      </script>\n",
              "    </div>\n",
              "  </div>\n",
              "  "
            ]
          },
          "metadata": {},
          "execution_count": 40
        }
      ]
    },
    {
      "cell_type": "markdown",
      "source": [
        "2.3. Checking for presence of duplicate values"
      ],
      "metadata": {
        "id": "jWXWJkIjaVQO"
      }
    },
    {
      "cell_type": "code",
      "source": [
        "image_predictions[image_predictions['tweet_id'].duplicated()]"
      ],
      "metadata": {
        "colab": {
          "base_uri": "https://localhost:8080/",
          "height": 49
        },
        "id": "oXZMxpFeGftK",
        "outputId": "43f49949-2da8-4994-b558-83e7bf728601"
      },
      "execution_count": null,
      "outputs": [
        {
          "output_type": "execute_result",
          "data": {
            "text/plain": [
              "Empty DataFrame\n",
              "Columns: [tweet_id, jpg_url, img_num, p1, p1_conf, p1_dog, p2, p2_conf, p2_dog, p3, p3_conf, p3_dog]\n",
              "Index: []"
            ],
            "text/html": [
              "\n",
              "  <div id=\"df-38183834-ba89-4582-8376-7cac7fbd7486\">\n",
              "    <div class=\"colab-df-container\">\n",
              "      <div>\n",
              "<style scoped>\n",
              "    .dataframe tbody tr th:only-of-type {\n",
              "        vertical-align: middle;\n",
              "    }\n",
              "\n",
              "    .dataframe tbody tr th {\n",
              "        vertical-align: top;\n",
              "    }\n",
              "\n",
              "    .dataframe thead th {\n",
              "        text-align: right;\n",
              "    }\n",
              "</style>\n",
              "<table border=\"1\" class=\"dataframe\">\n",
              "  <thead>\n",
              "    <tr style=\"text-align: right;\">\n",
              "      <th></th>\n",
              "      <th>tweet_id</th>\n",
              "      <th>jpg_url</th>\n",
              "      <th>img_num</th>\n",
              "      <th>p1</th>\n",
              "      <th>p1_conf</th>\n",
              "      <th>p1_dog</th>\n",
              "      <th>p2</th>\n",
              "      <th>p2_conf</th>\n",
              "      <th>p2_dog</th>\n",
              "      <th>p3</th>\n",
              "      <th>p3_conf</th>\n",
              "      <th>p3_dog</th>\n",
              "    </tr>\n",
              "  </thead>\n",
              "  <tbody>\n",
              "  </tbody>\n",
              "</table>\n",
              "</div>\n",
              "      <button class=\"colab-df-convert\" onclick=\"convertToInteractive('df-38183834-ba89-4582-8376-7cac7fbd7486')\"\n",
              "              title=\"Convert this dataframe to an interactive table.\"\n",
              "              style=\"display:none;\">\n",
              "        \n",
              "  <svg xmlns=\"http://www.w3.org/2000/svg\" height=\"24px\"viewBox=\"0 0 24 24\"\n",
              "       width=\"24px\">\n",
              "    <path d=\"M0 0h24v24H0V0z\" fill=\"none\"/>\n",
              "    <path d=\"M18.56 5.44l.94 2.06.94-2.06 2.06-.94-2.06-.94-.94-2.06-.94 2.06-2.06.94zm-11 1L8.5 8.5l.94-2.06 2.06-.94-2.06-.94L8.5 2.5l-.94 2.06-2.06.94zm10 10l.94 2.06.94-2.06 2.06-.94-2.06-.94-.94-2.06-.94 2.06-2.06.94z\"/><path d=\"M17.41 7.96l-1.37-1.37c-.4-.4-.92-.59-1.43-.59-.52 0-1.04.2-1.43.59L10.3 9.45l-7.72 7.72c-.78.78-.78 2.05 0 2.83L4 21.41c.39.39.9.59 1.41.59.51 0 1.02-.2 1.41-.59l7.78-7.78 2.81-2.81c.8-.78.8-2.07 0-2.86zM5.41 20L4 18.59l7.72-7.72 1.47 1.35L5.41 20z\"/>\n",
              "  </svg>\n",
              "      </button>\n",
              "      \n",
              "  <style>\n",
              "    .colab-df-container {\n",
              "      display:flex;\n",
              "      flex-wrap:wrap;\n",
              "      gap: 12px;\n",
              "    }\n",
              "\n",
              "    .colab-df-convert {\n",
              "      background-color: #E8F0FE;\n",
              "      border: none;\n",
              "      border-radius: 50%;\n",
              "      cursor: pointer;\n",
              "      display: none;\n",
              "      fill: #1967D2;\n",
              "      height: 32px;\n",
              "      padding: 0 0 0 0;\n",
              "      width: 32px;\n",
              "    }\n",
              "\n",
              "    .colab-df-convert:hover {\n",
              "      background-color: #E2EBFA;\n",
              "      box-shadow: 0px 1px 2px rgba(60, 64, 67, 0.3), 0px 1px 3px 1px rgba(60, 64, 67, 0.15);\n",
              "      fill: #174EA6;\n",
              "    }\n",
              "\n",
              "    [theme=dark] .colab-df-convert {\n",
              "      background-color: #3B4455;\n",
              "      fill: #D2E3FC;\n",
              "    }\n",
              "\n",
              "    [theme=dark] .colab-df-convert:hover {\n",
              "      background-color: #434B5C;\n",
              "      box-shadow: 0px 1px 3px 1px rgba(0, 0, 0, 0.15);\n",
              "      filter: drop-shadow(0px 1px 2px rgba(0, 0, 0, 0.3));\n",
              "      fill: #FFFFFF;\n",
              "    }\n",
              "  </style>\n",
              "\n",
              "      <script>\n",
              "        const buttonEl =\n",
              "          document.querySelector('#df-38183834-ba89-4582-8376-7cac7fbd7486 button.colab-df-convert');\n",
              "        buttonEl.style.display =\n",
              "          google.colab.kernel.accessAllowed ? 'block' : 'none';\n",
              "\n",
              "        async function convertToInteractive(key) {\n",
              "          const element = document.querySelector('#df-38183834-ba89-4582-8376-7cac7fbd7486');\n",
              "          const dataTable =\n",
              "            await google.colab.kernel.invokeFunction('convertToInteractive',\n",
              "                                                     [key], {});\n",
              "          if (!dataTable) return;\n",
              "\n",
              "          const docLinkHtml = 'Like what you see? Visit the ' +\n",
              "            '<a target=\"_blank\" href=https://colab.research.google.com/notebooks/data_table.ipynb>data table notebook</a>'\n",
              "            + ' to learn more about interactive tables.';\n",
              "          element.innerHTML = '';\n",
              "          dataTable['output_type'] = 'display_data';\n",
              "          await google.colab.output.renderOutput(dataTable, element);\n",
              "          const docLink = document.createElement('div');\n",
              "          docLink.innerHTML = docLinkHtml;\n",
              "          element.appendChild(docLink);\n",
              "        }\n",
              "      </script>\n",
              "    </div>\n",
              "  </div>\n",
              "  "
            ]
          },
          "metadata": {},
          "execution_count": 41
        }
      ]
    },
    {
      "cell_type": "markdown",
      "source": [
        "2.4. Checking for url duplicates"
      ],
      "metadata": {
        "id": "WfiUX_cFaes7"
      }
    },
    {
      "cell_type": "code",
      "source": [
        "# Checking for duplicates in url\n",
        "image_predictions[image_predictions['jpg_url'].duplicated()]['jpg_url'].values"
      ],
      "metadata": {
        "colab": {
          "base_uri": "https://localhost:8080/"
        },
        "id": "lac6p1AjHYtc",
        "outputId": "963b13ae-e81c-45e4-c4d6-2c760e845eba"
      },
      "execution_count": null,
      "outputs": [
        {
          "output_type": "execute_result",
          "data": {
            "text/plain": [
              "array(['https://pbs.twimg.com/ext_tw_video_thumb/675354114423808004/pu/img/qL1R_nGLqa6lmkOx.jpg',\n",
              "       'https://pbs.twimg.com/media/CWza7kpWcAAdYLc.jpg',\n",
              "       'https://pbs.twimg.com/media/CWyD2HGUYAQ1Xa7.jpg',\n",
              "       'https://pbs.twimg.com/media/CU1zsMSUAAAS0qW.jpg',\n",
              "       'https://pbs.twimg.com/media/CkNjahBXAAQ2kWo.jpg',\n",
              "       'https://pbs.twimg.com/tweet_video_thumb/CeBym7oXEAEWbEg.jpg',\n",
              "       'https://pbs.twimg.com/media/CYLDikFWEAAIy1y.jpg',\n",
              "       'https://pbs.twimg.com/media/ChK1tdBWwAQ1flD.jpg',\n",
              "       'https://pbs.twimg.com/media/CkjMx99UoAM2B1a.jpg',\n",
              "       'https://pbs.twimg.com/media/CVgdFjNWEAAxmbq.jpg',\n",
              "       'https://pbs.twimg.com/media/Cp6db4-XYAAMmqL.jpg',\n",
              "       'https://pbs.twimg.com/media/CiyHLocU4AI2pJu.jpg',\n",
              "       'https://pbs.twimg.com/media/CW88XN4WsAAlo8r.jpg',\n",
              "       'https://pbs.twimg.com/media/CmoPdmHW8AAi8BI.jpg',\n",
              "       'https://pbs.twimg.com/media/CcG07BYW0AErrC9.jpg',\n",
              "       'https://pbs.twimg.com/media/Ck2d7tJWUAEPTL3.jpg',\n",
              "       'https://pbs.twimg.com/media/CdHwZd0VIAA4792.jpg',\n",
              "       'https://pbs.twimg.com/media/CVuQ2LeUsAAIe3s.jpg',\n",
              "       'https://pbs.twimg.com/media/CtKHLuCWYAA2TTs.jpg',\n",
              "       'https://pbs.twimg.com/media/Co-hmcYXYAASkiG.jpg',\n",
              "       'https://pbs.twimg.com/media/CvaYgDOWgAEfjls.jpg',\n",
              "       'https://pbs.twimg.com/media/CpmyNumW8AAAJGj.jpg',\n",
              "       'https://pbs.twimg.com/media/CvyVxQRWEAAdSZS.jpg',\n",
              "       'https://pbs.twimg.com/media/CvJCabcWgAIoUxW.jpg',\n",
              "       'https://pbs.twimg.com/media/CvT6IV6WEAQhhV5.jpg',\n",
              "       'https://pbs.twimg.com/media/Cwx99rpW8AMk_Ie.jpg',\n",
              "       'https://pbs.twimg.com/media/CrXhIqBW8AA6Bse.jpg',\n",
              "       'https://pbs.twimg.com/media/CUN4Or5UAAAa5K4.jpg',\n",
              "       'https://pbs.twimg.com/media/CU3mITUWIAAfyQS.jpg',\n",
              "       'https://pbs.twimg.com/media/CVMOlMiWwAA4Yxl.jpg',\n",
              "       'https://pbs.twimg.com/media/CV_cnjHWUAADc-c.jpg',\n",
              "       'https://pbs.twimg.com/media/Cbs3DOAXIAAp3Bd.jpg',\n",
              "       'https://pbs.twimg.com/media/CeRoBaxWEAABi0X.jpg',\n",
              "       'https://pbs.twimg.com/media/CsGnz64WYAEIDHJ.jpg',\n",
              "       'https://pbs.twimg.com/media/CsVO7ljW8AAckRD.jpg',\n",
              "       'https://pbs.twimg.com/media/Cs_DYr1XEAA54Pu.jpg',\n",
              "       'https://pbs.twimg.com/media/CsrjryzWgAAZY00.jpg',\n",
              "       'https://pbs.twimg.com/media/CZhn-QAWwAASQan.jpg',\n",
              "       'https://pbs.twimg.com/media/CuRDF-XWcAIZSer.jpg',\n",
              "       'https://pbs.twimg.com/media/CtzKC7zXEAALfSo.jpg',\n",
              "       'https://pbs.twimg.com/media/Ct72q9jWcAAhlnw.jpg',\n",
              "       'https://pbs.twimg.com/media/Ct2qO5PXEAE6eB0.jpg',\n",
              "       'https://pbs.twimg.com/media/Cx5R8wPVEAALa9r.jpg',\n",
              "       'https://pbs.twimg.com/media/CwS4aqZXUAAe3IO.jpg',\n",
              "       'https://pbs.twimg.com/media/Cveg1-NXgAASaaT.jpg',\n",
              "       'https://pbs.twimg.com/media/CiibOMzUYAA9Mxz.jpg',\n",
              "       'https://pbs.twimg.com/media/CvoBPWRWgAA4het.jpg',\n",
              "       'https://pbs.twimg.com/ext_tw_video_thumb/815965888126062592/pu/img/JleSw4wRhgKDWQj5.jpg',\n",
              "       'https://pbs.twimg.com/media/Crwxb5yWgAAX5P_.jpg',\n",
              "       'https://pbs.twimg.com/media/C12x-JTVIAAzdfl.jpg',\n",
              "       'https://pbs.twimg.com/media/C12whDoVEAALRxa.jpg',\n",
              "       'https://pbs.twimg.com/media/CxqsX-8XUAAEvjD.jpg',\n",
              "       'https://pbs.twimg.com/media/CtVAvX-WIAAcGTf.jpg',\n",
              "       'https://pbs.twimg.com/media/C2oRbOuWEAAbVSl.jpg',\n",
              "       'https://pbs.twimg.com/media/C2kzTGxWEAEOpPL.jpg',\n",
              "       'https://pbs.twimg.com/media/CwiuEJmW8AAZnit.jpg',\n",
              "       'https://pbs.twimg.com/media/C3nygbBWQAAjwcW.jpg',\n",
              "       'https://pbs.twimg.com/media/Cq9guJ5WgAADfpF.jpg',\n",
              "       'https://pbs.twimg.com/media/CwJR1okWIAA6XMp.jpg',\n",
              "       'https://pbs.twimg.com/ext_tw_video_thumb/817423809049493505/pu/img/5OFW0yueFu9oTUiQ.jpg',\n",
              "       'https://pbs.twimg.com/ext_tw_video_thumb/807106774843039744/pu/img/8XZg1xW35Xp2J6JW.jpg',\n",
              "       'https://pbs.twimg.com/media/C4KHj-nWQAA3poV.jpg',\n",
              "       'https://pbs.twimg.com/media/CzG425nWgAAnP7P.jpg',\n",
              "       'https://pbs.twimg.com/media/DA7iHL5U0AA1OQo.jpg',\n",
              "       'https://pbs.twimg.com/media/C4bTH6nWMAAX_bJ.jpg',\n",
              "       'https://pbs.twimg.com/media/DFDw2tyUQAAAFke.jpg'], dtype=object)"
            ]
          },
          "metadata": {},
          "execution_count": 42
        }
      ]
    },
    {
      "cell_type": "markdown",
      "source": [
        "It appears that there are numerous duplicated URLs for jpg images. While including these duplicates could have been valuable if there were multiple tweets associated with the same image, it is unnecessary for this table focused on image predictions. Therefore, there is no need to include duplicate images in this context."
      ],
      "metadata": {
        "id": "NweuGzU1H09o"
      }
    },
    {
      "cell_type": "markdown",
      "source": [
        "2.5. Checking for all duplicae url rows"
      ],
      "metadata": {
        "id": "cYJQvtFxanE3"
      }
    },
    {
      "cell_type": "code",
      "source": [
        "# Checking all duplicates url\n",
        "image_predictions[image_predictions['jpg_url'].apply(lambda x: x in image_predictions[image_predictions['jpg_url'].duplicated()]['jpg_url'].values)]"
      ],
      "metadata": {
        "colab": {
          "base_uri": "https://localhost:8080/",
          "height": 505
        },
        "id": "ue1TjwbHHYwY",
        "outputId": "9adf1617-9d42-40e1-fbaa-d7c5d960f3dc"
      },
      "execution_count": null,
      "outputs": [
        {
          "output_type": "execute_result",
          "data": {
            "text/plain": [
              "                tweet_id                                          jpg_url  \\\n",
              "85    667509364010450944  https://pbs.twimg.com/media/CUN4Or5UAAAa5K4.jpg   \n",
              "224   670319130621435904  https://pbs.twimg.com/media/CU1zsMSUAAAS0qW.jpg   \n",
              "241   670444955656130560  https://pbs.twimg.com/media/CU3mITUWIAAfyQS.jpg   \n",
              "327   671896809300709376  https://pbs.twimg.com/media/CVMOlMiWwAA4Yxl.jpg   \n",
              "382   673320132811366400  https://pbs.twimg.com/media/CVgdFjNWEAAxmbq.jpg   \n",
              "...                  ...                                              ...   \n",
              "1970  868880397819494401  https://pbs.twimg.com/media/DA7iHL5U0AA1OQo.jpg   \n",
              "1992  873697596434513921  https://pbs.twimg.com/media/DA7iHL5U0AA1OQo.jpg   \n",
              "2041  885311592912609280  https://pbs.twimg.com/media/C4bTH6nWMAAX_bJ.jpg   \n",
              "2051  887473957103951883  https://pbs.twimg.com/media/DFDw2tyUQAAAFke.jpg   \n",
              "2055  888202515573088257  https://pbs.twimg.com/media/DFDw2tyUQAAAFke.jpg   \n",
              "\n",
              "      img_num                  p1   p1_conf  p1_dog                   p2  \\\n",
              "85          1              beagle  0.636169    True   Labrador_retriever   \n",
              "224         1       Irish_terrier  0.254856    True               briard   \n",
              "241         1    English_springer  0.403698    True     Brittany_spaniel   \n",
              "327         1                chow  0.243529    True              hamster   \n",
              "382         3             Samoyed  0.978833    True           Pomeranian   \n",
              "...       ...                 ...       ...     ...                  ...   \n",
              "1970        1              laptop  0.153718   False       French_bulldog   \n",
              "1992        1              laptop  0.153718   False       French_bulldog   \n",
              "2041        1  Labrador_retriever  0.908703    True            seat_belt   \n",
              "2051        2            Pembroke  0.809197    True  Rhodesian_ridgeback   \n",
              "2055        2            Pembroke  0.809197    True  Rhodesian_ridgeback   \n",
              "\n",
              "       p2_conf  p2_dog                           p3   p3_conf  p3_dog  \n",
              "85    0.119256    True             golden_retriever  0.082549    True  \n",
              "224   0.227716    True  soft-coated_wheaten_terrier  0.223263    True  \n",
              "241   0.347609    True       Welsh_springer_spaniel  0.137186    True  \n",
              "327   0.227150   False                   Pomeranian  0.056057    True  \n",
              "382   0.012763    True                   Eskimo_dog  0.001853    True  \n",
              "...        ...     ...                          ...       ...     ...  \n",
              "1970  0.099984    True                      printer  0.077130   False  \n",
              "1992  0.099984    True                      printer  0.077130   False  \n",
              "2041  0.057091   False                          pug  0.011933    True  \n",
              "2051  0.054950    True                       beagle  0.038915    True  \n",
              "2055  0.054950    True                       beagle  0.038915    True  \n",
              "\n",
              "[132 rows x 12 columns]"
            ],
            "text/html": [
              "\n",
              "  <div id=\"df-bf826cc6-01ea-4b9e-8247-ba65cd1493a5\">\n",
              "    <div class=\"colab-df-container\">\n",
              "      <div>\n",
              "<style scoped>\n",
              "    .dataframe tbody tr th:only-of-type {\n",
              "        vertical-align: middle;\n",
              "    }\n",
              "\n",
              "    .dataframe tbody tr th {\n",
              "        vertical-align: top;\n",
              "    }\n",
              "\n",
              "    .dataframe thead th {\n",
              "        text-align: right;\n",
              "    }\n",
              "</style>\n",
              "<table border=\"1\" class=\"dataframe\">\n",
              "  <thead>\n",
              "    <tr style=\"text-align: right;\">\n",
              "      <th></th>\n",
              "      <th>tweet_id</th>\n",
              "      <th>jpg_url</th>\n",
              "      <th>img_num</th>\n",
              "      <th>p1</th>\n",
              "      <th>p1_conf</th>\n",
              "      <th>p1_dog</th>\n",
              "      <th>p2</th>\n",
              "      <th>p2_conf</th>\n",
              "      <th>p2_dog</th>\n",
              "      <th>p3</th>\n",
              "      <th>p3_conf</th>\n",
              "      <th>p3_dog</th>\n",
              "    </tr>\n",
              "  </thead>\n",
              "  <tbody>\n",
              "    <tr>\n",
              "      <th>85</th>\n",
              "      <td>667509364010450944</td>\n",
              "      <td>https://pbs.twimg.com/media/CUN4Or5UAAAa5K4.jpg</td>\n",
              "      <td>1</td>\n",
              "      <td>beagle</td>\n",
              "      <td>0.636169</td>\n",
              "      <td>True</td>\n",
              "      <td>Labrador_retriever</td>\n",
              "      <td>0.119256</td>\n",
              "      <td>True</td>\n",
              "      <td>golden_retriever</td>\n",
              "      <td>0.082549</td>\n",
              "      <td>True</td>\n",
              "    </tr>\n",
              "    <tr>\n",
              "      <th>224</th>\n",
              "      <td>670319130621435904</td>\n",
              "      <td>https://pbs.twimg.com/media/CU1zsMSUAAAS0qW.jpg</td>\n",
              "      <td>1</td>\n",
              "      <td>Irish_terrier</td>\n",
              "      <td>0.254856</td>\n",
              "      <td>True</td>\n",
              "      <td>briard</td>\n",
              "      <td>0.227716</td>\n",
              "      <td>True</td>\n",
              "      <td>soft-coated_wheaten_terrier</td>\n",
              "      <td>0.223263</td>\n",
              "      <td>True</td>\n",
              "    </tr>\n",
              "    <tr>\n",
              "      <th>241</th>\n",
              "      <td>670444955656130560</td>\n",
              "      <td>https://pbs.twimg.com/media/CU3mITUWIAAfyQS.jpg</td>\n",
              "      <td>1</td>\n",
              "      <td>English_springer</td>\n",
              "      <td>0.403698</td>\n",
              "      <td>True</td>\n",
              "      <td>Brittany_spaniel</td>\n",
              "      <td>0.347609</td>\n",
              "      <td>True</td>\n",
              "      <td>Welsh_springer_spaniel</td>\n",
              "      <td>0.137186</td>\n",
              "      <td>True</td>\n",
              "    </tr>\n",
              "    <tr>\n",
              "      <th>327</th>\n",
              "      <td>671896809300709376</td>\n",
              "      <td>https://pbs.twimg.com/media/CVMOlMiWwAA4Yxl.jpg</td>\n",
              "      <td>1</td>\n",
              "      <td>chow</td>\n",
              "      <td>0.243529</td>\n",
              "      <td>True</td>\n",
              "      <td>hamster</td>\n",
              "      <td>0.227150</td>\n",
              "      <td>False</td>\n",
              "      <td>Pomeranian</td>\n",
              "      <td>0.056057</td>\n",
              "      <td>True</td>\n",
              "    </tr>\n",
              "    <tr>\n",
              "      <th>382</th>\n",
              "      <td>673320132811366400</td>\n",
              "      <td>https://pbs.twimg.com/media/CVgdFjNWEAAxmbq.jpg</td>\n",
              "      <td>3</td>\n",
              "      <td>Samoyed</td>\n",
              "      <td>0.978833</td>\n",
              "      <td>True</td>\n",
              "      <td>Pomeranian</td>\n",
              "      <td>0.012763</td>\n",
              "      <td>True</td>\n",
              "      <td>Eskimo_dog</td>\n",
              "      <td>0.001853</td>\n",
              "      <td>True</td>\n",
              "    </tr>\n",
              "    <tr>\n",
              "      <th>...</th>\n",
              "      <td>...</td>\n",
              "      <td>...</td>\n",
              "      <td>...</td>\n",
              "      <td>...</td>\n",
              "      <td>...</td>\n",
              "      <td>...</td>\n",
              "      <td>...</td>\n",
              "      <td>...</td>\n",
              "      <td>...</td>\n",
              "      <td>...</td>\n",
              "      <td>...</td>\n",
              "      <td>...</td>\n",
              "    </tr>\n",
              "    <tr>\n",
              "      <th>1970</th>\n",
              "      <td>868880397819494401</td>\n",
              "      <td>https://pbs.twimg.com/media/DA7iHL5U0AA1OQo.jpg</td>\n",
              "      <td>1</td>\n",
              "      <td>laptop</td>\n",
              "      <td>0.153718</td>\n",
              "      <td>False</td>\n",
              "      <td>French_bulldog</td>\n",
              "      <td>0.099984</td>\n",
              "      <td>True</td>\n",
              "      <td>printer</td>\n",
              "      <td>0.077130</td>\n",
              "      <td>False</td>\n",
              "    </tr>\n",
              "    <tr>\n",
              "      <th>1992</th>\n",
              "      <td>873697596434513921</td>\n",
              "      <td>https://pbs.twimg.com/media/DA7iHL5U0AA1OQo.jpg</td>\n",
              "      <td>1</td>\n",
              "      <td>laptop</td>\n",
              "      <td>0.153718</td>\n",
              "      <td>False</td>\n",
              "      <td>French_bulldog</td>\n",
              "      <td>0.099984</td>\n",
              "      <td>True</td>\n",
              "      <td>printer</td>\n",
              "      <td>0.077130</td>\n",
              "      <td>False</td>\n",
              "    </tr>\n",
              "    <tr>\n",
              "      <th>2041</th>\n",
              "      <td>885311592912609280</td>\n",
              "      <td>https://pbs.twimg.com/media/C4bTH6nWMAAX_bJ.jpg</td>\n",
              "      <td>1</td>\n",
              "      <td>Labrador_retriever</td>\n",
              "      <td>0.908703</td>\n",
              "      <td>True</td>\n",
              "      <td>seat_belt</td>\n",
              "      <td>0.057091</td>\n",
              "      <td>False</td>\n",
              "      <td>pug</td>\n",
              "      <td>0.011933</td>\n",
              "      <td>True</td>\n",
              "    </tr>\n",
              "    <tr>\n",
              "      <th>2051</th>\n",
              "      <td>887473957103951883</td>\n",
              "      <td>https://pbs.twimg.com/media/DFDw2tyUQAAAFke.jpg</td>\n",
              "      <td>2</td>\n",
              "      <td>Pembroke</td>\n",
              "      <td>0.809197</td>\n",
              "      <td>True</td>\n",
              "      <td>Rhodesian_ridgeback</td>\n",
              "      <td>0.054950</td>\n",
              "      <td>True</td>\n",
              "      <td>beagle</td>\n",
              "      <td>0.038915</td>\n",
              "      <td>True</td>\n",
              "    </tr>\n",
              "    <tr>\n",
              "      <th>2055</th>\n",
              "      <td>888202515573088257</td>\n",
              "      <td>https://pbs.twimg.com/media/DFDw2tyUQAAAFke.jpg</td>\n",
              "      <td>2</td>\n",
              "      <td>Pembroke</td>\n",
              "      <td>0.809197</td>\n",
              "      <td>True</td>\n",
              "      <td>Rhodesian_ridgeback</td>\n",
              "      <td>0.054950</td>\n",
              "      <td>True</td>\n",
              "      <td>beagle</td>\n",
              "      <td>0.038915</td>\n",
              "      <td>True</td>\n",
              "    </tr>\n",
              "  </tbody>\n",
              "</table>\n",
              "<p>132 rows × 12 columns</p>\n",
              "</div>\n",
              "      <button class=\"colab-df-convert\" onclick=\"convertToInteractive('df-bf826cc6-01ea-4b9e-8247-ba65cd1493a5')\"\n",
              "              title=\"Convert this dataframe to an interactive table.\"\n",
              "              style=\"display:none;\">\n",
              "        \n",
              "  <svg xmlns=\"http://www.w3.org/2000/svg\" height=\"24px\"viewBox=\"0 0 24 24\"\n",
              "       width=\"24px\">\n",
              "    <path d=\"M0 0h24v24H0V0z\" fill=\"none\"/>\n",
              "    <path d=\"M18.56 5.44l.94 2.06.94-2.06 2.06-.94-2.06-.94-.94-2.06-.94 2.06-2.06.94zm-11 1L8.5 8.5l.94-2.06 2.06-.94-2.06-.94L8.5 2.5l-.94 2.06-2.06.94zm10 10l.94 2.06.94-2.06 2.06-.94-2.06-.94-.94-2.06-.94 2.06-2.06.94z\"/><path d=\"M17.41 7.96l-1.37-1.37c-.4-.4-.92-.59-1.43-.59-.52 0-1.04.2-1.43.59L10.3 9.45l-7.72 7.72c-.78.78-.78 2.05 0 2.83L4 21.41c.39.39.9.59 1.41.59.51 0 1.02-.2 1.41-.59l7.78-7.78 2.81-2.81c.8-.78.8-2.07 0-2.86zM5.41 20L4 18.59l7.72-7.72 1.47 1.35L5.41 20z\"/>\n",
              "  </svg>\n",
              "      </button>\n",
              "      \n",
              "  <style>\n",
              "    .colab-df-container {\n",
              "      display:flex;\n",
              "      flex-wrap:wrap;\n",
              "      gap: 12px;\n",
              "    }\n",
              "\n",
              "    .colab-df-convert {\n",
              "      background-color: #E8F0FE;\n",
              "      border: none;\n",
              "      border-radius: 50%;\n",
              "      cursor: pointer;\n",
              "      display: none;\n",
              "      fill: #1967D2;\n",
              "      height: 32px;\n",
              "      padding: 0 0 0 0;\n",
              "      width: 32px;\n",
              "    }\n",
              "\n",
              "    .colab-df-convert:hover {\n",
              "      background-color: #E2EBFA;\n",
              "      box-shadow: 0px 1px 2px rgba(60, 64, 67, 0.3), 0px 1px 3px 1px rgba(60, 64, 67, 0.15);\n",
              "      fill: #174EA6;\n",
              "    }\n",
              "\n",
              "    [theme=dark] .colab-df-convert {\n",
              "      background-color: #3B4455;\n",
              "      fill: #D2E3FC;\n",
              "    }\n",
              "\n",
              "    [theme=dark] .colab-df-convert:hover {\n",
              "      background-color: #434B5C;\n",
              "      box-shadow: 0px 1px 3px 1px rgba(0, 0, 0, 0.15);\n",
              "      filter: drop-shadow(0px 1px 2px rgba(0, 0, 0, 0.3));\n",
              "      fill: #FFFFFF;\n",
              "    }\n",
              "  </style>\n",
              "\n",
              "      <script>\n",
              "        const buttonEl =\n",
              "          document.querySelector('#df-bf826cc6-01ea-4b9e-8247-ba65cd1493a5 button.colab-df-convert');\n",
              "        buttonEl.style.display =\n",
              "          google.colab.kernel.accessAllowed ? 'block' : 'none';\n",
              "\n",
              "        async function convertToInteractive(key) {\n",
              "          const element = document.querySelector('#df-bf826cc6-01ea-4b9e-8247-ba65cd1493a5');\n",
              "          const dataTable =\n",
              "            await google.colab.kernel.invokeFunction('convertToInteractive',\n",
              "                                                     [key], {});\n",
              "          if (!dataTable) return;\n",
              "\n",
              "          const docLinkHtml = 'Like what you see? Visit the ' +\n",
              "            '<a target=\"_blank\" href=https://colab.research.google.com/notebooks/data_table.ipynb>data table notebook</a>'\n",
              "            + ' to learn more about interactive tables.';\n",
              "          element.innerHTML = '';\n",
              "          dataTable['output_type'] = 'display_data';\n",
              "          await google.colab.output.renderOutput(dataTable, element);\n",
              "          const docLink = document.createElement('div');\n",
              "          docLink.innerHTML = docLinkHtml;\n",
              "          element.appendChild(docLink);\n",
              "        }\n",
              "      </script>\n",
              "    </div>\n",
              "  </div>\n",
              "  "
            ]
          },
          "metadata": {},
          "execution_count": 43
        }
      ]
    },
    {
      "cell_type": "markdown",
      "source": [
        "### 3. Tweet Json data"
      ],
      "metadata": {
        "id": "SvOmxKg5KqCw"
      }
    },
    {
      "cell_type": "code",
      "source": [
        "tweet_data.head()"
      ],
      "metadata": {
        "colab": {
          "base_uri": "https://localhost:8080/",
          "height": 206
        },
        "id": "0IH-dM1jHYzq",
        "outputId": "7739eb48-279d-483a-f641-4ca09db68777"
      },
      "execution_count": null,
      "outputs": [
        {
          "output_type": "execute_result",
          "data": {
            "text/plain": [
              "             tweet_id  retweet_count  favorite_count\n",
              "0  892420643555336193           8853           39467\n",
              "1  892177421306343426           6514           33819\n",
              "2  891815181378084864           4328           25461\n",
              "3  891689557279858688           8964           42908\n",
              "4  891327558926688256           9774           41048"
            ],
            "text/html": [
              "\n",
              "  <div id=\"df-bed190bd-a438-4b77-b670-389fa585f2f2\">\n",
              "    <div class=\"colab-df-container\">\n",
              "      <div>\n",
              "<style scoped>\n",
              "    .dataframe tbody tr th:only-of-type {\n",
              "        vertical-align: middle;\n",
              "    }\n",
              "\n",
              "    .dataframe tbody tr th {\n",
              "        vertical-align: top;\n",
              "    }\n",
              "\n",
              "    .dataframe thead th {\n",
              "        text-align: right;\n",
              "    }\n",
              "</style>\n",
              "<table border=\"1\" class=\"dataframe\">\n",
              "  <thead>\n",
              "    <tr style=\"text-align: right;\">\n",
              "      <th></th>\n",
              "      <th>tweet_id</th>\n",
              "      <th>retweet_count</th>\n",
              "      <th>favorite_count</th>\n",
              "    </tr>\n",
              "  </thead>\n",
              "  <tbody>\n",
              "    <tr>\n",
              "      <th>0</th>\n",
              "      <td>892420643555336193</td>\n",
              "      <td>8853</td>\n",
              "      <td>39467</td>\n",
              "    </tr>\n",
              "    <tr>\n",
              "      <th>1</th>\n",
              "      <td>892177421306343426</td>\n",
              "      <td>6514</td>\n",
              "      <td>33819</td>\n",
              "    </tr>\n",
              "    <tr>\n",
              "      <th>2</th>\n",
              "      <td>891815181378084864</td>\n",
              "      <td>4328</td>\n",
              "      <td>25461</td>\n",
              "    </tr>\n",
              "    <tr>\n",
              "      <th>3</th>\n",
              "      <td>891689557279858688</td>\n",
              "      <td>8964</td>\n",
              "      <td>42908</td>\n",
              "    </tr>\n",
              "    <tr>\n",
              "      <th>4</th>\n",
              "      <td>891327558926688256</td>\n",
              "      <td>9774</td>\n",
              "      <td>41048</td>\n",
              "    </tr>\n",
              "  </tbody>\n",
              "</table>\n",
              "</div>\n",
              "      <button class=\"colab-df-convert\" onclick=\"convertToInteractive('df-bed190bd-a438-4b77-b670-389fa585f2f2')\"\n",
              "              title=\"Convert this dataframe to an interactive table.\"\n",
              "              style=\"display:none;\">\n",
              "        \n",
              "  <svg xmlns=\"http://www.w3.org/2000/svg\" height=\"24px\"viewBox=\"0 0 24 24\"\n",
              "       width=\"24px\">\n",
              "    <path d=\"M0 0h24v24H0V0z\" fill=\"none\"/>\n",
              "    <path d=\"M18.56 5.44l.94 2.06.94-2.06 2.06-.94-2.06-.94-.94-2.06-.94 2.06-2.06.94zm-11 1L8.5 8.5l.94-2.06 2.06-.94-2.06-.94L8.5 2.5l-.94 2.06-2.06.94zm10 10l.94 2.06.94-2.06 2.06-.94-2.06-.94-.94-2.06-.94 2.06-2.06.94z\"/><path d=\"M17.41 7.96l-1.37-1.37c-.4-.4-.92-.59-1.43-.59-.52 0-1.04.2-1.43.59L10.3 9.45l-7.72 7.72c-.78.78-.78 2.05 0 2.83L4 21.41c.39.39.9.59 1.41.59.51 0 1.02-.2 1.41-.59l7.78-7.78 2.81-2.81c.8-.78.8-2.07 0-2.86zM5.41 20L4 18.59l7.72-7.72 1.47 1.35L5.41 20z\"/>\n",
              "  </svg>\n",
              "      </button>\n",
              "      \n",
              "  <style>\n",
              "    .colab-df-container {\n",
              "      display:flex;\n",
              "      flex-wrap:wrap;\n",
              "      gap: 12px;\n",
              "    }\n",
              "\n",
              "    .colab-df-convert {\n",
              "      background-color: #E8F0FE;\n",
              "      border: none;\n",
              "      border-radius: 50%;\n",
              "      cursor: pointer;\n",
              "      display: none;\n",
              "      fill: #1967D2;\n",
              "      height: 32px;\n",
              "      padding: 0 0 0 0;\n",
              "      width: 32px;\n",
              "    }\n",
              "\n",
              "    .colab-df-convert:hover {\n",
              "      background-color: #E2EBFA;\n",
              "      box-shadow: 0px 1px 2px rgba(60, 64, 67, 0.3), 0px 1px 3px 1px rgba(60, 64, 67, 0.15);\n",
              "      fill: #174EA6;\n",
              "    }\n",
              "\n",
              "    [theme=dark] .colab-df-convert {\n",
              "      background-color: #3B4455;\n",
              "      fill: #D2E3FC;\n",
              "    }\n",
              "\n",
              "    [theme=dark] .colab-df-convert:hover {\n",
              "      background-color: #434B5C;\n",
              "      box-shadow: 0px 1px 3px 1px rgba(0, 0, 0, 0.15);\n",
              "      filter: drop-shadow(0px 1px 2px rgba(0, 0, 0, 0.3));\n",
              "      fill: #FFFFFF;\n",
              "    }\n",
              "  </style>\n",
              "\n",
              "      <script>\n",
              "        const buttonEl =\n",
              "          document.querySelector('#df-bed190bd-a438-4b77-b670-389fa585f2f2 button.colab-df-convert');\n",
              "        buttonEl.style.display =\n",
              "          google.colab.kernel.accessAllowed ? 'block' : 'none';\n",
              "\n",
              "        async function convertToInteractive(key) {\n",
              "          const element = document.querySelector('#df-bed190bd-a438-4b77-b670-389fa585f2f2');\n",
              "          const dataTable =\n",
              "            await google.colab.kernel.invokeFunction('convertToInteractive',\n",
              "                                                     [key], {});\n",
              "          if (!dataTable) return;\n",
              "\n",
              "          const docLinkHtml = 'Like what you see? Visit the ' +\n",
              "            '<a target=\"_blank\" href=https://colab.research.google.com/notebooks/data_table.ipynb>data table notebook</a>'\n",
              "            + ' to learn more about interactive tables.';\n",
              "          element.innerHTML = '';\n",
              "          dataTable['output_type'] = 'display_data';\n",
              "          await google.colab.output.renderOutput(dataTable, element);\n",
              "          const docLink = document.createElement('div');\n",
              "          docLink.innerHTML = docLinkHtml;\n",
              "          element.appendChild(docLink);\n",
              "        }\n",
              "      </script>\n",
              "    </div>\n",
              "  </div>\n",
              "  "
            ]
          },
          "metadata": {},
          "execution_count": 44
        }
      ]
    },
    {
      "cell_type": "markdown",
      "source": [
        "3.1. Checking for all duplicate rows"
      ],
      "metadata": {
        "id": "0BxdCOQFa4UW"
      }
    },
    {
      "cell_type": "code",
      "source": [
        "tweet_data[tweet_data.duplicated() == True]"
      ],
      "metadata": {
        "colab": {
          "base_uri": "https://localhost:8080/",
          "height": 49
        },
        "id": "1X2F7EPcHY3M",
        "outputId": "1bc7125d-f53a-4c8a-aec8-b8fc15cac357"
      },
      "execution_count": null,
      "outputs": [
        {
          "output_type": "execute_result",
          "data": {
            "text/plain": [
              "Empty DataFrame\n",
              "Columns: [tweet_id, retweet_count, favorite_count]\n",
              "Index: []"
            ],
            "text/html": [
              "\n",
              "  <div id=\"df-26e3b1a0-8627-411b-8316-69acbfee3903\">\n",
              "    <div class=\"colab-df-container\">\n",
              "      <div>\n",
              "<style scoped>\n",
              "    .dataframe tbody tr th:only-of-type {\n",
              "        vertical-align: middle;\n",
              "    }\n",
              "\n",
              "    .dataframe tbody tr th {\n",
              "        vertical-align: top;\n",
              "    }\n",
              "\n",
              "    .dataframe thead th {\n",
              "        text-align: right;\n",
              "    }\n",
              "</style>\n",
              "<table border=\"1\" class=\"dataframe\">\n",
              "  <thead>\n",
              "    <tr style=\"text-align: right;\">\n",
              "      <th></th>\n",
              "      <th>tweet_id</th>\n",
              "      <th>retweet_count</th>\n",
              "      <th>favorite_count</th>\n",
              "    </tr>\n",
              "  </thead>\n",
              "  <tbody>\n",
              "  </tbody>\n",
              "</table>\n",
              "</div>\n",
              "      <button class=\"colab-df-convert\" onclick=\"convertToInteractive('df-26e3b1a0-8627-411b-8316-69acbfee3903')\"\n",
              "              title=\"Convert this dataframe to an interactive table.\"\n",
              "              style=\"display:none;\">\n",
              "        \n",
              "  <svg xmlns=\"http://www.w3.org/2000/svg\" height=\"24px\"viewBox=\"0 0 24 24\"\n",
              "       width=\"24px\">\n",
              "    <path d=\"M0 0h24v24H0V0z\" fill=\"none\"/>\n",
              "    <path d=\"M18.56 5.44l.94 2.06.94-2.06 2.06-.94-2.06-.94-.94-2.06-.94 2.06-2.06.94zm-11 1L8.5 8.5l.94-2.06 2.06-.94-2.06-.94L8.5 2.5l-.94 2.06-2.06.94zm10 10l.94 2.06.94-2.06 2.06-.94-2.06-.94-.94-2.06-.94 2.06-2.06.94z\"/><path d=\"M17.41 7.96l-1.37-1.37c-.4-.4-.92-.59-1.43-.59-.52 0-1.04.2-1.43.59L10.3 9.45l-7.72 7.72c-.78.78-.78 2.05 0 2.83L4 21.41c.39.39.9.59 1.41.59.51 0 1.02-.2 1.41-.59l7.78-7.78 2.81-2.81c.8-.78.8-2.07 0-2.86zM5.41 20L4 18.59l7.72-7.72 1.47 1.35L5.41 20z\"/>\n",
              "  </svg>\n",
              "      </button>\n",
              "      \n",
              "  <style>\n",
              "    .colab-df-container {\n",
              "      display:flex;\n",
              "      flex-wrap:wrap;\n",
              "      gap: 12px;\n",
              "    }\n",
              "\n",
              "    .colab-df-convert {\n",
              "      background-color: #E8F0FE;\n",
              "      border: none;\n",
              "      border-radius: 50%;\n",
              "      cursor: pointer;\n",
              "      display: none;\n",
              "      fill: #1967D2;\n",
              "      height: 32px;\n",
              "      padding: 0 0 0 0;\n",
              "      width: 32px;\n",
              "    }\n",
              "\n",
              "    .colab-df-convert:hover {\n",
              "      background-color: #E2EBFA;\n",
              "      box-shadow: 0px 1px 2px rgba(60, 64, 67, 0.3), 0px 1px 3px 1px rgba(60, 64, 67, 0.15);\n",
              "      fill: #174EA6;\n",
              "    }\n",
              "\n",
              "    [theme=dark] .colab-df-convert {\n",
              "      background-color: #3B4455;\n",
              "      fill: #D2E3FC;\n",
              "    }\n",
              "\n",
              "    [theme=dark] .colab-df-convert:hover {\n",
              "      background-color: #434B5C;\n",
              "      box-shadow: 0px 1px 3px 1px rgba(0, 0, 0, 0.15);\n",
              "      filter: drop-shadow(0px 1px 2px rgba(0, 0, 0, 0.3));\n",
              "      fill: #FFFFFF;\n",
              "    }\n",
              "  </style>\n",
              "\n",
              "      <script>\n",
              "        const buttonEl =\n",
              "          document.querySelector('#df-26e3b1a0-8627-411b-8316-69acbfee3903 button.colab-df-convert');\n",
              "        buttonEl.style.display =\n",
              "          google.colab.kernel.accessAllowed ? 'block' : 'none';\n",
              "\n",
              "        async function convertToInteractive(key) {\n",
              "          const element = document.querySelector('#df-26e3b1a0-8627-411b-8316-69acbfee3903');\n",
              "          const dataTable =\n",
              "            await google.colab.kernel.invokeFunction('convertToInteractive',\n",
              "                                                     [key], {});\n",
              "          if (!dataTable) return;\n",
              "\n",
              "          const docLinkHtml = 'Like what you see? Visit the ' +\n",
              "            '<a target=\"_blank\" href=https://colab.research.google.com/notebooks/data_table.ipynb>data table notebook</a>'\n",
              "            + ' to learn more about interactive tables.';\n",
              "          element.innerHTML = '';\n",
              "          dataTable['output_type'] = 'display_data';\n",
              "          await google.colab.output.renderOutput(dataTable, element);\n",
              "          const docLink = document.createElement('div');\n",
              "          docLink.innerHTML = docLinkHtml;\n",
              "          element.appendChild(docLink);\n",
              "        }\n",
              "      </script>\n",
              "    </div>\n",
              "  </div>\n",
              "  "
            ]
          },
          "metadata": {},
          "execution_count": 45
        }
      ]
    },
    {
      "cell_type": "code",
      "source": [
        "tweet_data[tweet_data['tweet_id'].duplicated()]"
      ],
      "metadata": {
        "colab": {
          "base_uri": "https://localhost:8080/",
          "height": 49
        },
        "id": "B0TgQ8-lKyC9",
        "outputId": "7a38c2dc-e1b1-4b97-9389-7c91a8ea1bcf"
      },
      "execution_count": null,
      "outputs": [
        {
          "output_type": "execute_result",
          "data": {
            "text/plain": [
              "Empty DataFrame\n",
              "Columns: [tweet_id, retweet_count, favorite_count]\n",
              "Index: []"
            ],
            "text/html": [
              "\n",
              "  <div id=\"df-20130d0a-c7ff-4ac7-9e74-3d2d34061a67\">\n",
              "    <div class=\"colab-df-container\">\n",
              "      <div>\n",
              "<style scoped>\n",
              "    .dataframe tbody tr th:only-of-type {\n",
              "        vertical-align: middle;\n",
              "    }\n",
              "\n",
              "    .dataframe tbody tr th {\n",
              "        vertical-align: top;\n",
              "    }\n",
              "\n",
              "    .dataframe thead th {\n",
              "        text-align: right;\n",
              "    }\n",
              "</style>\n",
              "<table border=\"1\" class=\"dataframe\">\n",
              "  <thead>\n",
              "    <tr style=\"text-align: right;\">\n",
              "      <th></th>\n",
              "      <th>tweet_id</th>\n",
              "      <th>retweet_count</th>\n",
              "      <th>favorite_count</th>\n",
              "    </tr>\n",
              "  </thead>\n",
              "  <tbody>\n",
              "  </tbody>\n",
              "</table>\n",
              "</div>\n",
              "      <button class=\"colab-df-convert\" onclick=\"convertToInteractive('df-20130d0a-c7ff-4ac7-9e74-3d2d34061a67')\"\n",
              "              title=\"Convert this dataframe to an interactive table.\"\n",
              "              style=\"display:none;\">\n",
              "        \n",
              "  <svg xmlns=\"http://www.w3.org/2000/svg\" height=\"24px\"viewBox=\"0 0 24 24\"\n",
              "       width=\"24px\">\n",
              "    <path d=\"M0 0h24v24H0V0z\" fill=\"none\"/>\n",
              "    <path d=\"M18.56 5.44l.94 2.06.94-2.06 2.06-.94-2.06-.94-.94-2.06-.94 2.06-2.06.94zm-11 1L8.5 8.5l.94-2.06 2.06-.94-2.06-.94L8.5 2.5l-.94 2.06-2.06.94zm10 10l.94 2.06.94-2.06 2.06-.94-2.06-.94-.94-2.06-.94 2.06-2.06.94z\"/><path d=\"M17.41 7.96l-1.37-1.37c-.4-.4-.92-.59-1.43-.59-.52 0-1.04.2-1.43.59L10.3 9.45l-7.72 7.72c-.78.78-.78 2.05 0 2.83L4 21.41c.39.39.9.59 1.41.59.51 0 1.02-.2 1.41-.59l7.78-7.78 2.81-2.81c.8-.78.8-2.07 0-2.86zM5.41 20L4 18.59l7.72-7.72 1.47 1.35L5.41 20z\"/>\n",
              "  </svg>\n",
              "      </button>\n",
              "      \n",
              "  <style>\n",
              "    .colab-df-container {\n",
              "      display:flex;\n",
              "      flex-wrap:wrap;\n",
              "      gap: 12px;\n",
              "    }\n",
              "\n",
              "    .colab-df-convert {\n",
              "      background-color: #E8F0FE;\n",
              "      border: none;\n",
              "      border-radius: 50%;\n",
              "      cursor: pointer;\n",
              "      display: none;\n",
              "      fill: #1967D2;\n",
              "      height: 32px;\n",
              "      padding: 0 0 0 0;\n",
              "      width: 32px;\n",
              "    }\n",
              "\n",
              "    .colab-df-convert:hover {\n",
              "      background-color: #E2EBFA;\n",
              "      box-shadow: 0px 1px 2px rgba(60, 64, 67, 0.3), 0px 1px 3px 1px rgba(60, 64, 67, 0.15);\n",
              "      fill: #174EA6;\n",
              "    }\n",
              "\n",
              "    [theme=dark] .colab-df-convert {\n",
              "      background-color: #3B4455;\n",
              "      fill: #D2E3FC;\n",
              "    }\n",
              "\n",
              "    [theme=dark] .colab-df-convert:hover {\n",
              "      background-color: #434B5C;\n",
              "      box-shadow: 0px 1px 3px 1px rgba(0, 0, 0, 0.15);\n",
              "      filter: drop-shadow(0px 1px 2px rgba(0, 0, 0, 0.3));\n",
              "      fill: #FFFFFF;\n",
              "    }\n",
              "  </style>\n",
              "\n",
              "      <script>\n",
              "        const buttonEl =\n",
              "          document.querySelector('#df-20130d0a-c7ff-4ac7-9e74-3d2d34061a67 button.colab-df-convert');\n",
              "        buttonEl.style.display =\n",
              "          google.colab.kernel.accessAllowed ? 'block' : 'none';\n",
              "\n",
              "        async function convertToInteractive(key) {\n",
              "          const element = document.querySelector('#df-20130d0a-c7ff-4ac7-9e74-3d2d34061a67');\n",
              "          const dataTable =\n",
              "            await google.colab.kernel.invokeFunction('convertToInteractive',\n",
              "                                                     [key], {});\n",
              "          if (!dataTable) return;\n",
              "\n",
              "          const docLinkHtml = 'Like what you see? Visit the ' +\n",
              "            '<a target=\"_blank\" href=https://colab.research.google.com/notebooks/data_table.ipynb>data table notebook</a>'\n",
              "            + ' to learn more about interactive tables.';\n",
              "          element.innerHTML = '';\n",
              "          dataTable['output_type'] = 'display_data';\n",
              "          await google.colab.output.renderOutput(dataTable, element);\n",
              "          const docLink = document.createElement('div');\n",
              "          docLink.innerHTML = docLinkHtml;\n",
              "          element.appendChild(docLink);\n",
              "        }\n",
              "      </script>\n",
              "    </div>\n",
              "  </div>\n",
              "  "
            ]
          },
          "metadata": {},
          "execution_count": 46
        }
      ]
    },
    {
      "cell_type": "markdown",
      "source": [
        "3.2. Checking rows where both the retweet_count and favorite_count values are duplicated"
      ],
      "metadata": {
        "id": "cNYB1SvXbA0N"
      }
    },
    {
      "cell_type": "code",
      "source": [
        "# Identify instances where both the retweet_count and favorite_count values are duplicated.\n",
        "tweet_data[(tweet_data['retweet_count'].duplicated()) & (tweet_data['favorite_count'].duplicated())].T"
      ],
      "metadata": {
        "colab": {
          "base_uri": "https://localhost:8080/",
          "height": 237
        },
        "id": "xaWY9tonKyF6",
        "outputId": "0c813d57-1fa0-414c-f741-93d62a15fbd8"
      },
      "execution_count": null,
      "outputs": [
        {
          "output_type": "execute_result",
          "data": {
            "text/plain": [
              "                              444                 487                 715   \\\n",
              "tweet_id        819227688460238848  813944609378369540  783821107061198850   \n",
              "retweet_count                 7733                3732                2269   \n",
              "favorite_count               25652                   0                8209   \n",
              "\n",
              "                              740                 812                 827   \\\n",
              "tweet_id        780496263422808064  771102124360998913  768909767477751808   \n",
              "retweet_count                 4319                1663                3129   \n",
              "favorite_count                   0                6898                   0   \n",
              "\n",
              "                              845                 860                 883   \\\n",
              "tweet_id        766078092750233600  762699858130116608  760153949710192640   \n",
              "retweet_count                 2970                4190                  38   \n",
              "favorite_count                   0               13518                   0   \n",
              "\n",
              "                              914   ...                2265  \\\n",
              "tweet_id        756998049151549440  ...  667524857454854144   \n",
              "retweet_count                 2271  ...                1198   \n",
              "favorite_count                6923  ...                1798   \n",
              "\n",
              "                              2274                2292                2293  \\\n",
              "tweet_id        667443425659232256  667138269671505920  667119796878725120   \n",
              "retweet_count                  620                2387                 135   \n",
              "favorite_count                 833                4851                 346   \n",
              "\n",
              "                              2304                2307                2316  \\\n",
              "tweet_id        666835007768551424  666804364988780544  666454714377183233   \n",
              "retweet_count                   83                  95                 223   \n",
              "favorite_count                 222                 250                 545   \n",
              "\n",
              "                              2322                2328                2344  \n",
              "tweet_id        666421158376562688  666362758909284353  666058600524156928  \n",
              "retweet_count                  118                 595                  61  \n",
              "favorite_count                 327                 804                 115  \n",
              "\n",
              "[3 rows x 68 columns]"
            ],
            "text/html": [
              "\n",
              "  <div id=\"df-bba08e34-9208-4082-b7ca-11af7cdfafc4\">\n",
              "    <div class=\"colab-df-container\">\n",
              "      <div>\n",
              "<style scoped>\n",
              "    .dataframe tbody tr th:only-of-type {\n",
              "        vertical-align: middle;\n",
              "    }\n",
              "\n",
              "    .dataframe tbody tr th {\n",
              "        vertical-align: top;\n",
              "    }\n",
              "\n",
              "    .dataframe thead th {\n",
              "        text-align: right;\n",
              "    }\n",
              "</style>\n",
              "<table border=\"1\" class=\"dataframe\">\n",
              "  <thead>\n",
              "    <tr style=\"text-align: right;\">\n",
              "      <th></th>\n",
              "      <th>444</th>\n",
              "      <th>487</th>\n",
              "      <th>715</th>\n",
              "      <th>740</th>\n",
              "      <th>812</th>\n",
              "      <th>827</th>\n",
              "      <th>845</th>\n",
              "      <th>860</th>\n",
              "      <th>883</th>\n",
              "      <th>914</th>\n",
              "      <th>...</th>\n",
              "      <th>2265</th>\n",
              "      <th>2274</th>\n",
              "      <th>2292</th>\n",
              "      <th>2293</th>\n",
              "      <th>2304</th>\n",
              "      <th>2307</th>\n",
              "      <th>2316</th>\n",
              "      <th>2322</th>\n",
              "      <th>2328</th>\n",
              "      <th>2344</th>\n",
              "    </tr>\n",
              "  </thead>\n",
              "  <tbody>\n",
              "    <tr>\n",
              "      <th>tweet_id</th>\n",
              "      <td>819227688460238848</td>\n",
              "      <td>813944609378369540</td>\n",
              "      <td>783821107061198850</td>\n",
              "      <td>780496263422808064</td>\n",
              "      <td>771102124360998913</td>\n",
              "      <td>768909767477751808</td>\n",
              "      <td>766078092750233600</td>\n",
              "      <td>762699858130116608</td>\n",
              "      <td>760153949710192640</td>\n",
              "      <td>756998049151549440</td>\n",
              "      <td>...</td>\n",
              "      <td>667524857454854144</td>\n",
              "      <td>667443425659232256</td>\n",
              "      <td>667138269671505920</td>\n",
              "      <td>667119796878725120</td>\n",
              "      <td>666835007768551424</td>\n",
              "      <td>666804364988780544</td>\n",
              "      <td>666454714377183233</td>\n",
              "      <td>666421158376562688</td>\n",
              "      <td>666362758909284353</td>\n",
              "      <td>666058600524156928</td>\n",
              "    </tr>\n",
              "    <tr>\n",
              "      <th>retweet_count</th>\n",
              "      <td>7733</td>\n",
              "      <td>3732</td>\n",
              "      <td>2269</td>\n",
              "      <td>4319</td>\n",
              "      <td>1663</td>\n",
              "      <td>3129</td>\n",
              "      <td>2970</td>\n",
              "      <td>4190</td>\n",
              "      <td>38</td>\n",
              "      <td>2271</td>\n",
              "      <td>...</td>\n",
              "      <td>1198</td>\n",
              "      <td>620</td>\n",
              "      <td>2387</td>\n",
              "      <td>135</td>\n",
              "      <td>83</td>\n",
              "      <td>95</td>\n",
              "      <td>223</td>\n",
              "      <td>118</td>\n",
              "      <td>595</td>\n",
              "      <td>61</td>\n",
              "    </tr>\n",
              "    <tr>\n",
              "      <th>favorite_count</th>\n",
              "      <td>25652</td>\n",
              "      <td>0</td>\n",
              "      <td>8209</td>\n",
              "      <td>0</td>\n",
              "      <td>6898</td>\n",
              "      <td>0</td>\n",
              "      <td>0</td>\n",
              "      <td>13518</td>\n",
              "      <td>0</td>\n",
              "      <td>6923</td>\n",
              "      <td>...</td>\n",
              "      <td>1798</td>\n",
              "      <td>833</td>\n",
              "      <td>4851</td>\n",
              "      <td>346</td>\n",
              "      <td>222</td>\n",
              "      <td>250</td>\n",
              "      <td>545</td>\n",
              "      <td>327</td>\n",
              "      <td>804</td>\n",
              "      <td>115</td>\n",
              "    </tr>\n",
              "  </tbody>\n",
              "</table>\n",
              "<p>3 rows × 68 columns</p>\n",
              "</div>\n",
              "      <button class=\"colab-df-convert\" onclick=\"convertToInteractive('df-bba08e34-9208-4082-b7ca-11af7cdfafc4')\"\n",
              "              title=\"Convert this dataframe to an interactive table.\"\n",
              "              style=\"display:none;\">\n",
              "        \n",
              "  <svg xmlns=\"http://www.w3.org/2000/svg\" height=\"24px\"viewBox=\"0 0 24 24\"\n",
              "       width=\"24px\">\n",
              "    <path d=\"M0 0h24v24H0V0z\" fill=\"none\"/>\n",
              "    <path d=\"M18.56 5.44l.94 2.06.94-2.06 2.06-.94-2.06-.94-.94-2.06-.94 2.06-2.06.94zm-11 1L8.5 8.5l.94-2.06 2.06-.94-2.06-.94L8.5 2.5l-.94 2.06-2.06.94zm10 10l.94 2.06.94-2.06 2.06-.94-2.06-.94-.94-2.06-.94 2.06-2.06.94z\"/><path d=\"M17.41 7.96l-1.37-1.37c-.4-.4-.92-.59-1.43-.59-.52 0-1.04.2-1.43.59L10.3 9.45l-7.72 7.72c-.78.78-.78 2.05 0 2.83L4 21.41c.39.39.9.59 1.41.59.51 0 1.02-.2 1.41-.59l7.78-7.78 2.81-2.81c.8-.78.8-2.07 0-2.86zM5.41 20L4 18.59l7.72-7.72 1.47 1.35L5.41 20z\"/>\n",
              "  </svg>\n",
              "      </button>\n",
              "      \n",
              "  <style>\n",
              "    .colab-df-container {\n",
              "      display:flex;\n",
              "      flex-wrap:wrap;\n",
              "      gap: 12px;\n",
              "    }\n",
              "\n",
              "    .colab-df-convert {\n",
              "      background-color: #E8F0FE;\n",
              "      border: none;\n",
              "      border-radius: 50%;\n",
              "      cursor: pointer;\n",
              "      display: none;\n",
              "      fill: #1967D2;\n",
              "      height: 32px;\n",
              "      padding: 0 0 0 0;\n",
              "      width: 32px;\n",
              "    }\n",
              "\n",
              "    .colab-df-convert:hover {\n",
              "      background-color: #E2EBFA;\n",
              "      box-shadow: 0px 1px 2px rgba(60, 64, 67, 0.3), 0px 1px 3px 1px rgba(60, 64, 67, 0.15);\n",
              "      fill: #174EA6;\n",
              "    }\n",
              "\n",
              "    [theme=dark] .colab-df-convert {\n",
              "      background-color: #3B4455;\n",
              "      fill: #D2E3FC;\n",
              "    }\n",
              "\n",
              "    [theme=dark] .colab-df-convert:hover {\n",
              "      background-color: #434B5C;\n",
              "      box-shadow: 0px 1px 3px 1px rgba(0, 0, 0, 0.15);\n",
              "      filter: drop-shadow(0px 1px 2px rgba(0, 0, 0, 0.3));\n",
              "      fill: #FFFFFF;\n",
              "    }\n",
              "  </style>\n",
              "\n",
              "      <script>\n",
              "        const buttonEl =\n",
              "          document.querySelector('#df-bba08e34-9208-4082-b7ca-11af7cdfafc4 button.colab-df-convert');\n",
              "        buttonEl.style.display =\n",
              "          google.colab.kernel.accessAllowed ? 'block' : 'none';\n",
              "\n",
              "        async function convertToInteractive(key) {\n",
              "          const element = document.querySelector('#df-bba08e34-9208-4082-b7ca-11af7cdfafc4');\n",
              "          const dataTable =\n",
              "            await google.colab.kernel.invokeFunction('convertToInteractive',\n",
              "                                                     [key], {});\n",
              "          if (!dataTable) return;\n",
              "\n",
              "          const docLinkHtml = 'Like what you see? Visit the ' +\n",
              "            '<a target=\"_blank\" href=https://colab.research.google.com/notebooks/data_table.ipynb>data table notebook</a>'\n",
              "            + ' to learn more about interactive tables.';\n",
              "          element.innerHTML = '';\n",
              "          dataTable['output_type'] = 'display_data';\n",
              "          await google.colab.output.renderOutput(dataTable, element);\n",
              "          const docLink = document.createElement('div');\n",
              "          docLink.innerHTML = docLinkHtml;\n",
              "          element.appendChild(docLink);\n",
              "        }\n",
              "      </script>\n",
              "    </div>\n",
              "  </div>\n",
              "  "
            ]
          },
          "metadata": {},
          "execution_count": 47
        }
      ]
    },
    {
      "cell_type": "markdown",
      "metadata": {
        "id": "GrLD7RC0IBYQ"
      },
      "source": [
        "## Quality issues for each table\n",
        "### Twitter_archive_enhanced\n",
        "\n",
        "\n",
        "- The columns name, doggo, floofer, pupper, and puppo have values labeled as \"None.\"\n",
        "- The values in the source column are not easily readable by humans.\n",
        "- The name column contains invalid data such as \"such,\" \"quite,\" \"a,\" and \"an.\"\n",
        "- The rating_denominator column has values other than the assumed standard of 10 in some instances, which may indicate inaccurate data.\n",
        "- The rating_numerator column contains exceptionally high values, resulting in exceptionally high ratings, which could be inaccurate.\n",
        "- There are six instances of incorrectly entered rating_numerator values.\n",
        "- Some tweets are retweets of @dog_rates, which is the Twitter handle for We Rate Dogs.\n",
        "\n",
        "### Image Predictions\n",
        "\n",
        "- The usage of underscores instead of spaces in the values of the p1, p2, and p3 columns is inconsistent. Additionally, the capitalization of the values varies, with some in uppercase and others in lowercase.\n",
        "- The column names lack clear and descriptive labels, making it difficult to understand their meaning and purpose.\n",
        "- There are instances where duplicate predictions of images exist, with different tweet IDs but identical jpg_urls. The remaining data in these instances is the same.\n",
        "\n",
        "### Tweets-Json\n",
        "- The tweet identifier column is labeled differently as \"tweet_id\" in this case, whereas it may be referred to as \"id\" in other contexts. It is worth noting that there are instances where the values of retweet_count and favorite_count appear to be duplicated in certain rows, which raises doubts about their accuracy or uniqueness."
      ]
    },
    {
      "cell_type": "markdown",
      "metadata": {
        "extensions": {
          "jupyter_dashboards": {
            "version": 1,
            "views": {
              "grid_default": {
                "col": 0,
                "height": 7,
                "hidden": false,
                "row": 40,
                "width": 12
              },
              "report_default": {
                "hidden": false
              }
            }
          }
        },
        "id": "tpXtMpHOIBYR"
      },
      "source": [
        "### Tidiness issues\n",
        "- The dataset includes a categorization variable called \"dog_comb_stage,\" which is spread across four columns: doggo, floofer, pupper, and puppo. This variable represents different stages of a dog's life, and its distribution is divided among these four columns.\n",
        "- The objective of the task is to merge two tables, aiming to integrate the information or data they contain. Through this merging process, a holistic perspective can be achieved by combining the relevant data from both sources. This consolidation allows for a more comprehensive analysis and understanding of the data."
      ]
    },
    {
      "cell_type": "markdown",
      "metadata": {
        "extensions": {
          "jupyter_dashboards": {
            "version": 1,
            "views": {
              "grid_default": {
                "col": 4,
                "height": 4,
                "hidden": false,
                "row": 32,
                "width": 4
              },
              "report_default": {
                "hidden": false
              }
            }
          }
        },
        "id": "rtmyz841IBYR"
      },
      "source": [
        "## Cleaning Data\n"
      ]
    },
    {
      "cell_type": "markdown",
      "source": [
        "Cleaning your data is the third step in data wrangling. It is where we will fix the quality and tidiness issues that we identified in the assess step. Here, we'll resolve all of the issues mentioned above, one at a time"
      ],
      "metadata": {
        "id": "2GwhePnSNhnv"
      }
    },
    {
      "cell_type": "markdown",
      "source": [
        "To ensure efficiency and avoid repetitive code in the future, a systematic plan will be followed for this section. The plan includes addressing the following areas:\n",
        "\n",
        "1. Handling Missing Data: Any missing data will be identified and appropriate strategies will be implemented to handle them effectively.\n",
        "\n",
        "2. Resolving Tidiness Issues: Tidiness issues within the data will be addressed by restructuring and organizing it in a more coherent and standardized format.\n",
        "\n",
        "3. Addressing Other Quality Issues: Various quality issues, such as inconsistencies, inaccuracies, or anomalies, will be examined and resolved to ensure the overall data integrity and reliability.\n",
        "\n",
        "By tackling each of these areas systematically, we can methodically address the identified issues and improve the overall quality and usability of the data."
      ],
      "metadata": {
        "id": "9JboVAjdNuqK"
      }
    },
    {
      "cell_type": "markdown",
      "source": [
        "To ensure efficiency and avoid repetitive code in the future, a systematic plan will be followed for this section. The plan includes addressing the following areas:\n",
        "\n",
        "1. Handling Missing Data: Any missing data will be identified and appropriate strategies will be implemented to handle them effectively.\n",
        "\n",
        "2. Resolving Tidiness Issues: Tidiness issues within the data will be addressed by restructuring and organizing it in a more coherent and standardized format.\n",
        "\n",
        "3. Addressing Other Quality Issues: Various quality issues, such as inconsistencies, inaccuracies, or anomalies, will be examined and resolved to ensure the overall data integrity and reliability.\n",
        "\n",
        "By tackling each of these areas systematically, we can methodically address the identified issues and improve the overall quality and usability of the data."
      ],
      "metadata": {
        "id": "npDnyygOIj0W"
      }
    },
    {
      "cell_type": "markdown",
      "source": [
        "4.0. Creating all the copies for each data"
      ],
      "metadata": {
        "id": "iAaegWKqbUDv"
      }
    },
    {
      "cell_type": "code",
      "execution_count": null,
      "metadata": {
        "id": "lLaWqnmxIBYR"
      },
      "outputs": [],
      "source": [
        "# Creating copies of the three dataframes so that we can work on them\n",
        "tweet_cleaned = twitter_archive_enhanced.copy()\n",
        "img_cleaned = image_predictions.copy()\n",
        "tweet_cnt_cleaned = tweet_data.copy()"
      ]
    },
    {
      "cell_type": "markdown",
      "source": [
        "**4.1.** Several columns in the dataset contain missing values, including in_reply_to_status_id, in_reply_to_user_id, retweeted_status_id, retweeted_status_user_id, retweeted_status_timestamp, and expanded_urls."
      ],
      "metadata": {
        "id": "hlshZWY6JP_v"
      }
    },
    {
      "cell_type": "markdown",
      "source": [
        "**Define**: To streamline the dataset, certain columns such as in_reply_to_status_id, in_reply_to_user_id, retweeted_status_timestamp, and retweeted_status_user_id are excluded from the analysis. In the tweet_data_clean table, any missing values in the expanded_urls column are populated by extracting the tweet_id, which represents the last portion of the tweet URL following \"status/\". This ensures that the expanded_urls column contains complete and relevant information for further processing."
      ],
      "metadata": {
        "id": "eH487BYPJYFY"
      }
    },
    {
      "cell_type": "markdown",
      "source": [
        "<b> Code"
      ],
      "metadata": {
        "id": "R5Hg1dC9KE9D"
      }
    },
    {
      "cell_type": "code",
      "source": [
        "# Dropping the unnecessary columns that are not required as mentioned above\n",
        "tweet_cleaned = tweet_cleaned.drop(['in_reply_to_status_id', 'in_reply_to_user_id', 'retweeted_status_user_id'], axis=1)"
      ],
      "metadata": {
        "id": "t8b3zSh-IcSa"
      },
      "execution_count": null,
      "outputs": []
    },
    {
      "cell_type": "code",
      "source": [
        "# Filling the missing values in the expanded_urls feature\n",
        "tweet_cleaned['expanded_urls'] = 'https://twitter.com/dog_rates/status/' +tweet_cleaned['tweet_id'].astype(str)"
      ],
      "metadata": {
        "id": "-4ZjanzTIcVt"
      },
      "execution_count": null,
      "outputs": []
    },
    {
      "cell_type": "code",
      "source": [
        "# Dropping the retweeted_status_timestamp feature from the tweet_cleaned dataframe\n",
        "tweet_cleaned = tweet_cleaned.drop('retweeted_status_timestamp', axis=1)"
      ],
      "metadata": {
        "id": "U8YL3O1DIcY2"
      },
      "execution_count": null,
      "outputs": []
    },
    {
      "cell_type": "markdown",
      "source": [
        "<b>Test"
      ],
      "metadata": {
        "id": "A1Zpo1bAKGbB"
      }
    },
    {
      "cell_type": "code",
      "source": [
        "tweet_cleaned.info()"
      ],
      "metadata": {
        "colab": {
          "base_uri": "https://localhost:8080/"
        },
        "id": "N0QyaSPUIcb5",
        "outputId": "7797d751-3ff9-458a-d294-34f13da28ac8"
      },
      "execution_count": null,
      "outputs": [
        {
          "output_type": "stream",
          "name": "stdout",
          "text": [
            "<class 'pandas.core.frame.DataFrame'>\n",
            "RangeIndex: 2356 entries, 0 to 2355\n",
            "Data columns (total 13 columns):\n",
            " #   Column               Non-Null Count  Dtype  \n",
            "---  ------               --------------  -----  \n",
            " 0   tweet_id             2356 non-null   int64  \n",
            " 1   timestamp            2356 non-null   object \n",
            " 2   source               2356 non-null   object \n",
            " 3   text                 2356 non-null   object \n",
            " 4   retweeted_status_id  181 non-null    float64\n",
            " 5   expanded_urls        2356 non-null   object \n",
            " 6   rating_numerator     2356 non-null   int64  \n",
            " 7   rating_denominator   2356 non-null   int64  \n",
            " 8   name                 2356 non-null   object \n",
            " 9   doggo                2356 non-null   object \n",
            " 10  floofer              2356 non-null   object \n",
            " 11  pupper               2356 non-null   object \n",
            " 12  puppo                2356 non-null   object \n",
            "dtypes: float64(1), int64(3), object(9)\n",
            "memory usage: 239.4+ KB\n"
          ]
        }
      ]
    },
    {
      "cell_type": "code",
      "source": [
        "# Rechecking to confirm if there are no null vlaues in the data as part of text\n",
        "tweet_cleaned[tweet_cleaned['expanded_urls'].isnull() == True]"
      ],
      "metadata": {
        "colab": {
          "base_uri": "https://localhost:8080/"
        },
        "id": "0ZVQ1nNfKIug",
        "outputId": "87c44d11-1261-469c-acb8-ad9ccfa1d1da"
      },
      "execution_count": null,
      "outputs": [
        {
          "output_type": "execute_result",
          "data": {
            "text/plain": [
              "Empty DataFrame\n",
              "Columns: [tweet_id, timestamp, source, text, retweeted_status_id, expanded_urls, rating_numerator, rating_denominator, name, doggo, floofer, pupper, puppo]\n",
              "Index: []"
            ],
            "text/html": [
              "\n",
              "  <div id=\"df-136b3169-abbf-4371-b185-4087d8e015a2\">\n",
              "    <div class=\"colab-df-container\">\n",
              "      <div>\n",
              "<style scoped>\n",
              "    .dataframe tbody tr th:only-of-type {\n",
              "        vertical-align: middle;\n",
              "    }\n",
              "\n",
              "    .dataframe tbody tr th {\n",
              "        vertical-align: top;\n",
              "    }\n",
              "\n",
              "    .dataframe thead th {\n",
              "        text-align: right;\n",
              "    }\n",
              "</style>\n",
              "<table border=\"1\" class=\"dataframe\">\n",
              "  <thead>\n",
              "    <tr style=\"text-align: right;\">\n",
              "      <th></th>\n",
              "      <th>tweet_id</th>\n",
              "      <th>timestamp</th>\n",
              "      <th>source</th>\n",
              "      <th>text</th>\n",
              "      <th>retweeted_status_id</th>\n",
              "      <th>expanded_urls</th>\n",
              "      <th>rating_numerator</th>\n",
              "      <th>rating_denominator</th>\n",
              "      <th>name</th>\n",
              "      <th>doggo</th>\n",
              "      <th>floofer</th>\n",
              "      <th>pupper</th>\n",
              "      <th>puppo</th>\n",
              "    </tr>\n",
              "  </thead>\n",
              "  <tbody>\n",
              "  </tbody>\n",
              "</table>\n",
              "</div>\n",
              "      <button class=\"colab-df-convert\" onclick=\"convertToInteractive('df-136b3169-abbf-4371-b185-4087d8e015a2')\"\n",
              "              title=\"Convert this dataframe to an interactive table.\"\n",
              "              style=\"display:none;\">\n",
              "        \n",
              "  <svg xmlns=\"http://www.w3.org/2000/svg\" height=\"24px\"viewBox=\"0 0 24 24\"\n",
              "       width=\"24px\">\n",
              "    <path d=\"M0 0h24v24H0V0z\" fill=\"none\"/>\n",
              "    <path d=\"M18.56 5.44l.94 2.06.94-2.06 2.06-.94-2.06-.94-.94-2.06-.94 2.06-2.06.94zm-11 1L8.5 8.5l.94-2.06 2.06-.94-2.06-.94L8.5 2.5l-.94 2.06-2.06.94zm10 10l.94 2.06.94-2.06 2.06-.94-2.06-.94-.94-2.06-.94 2.06-2.06.94z\"/><path d=\"M17.41 7.96l-1.37-1.37c-.4-.4-.92-.59-1.43-.59-.52 0-1.04.2-1.43.59L10.3 9.45l-7.72 7.72c-.78.78-.78 2.05 0 2.83L4 21.41c.39.39.9.59 1.41.59.51 0 1.02-.2 1.41-.59l7.78-7.78 2.81-2.81c.8-.78.8-2.07 0-2.86zM5.41 20L4 18.59l7.72-7.72 1.47 1.35L5.41 20z\"/>\n",
              "  </svg>\n",
              "      </button>\n",
              "      \n",
              "  <style>\n",
              "    .colab-df-container {\n",
              "      display:flex;\n",
              "      flex-wrap:wrap;\n",
              "      gap: 12px;\n",
              "    }\n",
              "\n",
              "    .colab-df-convert {\n",
              "      background-color: #E8F0FE;\n",
              "      border: none;\n",
              "      border-radius: 50%;\n",
              "      cursor: pointer;\n",
              "      display: none;\n",
              "      fill: #1967D2;\n",
              "      height: 32px;\n",
              "      padding: 0 0 0 0;\n",
              "      width: 32px;\n",
              "    }\n",
              "\n",
              "    .colab-df-convert:hover {\n",
              "      background-color: #E2EBFA;\n",
              "      box-shadow: 0px 1px 2px rgba(60, 64, 67, 0.3), 0px 1px 3px 1px rgba(60, 64, 67, 0.15);\n",
              "      fill: #174EA6;\n",
              "    }\n",
              "\n",
              "    [theme=dark] .colab-df-convert {\n",
              "      background-color: #3B4455;\n",
              "      fill: #D2E3FC;\n",
              "    }\n",
              "\n",
              "    [theme=dark] .colab-df-convert:hover {\n",
              "      background-color: #434B5C;\n",
              "      box-shadow: 0px 1px 3px 1px rgba(0, 0, 0, 0.15);\n",
              "      filter: drop-shadow(0px 1px 2px rgba(0, 0, 0, 0.3));\n",
              "      fill: #FFFFFF;\n",
              "    }\n",
              "  </style>\n",
              "\n",
              "      <script>\n",
              "        const buttonEl =\n",
              "          document.querySelector('#df-136b3169-abbf-4371-b185-4087d8e015a2 button.colab-df-convert');\n",
              "        buttonEl.style.display =\n",
              "          google.colab.kernel.accessAllowed ? 'block' : 'none';\n",
              "\n",
              "        async function convertToInteractive(key) {\n",
              "          const element = document.querySelector('#df-136b3169-abbf-4371-b185-4087d8e015a2');\n",
              "          const dataTable =\n",
              "            await google.colab.kernel.invokeFunction('convertToInteractive',\n",
              "                                                     [key], {});\n",
              "          if (!dataTable) return;\n",
              "\n",
              "          const docLinkHtml = 'Like what you see? Visit the ' +\n",
              "            '<a target=\"_blank\" href=https://colab.research.google.com/notebooks/data_table.ipynb>data table notebook</a>'\n",
              "            + ' to learn more about interactive tables.';\n",
              "          element.innerHTML = '';\n",
              "          dataTable['output_type'] = 'display_data';\n",
              "          await google.colab.output.renderOutput(dataTable, element);\n",
              "          const docLink = document.createElement('div');\n",
              "          docLink.innerHTML = docLinkHtml;\n",
              "          element.appendChild(docLink);\n",
              "        }\n",
              "      </script>\n",
              "    </div>\n",
              "  </div>\n",
              "  "
            ]
          },
          "metadata": {},
          "execution_count": 53
        }
      ]
    },
    {
      "cell_type": "markdown",
      "source": [
        "##<b> Tidiness Issues"
      ],
      "metadata": {
        "id": "B7jzrd1vK-NT"
      }
    },
    {
      "cell_type": "markdown",
      "source": [
        "**4.2.** In the dataset, there is a single variable named \"dog_stage\" that is represented across four different columns: \"doggo\", \"floofer\", \"pupper\", and \"puppo\"."
      ],
      "metadata": {
        "id": "hLs6Cy_VLF3C"
      }
    },
    {
      "cell_type": "markdown",
      "source": [
        " **Define** : Merge the `doggo`, `floofer`, `pupper`, and `puppo` columns into a single column named `dog_status`. Once the `dog_status` column is created, we can remove the unnecessary individual columns associated with the different dog stages. This consolidation will streamline the dataset and enhance its clarity and organization."
      ],
      "metadata": {
        "id": "f7HfezWOLQkB"
      }
    },
    {
      "cell_type": "markdown",
      "metadata": {
        "id": "W0zI4EhoK2H0"
      },
      "source": [
        "**Code**"
      ]
    },
    {
      "cell_type": "code",
      "execution_count": null,
      "metadata": {
        "id": "1RtuajrPK2H0"
      },
      "outputs": [],
      "source": [
        "# Replacing the null values shown as None as this is str feature with empty string ''\n",
        "tweet_cleaned[['pupper', 'puppo','doggo', 'floofer']] = tweet_cleaned[['pupper', 'puppo','doggo', 'floofer']].replace('None', '')"
      ]
    },
    {
      "cell_type": "code",
      "execution_count": null,
      "metadata": {
        "id": "90fxHwbQK2H0"
      },
      "outputs": [],
      "source": [
        "# Combining all the columns into one column for 'pupper', 'puppo','doggo', 'floofer'\n",
        "tweet_cleaned['dog_comb_stg'] = tweet_cleaned['doggo'] + tweet_cleaned['floofer'] + tweet_cleaned['pupper'] + tweet_cleaned['puppo']"
      ]
    },
    {
      "cell_type": "code",
      "execution_count": null,
      "metadata": {
        "id": "YmjxOrm1K2H0"
      },
      "outputs": [],
      "source": [
        "# Dropping the unnecessary columns - 'pupper', 'puppo','doggo', 'floofer'\n",
        "tweet_cleaned = tweet_cleaned.drop(['pupper', 'puppo','doggo', 'floofer'], axis=1)"
      ]
    },
    {
      "cell_type": "code",
      "execution_count": null,
      "metadata": {
        "id": "JO93Y1MIK2H1",
        "outputId": "742abd9e-ba80-475a-f67a-6f76dbd114f4",
        "colab": {
          "base_uri": "https://localhost:8080/"
        }
      },
      "outputs": [
        {
          "output_type": "execute_result",
          "data": {
            "text/plain": [
              "                1976\n",
              "pupper           245\n",
              "doggo             83\n",
              "puppo             29\n",
              "doggopupper       12\n",
              "floofer            9\n",
              "doggopuppo         1\n",
              "doggofloofer       1\n",
              "Name: dog_comb_stg, dtype: int64"
            ]
          },
          "metadata": {},
          "execution_count": 57
        }
      ],
      "source": [
        "# checking the value_counts of the dog_stage\n",
        "tweet_cleaned['dog_comb_stg'].value_counts()"
      ]
    },
    {
      "cell_type": "markdown",
      "source": [
        "- It can be observed that there are several combined stages like doggopupper, doggopuppo etc so we will change all this to a stage called combined as it has multiple stages involved."
      ],
      "metadata": {
        "id": "p5FwG25uMb0J"
      }
    },
    {
      "cell_type": "code",
      "source": [
        "tweet_cleaned['dog_comb_stg'] = tweet_cleaned['dog_comb_stg'].replace('doggopupper', 'combined')\n",
        "tweet_cleaned['dog_comb_stg'] = tweet_cleaned['dog_comb_stg'].replace('doggofloofer', 'combined')\n",
        "tweet_cleaned['dog_comb_stg'] = tweet_cleaned['dog_comb_stg'].replace('doggopuppo', 'combined')"
      ],
      "metadata": {
        "id": "1KsAZkelK880"
      },
      "execution_count": null,
      "outputs": []
    },
    {
      "cell_type": "markdown",
      "metadata": {
        "id": "9soGp0_zK2H1"
      },
      "source": [
        "**Test**"
      ]
    },
    {
      "cell_type": "code",
      "source": [
        "# observing the number of unique values\n",
        "tweet_cleaned['dog_comb_stg'].nunique()"
      ],
      "metadata": {
        "colab": {
          "base_uri": "https://localhost:8080/"
        },
        "id": "TJ3cK3yqNHKb",
        "outputId": "867ed4dc-73e0-4a41-8ad3-bef55f77e0e2"
      },
      "execution_count": null,
      "outputs": [
        {
          "output_type": "execute_result",
          "data": {
            "text/plain": [
              "6"
            ]
          },
          "metadata": {},
          "execution_count": 59
        }
      ]
    },
    {
      "cell_type": "code",
      "source": [
        "# observing all the unique naes\n",
        "tweet_cleaned['dog_comb_stg'].unique()"
      ],
      "metadata": {
        "colab": {
          "base_uri": "https://localhost:8080/"
        },
        "id": "HMuEOOT4NME0",
        "outputId": "9aef785f-a899-4da2-a69d-4011a85011c5"
      },
      "execution_count": null,
      "outputs": [
        {
          "output_type": "execute_result",
          "data": {
            "text/plain": [
              "array(['', 'doggo', 'puppo', 'pupper', 'floofer', 'combined'],\n",
              "      dtype=object)"
            ]
          },
          "metadata": {},
          "execution_count": 60
        }
      ]
    },
    {
      "cell_type": "markdown",
      "source": [
        "- There are 6 unique values 'doggo', 'puppo', 'pupper', 'floofer', 'combined' also including a space"
      ],
      "metadata": {
        "id": "P2fClWGQce7c"
      }
    },
    {
      "cell_type": "code",
      "execution_count": null,
      "metadata": {
        "id": "WCgD_2LgK2H1",
        "outputId": "ff22db0f-f75a-4d67-a027-9fcd16ce7f07",
        "colab": {
          "base_uri": "https://localhost:8080/"
        }
      },
      "outputs": [
        {
          "output_type": "execute_result",
          "data": {
            "text/plain": [
              "            1976\n",
              "pupper       245\n",
              "doggo         83\n",
              "puppo         29\n",
              "combined      14\n",
              "floofer        9\n",
              "Name: dog_comb_stg, dtype: int64"
            ]
          },
          "metadata": {},
          "execution_count": 61
        }
      ],
      "source": [
        "tweet_cleaned['dog_comb_stg'].value_counts()"
      ]
    },
    {
      "cell_type": "markdown",
      "source": [
        "**4.3.** There is a discrepancy in the title of the tweet ID. In some instances, it is referred to as \"id,\" while in others, it is denoted as \"tweet_id.\""
      ],
      "metadata": {
        "id": "6vOALqxrNbye"
      }
    },
    {
      "cell_type": "markdown",
      "source": [
        "**Define**: The renaming process involves changing the name of the `tweet_id` column in the `tweet_count_clean` dataset to `tweet_ids`."
      ],
      "metadata": {
        "id": "8ou77BZDNjNc"
      }
    },
    {
      "cell_type": "markdown",
      "metadata": {
        "id": "eGLn4bWzK2H2"
      },
      "source": [
        "**Code**"
      ]
    },
    {
      "cell_type": "code",
      "source": [
        "tweet_cnt_cleaned.head(1)"
      ],
      "metadata": {
        "colab": {
          "base_uri": "https://localhost:8080/",
          "height": 81
        },
        "id": "lCCnSBn5N39n",
        "outputId": "4478789c-48ef-4409-dd9f-473c1ecba0b4"
      },
      "execution_count": null,
      "outputs": [
        {
          "output_type": "execute_result",
          "data": {
            "text/plain": [
              "             tweet_id  retweet_count  favorite_count\n",
              "0  892420643555336193           8853           39467"
            ],
            "text/html": [
              "\n",
              "  <div id=\"df-3674f1f2-862d-4ffe-99a4-e49e45b9a800\">\n",
              "    <div class=\"colab-df-container\">\n",
              "      <div>\n",
              "<style scoped>\n",
              "    .dataframe tbody tr th:only-of-type {\n",
              "        vertical-align: middle;\n",
              "    }\n",
              "\n",
              "    .dataframe tbody tr th {\n",
              "        vertical-align: top;\n",
              "    }\n",
              "\n",
              "    .dataframe thead th {\n",
              "        text-align: right;\n",
              "    }\n",
              "</style>\n",
              "<table border=\"1\" class=\"dataframe\">\n",
              "  <thead>\n",
              "    <tr style=\"text-align: right;\">\n",
              "      <th></th>\n",
              "      <th>tweet_id</th>\n",
              "      <th>retweet_count</th>\n",
              "      <th>favorite_count</th>\n",
              "    </tr>\n",
              "  </thead>\n",
              "  <tbody>\n",
              "    <tr>\n",
              "      <th>0</th>\n",
              "      <td>892420643555336193</td>\n",
              "      <td>8853</td>\n",
              "      <td>39467</td>\n",
              "    </tr>\n",
              "  </tbody>\n",
              "</table>\n",
              "</div>\n",
              "      <button class=\"colab-df-convert\" onclick=\"convertToInteractive('df-3674f1f2-862d-4ffe-99a4-e49e45b9a800')\"\n",
              "              title=\"Convert this dataframe to an interactive table.\"\n",
              "              style=\"display:none;\">\n",
              "        \n",
              "  <svg xmlns=\"http://www.w3.org/2000/svg\" height=\"24px\"viewBox=\"0 0 24 24\"\n",
              "       width=\"24px\">\n",
              "    <path d=\"M0 0h24v24H0V0z\" fill=\"none\"/>\n",
              "    <path d=\"M18.56 5.44l.94 2.06.94-2.06 2.06-.94-2.06-.94-.94-2.06-.94 2.06-2.06.94zm-11 1L8.5 8.5l.94-2.06 2.06-.94-2.06-.94L8.5 2.5l-.94 2.06-2.06.94zm10 10l.94 2.06.94-2.06 2.06-.94-2.06-.94-.94-2.06-.94 2.06-2.06.94z\"/><path d=\"M17.41 7.96l-1.37-1.37c-.4-.4-.92-.59-1.43-.59-.52 0-1.04.2-1.43.59L10.3 9.45l-7.72 7.72c-.78.78-.78 2.05 0 2.83L4 21.41c.39.39.9.59 1.41.59.51 0 1.02-.2 1.41-.59l7.78-7.78 2.81-2.81c.8-.78.8-2.07 0-2.86zM5.41 20L4 18.59l7.72-7.72 1.47 1.35L5.41 20z\"/>\n",
              "  </svg>\n",
              "      </button>\n",
              "      \n",
              "  <style>\n",
              "    .colab-df-container {\n",
              "      display:flex;\n",
              "      flex-wrap:wrap;\n",
              "      gap: 12px;\n",
              "    }\n",
              "\n",
              "    .colab-df-convert {\n",
              "      background-color: #E8F0FE;\n",
              "      border: none;\n",
              "      border-radius: 50%;\n",
              "      cursor: pointer;\n",
              "      display: none;\n",
              "      fill: #1967D2;\n",
              "      height: 32px;\n",
              "      padding: 0 0 0 0;\n",
              "      width: 32px;\n",
              "    }\n",
              "\n",
              "    .colab-df-convert:hover {\n",
              "      background-color: #E2EBFA;\n",
              "      box-shadow: 0px 1px 2px rgba(60, 64, 67, 0.3), 0px 1px 3px 1px rgba(60, 64, 67, 0.15);\n",
              "      fill: #174EA6;\n",
              "    }\n",
              "\n",
              "    [theme=dark] .colab-df-convert {\n",
              "      background-color: #3B4455;\n",
              "      fill: #D2E3FC;\n",
              "    }\n",
              "\n",
              "    [theme=dark] .colab-df-convert:hover {\n",
              "      background-color: #434B5C;\n",
              "      box-shadow: 0px 1px 3px 1px rgba(0, 0, 0, 0.15);\n",
              "      filter: drop-shadow(0px 1px 2px rgba(0, 0, 0, 0.3));\n",
              "      fill: #FFFFFF;\n",
              "    }\n",
              "  </style>\n",
              "\n",
              "      <script>\n",
              "        const buttonEl =\n",
              "          document.querySelector('#df-3674f1f2-862d-4ffe-99a4-e49e45b9a800 button.colab-df-convert');\n",
              "        buttonEl.style.display =\n",
              "          google.colab.kernel.accessAllowed ? 'block' : 'none';\n",
              "\n",
              "        async function convertToInteractive(key) {\n",
              "          const element = document.querySelector('#df-3674f1f2-862d-4ffe-99a4-e49e45b9a800');\n",
              "          const dataTable =\n",
              "            await google.colab.kernel.invokeFunction('convertToInteractive',\n",
              "                                                     [key], {});\n",
              "          if (!dataTable) return;\n",
              "\n",
              "          const docLinkHtml = 'Like what you see? Visit the ' +\n",
              "            '<a target=\"_blank\" href=https://colab.research.google.com/notebooks/data_table.ipynb>data table notebook</a>'\n",
              "            + ' to learn more about interactive tables.';\n",
              "          element.innerHTML = '';\n",
              "          dataTable['output_type'] = 'display_data';\n",
              "          await google.colab.output.renderOutput(dataTable, element);\n",
              "          const docLink = document.createElement('div');\n",
              "          docLink.innerHTML = docLinkHtml;\n",
              "          element.appendChild(docLink);\n",
              "        }\n",
              "      </script>\n",
              "    </div>\n",
              "  </div>\n",
              "  "
            ]
          },
          "metadata": {},
          "execution_count": 62
        }
      ]
    },
    {
      "cell_type": "code",
      "execution_count": null,
      "metadata": {
        "id": "8TnfieNkK2H2"
      },
      "outputs": [],
      "source": [
        "tweet_cnt_cleaned = tweet_cnt_cleaned.rename(columns = {'tweet_id': 'tweet_id'})"
      ]
    },
    {
      "cell_type": "markdown",
      "metadata": {
        "id": "0e6XNMoTK2H4"
      },
      "source": [
        "**Test**"
      ]
    },
    {
      "cell_type": "code",
      "execution_count": null,
      "metadata": {
        "id": "rEOrSr0kK2H4",
        "outputId": "aa34210b-fcd9-4df8-88b6-f5da7422dd7c",
        "colab": {
          "base_uri": "https://localhost:8080/"
        }
      },
      "outputs": [
        {
          "output_type": "execute_result",
          "data": {
            "text/plain": [
              "['tweet_id', 'retweet_count', 'favorite_count']"
            ]
          },
          "metadata": {},
          "execution_count": 64
        }
      ],
      "source": [
        "list(tweet_cnt_cleaned)"
      ]
    },
    {
      "cell_type": "markdown",
      "source": [
        "**4.4.** Combine the tweet_cleaned and tweet_cnt_cleaned tables."
      ],
      "metadata": {
        "id": "vBaCA-WGObUq"
      }
    },
    {
      "cell_type": "markdown",
      "source": [
        "**Describe**: The merging process involves combining the `tweet_cleaned` and `tweet_cnt_cleaned` tables based on the matching values in the `tweet_id` column. By merging these tables, we create a single table that consolidates the information from both sources, allowing us to analyze and work with the combined data effectively."
      ],
      "metadata": {
        "id": "ngRk5BT_OkXn"
      }
    },
    {
      "cell_type": "markdown",
      "metadata": {
        "id": "DAgbl8YUK2H5"
      },
      "source": [
        "**Code**"
      ]
    },
    {
      "cell_type": "code",
      "source": [
        "tweet_cleaned.columns, tweet_cnt_cleaned.columns"
      ],
      "metadata": {
        "colab": {
          "base_uri": "https://localhost:8080/"
        },
        "id": "j0nU4LcwPIpv",
        "outputId": "2df6be3b-1951-43c5-ada6-e9912ccac43d"
      },
      "execution_count": null,
      "outputs": [
        {
          "output_type": "execute_result",
          "data": {
            "text/plain": [
              "(Index(['tweet_id', 'timestamp', 'source', 'text', 'retweeted_status_id',\n",
              "        'expanded_urls', 'rating_numerator', 'rating_denominator', 'name',\n",
              "        'dog_comb_stg'],\n",
              "       dtype='object'),\n",
              " Index(['tweet_id', 'retweet_count', 'favorite_count'], dtype='object'))"
            ]
          },
          "metadata": {},
          "execution_count": 65
        }
      ]
    },
    {
      "cell_type": "code",
      "execution_count": null,
      "metadata": {
        "id": "OdfEHITfK2H5"
      },
      "outputs": [],
      "source": [
        "# combining both the dataframes into a single dataframe\n",
        "tweet_cleaned_comb_cnt = pd.merge(tweet_cleaned, tweet_cnt_cleaned, on = 'tweet_id', how = 'inner')"
      ]
    },
    {
      "cell_type": "markdown",
      "metadata": {
        "id": "ZAt3OxHSK2H5"
      },
      "source": [
        "**Test**"
      ]
    },
    {
      "cell_type": "code",
      "execution_count": null,
      "metadata": {
        "id": "8KxOwdbOK2H5",
        "outputId": "c01577ed-9719-4663-d368-a5410227a63a",
        "colab": {
          "base_uri": "https://localhost:8080/"
        }
      },
      "outputs": [
        {
          "output_type": "stream",
          "name": "stdout",
          "text": [
            "<class 'pandas.core.frame.DataFrame'>\n",
            "Int64Index: 2354 entries, 0 to 2353\n",
            "Data columns (total 12 columns):\n",
            " #   Column               Non-Null Count  Dtype  \n",
            "---  ------               --------------  -----  \n",
            " 0   tweet_id             2354 non-null   int64  \n",
            " 1   timestamp            2354 non-null   object \n",
            " 2   source               2354 non-null   object \n",
            " 3   text                 2354 non-null   object \n",
            " 4   retweeted_status_id  179 non-null    float64\n",
            " 5   expanded_urls        2354 non-null   object \n",
            " 6   rating_numerator     2354 non-null   int64  \n",
            " 7   rating_denominator   2354 non-null   int64  \n",
            " 8   name                 2354 non-null   object \n",
            " 9   dog_comb_stg         2354 non-null   object \n",
            " 10  retweet_count        2354 non-null   int64  \n",
            " 11  favorite_count       2354 non-null   int64  \n",
            "dtypes: float64(1), int64(5), object(6)\n",
            "memory usage: 239.1+ KB\n"
          ]
        }
      ],
      "source": [
        "tweet_cleaned_comb_cnt.info()"
      ]
    },
    {
      "cell_type": "markdown",
      "metadata": {
        "id": "tiw86bP8K2H6"
      },
      "source": [
        "## Quality Issues"
      ]
    },
    {
      "cell_type": "markdown",
      "metadata": {
        "id": "4sUNf8a9K2H6"
      },
      "source": [
        "### tweet_cleaned_comb_cnt table:"
      ]
    },
    {
      "cell_type": "markdown",
      "source": [
        "**4.5.** In the dataset, there are certain columns with erroneous data types that require attention. The `timestamp` and `retweeted_status_timestamp` columns need to be split into separate date and time components for better analysis. Additionally, the `dog_stage` column should be categorized correctly as it represents different stages of dogs. Furthermore, the columns `tweet_id`, `in_reply_to_status_id`, `in_reply_to_user_id`, `retweeted_status_id`, and `retweeted_status_user_id` should be of string data type to maintain consistency and facilitate appropriate data handling.\n",
        "\n",
        "\n",
        "**4.6.** It has been observed that some tweets in the dataset are retweets of posts made by `@dog_rates`, which is the Twitter handle for the popular account called `We Rate Dogs`. These retweets can be identified and distinguished from the original tweets, indicating the engagement and influence of `We Rate Dogs` in the dataset."
      ],
      "metadata": {
        "id": "-fhDMmRvRWYC"
      }
    },
    {
      "cell_type": "markdown",
      "source": [
        "**Define**: Convert the `timestamp` column to the datetime data type and filter out the rows where the `tweet_id` matches the `retweeted_status_id`."
      ],
      "metadata": {
        "id": "fgbqSglJRqxd"
      }
    },
    {
      "cell_type": "markdown",
      "metadata": {
        "id": "39nnSVo7K2H6"
      },
      "source": [
        "**Code**"
      ]
    },
    {
      "cell_type": "code",
      "execution_count": null,
      "metadata": {
        "id": "1f1jOLj2K2H6"
      },
      "outputs": [],
      "source": [
        "# Converting timestamp type to datetime\n",
        "tweet_cleaned_comb_cnt['timestamp'] = pd.to_datetime(tweet_cleaned_comb_cnt['timestamp'])"
      ]
    },
    {
      "cell_type": "code",
      "execution_count": null,
      "metadata": {
        "id": "899InOrFK2H7"
      },
      "outputs": [],
      "source": [
        "# Seperating out the values of retweeted_status_id\n",
        "retweet_cleaned_sep = tweet_cleaned_comb_cnt['retweeted_status_id']\n",
        "# dropping null values\n",
        "retweet_cleaned_sep = retweet_cleaned_sep.dropna()\n",
        "# converting datatype to int64\n",
        "retweet_cleaned_sep = retweet_cleaned_sep.astype('int64')"
      ]
    },
    {
      "cell_type": "code",
      "execution_count": null,
      "metadata": {
        "id": "qdHURQ7wK2H7"
      },
      "outputs": [],
      "source": [
        "# Dropping the observations where tweet_id matches the series\n",
        "tweet_cleaned_comb_cnt = tweet_cleaned_comb_cnt.drop(tweet_cleaned_comb_cnt[tweet_cleaned_comb_cnt['tweet_id'].apply(lambda x : x in retweet_cleaned_sep.values)].index.values, axis=0)"
      ]
    },
    {
      "cell_type": "code",
      "execution_count": null,
      "metadata": {
        "id": "zRBglhkvK2H7"
      },
      "outputs": [],
      "source": [
        "tweet_cleaned_comb_cnt = tweet_cleaned_comb_cnt.drop('retweeted_status_id', axis=1)"
      ]
    },
    {
      "cell_type": "markdown",
      "metadata": {
        "id": "UBKRGpIXK2H7"
      },
      "source": [
        "**Test**"
      ]
    },
    {
      "cell_type": "code",
      "execution_count": null,
      "metadata": {
        "id": "08LFNzitK2H7",
        "outputId": "e148eb01-9fa9-4621-84e8-1a652ebabacb",
        "colab": {
          "base_uri": "https://localhost:8080/"
        }
      },
      "outputs": [
        {
          "output_type": "stream",
          "name": "stdout",
          "text": [
            "<class 'pandas.core.frame.DataFrame'>\n",
            "Int64Index: 2242 entries, 0 to 2353\n",
            "Data columns (total 11 columns):\n",
            " #   Column              Non-Null Count  Dtype              \n",
            "---  ------              --------------  -----              \n",
            " 0   tweet_id            2242 non-null   int64              \n",
            " 1   timestamp           2242 non-null   datetime64[ns, UTC]\n",
            " 2   source              2242 non-null   object             \n",
            " 3   text                2242 non-null   object             \n",
            " 4   expanded_urls       2242 non-null   object             \n",
            " 5   rating_numerator    2242 non-null   int64              \n",
            " 6   rating_denominator  2242 non-null   int64              \n",
            " 7   name                2242 non-null   object             \n",
            " 8   dog_comb_stg        2242 non-null   object             \n",
            " 9   retweet_count       2242 non-null   int64              \n",
            " 10  favorite_count      2242 non-null   int64              \n",
            "dtypes: datetime64[ns, UTC](1), int64(5), object(5)\n",
            "memory usage: 210.2+ KB\n"
          ]
        }
      ],
      "source": [
        "tweet_cleaned_comb_cnt.info()"
      ]
    },
    {
      "cell_type": "markdown",
      "source": [
        "**4.7.** In some cases, the `rating_denominator` deviates from the assumed standard value of 10, which indicates the presence of inaccurate data. Additionally, there are six instances where the `rating_numerator` values have been incorrectly entered. To ensure a more accurate and justified analysis, it is important to standardize the `rating_denominator` to the universally recognized value of 10, which aligns with the standards set by `WeRateDogs`. This standardization will help improve the consistency and reliability of the data for further analysis."
      ],
      "metadata": {
        "id": "sJhmnBvjUuDb"
      }
    },
    {
      "cell_type": "markdown",
      "source": [
        "**Define**: The objective is to rectify and clean the inaccurate observations that have incorrect denominator ratings. The plan is to standardize the denominator rating to 10 and adjust the corresponding numerator rating to align with the revised denominator rating."
      ],
      "metadata": {
        "id": "MzGQTTeJU4F4"
      }
    },
    {
      "cell_type": "markdown",
      "metadata": {
        "id": "TZgiI2JEK2H8"
      },
      "source": [
        "**Code:**"
      ]
    },
    {
      "cell_type": "code",
      "execution_count": null,
      "metadata": {
        "scrolled": true,
        "id": "_LcAUs1bK2H8",
        "outputId": "5c8383a2-b14e-4f61-abef-d91c6112b62a",
        "colab": {
          "base_uri": "https://localhost:8080/"
        }
      },
      "outputs": [
        {
          "output_type": "execute_result",
          "data": {
            "text/plain": [
              "                                                                 312   \\\n",
              "text                @jonnysun @Lin_Manuel ok jomny I know you're e...   \n",
              "expanded_urls       https://twitter.com/dog_rates/status/835246439...   \n",
              "rating_numerator                                                  960   \n",
              "rating_denominator                                                  0   \n",
              "\n",
              "                                                                 341   \\\n",
              "text                         @docmisterio account started on 11/15/15   \n",
              "expanded_urls       https://twitter.com/dog_rates/status/832088576...   \n",
              "rating_numerator                                                   11   \n",
              "rating_denominator                                                 15   \n",
              "\n",
              "                                                                 432   \\\n",
              "text                The floofs have been released I repeat the flo...   \n",
              "expanded_urls       https://twitter.com/dog_rates/status/820690176...   \n",
              "rating_numerator                                                   84   \n",
              "rating_denominator                                                 70   \n",
              "\n",
              "                                                                 515   \\\n",
              "text                Meet Sam. She smiles 24/7 &amp; secretly aspir...   \n",
              "expanded_urls       https://twitter.com/dog_rates/status/810984652...   \n",
              "rating_numerator                                                   24   \n",
              "rating_denominator                                                  7   \n",
              "\n",
              "                                                                 783   \\\n",
              "text                RT @dog_rates: After so many requests, this is...   \n",
              "expanded_urls       https://twitter.com/dog_rates/status/775096608...   \n",
              "rating_numerator                                                    9   \n",
              "rating_denominator                                                 11   \n",
              "\n",
              "                                                                 900   \\\n",
              "text                Why does this never happen at my front door......   \n",
              "expanded_urls       https://twitter.com/dog_rates/status/758467244...   \n",
              "rating_numerator                                                  165   \n",
              "rating_denominator                                                150   \n",
              "\n",
              "                                                                 1066  \\\n",
              "text                After so many requests, this is Bretagne. She ...   \n",
              "expanded_urls       https://twitter.com/dog_rates/status/740373189...   \n",
              "rating_numerator                                                    9   \n",
              "rating_denominator                                                 11   \n",
              "\n",
              "                                                                 1118  \\\n",
              "text                Say hello to this unbelievably well behaved sq...   \n",
              "expanded_urls       https://twitter.com/dog_rates/status/731156023...   \n",
              "rating_numerator                                                  204   \n",
              "rating_denominator                                                170   \n",
              "\n",
              "                                                                 1163  \\\n",
              "text                Happy 4/20 from the squad! 13/10 for all https...   \n",
              "expanded_urls       https://twitter.com/dog_rates/status/722974582...   \n",
              "rating_numerator                                                    4   \n",
              "rating_denominator                                                 20   \n",
              "\n",
              "                                                                 1200  ...  \\\n",
              "text                This is Bluebert. He just saw that both #Final...  ...   \n",
              "expanded_urls       https://twitter.com/dog_rates/status/716439118...  ...   \n",
              "rating_numerator                                                   50  ...   \n",
              "rating_denominator                                                 50  ...   \n",
              "\n",
              "                                                                 1349  \\\n",
              "text                Here is a whole flock of puppers.  60/50 I'll ...   \n",
              "expanded_urls       https://twitter.com/dog_rates/status/704054845...   \n",
              "rating_numerator                                                   60   \n",
              "rating_denominator                                                 50   \n",
              "\n",
              "                                                                 1431  \\\n",
              "text                Happy Wednesday here's a bucket of pups. 44/40...   \n",
              "expanded_urls       https://twitter.com/dog_rates/status/697463031...   \n",
              "rating_numerator                                                   44   \n",
              "rating_denominator                                                 40   \n",
              "\n",
              "                                                                 1596  \\\n",
              "text                Yes I do realize a rating of 4/20 would've bee...   \n",
              "expanded_urls       https://twitter.com/dog_rates/status/686035780...   \n",
              "rating_numerator                                                    4   \n",
              "rating_denominator                                                 20   \n",
              "\n",
              "                                                                 1632  \\\n",
              "text                Two sneaky puppers were not initially seen, mo...   \n",
              "expanded_urls       https://twitter.com/dog_rates/status/684225744...   \n",
              "rating_numerator                                                  143   \n",
              "rating_denominator                                                130   \n",
              "\n",
              "                                                                 1633  \\\n",
              "text                Someone help the girl is being mugged. Several...   \n",
              "expanded_urls       https://twitter.com/dog_rates/status/684222868...   \n",
              "rating_numerator                                                  121   \n",
              "rating_denominator                                                110   \n",
              "\n",
              "                                                                 1660  \\\n",
              "text                This is Darrel. He just robbed a 7/11 and is i...   \n",
              "expanded_urls       https://twitter.com/dog_rates/status/682962037...   \n",
              "rating_numerator                                                    7   \n",
              "rating_denominator                                                 11   \n",
              "\n",
              "                                                                 1661  \\\n",
              "text                I'm aware that I could've said 20/16, but here...   \n",
              "expanded_urls       https://twitter.com/dog_rates/status/682808988...   \n",
              "rating_numerator                                                   20   \n",
              "rating_denominator                                                 16   \n",
              "\n",
              "                                                                 1777  \\\n",
              "text                IT'S PUPPERGEDDON. Total of 144/120 ...I think...   \n",
              "expanded_urls       https://twitter.com/dog_rates/status/677716515...   \n",
              "rating_numerator                                                  144   \n",
              "rating_denominator                                                120   \n",
              "\n",
              "                                                                 1841  \\\n",
              "text                Here we have an entire platoon of puppers. Tot...   \n",
              "expanded_urls       https://twitter.com/dog_rates/status/675853064...   \n",
              "rating_numerator                                                   88   \n",
              "rating_denominator                                                 80   \n",
              "\n",
              "                                                                 2333  \n",
              "text                This is an Albanian 3 1/2 legged  Episcopalian...  \n",
              "expanded_urls       https://twitter.com/dog_rates/status/666287406...  \n",
              "rating_numerator                                                    1  \n",
              "rating_denominator                                                  2  \n",
              "\n",
              "[4 rows x 23 columns]"
            ],
            "text/html": [
              "\n",
              "  <div id=\"df-bccef473-4924-474a-af48-e420edf33df6\">\n",
              "    <div class=\"colab-df-container\">\n",
              "      <div>\n",
              "<style scoped>\n",
              "    .dataframe tbody tr th:only-of-type {\n",
              "        vertical-align: middle;\n",
              "    }\n",
              "\n",
              "    .dataframe tbody tr th {\n",
              "        vertical-align: top;\n",
              "    }\n",
              "\n",
              "    .dataframe thead th {\n",
              "        text-align: right;\n",
              "    }\n",
              "</style>\n",
              "<table border=\"1\" class=\"dataframe\">\n",
              "  <thead>\n",
              "    <tr style=\"text-align: right;\">\n",
              "      <th></th>\n",
              "      <th>312</th>\n",
              "      <th>341</th>\n",
              "      <th>432</th>\n",
              "      <th>515</th>\n",
              "      <th>783</th>\n",
              "      <th>900</th>\n",
              "      <th>1066</th>\n",
              "      <th>1118</th>\n",
              "      <th>1163</th>\n",
              "      <th>1200</th>\n",
              "      <th>...</th>\n",
              "      <th>1349</th>\n",
              "      <th>1431</th>\n",
              "      <th>1596</th>\n",
              "      <th>1632</th>\n",
              "      <th>1633</th>\n",
              "      <th>1660</th>\n",
              "      <th>1661</th>\n",
              "      <th>1777</th>\n",
              "      <th>1841</th>\n",
              "      <th>2333</th>\n",
              "    </tr>\n",
              "  </thead>\n",
              "  <tbody>\n",
              "    <tr>\n",
              "      <th>text</th>\n",
              "      <td>@jonnysun @Lin_Manuel ok jomny I know you're e...</td>\n",
              "      <td>@docmisterio account started on 11/15/15</td>\n",
              "      <td>The floofs have been released I repeat the flo...</td>\n",
              "      <td>Meet Sam. She smiles 24/7 &amp;amp; secretly aspir...</td>\n",
              "      <td>RT @dog_rates: After so many requests, this is...</td>\n",
              "      <td>Why does this never happen at my front door......</td>\n",
              "      <td>After so many requests, this is Bretagne. She ...</td>\n",
              "      <td>Say hello to this unbelievably well behaved sq...</td>\n",
              "      <td>Happy 4/20 from the squad! 13/10 for all https...</td>\n",
              "      <td>This is Bluebert. He just saw that both #Final...</td>\n",
              "      <td>...</td>\n",
              "      <td>Here is a whole flock of puppers.  60/50 I'll ...</td>\n",
              "      <td>Happy Wednesday here's a bucket of pups. 44/40...</td>\n",
              "      <td>Yes I do realize a rating of 4/20 would've bee...</td>\n",
              "      <td>Two sneaky puppers were not initially seen, mo...</td>\n",
              "      <td>Someone help the girl is being mugged. Several...</td>\n",
              "      <td>This is Darrel. He just robbed a 7/11 and is i...</td>\n",
              "      <td>I'm aware that I could've said 20/16, but here...</td>\n",
              "      <td>IT'S PUPPERGEDDON. Total of 144/120 ...I think...</td>\n",
              "      <td>Here we have an entire platoon of puppers. Tot...</td>\n",
              "      <td>This is an Albanian 3 1/2 legged  Episcopalian...</td>\n",
              "    </tr>\n",
              "    <tr>\n",
              "      <th>expanded_urls</th>\n",
              "      <td>https://twitter.com/dog_rates/status/835246439...</td>\n",
              "      <td>https://twitter.com/dog_rates/status/832088576...</td>\n",
              "      <td>https://twitter.com/dog_rates/status/820690176...</td>\n",
              "      <td>https://twitter.com/dog_rates/status/810984652...</td>\n",
              "      <td>https://twitter.com/dog_rates/status/775096608...</td>\n",
              "      <td>https://twitter.com/dog_rates/status/758467244...</td>\n",
              "      <td>https://twitter.com/dog_rates/status/740373189...</td>\n",
              "      <td>https://twitter.com/dog_rates/status/731156023...</td>\n",
              "      <td>https://twitter.com/dog_rates/status/722974582...</td>\n",
              "      <td>https://twitter.com/dog_rates/status/716439118...</td>\n",
              "      <td>...</td>\n",
              "      <td>https://twitter.com/dog_rates/status/704054845...</td>\n",
              "      <td>https://twitter.com/dog_rates/status/697463031...</td>\n",
              "      <td>https://twitter.com/dog_rates/status/686035780...</td>\n",
              "      <td>https://twitter.com/dog_rates/status/684225744...</td>\n",
              "      <td>https://twitter.com/dog_rates/status/684222868...</td>\n",
              "      <td>https://twitter.com/dog_rates/status/682962037...</td>\n",
              "      <td>https://twitter.com/dog_rates/status/682808988...</td>\n",
              "      <td>https://twitter.com/dog_rates/status/677716515...</td>\n",
              "      <td>https://twitter.com/dog_rates/status/675853064...</td>\n",
              "      <td>https://twitter.com/dog_rates/status/666287406...</td>\n",
              "    </tr>\n",
              "    <tr>\n",
              "      <th>rating_numerator</th>\n",
              "      <td>960</td>\n",
              "      <td>11</td>\n",
              "      <td>84</td>\n",
              "      <td>24</td>\n",
              "      <td>9</td>\n",
              "      <td>165</td>\n",
              "      <td>9</td>\n",
              "      <td>204</td>\n",
              "      <td>4</td>\n",
              "      <td>50</td>\n",
              "      <td>...</td>\n",
              "      <td>60</td>\n",
              "      <td>44</td>\n",
              "      <td>4</td>\n",
              "      <td>143</td>\n",
              "      <td>121</td>\n",
              "      <td>7</td>\n",
              "      <td>20</td>\n",
              "      <td>144</td>\n",
              "      <td>88</td>\n",
              "      <td>1</td>\n",
              "    </tr>\n",
              "    <tr>\n",
              "      <th>rating_denominator</th>\n",
              "      <td>0</td>\n",
              "      <td>15</td>\n",
              "      <td>70</td>\n",
              "      <td>7</td>\n",
              "      <td>11</td>\n",
              "      <td>150</td>\n",
              "      <td>11</td>\n",
              "      <td>170</td>\n",
              "      <td>20</td>\n",
              "      <td>50</td>\n",
              "      <td>...</td>\n",
              "      <td>50</td>\n",
              "      <td>40</td>\n",
              "      <td>20</td>\n",
              "      <td>130</td>\n",
              "      <td>110</td>\n",
              "      <td>11</td>\n",
              "      <td>16</td>\n",
              "      <td>120</td>\n",
              "      <td>80</td>\n",
              "      <td>2</td>\n",
              "    </tr>\n",
              "  </tbody>\n",
              "</table>\n",
              "<p>4 rows × 23 columns</p>\n",
              "</div>\n",
              "      <button class=\"colab-df-convert\" onclick=\"convertToInteractive('df-bccef473-4924-474a-af48-e420edf33df6')\"\n",
              "              title=\"Convert this dataframe to an interactive table.\"\n",
              "              style=\"display:none;\">\n",
              "        \n",
              "  <svg xmlns=\"http://www.w3.org/2000/svg\" height=\"24px\"viewBox=\"0 0 24 24\"\n",
              "       width=\"24px\">\n",
              "    <path d=\"M0 0h24v24H0V0z\" fill=\"none\"/>\n",
              "    <path d=\"M18.56 5.44l.94 2.06.94-2.06 2.06-.94-2.06-.94-.94-2.06-.94 2.06-2.06.94zm-11 1L8.5 8.5l.94-2.06 2.06-.94-2.06-.94L8.5 2.5l-.94 2.06-2.06.94zm10 10l.94 2.06.94-2.06 2.06-.94-2.06-.94-.94-2.06-.94 2.06-2.06.94z\"/><path d=\"M17.41 7.96l-1.37-1.37c-.4-.4-.92-.59-1.43-.59-.52 0-1.04.2-1.43.59L10.3 9.45l-7.72 7.72c-.78.78-.78 2.05 0 2.83L4 21.41c.39.39.9.59 1.41.59.51 0 1.02-.2 1.41-.59l7.78-7.78 2.81-2.81c.8-.78.8-2.07 0-2.86zM5.41 20L4 18.59l7.72-7.72 1.47 1.35L5.41 20z\"/>\n",
              "  </svg>\n",
              "      </button>\n",
              "      \n",
              "  <style>\n",
              "    .colab-df-container {\n",
              "      display:flex;\n",
              "      flex-wrap:wrap;\n",
              "      gap: 12px;\n",
              "    }\n",
              "\n",
              "    .colab-df-convert {\n",
              "      background-color: #E8F0FE;\n",
              "      border: none;\n",
              "      border-radius: 50%;\n",
              "      cursor: pointer;\n",
              "      display: none;\n",
              "      fill: #1967D2;\n",
              "      height: 32px;\n",
              "      padding: 0 0 0 0;\n",
              "      width: 32px;\n",
              "    }\n",
              "\n",
              "    .colab-df-convert:hover {\n",
              "      background-color: #E2EBFA;\n",
              "      box-shadow: 0px 1px 2px rgba(60, 64, 67, 0.3), 0px 1px 3px 1px rgba(60, 64, 67, 0.15);\n",
              "      fill: #174EA6;\n",
              "    }\n",
              "\n",
              "    [theme=dark] .colab-df-convert {\n",
              "      background-color: #3B4455;\n",
              "      fill: #D2E3FC;\n",
              "    }\n",
              "\n",
              "    [theme=dark] .colab-df-convert:hover {\n",
              "      background-color: #434B5C;\n",
              "      box-shadow: 0px 1px 3px 1px rgba(0, 0, 0, 0.15);\n",
              "      filter: drop-shadow(0px 1px 2px rgba(0, 0, 0, 0.3));\n",
              "      fill: #FFFFFF;\n",
              "    }\n",
              "  </style>\n",
              "\n",
              "      <script>\n",
              "        const buttonEl =\n",
              "          document.querySelector('#df-bccef473-4924-474a-af48-e420edf33df6 button.colab-df-convert');\n",
              "        buttonEl.style.display =\n",
              "          google.colab.kernel.accessAllowed ? 'block' : 'none';\n",
              "\n",
              "        async function convertToInteractive(key) {\n",
              "          const element = document.querySelector('#df-bccef473-4924-474a-af48-e420edf33df6');\n",
              "          const dataTable =\n",
              "            await google.colab.kernel.invokeFunction('convertToInteractive',\n",
              "                                                     [key], {});\n",
              "          if (!dataTable) return;\n",
              "\n",
              "          const docLinkHtml = 'Like what you see? Visit the ' +\n",
              "            '<a target=\"_blank\" href=https://colab.research.google.com/notebooks/data_table.ipynb>data table notebook</a>'\n",
              "            + ' to learn more about interactive tables.';\n",
              "          element.innerHTML = '';\n",
              "          dataTable['output_type'] = 'display_data';\n",
              "          await google.colab.output.renderOutput(dataTable, element);\n",
              "          const docLink = document.createElement('div');\n",
              "          docLink.innerHTML = docLinkHtml;\n",
              "          element.appendChild(docLink);\n",
              "        }\n",
              "      </script>\n",
              "    </div>\n",
              "  </div>\n",
              "  "
            ]
          },
          "metadata": {},
          "execution_count": 73
        }
      ],
      "source": [
        "# Checking the instances where rating denominator value is different than 10\n",
        "tweet_cleaned_comb_cnt[['text','expanded_urls', 'rating_numerator', 'rating_denominator']].query('rating_denominator != 10').T"
      ]
    },
    {
      "cell_type": "code",
      "execution_count": null,
      "metadata": {
        "id": "TLoAmqCCK2H8",
        "outputId": "dd432e7d-673b-4d81-b723-34ed0417d171",
        "colab": {
          "base_uri": "https://localhost:8080/"
        }
      },
      "outputs": [
        {
          "output_type": "execute_result",
          "data": {
            "text/plain": [
              "                                                   text  rating_numerator  \\\n",
              "44    This is Bella. She hopes her smile made you sm...                 5   \n",
              "339   RT @dog_rates: This is Logan, the Chow who liv...                75   \n",
              "762   This is Sophie. She's a Jubilant Bush Pupper. ...                27   \n",
              "1687  I've been told there's a slight possibility he...                 5   \n",
              "1710  Here we have uncovered an entire battalion of ...                26   \n",
              "\n",
              "      rating_denominator  \n",
              "44                    10  \n",
              "339                   10  \n",
              "762                   10  \n",
              "1687                  10  \n",
              "1710                  10  "
            ],
            "text/html": [
              "\n",
              "  <div id=\"df-c16d9064-fd4a-4467-aa6c-675dd77e408a\">\n",
              "    <div class=\"colab-df-container\">\n",
              "      <div>\n",
              "<style scoped>\n",
              "    .dataframe tbody tr th:only-of-type {\n",
              "        vertical-align: middle;\n",
              "    }\n",
              "\n",
              "    .dataframe tbody tr th {\n",
              "        vertical-align: top;\n",
              "    }\n",
              "\n",
              "    .dataframe thead th {\n",
              "        text-align: right;\n",
              "    }\n",
              "</style>\n",
              "<table border=\"1\" class=\"dataframe\">\n",
              "  <thead>\n",
              "    <tr style=\"text-align: right;\">\n",
              "      <th></th>\n",
              "      <th>text</th>\n",
              "      <th>rating_numerator</th>\n",
              "      <th>rating_denominator</th>\n",
              "    </tr>\n",
              "  </thead>\n",
              "  <tbody>\n",
              "    <tr>\n",
              "      <th>44</th>\n",
              "      <td>This is Bella. She hopes her smile made you sm...</td>\n",
              "      <td>5</td>\n",
              "      <td>10</td>\n",
              "    </tr>\n",
              "    <tr>\n",
              "      <th>339</th>\n",
              "      <td>RT @dog_rates: This is Logan, the Chow who liv...</td>\n",
              "      <td>75</td>\n",
              "      <td>10</td>\n",
              "    </tr>\n",
              "    <tr>\n",
              "      <th>762</th>\n",
              "      <td>This is Sophie. She's a Jubilant Bush Pupper. ...</td>\n",
              "      <td>27</td>\n",
              "      <td>10</td>\n",
              "    </tr>\n",
              "    <tr>\n",
              "      <th>1687</th>\n",
              "      <td>I've been told there's a slight possibility he...</td>\n",
              "      <td>5</td>\n",
              "      <td>10</td>\n",
              "    </tr>\n",
              "    <tr>\n",
              "      <th>1710</th>\n",
              "      <td>Here we have uncovered an entire battalion of ...</td>\n",
              "      <td>26</td>\n",
              "      <td>10</td>\n",
              "    </tr>\n",
              "  </tbody>\n",
              "</table>\n",
              "</div>\n",
              "      <button class=\"colab-df-convert\" onclick=\"convertToInteractive('df-c16d9064-fd4a-4467-aa6c-675dd77e408a')\"\n",
              "              title=\"Convert this dataframe to an interactive table.\"\n",
              "              style=\"display:none;\">\n",
              "        \n",
              "  <svg xmlns=\"http://www.w3.org/2000/svg\" height=\"24px\"viewBox=\"0 0 24 24\"\n",
              "       width=\"24px\">\n",
              "    <path d=\"M0 0h24v24H0V0z\" fill=\"none\"/>\n",
              "    <path d=\"M18.56 5.44l.94 2.06.94-2.06 2.06-.94-2.06-.94-.94-2.06-.94 2.06-2.06.94zm-11 1L8.5 8.5l.94-2.06 2.06-.94-2.06-.94L8.5 2.5l-.94 2.06-2.06.94zm10 10l.94 2.06.94-2.06 2.06-.94-2.06-.94-.94-2.06-.94 2.06-2.06.94z\"/><path d=\"M17.41 7.96l-1.37-1.37c-.4-.4-.92-.59-1.43-.59-.52 0-1.04.2-1.43.59L10.3 9.45l-7.72 7.72c-.78.78-.78 2.05 0 2.83L4 21.41c.39.39.9.59 1.41.59.51 0 1.02-.2 1.41-.59l7.78-7.78 2.81-2.81c.8-.78.8-2.07 0-2.86zM5.41 20L4 18.59l7.72-7.72 1.47 1.35L5.41 20z\"/>\n",
              "  </svg>\n",
              "      </button>\n",
              "      \n",
              "  <style>\n",
              "    .colab-df-container {\n",
              "      display:flex;\n",
              "      flex-wrap:wrap;\n",
              "      gap: 12px;\n",
              "    }\n",
              "\n",
              "    .colab-df-convert {\n",
              "      background-color: #E8F0FE;\n",
              "      border: none;\n",
              "      border-radius: 50%;\n",
              "      cursor: pointer;\n",
              "      display: none;\n",
              "      fill: #1967D2;\n",
              "      height: 32px;\n",
              "      padding: 0 0 0 0;\n",
              "      width: 32px;\n",
              "    }\n",
              "\n",
              "    .colab-df-convert:hover {\n",
              "      background-color: #E2EBFA;\n",
              "      box-shadow: 0px 1px 2px rgba(60, 64, 67, 0.3), 0px 1px 3px 1px rgba(60, 64, 67, 0.15);\n",
              "      fill: #174EA6;\n",
              "    }\n",
              "\n",
              "    [theme=dark] .colab-df-convert {\n",
              "      background-color: #3B4455;\n",
              "      fill: #D2E3FC;\n",
              "    }\n",
              "\n",
              "    [theme=dark] .colab-df-convert:hover {\n",
              "      background-color: #434B5C;\n",
              "      box-shadow: 0px 1px 3px 1px rgba(0, 0, 0, 0.15);\n",
              "      filter: drop-shadow(0px 1px 2px rgba(0, 0, 0, 0.3));\n",
              "      fill: #FFFFFF;\n",
              "    }\n",
              "  </style>\n",
              "\n",
              "      <script>\n",
              "        const buttonEl =\n",
              "          document.querySelector('#df-c16d9064-fd4a-4467-aa6c-675dd77e408a button.colab-df-convert');\n",
              "        buttonEl.style.display =\n",
              "          google.colab.kernel.accessAllowed ? 'block' : 'none';\n",
              "\n",
              "        async function convertToInteractive(key) {\n",
              "          const element = document.querySelector('#df-c16d9064-fd4a-4467-aa6c-675dd77e408a');\n",
              "          const dataTable =\n",
              "            await google.colab.kernel.invokeFunction('convertToInteractive',\n",
              "                                                     [key], {});\n",
              "          if (!dataTable) return;\n",
              "\n",
              "          const docLinkHtml = 'Like what you see? Visit the ' +\n",
              "            '<a target=\"_blank\" href=https://colab.research.google.com/notebooks/data_table.ipynb>data table notebook</a>'\n",
              "            + ' to learn more about interactive tables.';\n",
              "          element.innerHTML = '';\n",
              "          dataTable['output_type'] = 'display_data';\n",
              "          await google.colab.output.renderOutput(dataTable, element);\n",
              "          const docLink = document.createElement('div');\n",
              "          docLink.innerHTML = docLinkHtml;\n",
              "          element.appendChild(docLink);\n",
              "        }\n",
              "      </script>\n",
              "    </div>\n",
              "  </div>\n",
              "  "
            ]
          },
          "metadata": {},
          "execution_count": 74
        }
      ],
      "source": [
        "# Checking the numerator-values where they are incorrectly entered\n",
        "tweet_cleaned_comb_cnt[tweet_cleaned_comb_cnt['text'].str.contains(r\"(\\d+\\.\\d*\\/\\d+)\")][['text', 'rating_numerator', 'rating_denominator']]"
      ]
    },
    {
      "cell_type": "code",
      "execution_count": null,
      "metadata": {
        "id": "IM47HxWyK2H8"
      },
      "outputs": [],
      "source": [
        "# Replacing the incorrect values in ratings with correct values\n",
        "tweet_cleaned_comb_cnt[['rating_numerator', 'rating_denominator']] = tweet_cleaned_comb_cnt[['rating_numerator', 'rating_denominator']].replace([960 ,0], [13, 10])"
      ]
    },
    {
      "cell_type": "markdown",
      "source": [
        "**Note**: It should be noted that the aforementioned approach is not suitable for correcting values in other rows. Making corrections to the numerator or denominator values will inadvertently impact all other rows within the same column, even if the values are already accurate. As a result, this approach can disrupt the entire ranking column. To address this issue, we can utilize the `loc` method, which allows us to selectively modify only a specific portion or slice of a dataframe, minimizing the unintended consequences on the rest of the data."
      ],
      "metadata": {
        "id": "G1Bru-dzWeF1"
      }
    },
    {
      "cell_type": "code",
      "source": [
        "# Replacing the incorrect-rating values with correct-ratings values\n",
        "tweet_cleaned_comb_cnt.loc[1163, 'rating_numerator':'rating_denominator'] = [13, 10]\n",
        "tweet_cleaned_comb_cnt.loc[1687, 'rating_numerator':'rating_denominator'] = [9.50, 10]\n",
        "tweet_cleaned_comb_cnt.loc[783, 'rating_numerator':'rating_denominator'] = [14, 10]\n",
        "tweet_cleaned_comb_cnt.loc[1066, 'rating_numerator':'rating_denominator'] = [14, 10]\n",
        "tweet_cleaned_comb_cnt.loc[1710, 'rating_numerator':'rating_denominator'] = [11.26, 10]\n",
        "tweet_cleaned_comb_cnt.loc[1596, 'rating_numerator':'rating_denominator'] = [13, 10]\n",
        "tweet_cleaned_comb_cnt.loc[44, 'rating_numerator':'rating_denominator'] = [13.50, 10]\n",
        "tweet_cleaned_comb_cnt.loc[339, 'rating_numerator':'rating_denominator'] = [9.75, 10]\n",
        "tweet_cleaned_comb_cnt.loc[1200, 'rating_numerator':'rating_denominator'] = [11, 10]\n",
        "tweet_cleaned_comb_cnt.loc[762, 'rating_numerator':'rating_denominator'] = [11.27, 10]\n",
        "tweet_cleaned_comb_cnt.loc[1660, 'rating_numerator':'rating_denominator'] = [10, 10]\n",
        "tweet_cleaned_comb_cnt.loc[2333, 'rating_numerator':'rating_denominator'] = [9, 10]"
      ],
      "metadata": {
        "id": "JtcItKzEK9T4"
      },
      "execution_count": null,
      "outputs": []
    },
    {
      "cell_type": "code",
      "execution_count": null,
      "metadata": {
        "id": "5IUQdO8vK2H9"
      },
      "outputs": [],
      "source": [
        "# Dropping the other wrongly entered ratings\n",
        "tweet_cleaned_comb_cnt = tweet_cleaned_comb_cnt.drop([341, 515, 783, 1596, 1661], axis = 0)"
      ]
    },
    {
      "cell_type": "code",
      "execution_count": null,
      "metadata": {
        "id": "h7mgWze2K2H9",
        "outputId": "1fa1afb4-cbe0-488d-cd64-55c796421df0",
        "colab": {
          "base_uri": "https://localhost:8080/"
        }
      },
      "outputs": [
        {
          "output_type": "execute_result",
          "data": {
            "text/plain": [
              "tweet_id                            int64\n",
              "timestamp             datetime64[ns, UTC]\n",
              "source                             object\n",
              "text                               object\n",
              "expanded_urls                      object\n",
              "rating_numerator                  float64\n",
              "rating_denominator                  int64\n",
              "name                               object\n",
              "dog_comb_stg                       object\n",
              "retweet_count                       int64\n",
              "favorite_count                      int64\n",
              "dtype: object"
            ]
          },
          "metadata": {},
          "execution_count": 78
        }
      ],
      "source": [
        "# Checking the datatype of all the variables\n",
        "tweet_cleaned_comb_cnt.dtypes"
      ]
    },
    {
      "cell_type": "code",
      "execution_count": null,
      "metadata": {
        "id": "dByGmwftK2H9"
      },
      "outputs": [],
      "source": [
        "# Creating a rating-factor column by using denominator column\n",
        "tweet_cleaned_comb_cnt['rating_factor'] = tweet_cleaned_comb_cnt['rating_denominator']/10"
      ]
    },
    {
      "cell_type": "code",
      "source": [
        "# Changing the rating_denominator to 10 and rating_numerator equivalent to 10 using rating_factor calculated\n",
        "tweet_cleaned_comb_cnt['rating_denominator'] = (tweet_cleaned_comb_cnt['rating_denominator']/tweet_cleaned_comb_cnt['rating_factor']).astype('int64')\n",
        "tweet_cleaned_comb_cnt['rating_numerator'] = (tweet_cleaned_comb_cnt['rating_numerator']/tweet_cleaned_comb_cnt['rating_factor'])"
      ],
      "metadata": {
        "id": "0sYG2xHedoNO"
      },
      "execution_count": null,
      "outputs": []
    },
    {
      "cell_type": "code",
      "execution_count": null,
      "metadata": {
        "id": "0jX8pLP_K2H9"
      },
      "outputs": [],
      "source": [
        "# Drop the rating_factor\n",
        "tweet_cleaned_comb_cnt.drop('rating_factor', axis=1, inplace=True)"
      ]
    },
    {
      "cell_type": "markdown",
      "metadata": {
        "id": "f1555tQxK2H9"
      },
      "source": [
        "**Test**"
      ]
    },
    {
      "cell_type": "code",
      "execution_count": null,
      "metadata": {
        "id": "ucl4ElrTK2H9",
        "outputId": "e66461c9-d279-44f5-c345-d1f90b86c9ca",
        "colab": {
          "base_uri": "https://localhost:8080/"
        }
      },
      "outputs": [
        {
          "output_type": "execute_result",
          "data": {
            "text/plain": [
              "Empty DataFrame\n",
              "Columns: [tweet_id, timestamp, source, text, expanded_urls, rating_numerator, rating_denominator, name, dog_comb_stg, retweet_count, favorite_count]\n",
              "Index: []"
            ],
            "text/html": [
              "\n",
              "  <div id=\"df-d77ac6fd-6b70-4340-94ac-8689ed0c5fb4\">\n",
              "    <div class=\"colab-df-container\">\n",
              "      <div>\n",
              "<style scoped>\n",
              "    .dataframe tbody tr th:only-of-type {\n",
              "        vertical-align: middle;\n",
              "    }\n",
              "\n",
              "    .dataframe tbody tr th {\n",
              "        vertical-align: top;\n",
              "    }\n",
              "\n",
              "    .dataframe thead th {\n",
              "        text-align: right;\n",
              "    }\n",
              "</style>\n",
              "<table border=\"1\" class=\"dataframe\">\n",
              "  <thead>\n",
              "    <tr style=\"text-align: right;\">\n",
              "      <th></th>\n",
              "      <th>tweet_id</th>\n",
              "      <th>timestamp</th>\n",
              "      <th>source</th>\n",
              "      <th>text</th>\n",
              "      <th>expanded_urls</th>\n",
              "      <th>rating_numerator</th>\n",
              "      <th>rating_denominator</th>\n",
              "      <th>name</th>\n",
              "      <th>dog_comb_stg</th>\n",
              "      <th>retweet_count</th>\n",
              "      <th>favorite_count</th>\n",
              "    </tr>\n",
              "  </thead>\n",
              "  <tbody>\n",
              "  </tbody>\n",
              "</table>\n",
              "</div>\n",
              "      <button class=\"colab-df-convert\" onclick=\"convertToInteractive('df-d77ac6fd-6b70-4340-94ac-8689ed0c5fb4')\"\n",
              "              title=\"Convert this dataframe to an interactive table.\"\n",
              "              style=\"display:none;\">\n",
              "        \n",
              "  <svg xmlns=\"http://www.w3.org/2000/svg\" height=\"24px\"viewBox=\"0 0 24 24\"\n",
              "       width=\"24px\">\n",
              "    <path d=\"M0 0h24v24H0V0z\" fill=\"none\"/>\n",
              "    <path d=\"M18.56 5.44l.94 2.06.94-2.06 2.06-.94-2.06-.94-.94-2.06-.94 2.06-2.06.94zm-11 1L8.5 8.5l.94-2.06 2.06-.94-2.06-.94L8.5 2.5l-.94 2.06-2.06.94zm10 10l.94 2.06.94-2.06 2.06-.94-2.06-.94-.94-2.06-.94 2.06-2.06.94z\"/><path d=\"M17.41 7.96l-1.37-1.37c-.4-.4-.92-.59-1.43-.59-.52 0-1.04.2-1.43.59L10.3 9.45l-7.72 7.72c-.78.78-.78 2.05 0 2.83L4 21.41c.39.39.9.59 1.41.59.51 0 1.02-.2 1.41-.59l7.78-7.78 2.81-2.81c.8-.78.8-2.07 0-2.86zM5.41 20L4 18.59l7.72-7.72 1.47 1.35L5.41 20z\"/>\n",
              "  </svg>\n",
              "      </button>\n",
              "      \n",
              "  <style>\n",
              "    .colab-df-container {\n",
              "      display:flex;\n",
              "      flex-wrap:wrap;\n",
              "      gap: 12px;\n",
              "    }\n",
              "\n",
              "    .colab-df-convert {\n",
              "      background-color: #E8F0FE;\n",
              "      border: none;\n",
              "      border-radius: 50%;\n",
              "      cursor: pointer;\n",
              "      display: none;\n",
              "      fill: #1967D2;\n",
              "      height: 32px;\n",
              "      padding: 0 0 0 0;\n",
              "      width: 32px;\n",
              "    }\n",
              "\n",
              "    .colab-df-convert:hover {\n",
              "      background-color: #E2EBFA;\n",
              "      box-shadow: 0px 1px 2px rgba(60, 64, 67, 0.3), 0px 1px 3px 1px rgba(60, 64, 67, 0.15);\n",
              "      fill: #174EA6;\n",
              "    }\n",
              "\n",
              "    [theme=dark] .colab-df-convert {\n",
              "      background-color: #3B4455;\n",
              "      fill: #D2E3FC;\n",
              "    }\n",
              "\n",
              "    [theme=dark] .colab-df-convert:hover {\n",
              "      background-color: #434B5C;\n",
              "      box-shadow: 0px 1px 3px 1px rgba(0, 0, 0, 0.15);\n",
              "      filter: drop-shadow(0px 1px 2px rgba(0, 0, 0, 0.3));\n",
              "      fill: #FFFFFF;\n",
              "    }\n",
              "  </style>\n",
              "\n",
              "      <script>\n",
              "        const buttonEl =\n",
              "          document.querySelector('#df-d77ac6fd-6b70-4340-94ac-8689ed0c5fb4 button.colab-df-convert');\n",
              "        buttonEl.style.display =\n",
              "          google.colab.kernel.accessAllowed ? 'block' : 'none';\n",
              "\n",
              "        async function convertToInteractive(key) {\n",
              "          const element = document.querySelector('#df-d77ac6fd-6b70-4340-94ac-8689ed0c5fb4');\n",
              "          const dataTable =\n",
              "            await google.colab.kernel.invokeFunction('convertToInteractive',\n",
              "                                                     [key], {});\n",
              "          if (!dataTable) return;\n",
              "\n",
              "          const docLinkHtml = 'Like what you see? Visit the ' +\n",
              "            '<a target=\"_blank\" href=https://colab.research.google.com/notebooks/data_table.ipynb>data table notebook</a>'\n",
              "            + ' to learn more about interactive tables.';\n",
              "          element.innerHTML = '';\n",
              "          dataTable['output_type'] = 'display_data';\n",
              "          await google.colab.output.renderOutput(dataTable, element);\n",
              "          const docLink = document.createElement('div');\n",
              "          docLink.innerHTML = docLinkHtml;\n",
              "          element.appendChild(docLink);\n",
              "        }\n",
              "      </script>\n",
              "    </div>\n",
              "  </div>\n",
              "  "
            ]
          },
          "metadata": {},
          "execution_count": 82
        }
      ],
      "source": [
        "tweet_cleaned_comb_cnt.query('rating_denominator != 10')"
      ]
    },
    {
      "cell_type": "code",
      "execution_count": null,
      "metadata": {
        "id": "i6H5AXWmK2H-",
        "outputId": "f0f449bc-7218-4d04-b72a-35fe95de8204",
        "colab": {
          "base_uri": "https://localhost:8080/"
        }
      },
      "outputs": [
        {
          "output_type": "stream",
          "name": "stdout",
          "text": [
            "<class 'pandas.core.frame.DataFrame'>\n",
            "Int64Index: 2237 entries, 0 to 2353\n",
            "Data columns (total 11 columns):\n",
            " #   Column              Non-Null Count  Dtype              \n",
            "---  ------              --------------  -----              \n",
            " 0   tweet_id            2237 non-null   int64              \n",
            " 1   timestamp           2237 non-null   datetime64[ns, UTC]\n",
            " 2   source              2237 non-null   object             \n",
            " 3   text                2237 non-null   object             \n",
            " 4   expanded_urls       2237 non-null   object             \n",
            " 5   rating_numerator    2237 non-null   float64            \n",
            " 6   rating_denominator  2237 non-null   int64              \n",
            " 7   name                2237 non-null   object             \n",
            " 8   dog_comb_stg        2237 non-null   object             \n",
            " 9   retweet_count       2237 non-null   int64              \n",
            " 10  favorite_count      2237 non-null   int64              \n",
            "dtypes: datetime64[ns, UTC](1), float64(1), int64(4), object(5)\n",
            "memory usage: 209.7+ KB\n"
          ]
        }
      ],
      "source": [
        "tweet_cleaned_comb_cnt.info()"
      ]
    },
    {
      "cell_type": "markdown",
      "source": [
        "**4.8.** The `name` column contains invalid data entries such as \"such\", \"quite\", \"a\", and \"an\"."
      ],
      "metadata": {
        "id": "QMvdZNt1aHX2"
      }
    },
    {
      "cell_type": "markdown",
      "source": [
        "**Define**: Validate and replace any occurrences of the \"name\" column containing invalid data with NaN (Not a Number)."
      ],
      "metadata": {
        "id": "QUT-RidCaVgP"
      }
    },
    {
      "cell_type": "markdown",
      "metadata": {
        "id": "MJVg25xRK2H-"
      },
      "source": [
        "**Code**:"
      ]
    },
    {
      "cell_type": "code",
      "execution_count": null,
      "metadata": {
        "scrolled": true,
        "id": "Eix9JCa1K2H-",
        "outputId": "cc2ef4b7-6dff-4f08-bdab-ff4fb5dd8a73",
        "colab": {
          "base_uri": "https://localhost:8080/"
        }
      },
      "outputs": [
        {
          "output_type": "execute_result",
          "data": {
            "text/plain": [
              "a               55\n",
              "the              8\n",
              "an               6\n",
              "very             5\n",
              "one              4\n",
              "quite            3\n",
              "just             3\n",
              "actually         2\n",
              "not              2\n",
              "getting          2\n",
              "old              1\n",
              "light            1\n",
              "life             1\n",
              "officially       1\n",
              "by               1\n",
              "infuriating      1\n",
              "such             1\n",
              "all              1\n",
              "unacceptable     1\n",
              "this             1\n",
              "his              1\n",
              "my               1\n",
              "mad              1\n",
              "incredibly       1\n",
              "space            1\n",
              "Name: name, dtype: int64"
            ]
          },
          "metadata": {},
          "execution_count": 84
        }
      ],
      "source": [
        "# Checking for all invalid names again just to keep the flow and handling it now\n",
        "tweet_cleaned_comb_cnt[tweet_cleaned_comb_cnt['name'].str.islower() == True]['name'].value_counts()"
      ]
    },
    {
      "cell_type": "code",
      "execution_count": null,
      "metadata": {
        "id": "YPgyNElBK2H-"
      },
      "outputs": [],
      "source": [
        "# Replace the invalid names with a string 'None'\n",
        "for item in tweet_cleaned_comb_cnt.name:\n",
        "    if item.islower() == True:\n",
        "        tweet_cleaned_comb_cnt['name'] = tweet_cleaned_comb_cnt['name'].replace(item, 'None')"
      ]
    },
    {
      "cell_type": "code",
      "execution_count": null,
      "metadata": {
        "id": "tzhpjJ8dK2H_"
      },
      "outputs": [],
      "source": [
        "import numpy as np\n",
        "# Replaceing 'None' values in the name feature with NaN values\n",
        "tweet_cleaned_comb_cnt['name'] = tweet_cleaned_comb_cnt['name'].replace('None', np.nan)"
      ]
    },
    {
      "cell_type": "markdown",
      "metadata": {
        "id": "I4T0OzP7K2H_"
      },
      "source": [
        "**Test**"
      ]
    },
    {
      "cell_type": "code",
      "execution_count": null,
      "metadata": {
        "id": "ufamDfRZK2H_",
        "outputId": "e02f7825-df21-47d5-ef1a-90dc09733f2d",
        "colab": {
          "base_uri": "https://localhost:8080/"
        }
      },
      "outputs": [
        {
          "output_type": "execute_result",
          "data": {
            "text/plain": [
              "Series([], Name: name, dtype: object)"
            ]
          },
          "metadata": {},
          "execution_count": 87
        }
      ],
      "source": [
        "tweet_cleaned_comb_cnt[tweet_cleaned_comb_cnt['name'].str.islower() == True].name"
      ]
    },
    {
      "cell_type": "code",
      "execution_count": null,
      "metadata": {
        "id": "PZ7oUaBtK2H_",
        "outputId": "e2c7b28f-28e5-4be2-9986-7b925bb41382",
        "colab": {
          "base_uri": "https://localhost:8080/"
        }
      },
      "outputs": [
        {
          "output_type": "execute_result",
          "data": {
            "text/plain": [
              "810"
            ]
          },
          "metadata": {},
          "execution_count": 88
        }
      ],
      "source": [
        "tweet_cleaned_comb_cnt['name'].isnull().sum()"
      ]
    },
    {
      "cell_type": "markdown",
      "source": [
        "**4.9**. The columns 'name', 'doggo', 'floofer', 'pupper', and 'puppo' contain instances where the value is 'None'.\n",
        "\n",
        "**Note**: The columns 'doggo', 'floofer', 'pupper', and 'puppo' were combined into a single column called 'dog_stage'. However, the 'dog_stage' column contains several incorrectly entered data entries, including instances with 'None' as the value. Therefore, it is necessary to correct and reorganize the entire column to ensure accurate and consistent data."
      ],
      "metadata": {
        "id": "KMKYAb5LgGMP"
      }
    },
    {
      "cell_type": "markdown",
      "metadata": {
        "id": "koHF-Hs3K2IA"
      },
      "source": [
        "**Code**:"
      ]
    },
    {
      "cell_type": "code",
      "execution_count": null,
      "metadata": {
        "id": "Si-5EZguK2IA",
        "outputId": "902407a0-4574-4334-81ec-97cd0e8524d6",
        "colab": {
          "base_uri": "https://localhost:8080/"
        }
      },
      "outputs": [
        {
          "output_type": "execute_result",
          "data": {
            "text/plain": [
              "            1883\n",
              "pupper       230\n",
              "doggo         79\n",
              "puppo         24\n",
              "combined      12\n",
              "floofer        9\n",
              "Name: dog_comb_stg, dtype: int64"
            ]
          },
          "metadata": {},
          "execution_count": 89
        }
      ],
      "source": [
        "# Distribution of the dog_comb_stg\n",
        "tweet_cleaned_comb_cnt.dog_comb_stg.value_counts()"
      ]
    },
    {
      "cell_type": "code",
      "execution_count": null,
      "metadata": {
        "scrolled": true,
        "id": "fbSXkQiQK2IA",
        "outputId": "212b9554-e403-40b4-df89-dfddb0aff580",
        "colab": {
          "base_uri": "https://localhost:8080/"
        }
      },
      "outputs": [
        {
          "output_type": "execute_result",
          "data": {
            "text/plain": [
              "                                                   text dog_comb_stg\n",
              "2167  This is Tessa. She is also very pleased after ...             \n",
              "1421  \"Dammit hooman quit playin I jus wanna wheat t...             \n",
              "2284  This is Timison. He just told an awful joke bu...             \n",
              "555   Pupper hath acquire enemy. 13/10 https://t.co/...       pupper\n",
              "2320  Oh boy what a pup! Sunglasses take this one to...             \n",
              "1388  If a pupper gave that to me I'd probably start...       pupper"
            ],
            "text/html": [
              "\n",
              "  <div id=\"df-5c2c3fb6-2169-4998-8c89-af50f8c115a5\">\n",
              "    <div class=\"colab-df-container\">\n",
              "      <div>\n",
              "<style scoped>\n",
              "    .dataframe tbody tr th:only-of-type {\n",
              "        vertical-align: middle;\n",
              "    }\n",
              "\n",
              "    .dataframe tbody tr th {\n",
              "        vertical-align: top;\n",
              "    }\n",
              "\n",
              "    .dataframe thead th {\n",
              "        text-align: right;\n",
              "    }\n",
              "</style>\n",
              "<table border=\"1\" class=\"dataframe\">\n",
              "  <thead>\n",
              "    <tr style=\"text-align: right;\">\n",
              "      <th></th>\n",
              "      <th>text</th>\n",
              "      <th>dog_comb_stg</th>\n",
              "    </tr>\n",
              "  </thead>\n",
              "  <tbody>\n",
              "    <tr>\n",
              "      <th>2167</th>\n",
              "      <td>This is Tessa. She is also very pleased after ...</td>\n",
              "      <td></td>\n",
              "    </tr>\n",
              "    <tr>\n",
              "      <th>1421</th>\n",
              "      <td>\"Dammit hooman quit playin I jus wanna wheat t...</td>\n",
              "      <td></td>\n",
              "    </tr>\n",
              "    <tr>\n",
              "      <th>2284</th>\n",
              "      <td>This is Timison. He just told an awful joke bu...</td>\n",
              "      <td></td>\n",
              "    </tr>\n",
              "    <tr>\n",
              "      <th>555</th>\n",
              "      <td>Pupper hath acquire enemy. 13/10 https://t.co/...</td>\n",
              "      <td>pupper</td>\n",
              "    </tr>\n",
              "    <tr>\n",
              "      <th>2320</th>\n",
              "      <td>Oh boy what a pup! Sunglasses take this one to...</td>\n",
              "      <td></td>\n",
              "    </tr>\n",
              "    <tr>\n",
              "      <th>1388</th>\n",
              "      <td>If a pupper gave that to me I'd probably start...</td>\n",
              "      <td>pupper</td>\n",
              "    </tr>\n",
              "  </tbody>\n",
              "</table>\n",
              "</div>\n",
              "      <button class=\"colab-df-convert\" onclick=\"convertToInteractive('df-5c2c3fb6-2169-4998-8c89-af50f8c115a5')\"\n",
              "              title=\"Convert this dataframe to an interactive table.\"\n",
              "              style=\"display:none;\">\n",
              "        \n",
              "  <svg xmlns=\"http://www.w3.org/2000/svg\" height=\"24px\"viewBox=\"0 0 24 24\"\n",
              "       width=\"24px\">\n",
              "    <path d=\"M0 0h24v24H0V0z\" fill=\"none\"/>\n",
              "    <path d=\"M18.56 5.44l.94 2.06.94-2.06 2.06-.94-2.06-.94-.94-2.06-.94 2.06-2.06.94zm-11 1L8.5 8.5l.94-2.06 2.06-.94-2.06-.94L8.5 2.5l-.94 2.06-2.06.94zm10 10l.94 2.06.94-2.06 2.06-.94-2.06-.94-.94-2.06-.94 2.06-2.06.94z\"/><path d=\"M17.41 7.96l-1.37-1.37c-.4-.4-.92-.59-1.43-.59-.52 0-1.04.2-1.43.59L10.3 9.45l-7.72 7.72c-.78.78-.78 2.05 0 2.83L4 21.41c.39.39.9.59 1.41.59.51 0 1.02-.2 1.41-.59l7.78-7.78 2.81-2.81c.8-.78.8-2.07 0-2.86zM5.41 20L4 18.59l7.72-7.72 1.47 1.35L5.41 20z\"/>\n",
              "  </svg>\n",
              "      </button>\n",
              "      \n",
              "  <style>\n",
              "    .colab-df-container {\n",
              "      display:flex;\n",
              "      flex-wrap:wrap;\n",
              "      gap: 12px;\n",
              "    }\n",
              "\n",
              "    .colab-df-convert {\n",
              "      background-color: #E8F0FE;\n",
              "      border: none;\n",
              "      border-radius: 50%;\n",
              "      cursor: pointer;\n",
              "      display: none;\n",
              "      fill: #1967D2;\n",
              "      height: 32px;\n",
              "      padding: 0 0 0 0;\n",
              "      width: 32px;\n",
              "    }\n",
              "\n",
              "    .colab-df-convert:hover {\n",
              "      background-color: #E2EBFA;\n",
              "      box-shadow: 0px 1px 2px rgba(60, 64, 67, 0.3), 0px 1px 3px 1px rgba(60, 64, 67, 0.15);\n",
              "      fill: #174EA6;\n",
              "    }\n",
              "\n",
              "    [theme=dark] .colab-df-convert {\n",
              "      background-color: #3B4455;\n",
              "      fill: #D2E3FC;\n",
              "    }\n",
              "\n",
              "    [theme=dark] .colab-df-convert:hover {\n",
              "      background-color: #434B5C;\n",
              "      box-shadow: 0px 1px 3px 1px rgba(0, 0, 0, 0.15);\n",
              "      filter: drop-shadow(0px 1px 2px rgba(0, 0, 0, 0.3));\n",
              "      fill: #FFFFFF;\n",
              "    }\n",
              "  </style>\n",
              "\n",
              "      <script>\n",
              "        const buttonEl =\n",
              "          document.querySelector('#df-5c2c3fb6-2169-4998-8c89-af50f8c115a5 button.colab-df-convert');\n",
              "        buttonEl.style.display =\n",
              "          google.colab.kernel.accessAllowed ? 'block' : 'none';\n",
              "\n",
              "        async function convertToInteractive(key) {\n",
              "          const element = document.querySelector('#df-5c2c3fb6-2169-4998-8c89-af50f8c115a5');\n",
              "          const dataTable =\n",
              "            await google.colab.kernel.invokeFunction('convertToInteractive',\n",
              "                                                     [key], {});\n",
              "          if (!dataTable) return;\n",
              "\n",
              "          const docLinkHtml = 'Like what you see? Visit the ' +\n",
              "            '<a target=\"_blank\" href=https://colab.research.google.com/notebooks/data_table.ipynb>data table notebook</a>'\n",
              "            + ' to learn more about interactive tables.';\n",
              "          element.innerHTML = '';\n",
              "          dataTable['output_type'] = 'display_data';\n",
              "          await google.colab.output.renderOutput(dataTable, element);\n",
              "          const docLink = document.createElement('div');\n",
              "          docLink.innerHTML = docLinkHtml;\n",
              "          element.appendChild(docLink);\n",
              "        }\n",
              "      </script>\n",
              "    </div>\n",
              "  </div>\n",
              "  "
            ]
          },
          "metadata": {},
          "execution_count": 90
        }
      ],
      "source": [
        "# Sampling to have an overview\n",
        "tweet_cleaned_comb_cnt[['text', 'dog_comb_stg']].sample(6)"
      ]
    },
    {
      "cell_type": "code",
      "execution_count": null,
      "metadata": {
        "id": "JbcMoIegK2IA"
      },
      "outputs": [],
      "source": [
        "# Collecting the  words for dog_comb_stg interpretation in 4 diff variables\n",
        "pupper_dog = ['Pup','Pupper', 'puppeters', 'puppy', 'Puppy', 'Pup.', 'pup.', 'pup',  'pupper.', 'Pupper.', 'puppeters.', 'puppy.', 'Puppy.', 'pupper,', 'pups', 'puppers', 'pupper',  'pups.', 'puppers.', 'pupper?', '(pupper)', 'PUPPER', '(pupper).']\n",
        "doggo_dog = [ 'dogg.', 'doggo?','Doggo', 'doggo', 'dogg', '(doggo)', 'DOGGO', '(doggo),','Doggo.', 'doggo.']\n",
        "puppo_dog = [  'Puppo.', 'puppo?','Puppo', 'puppo','puppo.']\n",
        "floofer_dog = [ 'floofs',  'floof.', 'Floofy.','floofs.', 'floofer.', 'floofers.','Floofer',  'floofy.', 'Floofer.','floofer', 'floofers', 'floof', 'Floofy', 'floofy']"
      ]
    },
    {
      "cell_type": "code",
      "execution_count": null,
      "metadata": {
        "id": "fMwfssE-K2IB"
      },
      "outputs": [],
      "source": [
        "# forming a testing column\n",
        "tweet_cleaned_comb_cnt['dog_stage_test'] = ''"
      ]
    },
    {
      "cell_type": "code",
      "execution_count": null,
      "metadata": {
        "id": "PcMmQ-LhK2IB"
      },
      "outputs": [],
      "source": [
        "# Use the above 4 variables to correctly interpret dog stage in the new column\n",
        "for item in tweet_cleaned_comb_cnt['text']:\n",
        "    text_item = tweet_cleaned_comb_cnt[tweet_cleaned_comb_cnt['text'] == item].index.values\n",
        "    items_striped = str(item).strip(\".,\").split(' ')\n",
        "    for word in items_striped:\n",
        "        if (word in pupper_dog) and (word in doggo_dog):\n",
        "            tweet_cleaned_comb_cnt.loc[text_item, 'dog_stage_test'] = 'pupper & doggo'\n",
        "        elif (word in puppo_dog) and (word in doggo_dog):\n",
        "            tweet_cleaned_comb_cnt.loc[text_item, 'dog_stage_test'] = 'puppo & doggo'\n",
        "        elif (word in floofer_dog) and (word in doggo_dog):\n",
        "            tweet_cleaned_comb_cnt.loc[text_item, 'dog_stage_test'] = 'floofer & doggo'\n",
        "        elif word in pupper_dog:\n",
        "            tweet_cleaned_comb_cnt.loc[text_item, 'dog_stage_test'] = 'pupper'\n",
        "        elif word in doggo_dog:\n",
        "            tweet_cleaned_comb_cnt.loc[text_item, 'dog_stage_test'] = 'doggo'\n",
        "        elif word in puppo_dog:\n",
        "            tweet_cleaned_comb_cnt.loc[text_item, 'dog_stage_test'] = 'puppo'\n",
        "        elif word in floofer_dog:\n",
        "            tweet_cleaned_comb_cnt.loc[text_item, 'dog_stage_test'] = 'floofer'"
      ]
    },
    {
      "cell_type": "code",
      "execution_count": null,
      "metadata": {
        "id": "wp5t1KBjK2IB"
      },
      "outputs": [],
      "source": [
        "# Replacing the dog_comb_stg column values with the new column values of dog_stage_test\n",
        "tweet_cleaned_comb_cnt['dog_comb_stg'] = tweet_cleaned_comb_cnt['dog_stage_test']"
      ]
    },
    {
      "cell_type": "code",
      "execution_count": null,
      "metadata": {
        "id": "E76h6VU2K2IB"
      },
      "outputs": [],
      "source": [
        "# Drop the dog_stage_test column and replace values of empty string  in dog_comb_stg with NaN\n",
        "tweet_cleaned_comb_cnt.drop('dog_stage_test', axis=1, inplace=True)\n",
        "tweet_cleaned_comb_cnt['dog_comb_stg'] = tweet_cleaned_comb_cnt['dog_comb_stg'].replace('', np.nan)"
      ]
    },
    {
      "cell_type": "markdown",
      "metadata": {
        "id": "RtvRcJBmK2IB"
      },
      "source": [
        "**Test**"
      ]
    },
    {
      "cell_type": "code",
      "execution_count": null,
      "metadata": {
        "id": "w0gRX4FiK2IB",
        "outputId": "f8fbf5c4-32cf-4343-b602-052cad951c97",
        "colab": {
          "base_uri": "https://localhost:8080/"
        }
      },
      "outputs": [
        {
          "output_type": "execute_result",
          "data": {
            "text/plain": [
              "pupper     413\n",
              "doggo       79\n",
              "puppo       23\n",
              "floofer     20\n",
              "Name: dog_comb_stg, dtype: int64"
            ]
          },
          "metadata": {},
          "execution_count": 96
        }
      ],
      "source": [
        "tweet_cleaned_comb_cnt['dog_comb_stg'].value_counts()"
      ]
    },
    {
      "cell_type": "markdown",
      "source": [
        "**4.10.** The values in the source column are encoded and not easily understandable by humans."
      ],
      "metadata": {
        "id": "bH0VsrMRUF8_"
      }
    },
    {
      "cell_type": "markdown",
      "source": [
        "**Definition**: Convert the values in the `source` column into easily understandable text format."
      ],
      "metadata": {
        "id": "8x8aez_eUbQM"
      }
    },
    {
      "cell_type": "markdown",
      "metadata": {
        "id": "QwlRcWnYK2IC"
      },
      "source": [
        "**Code**:"
      ]
    },
    {
      "cell_type": "code",
      "execution_count": null,
      "metadata": {
        "id": "I3fwmH8gK2IC",
        "outputId": "84749e9a-2115-48bf-b4ed-95dc3afc0a9b",
        "colab": {
          "base_uri": "https://localhost:8080/"
        }
      },
      "outputs": [
        {
          "output_type": "execute_result",
          "data": {
            "text/plain": [
              "<a href=\"http://twitter.com/download/iphone\" rel=\"nofollow\">Twitter for iPhone</a>     2116\n",
              "<a href=\"http://vine.co\" rel=\"nofollow\">Vine - Make a Scene</a>                          80\n",
              "<a href=\"http://twitter.com\" rel=\"nofollow\">Twitter Web Client</a>                       31\n",
              "<a href=\"https://about.twitter.com/products/tweetdeck\" rel=\"nofollow\">TweetDeck</a>      10\n",
              "Name: source, dtype: int64"
            ]
          },
          "metadata": {},
          "execution_count": 97
        }
      ],
      "source": [
        "# checking the distribution of source by looking into value counts\n",
        "tweet_cleaned_comb_cnt['source'].value_counts()"
      ]
    },
    {
      "cell_type": "code",
      "execution_count": null,
      "metadata": {
        "id": "aLY7iyc3K2ID"
      },
      "outputs": [],
      "source": [
        "# replacing the source values with readable text values so simply removing hyperlinks\n",
        "tweet_cleaned_comb_cnt['source'] = tweet_cleaned_comb_cnt['source'].replace('<a href=\"http://twitter.com/download/iphone\" rel=\"nofollow\">Twitter for iPhone</a>', 'Twitter for iPhone')\n",
        "tweet_cleaned_comb_cnt['source'] = tweet_cleaned_comb_cnt['source'].replace('<a href=\"http://twitter.com\" rel=\"nofollow\">Twitter Web Client</a>', 'Twitter Web Client')\n",
        "tweet_cleaned_comb_cnt['source'] = tweet_cleaned_comb_cnt['source'].replace('<a href=\"http://vine.co\" rel=\"nofollow\">Vine - Make a Scene</a>', 'Vine - Make a Scene')\n",
        "tweet_cleaned_comb_cnt['source'] = tweet_cleaned_comb_cnt['source'].replace('<a href=\"https://about.twitter.com/products/tweetdeck\" rel=\"nofollow\">TweetDeck</a>', 'TweetDeck')\n"
      ]
    },
    {
      "cell_type": "markdown",
      "metadata": {
        "id": "av76S0gWK2ID"
      },
      "source": [
        "**Test**"
      ]
    },
    {
      "cell_type": "code",
      "execution_count": null,
      "metadata": {
        "id": "gDSpu90SK2ID",
        "outputId": "cb749ecb-a6f7-400d-ca69-2d0ec6d13db6",
        "colab": {
          "base_uri": "https://localhost:8080/"
        }
      },
      "outputs": [
        {
          "output_type": "execute_result",
          "data": {
            "text/plain": [
              "Twitter for iPhone     2116\n",
              "Vine - Make a Scene      80\n",
              "Twitter Web Client       31\n",
              "TweetDeck                10\n",
              "Name: source, dtype: int64"
            ]
          },
          "metadata": {},
          "execution_count": 99
        }
      ],
      "source": [
        "tweet_cleaned_comb_cnt['source'].value_counts()"
      ]
    },
    {
      "cell_type": "markdown",
      "source": [
        "## img_cleaned dataframe"
      ],
      "metadata": {
        "id": "mOwgCu1QWP1u"
      }
    },
    {
      "cell_type": "code",
      "source": [
        "img_cleaned.head(3)"
      ],
      "metadata": {
        "colab": {
          "base_uri": "https://localhost:8080/"
        },
        "id": "G-bA9P45Ujdl",
        "outputId": "73f6a9d3-fe7c-4696-94f9-7a76092edc4f"
      },
      "execution_count": null,
      "outputs": [
        {
          "output_type": "execute_result",
          "data": {
            "text/plain": [
              "             tweet_id                                          jpg_url  \\\n",
              "0  666020888022790149  https://pbs.twimg.com/media/CT4udn0WwAA0aMy.jpg   \n",
              "1  666029285002620928  https://pbs.twimg.com/media/CT42GRgUYAA5iDo.jpg   \n",
              "2  666033412701032449  https://pbs.twimg.com/media/CT4521TWwAEvMyu.jpg   \n",
              "\n",
              "   img_num                      p1   p1_conf  p1_dog                  p2  \\\n",
              "0        1  Welsh_springer_spaniel  0.465074    True              collie   \n",
              "1        1                 redbone  0.506826    True  miniature_pinscher   \n",
              "2        1         German_shepherd  0.596461    True            malinois   \n",
              "\n",
              "    p2_conf  p2_dog                   p3   p3_conf  p3_dog  \n",
              "0  0.156665    True    Shetland_sheepdog  0.061428    True  \n",
              "1  0.074192    True  Rhodesian_ridgeback  0.072010    True  \n",
              "2  0.138584    True           bloodhound  0.116197    True  "
            ],
            "text/html": [
              "\n",
              "  <div id=\"df-00a61562-f256-4d5f-aede-2656501f5956\">\n",
              "    <div class=\"colab-df-container\">\n",
              "      <div>\n",
              "<style scoped>\n",
              "    .dataframe tbody tr th:only-of-type {\n",
              "        vertical-align: middle;\n",
              "    }\n",
              "\n",
              "    .dataframe tbody tr th {\n",
              "        vertical-align: top;\n",
              "    }\n",
              "\n",
              "    .dataframe thead th {\n",
              "        text-align: right;\n",
              "    }\n",
              "</style>\n",
              "<table border=\"1\" class=\"dataframe\">\n",
              "  <thead>\n",
              "    <tr style=\"text-align: right;\">\n",
              "      <th></th>\n",
              "      <th>tweet_id</th>\n",
              "      <th>jpg_url</th>\n",
              "      <th>img_num</th>\n",
              "      <th>p1</th>\n",
              "      <th>p1_conf</th>\n",
              "      <th>p1_dog</th>\n",
              "      <th>p2</th>\n",
              "      <th>p2_conf</th>\n",
              "      <th>p2_dog</th>\n",
              "      <th>p3</th>\n",
              "      <th>p3_conf</th>\n",
              "      <th>p3_dog</th>\n",
              "    </tr>\n",
              "  </thead>\n",
              "  <tbody>\n",
              "    <tr>\n",
              "      <th>0</th>\n",
              "      <td>666020888022790149</td>\n",
              "      <td>https://pbs.twimg.com/media/CT4udn0WwAA0aMy.jpg</td>\n",
              "      <td>1</td>\n",
              "      <td>Welsh_springer_spaniel</td>\n",
              "      <td>0.465074</td>\n",
              "      <td>True</td>\n",
              "      <td>collie</td>\n",
              "      <td>0.156665</td>\n",
              "      <td>True</td>\n",
              "      <td>Shetland_sheepdog</td>\n",
              "      <td>0.061428</td>\n",
              "      <td>True</td>\n",
              "    </tr>\n",
              "    <tr>\n",
              "      <th>1</th>\n",
              "      <td>666029285002620928</td>\n",
              "      <td>https://pbs.twimg.com/media/CT42GRgUYAA5iDo.jpg</td>\n",
              "      <td>1</td>\n",
              "      <td>redbone</td>\n",
              "      <td>0.506826</td>\n",
              "      <td>True</td>\n",
              "      <td>miniature_pinscher</td>\n",
              "      <td>0.074192</td>\n",
              "      <td>True</td>\n",
              "      <td>Rhodesian_ridgeback</td>\n",
              "      <td>0.072010</td>\n",
              "      <td>True</td>\n",
              "    </tr>\n",
              "    <tr>\n",
              "      <th>2</th>\n",
              "      <td>666033412701032449</td>\n",
              "      <td>https://pbs.twimg.com/media/CT4521TWwAEvMyu.jpg</td>\n",
              "      <td>1</td>\n",
              "      <td>German_shepherd</td>\n",
              "      <td>0.596461</td>\n",
              "      <td>True</td>\n",
              "      <td>malinois</td>\n",
              "      <td>0.138584</td>\n",
              "      <td>True</td>\n",
              "      <td>bloodhound</td>\n",
              "      <td>0.116197</td>\n",
              "      <td>True</td>\n",
              "    </tr>\n",
              "  </tbody>\n",
              "</table>\n",
              "</div>\n",
              "      <button class=\"colab-df-convert\" onclick=\"convertToInteractive('df-00a61562-f256-4d5f-aede-2656501f5956')\"\n",
              "              title=\"Convert this dataframe to an interactive table.\"\n",
              "              style=\"display:none;\">\n",
              "        \n",
              "  <svg xmlns=\"http://www.w3.org/2000/svg\" height=\"24px\"viewBox=\"0 0 24 24\"\n",
              "       width=\"24px\">\n",
              "    <path d=\"M0 0h24v24H0V0z\" fill=\"none\"/>\n",
              "    <path d=\"M18.56 5.44l.94 2.06.94-2.06 2.06-.94-2.06-.94-.94-2.06-.94 2.06-2.06.94zm-11 1L8.5 8.5l.94-2.06 2.06-.94-2.06-.94L8.5 2.5l-.94 2.06-2.06.94zm10 10l.94 2.06.94-2.06 2.06-.94-2.06-.94-.94-2.06-.94 2.06-2.06.94z\"/><path d=\"M17.41 7.96l-1.37-1.37c-.4-.4-.92-.59-1.43-.59-.52 0-1.04.2-1.43.59L10.3 9.45l-7.72 7.72c-.78.78-.78 2.05 0 2.83L4 21.41c.39.39.9.59 1.41.59.51 0 1.02-.2 1.41-.59l7.78-7.78 2.81-2.81c.8-.78.8-2.07 0-2.86zM5.41 20L4 18.59l7.72-7.72 1.47 1.35L5.41 20z\"/>\n",
              "  </svg>\n",
              "      </button>\n",
              "      \n",
              "  <style>\n",
              "    .colab-df-container {\n",
              "      display:flex;\n",
              "      flex-wrap:wrap;\n",
              "      gap: 12px;\n",
              "    }\n",
              "\n",
              "    .colab-df-convert {\n",
              "      background-color: #E8F0FE;\n",
              "      border: none;\n",
              "      border-radius: 50%;\n",
              "      cursor: pointer;\n",
              "      display: none;\n",
              "      fill: #1967D2;\n",
              "      height: 32px;\n",
              "      padding: 0 0 0 0;\n",
              "      width: 32px;\n",
              "    }\n",
              "\n",
              "    .colab-df-convert:hover {\n",
              "      background-color: #E2EBFA;\n",
              "      box-shadow: 0px 1px 2px rgba(60, 64, 67, 0.3), 0px 1px 3px 1px rgba(60, 64, 67, 0.15);\n",
              "      fill: #174EA6;\n",
              "    }\n",
              "\n",
              "    [theme=dark] .colab-df-convert {\n",
              "      background-color: #3B4455;\n",
              "      fill: #D2E3FC;\n",
              "    }\n",
              "\n",
              "    [theme=dark] .colab-df-convert:hover {\n",
              "      background-color: #434B5C;\n",
              "      box-shadow: 0px 1px 3px 1px rgba(0, 0, 0, 0.15);\n",
              "      filter: drop-shadow(0px 1px 2px rgba(0, 0, 0, 0.3));\n",
              "      fill: #FFFFFF;\n",
              "    }\n",
              "  </style>\n",
              "\n",
              "      <script>\n",
              "        const buttonEl =\n",
              "          document.querySelector('#df-00a61562-f256-4d5f-aede-2656501f5956 button.colab-df-convert');\n",
              "        buttonEl.style.display =\n",
              "          google.colab.kernel.accessAllowed ? 'block' : 'none';\n",
              "\n",
              "        async function convertToInteractive(key) {\n",
              "          const element = document.querySelector('#df-00a61562-f256-4d5f-aede-2656501f5956');\n",
              "          const dataTable =\n",
              "            await google.colab.kernel.invokeFunction('convertToInteractive',\n",
              "                                                     [key], {});\n",
              "          if (!dataTable) return;\n",
              "\n",
              "          const docLinkHtml = 'Like what you see? Visit the ' +\n",
              "            '<a target=\"_blank\" href=https://colab.research.google.com/notebooks/data_table.ipynb>data table notebook</a>'\n",
              "            + ' to learn more about interactive tables.';\n",
              "          element.innerHTML = '';\n",
              "          dataTable['output_type'] = 'display_data';\n",
              "          await google.colab.output.renderOutput(dataTable, element);\n",
              "          const docLink = document.createElement('div');\n",
              "          docLink.innerHTML = docLinkHtml;\n",
              "          element.appendChild(docLink);\n",
              "        }\n",
              "      </script>\n",
              "    </div>\n",
              "  </div>\n",
              "  "
            ]
          },
          "metadata": {},
          "execution_count": 100
        }
      ]
    },
    {
      "cell_type": "markdown",
      "source": [
        "**4.11.** The columns p1, p2, and p3 exhibit inconsistencies in their values. Instead of using spaces, underscores (_) are used to separate words. Additionally, the capitalization of the values varies, with some being in uppercase and others in lowercase."
      ],
      "metadata": {
        "id": "ovvrQ5IRrEE7"
      }
    },
    {
      "cell_type": "markdown",
      "source": [
        "**Definition**: To modify the variables `p1`, `p2`, and `p3`, we will replace any occurrences of `_` with a space character and convert the values to uppercase."
      ],
      "metadata": {
        "id": "AEAUC0-ZrIOm"
      }
    },
    {
      "cell_type": "markdown",
      "metadata": {
        "id": "t6JYetjCK2IE"
      },
      "source": [
        "**Code**:"
      ]
    },
    {
      "cell_type": "code",
      "execution_count": null,
      "metadata": {
        "id": "GWLoP7bbK2IE"
      },
      "outputs": [],
      "source": [
        "img_cleaned['p1'] = img_cleaned['p1'].str.replace('_', ' ').str.capitalize()\n",
        "img_cleaned['p2'] = img_cleaned['p2'].str.replace('_', ' ').str.capitalize()\n",
        "img_cleaned['p3'] = img_cleaned['p3'].str.replace('_', ' ').str.capitalize()"
      ]
    },
    {
      "cell_type": "markdown",
      "metadata": {
        "id": "P7vEyfnmK2IE"
      },
      "source": [
        "**Test**"
      ]
    },
    {
      "cell_type": "code",
      "execution_count": null,
      "metadata": {
        "scrolled": true,
        "id": "daAljBK5K2IE",
        "outputId": "ad9759c6-3b05-4aa0-e863-263c5a49c3e6",
        "colab": {
          "base_uri": "https://localhost:8080/"
        }
      },
      "outputs": [
        {
          "output_type": "execute_result",
          "data": {
            "text/plain": [
              "         p1            p2              p3\n",
              "853  Borzoi  Walker hound  Great pyrenees\n",
              "761     Hog    Guinea pig         Hamster\n",
              "784  Badger        Weasel        Malamute"
            ],
            "text/html": [
              "\n",
              "  <div id=\"df-fd571023-7abe-401b-8cee-70927b913dab\">\n",
              "    <div class=\"colab-df-container\">\n",
              "      <div>\n",
              "<style scoped>\n",
              "    .dataframe tbody tr th:only-of-type {\n",
              "        vertical-align: middle;\n",
              "    }\n",
              "\n",
              "    .dataframe tbody tr th {\n",
              "        vertical-align: top;\n",
              "    }\n",
              "\n",
              "    .dataframe thead th {\n",
              "        text-align: right;\n",
              "    }\n",
              "</style>\n",
              "<table border=\"1\" class=\"dataframe\">\n",
              "  <thead>\n",
              "    <tr style=\"text-align: right;\">\n",
              "      <th></th>\n",
              "      <th>p1</th>\n",
              "      <th>p2</th>\n",
              "      <th>p3</th>\n",
              "    </tr>\n",
              "  </thead>\n",
              "  <tbody>\n",
              "    <tr>\n",
              "      <th>853</th>\n",
              "      <td>Borzoi</td>\n",
              "      <td>Walker hound</td>\n",
              "      <td>Great pyrenees</td>\n",
              "    </tr>\n",
              "    <tr>\n",
              "      <th>761</th>\n",
              "      <td>Hog</td>\n",
              "      <td>Guinea pig</td>\n",
              "      <td>Hamster</td>\n",
              "    </tr>\n",
              "    <tr>\n",
              "      <th>784</th>\n",
              "      <td>Badger</td>\n",
              "      <td>Weasel</td>\n",
              "      <td>Malamute</td>\n",
              "    </tr>\n",
              "  </tbody>\n",
              "</table>\n",
              "</div>\n",
              "      <button class=\"colab-df-convert\" onclick=\"convertToInteractive('df-fd571023-7abe-401b-8cee-70927b913dab')\"\n",
              "              title=\"Convert this dataframe to an interactive table.\"\n",
              "              style=\"display:none;\">\n",
              "        \n",
              "  <svg xmlns=\"http://www.w3.org/2000/svg\" height=\"24px\"viewBox=\"0 0 24 24\"\n",
              "       width=\"24px\">\n",
              "    <path d=\"M0 0h24v24H0V0z\" fill=\"none\"/>\n",
              "    <path d=\"M18.56 5.44l.94 2.06.94-2.06 2.06-.94-2.06-.94-.94-2.06-.94 2.06-2.06.94zm-11 1L8.5 8.5l.94-2.06 2.06-.94-2.06-.94L8.5 2.5l-.94 2.06-2.06.94zm10 10l.94 2.06.94-2.06 2.06-.94-2.06-.94-.94-2.06-.94 2.06-2.06.94z\"/><path d=\"M17.41 7.96l-1.37-1.37c-.4-.4-.92-.59-1.43-.59-.52 0-1.04.2-1.43.59L10.3 9.45l-7.72 7.72c-.78.78-.78 2.05 0 2.83L4 21.41c.39.39.9.59 1.41.59.51 0 1.02-.2 1.41-.59l7.78-7.78 2.81-2.81c.8-.78.8-2.07 0-2.86zM5.41 20L4 18.59l7.72-7.72 1.47 1.35L5.41 20z\"/>\n",
              "  </svg>\n",
              "      </button>\n",
              "      \n",
              "  <style>\n",
              "    .colab-df-container {\n",
              "      display:flex;\n",
              "      flex-wrap:wrap;\n",
              "      gap: 12px;\n",
              "    }\n",
              "\n",
              "    .colab-df-convert {\n",
              "      background-color: #E8F0FE;\n",
              "      border: none;\n",
              "      border-radius: 50%;\n",
              "      cursor: pointer;\n",
              "      display: none;\n",
              "      fill: #1967D2;\n",
              "      height: 32px;\n",
              "      padding: 0 0 0 0;\n",
              "      width: 32px;\n",
              "    }\n",
              "\n",
              "    .colab-df-convert:hover {\n",
              "      background-color: #E2EBFA;\n",
              "      box-shadow: 0px 1px 2px rgba(60, 64, 67, 0.3), 0px 1px 3px 1px rgba(60, 64, 67, 0.15);\n",
              "      fill: #174EA6;\n",
              "    }\n",
              "\n",
              "    [theme=dark] .colab-df-convert {\n",
              "      background-color: #3B4455;\n",
              "      fill: #D2E3FC;\n",
              "    }\n",
              "\n",
              "    [theme=dark] .colab-df-convert:hover {\n",
              "      background-color: #434B5C;\n",
              "      box-shadow: 0px 1px 3px 1px rgba(0, 0, 0, 0.15);\n",
              "      filter: drop-shadow(0px 1px 2px rgba(0, 0, 0, 0.3));\n",
              "      fill: #FFFFFF;\n",
              "    }\n",
              "  </style>\n",
              "\n",
              "      <script>\n",
              "        const buttonEl =\n",
              "          document.querySelector('#df-fd571023-7abe-401b-8cee-70927b913dab button.colab-df-convert');\n",
              "        buttonEl.style.display =\n",
              "          google.colab.kernel.accessAllowed ? 'block' : 'none';\n",
              "\n",
              "        async function convertToInteractive(key) {\n",
              "          const element = document.querySelector('#df-fd571023-7abe-401b-8cee-70927b913dab');\n",
              "          const dataTable =\n",
              "            await google.colab.kernel.invokeFunction('convertToInteractive',\n",
              "                                                     [key], {});\n",
              "          if (!dataTable) return;\n",
              "\n",
              "          const docLinkHtml = 'Like what you see? Visit the ' +\n",
              "            '<a target=\"_blank\" href=https://colab.research.google.com/notebooks/data_table.ipynb>data table notebook</a>'\n",
              "            + ' to learn more about interactive tables.';\n",
              "          element.innerHTML = '';\n",
              "          dataTable['output_type'] = 'display_data';\n",
              "          await google.colab.output.renderOutput(dataTable, element);\n",
              "          const docLink = document.createElement('div');\n",
              "          docLink.innerHTML = docLinkHtml;\n",
              "          element.appendChild(docLink);\n",
              "        }\n",
              "      </script>\n",
              "    </div>\n",
              "  </div>\n",
              "  "
            ]
          },
          "metadata": {},
          "execution_count": 102
        }
      ],
      "source": [
        "img_cleaned[['p1', 'p2', 'p3']].sample(3)"
      ]
    },
    {
      "cell_type": "markdown",
      "source": [
        "**4.12.** The column names lack clear descriptive labels."
      ],
      "metadata": {
        "id": "3_eEkBl8r5aq"
      }
    },
    {
      "cell_type": "markdown",
      "source": [
        "**Definition**: Assign more meaningful and descriptive names to the columns."
      ],
      "metadata": {
        "id": "rHqYZWDqsAmo"
      }
    },
    {
      "cell_type": "markdown",
      "metadata": {
        "id": "b7HPZdSJK2IF"
      },
      "source": [
        "**Code**:"
      ]
    },
    {
      "cell_type": "code",
      "execution_count": null,
      "metadata": {
        "id": "EDI4KJvmK2IF"
      },
      "outputs": [],
      "source": [
        "img_cleaned = img_cleaned.rename(columns = {'jpg_url':'url_of_image', 'img_num':'image_num', 'p1':'prediction_1',\n",
        "                                            'p2':'prediction_2', 'p3':'prediction_3', 'p1_conf':'prediction_confidence_1',\n",
        "                                            'p2_conf':'prediction_confidence_2', 'p3_conf':'prediction_confidence_3',\n",
        "                                            'p1_dog':'prediction_dog_1', 'p2_dog':'prediction_dog_2', 'p3_dog':'prediction_dog_3'})"
      ]
    },
    {
      "cell_type": "markdown",
      "metadata": {
        "id": "a6y9G2KzK2IF"
      },
      "source": [
        "**Test**"
      ]
    },
    {
      "cell_type": "code",
      "execution_count": null,
      "metadata": {
        "id": "QY8dfHjoK2IF",
        "outputId": "8d95dd99-b020-4a23-98e1-ef86d3023802",
        "colab": {
          "base_uri": "https://localhost:8080/"
        }
      },
      "outputs": [
        {
          "output_type": "execute_result",
          "data": {
            "text/plain": [
              "Index(['tweet_id', 'url_of_image', 'image_num', 'prediction_1',\n",
              "       'prediction_confidence_1', 'prediction_dog_1', 'prediction_2',\n",
              "       'prediction_confidence_2', 'prediction_dog_2', 'prediction_3',\n",
              "       'prediction_confidence_3', 'prediction_dog_3'],\n",
              "      dtype='object')"
            ]
          },
          "metadata": {},
          "execution_count": 104
        }
      ],
      "source": [
        "img_cleaned.columns"
      ]
    },
    {
      "cell_type": "markdown",
      "source": [
        "**4.13.** Within the dataset, there are instances where the same image, identified by its jpg_url, appears to have multiple predictions associated with it, but with different tweet ids. The remaining data attributes remain unchanged across these duplicate predictions."
      ],
      "metadata": {
        "id": "pTib3mvRs1NH"
      }
    },
    {
      "cell_type": "markdown",
      "source": [
        "**Definition**: Remove the instances where the `image_url` is duplicated in the dataset."
      ],
      "metadata": {
        "id": "HmdWgiv0s4Ot"
      }
    },
    {
      "cell_type": "markdown",
      "metadata": {
        "id": "6u7XrNykK2IG"
      },
      "source": [
        "**Code**:"
      ]
    },
    {
      "cell_type": "code",
      "execution_count": null,
      "metadata": {
        "scrolled": true,
        "id": "r0nv2TTZK2IG"
      },
      "outputs": [],
      "source": [
        "img_cleaned = img_cleaned.drop_duplicates(['url_of_image'])"
      ]
    },
    {
      "cell_type": "markdown",
      "metadata": {
        "id": "-OCAvq3DK2IG"
      },
      "source": [
        "**Test**"
      ]
    },
    {
      "cell_type": "code",
      "execution_count": null,
      "metadata": {
        "id": "E4X0spXOK2IG",
        "outputId": "1add28a5-3cce-4355-f20b-b69931c5218c",
        "colab": {
          "base_uri": "https://localhost:8080/"
        }
      },
      "outputs": [
        {
          "output_type": "execute_result",
          "data": {
            "text/plain": [
              "Empty DataFrame\n",
              "Columns: [tweet_id, url_of_image, image_num, prediction_1, prediction_confidence_1, prediction_dog_1, prediction_2, prediction_confidence_2, prediction_dog_2, prediction_3, prediction_confidence_3, prediction_dog_3]\n",
              "Index: []"
            ],
            "text/html": [
              "\n",
              "  <div id=\"df-b32ff701-eb69-443b-aa73-5520014a6aea\">\n",
              "    <div class=\"colab-df-container\">\n",
              "      <div>\n",
              "<style scoped>\n",
              "    .dataframe tbody tr th:only-of-type {\n",
              "        vertical-align: middle;\n",
              "    }\n",
              "\n",
              "    .dataframe tbody tr th {\n",
              "        vertical-align: top;\n",
              "    }\n",
              "\n",
              "    .dataframe thead th {\n",
              "        text-align: right;\n",
              "    }\n",
              "</style>\n",
              "<table border=\"1\" class=\"dataframe\">\n",
              "  <thead>\n",
              "    <tr style=\"text-align: right;\">\n",
              "      <th></th>\n",
              "      <th>tweet_id</th>\n",
              "      <th>url_of_image</th>\n",
              "      <th>image_num</th>\n",
              "      <th>prediction_1</th>\n",
              "      <th>prediction_confidence_1</th>\n",
              "      <th>prediction_dog_1</th>\n",
              "      <th>prediction_2</th>\n",
              "      <th>prediction_confidence_2</th>\n",
              "      <th>prediction_dog_2</th>\n",
              "      <th>prediction_3</th>\n",
              "      <th>prediction_confidence_3</th>\n",
              "      <th>prediction_dog_3</th>\n",
              "    </tr>\n",
              "  </thead>\n",
              "  <tbody>\n",
              "  </tbody>\n",
              "</table>\n",
              "</div>\n",
              "      <button class=\"colab-df-convert\" onclick=\"convertToInteractive('df-b32ff701-eb69-443b-aa73-5520014a6aea')\"\n",
              "              title=\"Convert this dataframe to an interactive table.\"\n",
              "              style=\"display:none;\">\n",
              "        \n",
              "  <svg xmlns=\"http://www.w3.org/2000/svg\" height=\"24px\"viewBox=\"0 0 24 24\"\n",
              "       width=\"24px\">\n",
              "    <path d=\"M0 0h24v24H0V0z\" fill=\"none\"/>\n",
              "    <path d=\"M18.56 5.44l.94 2.06.94-2.06 2.06-.94-2.06-.94-.94-2.06-.94 2.06-2.06.94zm-11 1L8.5 8.5l.94-2.06 2.06-.94-2.06-.94L8.5 2.5l-.94 2.06-2.06.94zm10 10l.94 2.06.94-2.06 2.06-.94-2.06-.94-.94-2.06-.94 2.06-2.06.94z\"/><path d=\"M17.41 7.96l-1.37-1.37c-.4-.4-.92-.59-1.43-.59-.52 0-1.04.2-1.43.59L10.3 9.45l-7.72 7.72c-.78.78-.78 2.05 0 2.83L4 21.41c.39.39.9.59 1.41.59.51 0 1.02-.2 1.41-.59l7.78-7.78 2.81-2.81c.8-.78.8-2.07 0-2.86zM5.41 20L4 18.59l7.72-7.72 1.47 1.35L5.41 20z\"/>\n",
              "  </svg>\n",
              "      </button>\n",
              "      \n",
              "  <style>\n",
              "    .colab-df-container {\n",
              "      display:flex;\n",
              "      flex-wrap:wrap;\n",
              "      gap: 12px;\n",
              "    }\n",
              "\n",
              "    .colab-df-convert {\n",
              "      background-color: #E8F0FE;\n",
              "      border: none;\n",
              "      border-radius: 50%;\n",
              "      cursor: pointer;\n",
              "      display: none;\n",
              "      fill: #1967D2;\n",
              "      height: 32px;\n",
              "      padding: 0 0 0 0;\n",
              "      width: 32px;\n",
              "    }\n",
              "\n",
              "    .colab-df-convert:hover {\n",
              "      background-color: #E2EBFA;\n",
              "      box-shadow: 0px 1px 2px rgba(60, 64, 67, 0.3), 0px 1px 3px 1px rgba(60, 64, 67, 0.15);\n",
              "      fill: #174EA6;\n",
              "    }\n",
              "\n",
              "    [theme=dark] .colab-df-convert {\n",
              "      background-color: #3B4455;\n",
              "      fill: #D2E3FC;\n",
              "    }\n",
              "\n",
              "    [theme=dark] .colab-df-convert:hover {\n",
              "      background-color: #434B5C;\n",
              "      box-shadow: 0px 1px 3px 1px rgba(0, 0, 0, 0.15);\n",
              "      filter: drop-shadow(0px 1px 2px rgba(0, 0, 0, 0.3));\n",
              "      fill: #FFFFFF;\n",
              "    }\n",
              "  </style>\n",
              "\n",
              "      <script>\n",
              "        const buttonEl =\n",
              "          document.querySelector('#df-b32ff701-eb69-443b-aa73-5520014a6aea button.colab-df-convert');\n",
              "        buttonEl.style.display =\n",
              "          google.colab.kernel.accessAllowed ? 'block' : 'none';\n",
              "\n",
              "        async function convertToInteractive(key) {\n",
              "          const element = document.querySelector('#df-b32ff701-eb69-443b-aa73-5520014a6aea');\n",
              "          const dataTable =\n",
              "            await google.colab.kernel.invokeFunction('convertToInteractive',\n",
              "                                                     [key], {});\n",
              "          if (!dataTable) return;\n",
              "\n",
              "          const docLinkHtml = 'Like what you see? Visit the ' +\n",
              "            '<a target=\"_blank\" href=https://colab.research.google.com/notebooks/data_table.ipynb>data table notebook</a>'\n",
              "            + ' to learn more about interactive tables.';\n",
              "          element.innerHTML = '';\n",
              "          dataTable['output_type'] = 'display_data';\n",
              "          await google.colab.output.renderOutput(dataTable, element);\n",
              "          const docLink = document.createElement('div');\n",
              "          docLink.innerHTML = docLinkHtml;\n",
              "          element.appendChild(docLink);\n",
              "        }\n",
              "      </script>\n",
              "    </div>\n",
              "  </div>\n",
              "  "
            ]
          },
          "metadata": {},
          "execution_count": 106
        }
      ],
      "source": [
        "img_cleaned[img_cleaned['url_of_image'].duplicated()]"
      ]
    },
    {
      "cell_type": "markdown",
      "source": [
        "- No duplicates in the data"
      ],
      "metadata": {
        "id": "o3yK63HHfWuH"
      }
    },
    {
      "cell_type": "markdown",
      "source": [
        "<a id = 'store'></a>\n",
        "## <b>STORING THE DATA</b>\n",
        "After completing the data cleaning process, the next crucial step is to save the cleaned datasets. It is recommended to save the `tweet_cleaned_comb_cnt` dataset and the `img_cleaned` dataset into two separate .csv files for easy access and future use. Storing the cleaned datasets in this manner ensures that the data is preserved and can be readily utilized for further analysis or other purposes."
      ],
      "metadata": {
        "id": "bLS3aERVtPnt"
      }
    },
    {
      "cell_type": "markdown",
      "metadata": {
        "id": "-0xJ1L3iK2IH"
      },
      "source": [
        "**5.1.** Store `tweet_cleaned_comb_cnt` and img_cleaned combined"
      ]
    },
    {
      "cell_type": "code",
      "execution_count": null,
      "metadata": {
        "id": "TTFf_izBK2II"
      },
      "outputs": [],
      "source": [
        "tweet_img_final = pd.merge(tweet_cleaned_comb_cnt, img_cleaned, on = 'tweet_id', how = 'inner')"
      ]
    },
    {
      "cell_type": "code",
      "source": [
        "tweet_img_final.head(2)"
      ],
      "metadata": {
        "colab": {
          "base_uri": "https://localhost:8080/"
        },
        "id": "JDAw9WXQuDMO",
        "outputId": "09fedede-8bc7-4497-834f-24be50de935b"
      },
      "execution_count": null,
      "outputs": [
        {
          "output_type": "execute_result",
          "data": {
            "text/plain": [
              "             tweet_id                 timestamp              source  \\\n",
              "0  892420643555336193 2017-08-01 16:23:56+00:00  Twitter for iPhone   \n",
              "1  892177421306343426 2017-08-01 00:17:27+00:00  Twitter for iPhone   \n",
              "\n",
              "                                                text  \\\n",
              "0  This is Phineas. He's a mystical boy. Only eve...   \n",
              "1  This is Tilly. She's just checking pup on you....   \n",
              "\n",
              "                                       expanded_urls  rating_numerator  \\\n",
              "0  https://twitter.com/dog_rates/status/892420643...              13.0   \n",
              "1  https://twitter.com/dog_rates/status/892177421...              13.0   \n",
              "\n",
              "   rating_denominator     name dog_comb_stg  retweet_count  ...  image_num  \\\n",
              "0                  10  Phineas          NaN           8853  ...          1   \n",
              "1                  10    Tilly       pupper           6514  ...          1   \n",
              "\n",
              "  prediction_1  prediction_confidence_1 prediction_dog_1  prediction_2  \\\n",
              "0       Orange                 0.097049            False         Bagel   \n",
              "1    Chihuahua                 0.323581             True      Pekinese   \n",
              "\n",
              "   prediction_confidence_2 prediction_dog_2  prediction_3  \\\n",
              "0                 0.085851            False        Banana   \n",
              "1                 0.090647             True      Papillon   \n",
              "\n",
              "   prediction_confidence_3 prediction_dog_3  \n",
              "0                 0.076110            False  \n",
              "1                 0.068957             True  \n",
              "\n",
              "[2 rows x 22 columns]"
            ],
            "text/html": [
              "\n",
              "  <div id=\"df-bbe29982-6a29-4186-bee0-dc58ef461383\">\n",
              "    <div class=\"colab-df-container\">\n",
              "      <div>\n",
              "<style scoped>\n",
              "    .dataframe tbody tr th:only-of-type {\n",
              "        vertical-align: middle;\n",
              "    }\n",
              "\n",
              "    .dataframe tbody tr th {\n",
              "        vertical-align: top;\n",
              "    }\n",
              "\n",
              "    .dataframe thead th {\n",
              "        text-align: right;\n",
              "    }\n",
              "</style>\n",
              "<table border=\"1\" class=\"dataframe\">\n",
              "  <thead>\n",
              "    <tr style=\"text-align: right;\">\n",
              "      <th></th>\n",
              "      <th>tweet_id</th>\n",
              "      <th>timestamp</th>\n",
              "      <th>source</th>\n",
              "      <th>text</th>\n",
              "      <th>expanded_urls</th>\n",
              "      <th>rating_numerator</th>\n",
              "      <th>rating_denominator</th>\n",
              "      <th>name</th>\n",
              "      <th>dog_comb_stg</th>\n",
              "      <th>retweet_count</th>\n",
              "      <th>...</th>\n",
              "      <th>image_num</th>\n",
              "      <th>prediction_1</th>\n",
              "      <th>prediction_confidence_1</th>\n",
              "      <th>prediction_dog_1</th>\n",
              "      <th>prediction_2</th>\n",
              "      <th>prediction_confidence_2</th>\n",
              "      <th>prediction_dog_2</th>\n",
              "      <th>prediction_3</th>\n",
              "      <th>prediction_confidence_3</th>\n",
              "      <th>prediction_dog_3</th>\n",
              "    </tr>\n",
              "  </thead>\n",
              "  <tbody>\n",
              "    <tr>\n",
              "      <th>0</th>\n",
              "      <td>892420643555336193</td>\n",
              "      <td>2017-08-01 16:23:56+00:00</td>\n",
              "      <td>Twitter for iPhone</td>\n",
              "      <td>This is Phineas. He's a mystical boy. Only eve...</td>\n",
              "      <td>https://twitter.com/dog_rates/status/892420643...</td>\n",
              "      <td>13.0</td>\n",
              "      <td>10</td>\n",
              "      <td>Phineas</td>\n",
              "      <td>NaN</td>\n",
              "      <td>8853</td>\n",
              "      <td>...</td>\n",
              "      <td>1</td>\n",
              "      <td>Orange</td>\n",
              "      <td>0.097049</td>\n",
              "      <td>False</td>\n",
              "      <td>Bagel</td>\n",
              "      <td>0.085851</td>\n",
              "      <td>False</td>\n",
              "      <td>Banana</td>\n",
              "      <td>0.076110</td>\n",
              "      <td>False</td>\n",
              "    </tr>\n",
              "    <tr>\n",
              "      <th>1</th>\n",
              "      <td>892177421306343426</td>\n",
              "      <td>2017-08-01 00:17:27+00:00</td>\n",
              "      <td>Twitter for iPhone</td>\n",
              "      <td>This is Tilly. She's just checking pup on you....</td>\n",
              "      <td>https://twitter.com/dog_rates/status/892177421...</td>\n",
              "      <td>13.0</td>\n",
              "      <td>10</td>\n",
              "      <td>Tilly</td>\n",
              "      <td>pupper</td>\n",
              "      <td>6514</td>\n",
              "      <td>...</td>\n",
              "      <td>1</td>\n",
              "      <td>Chihuahua</td>\n",
              "      <td>0.323581</td>\n",
              "      <td>True</td>\n",
              "      <td>Pekinese</td>\n",
              "      <td>0.090647</td>\n",
              "      <td>True</td>\n",
              "      <td>Papillon</td>\n",
              "      <td>0.068957</td>\n",
              "      <td>True</td>\n",
              "    </tr>\n",
              "  </tbody>\n",
              "</table>\n",
              "<p>2 rows × 22 columns</p>\n",
              "</div>\n",
              "      <button class=\"colab-df-convert\" onclick=\"convertToInteractive('df-bbe29982-6a29-4186-bee0-dc58ef461383')\"\n",
              "              title=\"Convert this dataframe to an interactive table.\"\n",
              "              style=\"display:none;\">\n",
              "        \n",
              "  <svg xmlns=\"http://www.w3.org/2000/svg\" height=\"24px\"viewBox=\"0 0 24 24\"\n",
              "       width=\"24px\">\n",
              "    <path d=\"M0 0h24v24H0V0z\" fill=\"none\"/>\n",
              "    <path d=\"M18.56 5.44l.94 2.06.94-2.06 2.06-.94-2.06-.94-.94-2.06-.94 2.06-2.06.94zm-11 1L8.5 8.5l.94-2.06 2.06-.94-2.06-.94L8.5 2.5l-.94 2.06-2.06.94zm10 10l.94 2.06.94-2.06 2.06-.94-2.06-.94-.94-2.06-.94 2.06-2.06.94z\"/><path d=\"M17.41 7.96l-1.37-1.37c-.4-.4-.92-.59-1.43-.59-.52 0-1.04.2-1.43.59L10.3 9.45l-7.72 7.72c-.78.78-.78 2.05 0 2.83L4 21.41c.39.39.9.59 1.41.59.51 0 1.02-.2 1.41-.59l7.78-7.78 2.81-2.81c.8-.78.8-2.07 0-2.86zM5.41 20L4 18.59l7.72-7.72 1.47 1.35L5.41 20z\"/>\n",
              "  </svg>\n",
              "      </button>\n",
              "      \n",
              "  <style>\n",
              "    .colab-df-container {\n",
              "      display:flex;\n",
              "      flex-wrap:wrap;\n",
              "      gap: 12px;\n",
              "    }\n",
              "\n",
              "    .colab-df-convert {\n",
              "      background-color: #E8F0FE;\n",
              "      border: none;\n",
              "      border-radius: 50%;\n",
              "      cursor: pointer;\n",
              "      display: none;\n",
              "      fill: #1967D2;\n",
              "      height: 32px;\n",
              "      padding: 0 0 0 0;\n",
              "      width: 32px;\n",
              "    }\n",
              "\n",
              "    .colab-df-convert:hover {\n",
              "      background-color: #E2EBFA;\n",
              "      box-shadow: 0px 1px 2px rgba(60, 64, 67, 0.3), 0px 1px 3px 1px rgba(60, 64, 67, 0.15);\n",
              "      fill: #174EA6;\n",
              "    }\n",
              "\n",
              "    [theme=dark] .colab-df-convert {\n",
              "      background-color: #3B4455;\n",
              "      fill: #D2E3FC;\n",
              "    }\n",
              "\n",
              "    [theme=dark] .colab-df-convert:hover {\n",
              "      background-color: #434B5C;\n",
              "      box-shadow: 0px 1px 3px 1px rgba(0, 0, 0, 0.15);\n",
              "      filter: drop-shadow(0px 1px 2px rgba(0, 0, 0, 0.3));\n",
              "      fill: #FFFFFF;\n",
              "    }\n",
              "  </style>\n",
              "\n",
              "      <script>\n",
              "        const buttonEl =\n",
              "          document.querySelector('#df-bbe29982-6a29-4186-bee0-dc58ef461383 button.colab-df-convert');\n",
              "        buttonEl.style.display =\n",
              "          google.colab.kernel.accessAllowed ? 'block' : 'none';\n",
              "\n",
              "        async function convertToInteractive(key) {\n",
              "          const element = document.querySelector('#df-bbe29982-6a29-4186-bee0-dc58ef461383');\n",
              "          const dataTable =\n",
              "            await google.colab.kernel.invokeFunction('convertToInteractive',\n",
              "                                                     [key], {});\n",
              "          if (!dataTable) return;\n",
              "\n",
              "          const docLinkHtml = 'Like what you see? Visit the ' +\n",
              "            '<a target=\"_blank\" href=https://colab.research.google.com/notebooks/data_table.ipynb>data table notebook</a>'\n",
              "            + ' to learn more about interactive tables.';\n",
              "          element.innerHTML = '';\n",
              "          dataTable['output_type'] = 'display_data';\n",
              "          await google.colab.output.renderOutput(dataTable, element);\n",
              "          const docLink = document.createElement('div');\n",
              "          docLink.innerHTML = docLinkHtml;\n",
              "          element.appendChild(docLink);\n",
              "        }\n",
              "      </script>\n",
              "    </div>\n",
              "  </div>\n",
              "  "
            ]
          },
          "metadata": {},
          "execution_count": 108
        }
      ]
    },
    {
      "cell_type": "code",
      "execution_count": null,
      "metadata": {
        "id": "UmDft4OKK2II"
      },
      "outputs": [],
      "source": [
        "tweet_img_final.to_csv('twitter_archive_master.csv')"
      ]
    },
    {
      "cell_type": "markdown",
      "metadata": {
        "id": "2mN4Nd1qK2II"
      },
      "source": [
        "5.2. Store `img_cleaned`"
      ]
    },
    {
      "cell_type": "code",
      "execution_count": null,
      "metadata": {
        "id": "O1XAtQ2oK2IJ"
      },
      "outputs": [],
      "source": [
        "img_cleaned.to_csv('image_cleaned_final.csv')"
      ]
    },
    {
      "cell_type": "markdown",
      "source": [
        "## <b>Data Analysis and Visualization</b>\n",
        "In this analysis, I am examining the data to address various questions of interest."
      ],
      "metadata": {
        "id": "A_CTiUetuvOI"
      }
    },
    {
      "cell_type": "markdown",
      "source": [
        "**6.1.** Evaluating the Average Number of Retweets and Favorites Over a Monthly Period"
      ],
      "metadata": {
        "id": "hTViNrNHx271"
      }
    },
    {
      "cell_type": "code",
      "execution_count": null,
      "metadata": {
        "id": "dkAKjqYFK2IK"
      },
      "outputs": [],
      "source": [
        "# Generate a subset of the cleaned tweet data that includes only the necessary variables.\n",
        "tweets_over_a_month = tweet_cleaned_comb_cnt[['tweet_id', 'timestamp', 'favorite_count', 'retweet_count']]"
      ]
    },
    {
      "cell_type": "code",
      "execution_count": null,
      "metadata": {
        "id": "AIyBZnUEK2IK"
      },
      "outputs": [],
      "source": [
        "# Creating a months feature from timestamp feature\n",
        "tweets_over_a_month['month_of_yr'] = tweet_cleaned_comb_cnt['timestamp'].dt.month"
      ]
    },
    {
      "cell_type": "code",
      "execution_count": null,
      "metadata": {
        "id": "LDpbSlHrK2IL"
      },
      "outputs": [],
      "source": [
        "# Defining a variable to hold the average of retweet counts grouped by month.\n",
        "retweets_averaged = tweets_over_a_month.sort_values('month_of_yr').groupby('month_of_yr').retweet_count.mean().astype(int)"
      ]
    },
    {
      "cell_type": "code",
      "execution_count": null,
      "metadata": {
        "id": "3xaXwUA5K2IL"
      },
      "outputs": [],
      "source": [
        "# Let's define a variable to hold the avg value of favorite counts, which will be calculated by grouping the data by month.\n",
        "favorites_averaged = tweets_over_a_month.sort_values('month_of_yr').groupby('month_of_yr').favorite_count.mean().astype(int)"
      ]
    },
    {
      "cell_type": "code",
      "execution_count": null,
      "metadata": {
        "id": "frb3S3AaK2IL"
      },
      "outputs": [],
      "source": [
        "# Specify the positions using indexing and widths for the bar graphs\n",
        "month_index = np.arange(len(retweets_averaged))\n",
        "bar_width = 0.35"
      ]
    },
    {
      "cell_type": "code",
      "execution_count": null,
      "metadata": {
        "id": "Pff2fbvYK2IL",
        "outputId": "c6eabddd-5873-4a69-ee83-20be2e481187",
        "colab": {
          "base_uri": "https://localhost:8080/"
        }
      },
      "outputs": [
        {
          "output_type": "execute_result",
          "data": {
            "text/plain": [
              "<matplotlib.legend.Legend at 0x7f77101539a0>"
            ]
          },
          "metadata": {},
          "execution_count": 116
        },
        {
          "output_type": "display_data",
          "data": {
            "text/plain": [
              "<Figure size 1100x900 with 1 Axes>"
            ],
            "image/png": "[encoded data removed]"
          },
          "metadata": {}
        }
      ],
      "source": [
        "# Creating a figure with a size of 11x9\n",
        "plt.figure(figsize=(11, 9))\n",
        "\n",
        "# Plot the bar graph for average retweets\n",
        "retweets = plt.bar(month_index, retweets_averaged, bar_width, alpha=1, color='r', label='Re-tweets')\n",
        "\n",
        "# Plot the bar graph for average favorites\n",
        "favorites = plt.bar(month_index + bar_width, favorites_averaged, bar_width, alpha=1, color='g', label='Favorites')\n",
        "\n",
        "# Set the title and labels for the graph\n",
        "plt.title('Comparing Average Retweets and Favorites for each Month')\n",
        "plt.xlabel('Month of the Year')\n",
        "plt.ylabel('Count')\n",
        "\n",
        "# Set the locations and labels for the x-axis\n",
        "locations = month_index + (bar_width / 2)\n",
        "labels = ['January', 'February', 'March', 'Aprril', 'May', 'June', 'July', 'August', 'Septembet', 'October', 'November', 'December']\n",
        "plt.xticks(locations, labels)\n",
        "\n",
        "# Add a legend to the graph\n",
        "plt.legend()\n"
      ]
    },
    {
      "cell_type": "markdown",
      "source": [
        "**Observations:**\n",
        "1. The average number of favorites is consistently higher than the average number of retweets. This suggests that users tend to show more preference for favoriting tweets rather than retweeting them.\n",
        "2. Among the months analyzed, July stands out with the highest average number of favorites, indicating that tweets posted during this month are more likely to receive favorable engagement from users. On the other hand, November has the lowest average number of favorites.\n",
        "3. When it comes to retweets, May emerges as the month with the highest average number, suggesting that tweets posted in May have a higher chance of being shared by users. Conversely, November experiences the lowest average number of retweets.\n",
        "4. June exhibits the second highest average number of both favorites and retweets, indicating that tweets posted in June tend to receive a good level of engagement from users, although not as high as those in July."
      ],
      "metadata": {
        "id": "WNSHukfD_xiG"
      }
    },
    {
      "cell_type": "markdown",
      "metadata": {
        "id": "DHrrUzayK2IM"
      },
      "source": [
        "**6.2.** Comparing Average Rating Of different Dog Stages"
      ]
    },
    {
      "cell_type": "code",
      "source": [
        "tweet_cleaned_comb_cnt.columns"
      ],
      "metadata": {
        "colab": {
          "base_uri": "https://localhost:8080/"
        },
        "id": "FAzXOY77AERs",
        "outputId": "c5995217-bddf-4779-c782-c8de3a440ab4"
      },
      "execution_count": null,
      "outputs": [
        {
          "output_type": "execute_result",
          "data": {
            "text/plain": [
              "Index(['tweet_id', 'timestamp', 'source', 'text', 'expanded_urls',\n",
              "       'rating_numerator', 'rating_denominator', 'name', 'dog_comb_stg',\n",
              "       'retweet_count', 'favorite_count'],\n",
              "      dtype='object')"
            ]
          },
          "metadata": {},
          "execution_count": 117
        }
      ]
    },
    {
      "cell_type": "code",
      "execution_count": null,
      "metadata": {
        "id": "mKZEQbxNK2IM"
      },
      "outputs": [],
      "source": [
        "# Generate a subset of the cleaned tweet data, including only the necessary variables.\n",
        "dog_ratings = tweet_cleaned_comb_cnt[['tweet_id', 'rating_numerator', 'rating_denominator', 'dog_comb_stg']].copy()"
      ]
    },
    {
      "cell_type": "code",
      "execution_count": null,
      "metadata": {
        "id": "-jkqcX-qK2IM",
        "outputId": "d5891cb1-e6a3-40ec-beeb-aa8b5c4f81c5",
        "colab": {
          "base_uri": "https://localhost:8080/"
        }
      },
      "outputs": [
        {
          "output_type": "execute_result",
          "data": {
            "text/plain": [
              "dog_comb_stg\n",
              "doggo       79\n",
              "floofer     20\n",
              "pupper     413\n",
              "puppo       23\n",
              "Name: dog_comb_stg, dtype: int64"
            ]
          },
          "metadata": {},
          "execution_count": 119
        }
      ],
      "source": [
        "# Generating a variable and store the count of occurrences for each value in the \"dog_stage\" column.\n",
        "count_dogs = dog_ratings.groupby('dog_comb_stg').dog_comb_stg.count()\n",
        "count_dogs"
      ]
    },
    {
      "cell_type": "code",
      "execution_count": null,
      "metadata": {
        "id": "L-RvbQPZK2IN",
        "outputId": "201d781f-6ef0-4505-ca35-438c0c7c4132",
        "colab": {
          "base_uri": "https://localhost:8080/"
        }
      },
      "outputs": [
        {
          "output_type": "execute_result",
          "data": {
            "text/plain": [
              "dog_comb_stg\n",
              "doggo      22.367089\n",
              "floofer    11.500000\n",
              "pupper     10.366901\n",
              "puppo      12.000000\n",
              "Name: rating_numerator, dtype: float64"
            ]
          },
          "metadata": {},
          "execution_count": 120
        }
      ],
      "source": [
        "# Defining a variable to store the mean numerator rating for each dog stage.\n",
        "rating_avg = dog_ratings.groupby('dog_comb_stg').rating_numerator.mean()\n",
        "rating_avg"
      ]
    },
    {
      "cell_type": "code",
      "execution_count": null,
      "metadata": {
        "id": "a5Vz4v8BK2IN"
      },
      "outputs": [],
      "source": [
        "# writing a custom function that computes the proportions and assigns labels to distinct segments within a pie chart.\n",
        "def custom_function(p, count_dogs):\n",
        "    abs = int(p/100.0*np.sum(count_dogs))\n",
        "    return \"{:.2f}%\\n({:d})\".format(p, abs)"
      ]
    },
    {
      "cell_type": "code",
      "execution_count": null,
      "metadata": {
        "id": "u_2kwU6oK2IO",
        "outputId": "ed40f984-f19a-4b89-b545-52d3b4caa5de",
        "colab": {
          "base_uri": "https://localhost:8080/",
          "height": 1000
        }
      },
      "outputs": [
        {
          "output_type": "execute_result",
          "data": {
            "text/plain": [
              "Text(0, 0.5, 'Rating(1-10)')"
            ]
          },
          "metadata": {},
          "execution_count": 122
        },
        {
          "output_type": "display_data",
          "data": {
            "text/plain": [
              "<Figure size 800x800 with 1 Axes>"
            ],
            "image/png": "[encoded data removed]"
          },
          "metadata": {}
        },
        {
          "output_type": "display_data",
          "data": {
            "text/plain": [
              "<Figure size 800x800 with 1 Axes>"
            ],
            "image/png": "[encoded data removed]"
          },
          "metadata": {}
        }
      ],
      "source": [
        "# Plot a pie chart with legend for showing percentage of dogs belonging to different dog stages\n",
        "plt.figure(figsize = (8,8))\n",
        "plt.pie(count_dogs, labels = rating_avg.index.values, autopct = lambda pct: custom_function(pct, count_dogs))\n",
        "plt.legend()\n",
        "\n",
        "# Plot a bar chart with title, xlabel and ylabel for comparison of average rating Of dog stages\n",
        "plt.figure(figsize = (8,8))\n",
        "plt.bar(rating_avg.index.values, rating_avg, 0.8, color = 'blue', alpha = 1)\n",
        "plt.title('Comparing Average Rating Of Dog at Stages')\n",
        "plt.xlabel('Dog-Stages')\n",
        "plt.ylabel('Rating(1-10)')"
      ]
    },
    {
      "cell_type": "markdown",
      "source": [
        "**Observations:**\n",
        "1. The bar graph illustrates a notable distinction in average ratings among the different categories. Specifically, doggo demonstrates the highest average rating, while pupper exhibits the lowest.\n",
        "2. The pie chart provides insights into the distribution of categories within the dataset. It reveals that puppers constitute the majority, accounting for 77.2% of the overall population, followed by doggo, floofer, and puppo. This discrepancy in proportions may contribute to the observed difference in average ratings, with the larger presence of puppers potentially influencing their lower average rating, while the relatively smaller presence of doggos may contribute to their higher average rating."
      ],
      "metadata": {
        "id": "55KzKMpzFMAz"
      }
    },
    {
      "cell_type": "markdown",
      "metadata": {
        "id": "ocPoGTu3K2IP"
      },
      "source": [
        "**6.3.** The initial prediction accuracy of the algorithm for the top 10 most commonly predicted outcomes."
      ]
    },
    {
      "cell_type": "code",
      "execution_count": null,
      "metadata": {
        "id": "whoHZZGYK2IQ"
      },
      "outputs": [],
      "source": [
        "# Generate a subset of the img_pred_clean dataset containing only the necessary variables.\n",
        "efficieny_img_pred = img_cleaned[['tweet_id', 'prediction_1', 'prediction_confidence_1', 'prediction_dog_1']].copy()"
      ]
    },
    {
      "cell_type": "code",
      "execution_count": null,
      "metadata": {
        "id": "xc5_QPx2K2IQ",
        "outputId": "9acc3715-b534-4827-e546-0d8f372f39ec",
        "colab": {
          "base_uri": "https://localhost:8080/",
          "height": 143
        }
      },
      "outputs": [
        {
          "output_type": "execute_result",
          "data": {
            "text/plain": [
              "             tweet_id            prediction_1  prediction_confidence_1  \\\n",
              "0  666020888022790149  Welsh springer spaniel                 0.465074   \n",
              "1  666029285002620928                 Redbone                 0.506826   \n",
              "2  666033412701032449         German shepherd                 0.596461   \n",
              "\n",
              "   prediction_dog_1  \n",
              "0              True  \n",
              "1              True  \n",
              "2              True  "
            ],
            "text/html": [
              "\n",
              "  <div id=\"df-e4310147-2034-4278-b2a7-675f60a321bf\">\n",
              "    <div class=\"colab-df-container\">\n",
              "      <div>\n",
              "<style scoped>\n",
              "    .dataframe tbody tr th:only-of-type {\n",
              "        vertical-align: middle;\n",
              "    }\n",
              "\n",
              "    .dataframe tbody tr th {\n",
              "        vertical-align: top;\n",
              "    }\n",
              "\n",
              "    .dataframe thead th {\n",
              "        text-align: right;\n",
              "    }\n",
              "</style>\n",
              "<table border=\"1\" class=\"dataframe\">\n",
              "  <thead>\n",
              "    <tr style=\"text-align: right;\">\n",
              "      <th></th>\n",
              "      <th>tweet_id</th>\n",
              "      <th>prediction_1</th>\n",
              "      <th>prediction_confidence_1</th>\n",
              "      <th>prediction_dog_1</th>\n",
              "    </tr>\n",
              "  </thead>\n",
              "  <tbody>\n",
              "    <tr>\n",
              "      <th>0</th>\n",
              "      <td>666020888022790149</td>\n",
              "      <td>Welsh springer spaniel</td>\n",
              "      <td>0.465074</td>\n",
              "      <td>True</td>\n",
              "    </tr>\n",
              "    <tr>\n",
              "      <th>1</th>\n",
              "      <td>666029285002620928</td>\n",
              "      <td>Redbone</td>\n",
              "      <td>0.506826</td>\n",
              "      <td>True</td>\n",
              "    </tr>\n",
              "    <tr>\n",
              "      <th>2</th>\n",
              "      <td>666033412701032449</td>\n",
              "      <td>German shepherd</td>\n",
              "      <td>0.596461</td>\n",
              "      <td>True</td>\n",
              "    </tr>\n",
              "  </tbody>\n",
              "</table>\n",
              "</div>\n",
              "      <button class=\"colab-df-convert\" onclick=\"convertToInteractive('df-e4310147-2034-4278-b2a7-675f60a321bf')\"\n",
              "              title=\"Convert this dataframe to an interactive table.\"\n",
              "              style=\"display:none;\">\n",
              "        \n",
              "  <svg xmlns=\"http://www.w3.org/2000/svg\" height=\"24px\"viewBox=\"0 0 24 24\"\n",
              "       width=\"24px\">\n",
              "    <path d=\"M0 0h24v24H0V0z\" fill=\"none\"/>\n",
              "    <path d=\"M18.56 5.44l.94 2.06.94-2.06 2.06-.94-2.06-.94-.94-2.06-.94 2.06-2.06.94zm-11 1L8.5 8.5l.94-2.06 2.06-.94-2.06-.94L8.5 2.5l-.94 2.06-2.06.94zm10 10l.94 2.06.94-2.06 2.06-.94-2.06-.94-.94-2.06-.94 2.06-2.06.94z\"/><path d=\"M17.41 7.96l-1.37-1.37c-.4-.4-.92-.59-1.43-.59-.52 0-1.04.2-1.43.59L10.3 9.45l-7.72 7.72c-.78.78-.78 2.05 0 2.83L4 21.41c.39.39.9.59 1.41.59.51 0 1.02-.2 1.41-.59l7.78-7.78 2.81-2.81c.8-.78.8-2.07 0-2.86zM5.41 20L4 18.59l7.72-7.72 1.47 1.35L5.41 20z\"/>\n",
              "  </svg>\n",
              "      </button>\n",
              "      \n",
              "  <style>\n",
              "    .colab-df-container {\n",
              "      display:flex;\n",
              "      flex-wrap:wrap;\n",
              "      gap: 12px;\n",
              "    }\n",
              "\n",
              "    .colab-df-convert {\n",
              "      background-color: #E8F0FE;\n",
              "      border: none;\n",
              "      border-radius: 50%;\n",
              "      cursor: pointer;\n",
              "      display: none;\n",
              "      fill: #1967D2;\n",
              "      height: 32px;\n",
              "      padding: 0 0 0 0;\n",
              "      width: 32px;\n",
              "    }\n",
              "\n",
              "    .colab-df-convert:hover {\n",
              "      background-color: #E2EBFA;\n",
              "      box-shadow: 0px 1px 2px rgba(60, 64, 67, 0.3), 0px 1px 3px 1px rgba(60, 64, 67, 0.15);\n",
              "      fill: #174EA6;\n",
              "    }\n",
              "\n",
              "    [theme=dark] .colab-df-convert {\n",
              "      background-color: #3B4455;\n",
              "      fill: #D2E3FC;\n",
              "    }\n",
              "\n",
              "    [theme=dark] .colab-df-convert:hover {\n",
              "      background-color: #434B5C;\n",
              "      box-shadow: 0px 1px 3px 1px rgba(0, 0, 0, 0.15);\n",
              "      filter: drop-shadow(0px 1px 2px rgba(0, 0, 0, 0.3));\n",
              "      fill: #FFFFFF;\n",
              "    }\n",
              "  </style>\n",
              "\n",
              "      <script>\n",
              "        const buttonEl =\n",
              "          document.querySelector('#df-e4310147-2034-4278-b2a7-675f60a321bf button.colab-df-convert');\n",
              "        buttonEl.style.display =\n",
              "          google.colab.kernel.accessAllowed ? 'block' : 'none';\n",
              "\n",
              "        async function convertToInteractive(key) {\n",
              "          const element = document.querySelector('#df-e4310147-2034-4278-b2a7-675f60a321bf');\n",
              "          const dataTable =\n",
              "            await google.colab.kernel.invokeFunction('convertToInteractive',\n",
              "                                                     [key], {});\n",
              "          if (!dataTable) return;\n",
              "\n",
              "          const docLinkHtml = 'Like what you see? Visit the ' +\n",
              "            '<a target=\"_blank\" href=https://colab.research.google.com/notebooks/data_table.ipynb>data table notebook</a>'\n",
              "            + ' to learn more about interactive tables.';\n",
              "          element.innerHTML = '';\n",
              "          dataTable['output_type'] = 'display_data';\n",
              "          await google.colab.output.renderOutput(dataTable, element);\n",
              "          const docLink = document.createElement('div');\n",
              "          docLink.innerHTML = docLinkHtml;\n",
              "          element.appendChild(docLink);\n",
              "        }\n",
              "      </script>\n",
              "    </div>\n",
              "  </div>\n",
              "  "
            ]
          },
          "metadata": {},
          "execution_count": 124
        }
      ],
      "source": [
        "# first few rows\n",
        "efficieny_img_pred.head(3)"
      ]
    },
    {
      "cell_type": "code",
      "execution_count": null,
      "metadata": {
        "id": "jJwn_PfbK2IQ"
      },
      "outputs": [],
      "source": [
        "# Save the frequency counts of the top 10 predictions in a separate variable.\n",
        "total_predictions = efficieny_img_pred['prediction_1'].value_counts().head(10).values\n",
        "\n",
        "# Create a new variable to store the names of the 10 most frequently occurring predictions.\n",
        "prediction_names = efficieny_img_pred['prediction_1'].value_counts().head(10).index.values\n"
      ]
    },
    {
      "cell_type": "code",
      "execution_count": null,
      "metadata": {
        "id": "btBnBSNFK2IQ",
        "outputId": "453cca6d-3cdb-4b04-caad-866e2b54f737",
        "colab": {
          "base_uri": "https://localhost:8080/"
        }
      },
      "outputs": [
        {
          "output_type": "execute_result",
          "data": {
            "text/plain": [
              "[116, 65, 70, 47, 44, 26, 30, 24, 29, 18]"
            ]
          },
          "metadata": {},
          "execution_count": 126
        }
      ],
      "source": [
        "# Capture and store instances where the algorithm achieves a successful prediction on its initial attempt in a list.\n",
        "success_counts = []\n",
        "for item in prediction_names:\n",
        "    vals = efficieny_img_pred[(efficieny_img_pred['prediction_1'] == item) & (efficieny_img_pred['prediction_confidence_1'] > 0.5) & (efficieny_img_pred['prediction_dog_1'] == True)]['prediction_confidence_1'].count()\n",
        "    success_counts.append(vals)\n",
        "success_counts"
      ]
    },
    {
      "cell_type": "code",
      "execution_count": null,
      "metadata": {
        "id": "bO6u0UJRK2IR",
        "outputId": "de75552f-ac19-4ecd-a525-4ea9c3b642e7",
        "colab": {
          "base_uri": "https://localhost:8080/",
          "height": 363
        }
      },
      "outputs": [
        {
          "output_type": "execute_result",
          "data": {
            "text/plain": [
              "  prediction_dog_name  prediction_total_cnt  correct_predictions\n",
              "0    Golden retriever                   139                  116\n",
              "1  Labrador retriever                    95                   65\n",
              "2            Pembroke                    88                   70\n",
              "3           Chihuahua                    79                   47\n",
              "4                 Pug                    55                   44\n",
              "5                Chow                    41                   26\n",
              "6             Samoyed                    40                   30\n",
              "7          Toy poodle                    38                   24\n",
              "8          Pomeranian                    38                   29\n",
              "9            Malamute                    29                   18"
            ],
            "text/html": [
              "\n",
              "  <div id=\"df-6dc4a6e8-9005-492c-8024-e3e764bb60a2\">\n",
              "    <div class=\"colab-df-container\">\n",
              "      <div>\n",
              "<style scoped>\n",
              "    .dataframe tbody tr th:only-of-type {\n",
              "        vertical-align: middle;\n",
              "    }\n",
              "\n",
              "    .dataframe tbody tr th {\n",
              "        vertical-align: top;\n",
              "    }\n",
              "\n",
              "    .dataframe thead th {\n",
              "        text-align: right;\n",
              "    }\n",
              "</style>\n",
              "<table border=\"1\" class=\"dataframe\">\n",
              "  <thead>\n",
              "    <tr style=\"text-align: right;\">\n",
              "      <th></th>\n",
              "      <th>prediction_dog_name</th>\n",
              "      <th>prediction_total_cnt</th>\n",
              "      <th>correct_predictions</th>\n",
              "    </tr>\n",
              "  </thead>\n",
              "  <tbody>\n",
              "    <tr>\n",
              "      <th>0</th>\n",
              "      <td>Golden retriever</td>\n",
              "      <td>139</td>\n",
              "      <td>116</td>\n",
              "    </tr>\n",
              "    <tr>\n",
              "      <th>1</th>\n",
              "      <td>Labrador retriever</td>\n",
              "      <td>95</td>\n",
              "      <td>65</td>\n",
              "    </tr>\n",
              "    <tr>\n",
              "      <th>2</th>\n",
              "      <td>Pembroke</td>\n",
              "      <td>88</td>\n",
              "      <td>70</td>\n",
              "    </tr>\n",
              "    <tr>\n",
              "      <th>3</th>\n",
              "      <td>Chihuahua</td>\n",
              "      <td>79</td>\n",
              "      <td>47</td>\n",
              "    </tr>\n",
              "    <tr>\n",
              "      <th>4</th>\n",
              "      <td>Pug</td>\n",
              "      <td>55</td>\n",
              "      <td>44</td>\n",
              "    </tr>\n",
              "    <tr>\n",
              "      <th>5</th>\n",
              "      <td>Chow</td>\n",
              "      <td>41</td>\n",
              "      <td>26</td>\n",
              "    </tr>\n",
              "    <tr>\n",
              "      <th>6</th>\n",
              "      <td>Samoyed</td>\n",
              "      <td>40</td>\n",
              "      <td>30</td>\n",
              "    </tr>\n",
              "    <tr>\n",
              "      <th>7</th>\n",
              "      <td>Toy poodle</td>\n",
              "      <td>38</td>\n",
              "      <td>24</td>\n",
              "    </tr>\n",
              "    <tr>\n",
              "      <th>8</th>\n",
              "      <td>Pomeranian</td>\n",
              "      <td>38</td>\n",
              "      <td>29</td>\n",
              "    </tr>\n",
              "    <tr>\n",
              "      <th>9</th>\n",
              "      <td>Malamute</td>\n",
              "      <td>29</td>\n",
              "      <td>18</td>\n",
              "    </tr>\n",
              "  </tbody>\n",
              "</table>\n",
              "</div>\n",
              "      <button class=\"colab-df-convert\" onclick=\"convertToInteractive('df-6dc4a6e8-9005-492c-8024-e3e764bb60a2')\"\n",
              "              title=\"Convert this dataframe to an interactive table.\"\n",
              "              style=\"display:none;\">\n",
              "        \n",
              "  <svg xmlns=\"http://www.w3.org/2000/svg\" height=\"24px\"viewBox=\"0 0 24 24\"\n",
              "       width=\"24px\">\n",
              "    <path d=\"M0 0h24v24H0V0z\" fill=\"none\"/>\n",
              "    <path d=\"M18.56 5.44l.94 2.06.94-2.06 2.06-.94-2.06-.94-.94-2.06-.94 2.06-2.06.94zm-11 1L8.5 8.5l.94-2.06 2.06-.94-2.06-.94L8.5 2.5l-.94 2.06-2.06.94zm10 10l.94 2.06.94-2.06 2.06-.94-2.06-.94-.94-2.06-.94 2.06-2.06.94z\"/><path d=\"M17.41 7.96l-1.37-1.37c-.4-.4-.92-.59-1.43-.59-.52 0-1.04.2-1.43.59L10.3 9.45l-7.72 7.72c-.78.78-.78 2.05 0 2.83L4 21.41c.39.39.9.59 1.41.59.51 0 1.02-.2 1.41-.59l7.78-7.78 2.81-2.81c.8-.78.8-2.07 0-2.86zM5.41 20L4 18.59l7.72-7.72 1.47 1.35L5.41 20z\"/>\n",
              "  </svg>\n",
              "      </button>\n",
              "      \n",
              "  <style>\n",
              "    .colab-df-container {\n",
              "      display:flex;\n",
              "      flex-wrap:wrap;\n",
              "      gap: 12px;\n",
              "    }\n",
              "\n",
              "    .colab-df-convert {\n",
              "      background-color: #E8F0FE;\n",
              "      border: none;\n",
              "      border-radius: 50%;\n",
              "      cursor: pointer;\n",
              "      display: none;\n",
              "      fill: #1967D2;\n",
              "      height: 32px;\n",
              "      padding: 0 0 0 0;\n",
              "      width: 32px;\n",
              "    }\n",
              "\n",
              "    .colab-df-convert:hover {\n",
              "      background-color: #E2EBFA;\n",
              "      box-shadow: 0px 1px 2px rgba(60, 64, 67, 0.3), 0px 1px 3px 1px rgba(60, 64, 67, 0.15);\n",
              "      fill: #174EA6;\n",
              "    }\n",
              "\n",
              "    [theme=dark] .colab-df-convert {\n",
              "      background-color: #3B4455;\n",
              "      fill: #D2E3FC;\n",
              "    }\n",
              "\n",
              "    [theme=dark] .colab-df-convert:hover {\n",
              "      background-color: #434B5C;\n",
              "      box-shadow: 0px 1px 3px 1px rgba(0, 0, 0, 0.15);\n",
              "      filter: drop-shadow(0px 1px 2px rgba(0, 0, 0, 0.3));\n",
              "      fill: #FFFFFF;\n",
              "    }\n",
              "  </style>\n",
              "\n",
              "      <script>\n",
              "        const buttonEl =\n",
              "          document.querySelector('#df-6dc4a6e8-9005-492c-8024-e3e764bb60a2 button.colab-df-convert');\n",
              "        buttonEl.style.display =\n",
              "          google.colab.kernel.accessAllowed ? 'block' : 'none';\n",
              "\n",
              "        async function convertToInteractive(key) {\n",
              "          const element = document.querySelector('#df-6dc4a6e8-9005-492c-8024-e3e764bb60a2');\n",
              "          const dataTable =\n",
              "            await google.colab.kernel.invokeFunction('convertToInteractive',\n",
              "                                                     [key], {});\n",
              "          if (!dataTable) return;\n",
              "\n",
              "          const docLinkHtml = 'Like what you see? Visit the ' +\n",
              "            '<a target=\"_blank\" href=https://colab.research.google.com/notebooks/data_table.ipynb>data table notebook</a>'\n",
              "            + ' to learn more about interactive tables.';\n",
              "          element.innerHTML = '';\n",
              "          dataTable['output_type'] = 'display_data';\n",
              "          await google.colab.output.renderOutput(dataTable, element);\n",
              "          const docLink = document.createElement('div');\n",
              "          docLink.innerHTML = docLinkHtml;\n",
              "          element.appendChild(docLink);\n",
              "        }\n",
              "      </script>\n",
              "    </div>\n",
              "  </div>\n",
              "  "
            ]
          },
          "metadata": {},
          "execution_count": 127
        }
      ],
      "source": [
        "# Generate a new dataframe encompassing the three aforementioned variables.\n",
        "dictionary = {'prediction_dog_name': prediction_names, 'prediction_total_cnt':total_predictions, 'correct_predictions':success_counts}\n",
        "final_result = pd.DataFrame(dictionary, columns=['prediction_dog_name', 'prediction_total_cnt', 'correct_predictions'])\n",
        "final_result"
      ]
    },
    {
      "cell_type": "markdown",
      "source": [
        "**6.4.** Efficiency of Predictions"
      ],
      "metadata": {
        "id": "EXBc_1R2gUEB"
      }
    },
    {
      "cell_type": "code",
      "execution_count": null,
      "metadata": {
        "id": "Mqi_8pbkK2IR",
        "outputId": "78e058ca-9456-47cf-d219-a22ab80b1b8e",
        "colab": {
          "base_uri": "https://localhost:8080/",
          "height": 363
        }
      },
      "outputs": [
        {
          "output_type": "execute_result",
          "data": {
            "text/plain": [
              "  prediction_dog_name  prediction_total_cnt  correct_predictions  \\\n",
              "0    Golden retriever                   139                  116   \n",
              "1  Labrador retriever                    95                   65   \n",
              "2            Pembroke                    88                   70   \n",
              "3           Chihuahua                    79                   47   \n",
              "4                 Pug                    55                   44   \n",
              "5                Chow                    41                   26   \n",
              "6             Samoyed                    40                   30   \n",
              "7          Toy poodle                    38                   24   \n",
              "8          Pomeranian                    38                   29   \n",
              "9            Malamute                    29                   18   \n",
              "\n",
              "   efficiency_of_prediciton(in %)  \n",
              "0                       83.453237  \n",
              "1                       68.421053  \n",
              "2                       79.545455  \n",
              "3                       59.493671  \n",
              "4                       80.000000  \n",
              "5                       63.414634  \n",
              "6                       75.000000  \n",
              "7                       63.157895  \n",
              "8                       76.315789  \n",
              "9                       62.068966  "
            ],
            "text/html": [
              "\n",
              "  <div id=\"df-34ba0e35-c2be-4460-b110-3f7e90e0dbf8\">\n",
              "    <div class=\"colab-df-container\">\n",
              "      <div>\n",
              "<style scoped>\n",
              "    .dataframe tbody tr th:only-of-type {\n",
              "        vertical-align: middle;\n",
              "    }\n",
              "\n",
              "    .dataframe tbody tr th {\n",
              "        vertical-align: top;\n",
              "    }\n",
              "\n",
              "    .dataframe thead th {\n",
              "        text-align: right;\n",
              "    }\n",
              "</style>\n",
              "<table border=\"1\" class=\"dataframe\">\n",
              "  <thead>\n",
              "    <tr style=\"text-align: right;\">\n",
              "      <th></th>\n",
              "      <th>prediction_dog_name</th>\n",
              "      <th>prediction_total_cnt</th>\n",
              "      <th>correct_predictions</th>\n",
              "      <th>efficiency_of_prediciton(in %)</th>\n",
              "    </tr>\n",
              "  </thead>\n",
              "  <tbody>\n",
              "    <tr>\n",
              "      <th>0</th>\n",
              "      <td>Golden retriever</td>\n",
              "      <td>139</td>\n",
              "      <td>116</td>\n",
              "      <td>83.453237</td>\n",
              "    </tr>\n",
              "    <tr>\n",
              "      <th>1</th>\n",
              "      <td>Labrador retriever</td>\n",
              "      <td>95</td>\n",
              "      <td>65</td>\n",
              "      <td>68.421053</td>\n",
              "    </tr>\n",
              "    <tr>\n",
              "      <th>2</th>\n",
              "      <td>Pembroke</td>\n",
              "      <td>88</td>\n",
              "      <td>70</td>\n",
              "      <td>79.545455</td>\n",
              "    </tr>\n",
              "    <tr>\n",
              "      <th>3</th>\n",
              "      <td>Chihuahua</td>\n",
              "      <td>79</td>\n",
              "      <td>47</td>\n",
              "      <td>59.493671</td>\n",
              "    </tr>\n",
              "    <tr>\n",
              "      <th>4</th>\n",
              "      <td>Pug</td>\n",
              "      <td>55</td>\n",
              "      <td>44</td>\n",
              "      <td>80.000000</td>\n",
              "    </tr>\n",
              "    <tr>\n",
              "      <th>5</th>\n",
              "      <td>Chow</td>\n",
              "      <td>41</td>\n",
              "      <td>26</td>\n",
              "      <td>63.414634</td>\n",
              "    </tr>\n",
              "    <tr>\n",
              "      <th>6</th>\n",
              "      <td>Samoyed</td>\n",
              "      <td>40</td>\n",
              "      <td>30</td>\n",
              "      <td>75.000000</td>\n",
              "    </tr>\n",
              "    <tr>\n",
              "      <th>7</th>\n",
              "      <td>Toy poodle</td>\n",
              "      <td>38</td>\n",
              "      <td>24</td>\n",
              "      <td>63.157895</td>\n",
              "    </tr>\n",
              "    <tr>\n",
              "      <th>8</th>\n",
              "      <td>Pomeranian</td>\n",
              "      <td>38</td>\n",
              "      <td>29</td>\n",
              "      <td>76.315789</td>\n",
              "    </tr>\n",
              "    <tr>\n",
              "      <th>9</th>\n",
              "      <td>Malamute</td>\n",
              "      <td>29</td>\n",
              "      <td>18</td>\n",
              "      <td>62.068966</td>\n",
              "    </tr>\n",
              "  </tbody>\n",
              "</table>\n",
              "</div>\n",
              "      <button class=\"colab-df-convert\" onclick=\"convertToInteractive('df-34ba0e35-c2be-4460-b110-3f7e90e0dbf8')\"\n",
              "              title=\"Convert this dataframe to an interactive table.\"\n",
              "              style=\"display:none;\">\n",
              "        \n",
              "  <svg xmlns=\"http://www.w3.org/2000/svg\" height=\"24px\"viewBox=\"0 0 24 24\"\n",
              "       width=\"24px\">\n",
              "    <path d=\"M0 0h24v24H0V0z\" fill=\"none\"/>\n",
              "    <path d=\"M18.56 5.44l.94 2.06.94-2.06 2.06-.94-2.06-.94-.94-2.06-.94 2.06-2.06.94zm-11 1L8.5 8.5l.94-2.06 2.06-.94-2.06-.94L8.5 2.5l-.94 2.06-2.06.94zm10 10l.94 2.06.94-2.06 2.06-.94-2.06-.94-.94-2.06-.94 2.06-2.06.94z\"/><path d=\"M17.41 7.96l-1.37-1.37c-.4-.4-.92-.59-1.43-.59-.52 0-1.04.2-1.43.59L10.3 9.45l-7.72 7.72c-.78.78-.78 2.05 0 2.83L4 21.41c.39.39.9.59 1.41.59.51 0 1.02-.2 1.41-.59l7.78-7.78 2.81-2.81c.8-.78.8-2.07 0-2.86zM5.41 20L4 18.59l7.72-7.72 1.47 1.35L5.41 20z\"/>\n",
              "  </svg>\n",
              "      </button>\n",
              "      \n",
              "  <style>\n",
              "    .colab-df-container {\n",
              "      display:flex;\n",
              "      flex-wrap:wrap;\n",
              "      gap: 12px;\n",
              "    }\n",
              "\n",
              "    .colab-df-convert {\n",
              "      background-color: #E8F0FE;\n",
              "      border: none;\n",
              "      border-radius: 50%;\n",
              "      cursor: pointer;\n",
              "      display: none;\n",
              "      fill: #1967D2;\n",
              "      height: 32px;\n",
              "      padding: 0 0 0 0;\n",
              "      width: 32px;\n",
              "    }\n",
              "\n",
              "    .colab-df-convert:hover {\n",
              "      background-color: #E2EBFA;\n",
              "      box-shadow: 0px 1px 2px rgba(60, 64, 67, 0.3), 0px 1px 3px 1px rgba(60, 64, 67, 0.15);\n",
              "      fill: #174EA6;\n",
              "    }\n",
              "\n",
              "    [theme=dark] .colab-df-convert {\n",
              "      background-color: #3B4455;\n",
              "      fill: #D2E3FC;\n",
              "    }\n",
              "\n",
              "    [theme=dark] .colab-df-convert:hover {\n",
              "      background-color: #434B5C;\n",
              "      box-shadow: 0px 1px 3px 1px rgba(0, 0, 0, 0.15);\n",
              "      filter: drop-shadow(0px 1px 2px rgba(0, 0, 0, 0.3));\n",
              "      fill: #FFFFFF;\n",
              "    }\n",
              "  </style>\n",
              "\n",
              "      <script>\n",
              "        const buttonEl =\n",
              "          document.querySelector('#df-34ba0e35-c2be-4460-b110-3f7e90e0dbf8 button.colab-df-convert');\n",
              "        buttonEl.style.display =\n",
              "          google.colab.kernel.accessAllowed ? 'block' : 'none';\n",
              "\n",
              "        async function convertToInteractive(key) {\n",
              "          const element = document.querySelector('#df-34ba0e35-c2be-4460-b110-3f7e90e0dbf8');\n",
              "          const dataTable =\n",
              "            await google.colab.kernel.invokeFunction('convertToInteractive',\n",
              "                                                     [key], {});\n",
              "          if (!dataTable) return;\n",
              "\n",
              "          const docLinkHtml = 'Like what you see? Visit the ' +\n",
              "            '<a target=\"_blank\" href=https://colab.research.google.com/notebooks/data_table.ipynb>data table notebook</a>'\n",
              "            + ' to learn more about interactive tables.';\n",
              "          element.innerHTML = '';\n",
              "          dataTable['output_type'] = 'display_data';\n",
              "          await google.colab.output.renderOutput(dataTable, element);\n",
              "          const docLink = document.createElement('div');\n",
              "          docLink.innerHTML = docLinkHtml;\n",
              "          element.appendChild(docLink);\n",
              "        }\n",
              "      </script>\n",
              "    </div>\n",
              "  </div>\n",
              "  "
            ]
          },
          "metadata": {},
          "execution_count": 128
        }
      ],
      "source": [
        "# efficiency of predictions returned\n",
        "final_result['efficiency_of_prediciton(in %)'] = (final_result['correct_predictions'] / final_result['prediction_total_cnt'])*100\n",
        "final_result"
      ]
    },
    {
      "cell_type": "markdown",
      "metadata": {
        "id": "VYAsbE1uK2IS"
      },
      "source": [
        "**Observations on Algorithm's Initial Prediction Accuracy for the Top 10 Most Frequent Predictions:**\n",
        "\n",
        "Upon examining the provided table, distinct patterns emerge regarding the algorithm's efficiency in predicting different dog breeds. Notably, the algorithm demonstrates a high level of accuracy when predicting Golden Retrievers, as evidenced by the consistently accurate predictions within the top 10 most frequent results. Conversely, the algorithm exhibits lower accuracy when predicting Chihuahuas, with a higher number of misclassifications. It is worth mentioning that the dataset showcases a significant frequency of predictions for Golden Retrievers, while Malamutes receive comparatively fewer predictions. These findings suggest a bias towards successful predictions for Golden Retrievers within the algorithm's performance on this specific dataset."
      ]
    },
    {
      "cell_type": "markdown",
      "source": [
        "### References\n",
        "1. [Json data access](https://www.geeksforgeeks.org/read-json-file-using-python/#:~:text=Reading%20From%20JSON,to%20read%20the%20JSON%20file.)\n",
        "2. [Twitter API](https://developer.twitter.com/en/docs/twitter-api)\n",
        "3. [matplotlib](https://matplotlib.org/stable/index.html)"
      ],
      "metadata": {
        "id": "ovY7iR7thxOk"
      }
    }
  ],
  "metadata": {
    "extensions": {
      "jupyter_dashboards": {
        "activeView": "report_default",
        "version": 1,
        "views": {
          "grid_default": {
            "cellMargin": 10,
            "defaultCellHeight": 20,
            "maxColumns": 12,
            "name": "grid",
            "type": "grid"
          },
          "report_default": {
            "name": "report",
            "type": "report"
          }
        }
      }
    },
    "kernelspec": {
      "display_name": "Python 3",
      "language": "python",
      "name": "python3"
    },
    "language_info": {
      "codemirror_mode": {
        "name": "ipython",
        "version": 3
      },
      "file_extension": ".py",
      "mimetype": "text/x-python",
      "name": "python",
      "nbconvert_exporter": "python",
      "pygments_lexer": "ipython3",
      "version": "3.6.3"
    },
    "colab": {
      "provenance": []
    }
  },
  "nbformat": 4,
  "nbformat_minor": 0
}